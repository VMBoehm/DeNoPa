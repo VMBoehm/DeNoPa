{
  "nbformat": 4,
  "nbformat_minor": 0,
  "metadata": {
    "colab": {
      "name": "VAE.ipynb",
      "version": "0.3.2",
      "provenance": [],
      "collapsed_sections": [],
      "include_colab_link": true
    },
    "kernelspec": {
      "name": "python3",
      "display_name": "Python 3"
    },
    "accelerator": "GPU"
  },
  "cells": [
    {
      "cell_type": "markdown",
      "metadata": {
        "id": "view-in-github",
        "colab_type": "text"
      },
      "source": [
        "<a href=\"https://colab.research.google.com/github/VMBoehm/DeNoPa/blob/master/VAE.ipynb\" target=\"_parent\"><img src=\"https://colab.research.google.com/assets/colab-badge.svg\" alt=\"Open In Colab\"/></a>"
      ]
    },
    {
      "metadata": {
        "id": "D-Fe5G8m1FTC",
        "colab_type": "code",
        "outputId": "ae5f7843-599e-4be5-dfa3-463249b0e63f",
        "colab": {
          "base_uri": "https://localhost:8080/",
          "height": 34
        }
      },
      "cell_type": "code",
      "source": [
        "import os\n",
        "%pylab inline"
      ],
      "execution_count": 2,
      "outputs": [
        {
          "output_type": "stream",
          "text": [
            "Populating the interactive namespace from numpy and matplotlib\n"
          ],
          "name": "stdout"
        }
      ]
    },
    {
      "metadata": {
        "id": "-AEYmOsH1FTI",
        "colab_type": "code",
        "outputId": "6025228b-5f68-429c-f3e3-e1896428d420",
        "colab": {
          "base_uri": "https://localhost:8080/",
          "height": 134
        }
      },
      "cell_type": "code",
      "source": [
        "import tensorflow as tf\n",
        "import tensorflow_probability as tfp\n",
        "from tensorflow.python.ops.parallel_for.gradients import jacobian\n",
        "tfd = tfp.distributions\n",
        "tfb = tfp.bijectors\n",
        "IMAGE_SHAPE = [28, 28, 1]"
      ],
      "execution_count": 3,
      "outputs": [
        {
          "output_type": "stream",
          "text": [
            "\n",
            "WARNING: The TensorFlow contrib module will not be included in TensorFlow 2.0.\n",
            "For more information, please see:\n",
            "  * https://github.com/tensorflow/community/blob/master/rfcs/20180907-contrib-sunset.md\n",
            "  * https://github.com/tensorflow/addons\n",
            "If you depend on functionality not listed there, please file an issue.\n",
            "\n"
          ],
          "name": "stdout"
        }
      ]
    },
    {
      "metadata": {
        "id": "nFzYYSxY1FTL",
        "colab_type": "code",
        "colab": {}
      },
      "cell_type": "code",
      "source": [
        "import gzip, zipfile, tarfile\n",
        "import os, shutil, re, string, urllib, fnmatch\n",
        "import pickle as pkl\n",
        "\n",
        "def _download_mnist_realval(dataset):\n",
        "    \"\"\"\n",
        "    Download the MNIST dataset if it is not present.\n",
        "    :return: The train, test and validation set.\n",
        "    \"\"\"\n",
        "    origin = (\n",
        "        'http://www.iro.umontreal.ca/~lisa/deep/data/mnist/mnist.pkl.gz'\n",
        "    )\n",
        "    print('Downloading data from %s' % origin)\n",
        "    urllib.request.urlretrieve(origin, dataset)\n",
        "\n",
        "def _get_datafolder_path():\n",
        "    full_path = os.path.abspath('.')\n",
        "    path = full_path +'/data'\n",
        "    return path\n",
        "\n",
        "def load_mnist_realval(\n",
        "        dataset=_get_datafolder_path()+'/mnist_real/mnist.pkl.gz'):\n",
        "    '''\n",
        "    Loads the real valued MNIST dataset\n",
        "    :param dataset: path to dataset file\n",
        "    :return: None\n",
        "    '''\n",
        "    if not os.path.isfile(dataset):\n",
        "        datasetfolder = os.path.dirname(dataset)\n",
        "        if not os.path.exists(datasetfolder):\n",
        "            os.makedirs(datasetfolder)\n",
        "        _download_mnist_realval(dataset)\n",
        "\n",
        "    f = gzip.open(dataset, 'rb')\n",
        "    train_set, valid_set, test_set = pkl.load(f, encoding='latin1')\n",
        "    f.close()\n",
        "    x_train, targets_train = train_set[0], train_set[1]\n",
        "    x_valid, targets_valid = valid_set[0], valid_set[1]\n",
        "    x_test, targets_test = test_set[0], test_set[1]\n",
        "    return x_train, targets_train, x_valid, targets_valid, x_test, targets_test"
      ],
      "execution_count": 0,
      "outputs": []
    },
    {
      "metadata": {
        "id": "ft_jIh-W1FTN",
        "colab_type": "code",
        "outputId": "e6694efc-3e68-4418-adda-2fecaddbc736",
        "colab": {
          "base_uri": "https://localhost:8080/",
          "height": 34
        }
      },
      "cell_type": "code",
      "source": [
        "x_train, targets_train, x_valid, targets_valid, x_test, targets_test = load_mnist_realval()"
      ],
      "execution_count": 5,
      "outputs": [
        {
          "output_type": "stream",
          "text": [
            "Downloading data from http://www.iro.umontreal.ca/~lisa/deep/data/mnist/mnist.pkl.gz\n"
          ],
          "name": "stdout"
        }
      ]
    },
    {
      "metadata": {
        "id": "FxZ3yhvU1FTR",
        "colab_type": "code",
        "colab": {}
      },
      "cell_type": "code",
      "source": [
        "# #finding EL2O by minimization\n",
        "# tf.reset_default_graph()\n",
        "\n",
        "# batch_size  = 64\n",
        "# hidden_size = 8\n",
        "\n",
        "# def inference(in_net):\n",
        "#     with tf.variable_scope('generator/inference', reuse=tf.AUTO_REUSE):\n",
        "#         net = tf.layers.dense(in_net, 512, name='dense_1', activation=tf.nn.leaky_relu)\n",
        "#         net = tf.layers.dense(net, 384, name='dense_2', activation=tf.nn.leaky_relu)\n",
        "#         net = tf.layers.dense(net, 256, name='dense_3', activation=tf.nn.leaky_relu)\n",
        "#         net = tf.layers.dense(net, 2*hidden_size, name='dense_5', activation=None)\n",
        "#     return net\n",
        "\n",
        "# def generator(in_net):\n",
        "#     with tf.variable_scope('generator', reuse=tf.AUTO_REUSE):\n",
        "#         net = tf.layers.dense(in_net, 256, name='dense_1', activation=tf.nn.leaky_relu)\n",
        "#         net = tf.layers.dense(net, 384, name='dense_2', activation=tf.nn.leaky_relu)\n",
        "#         net = tf.layers.dense(net, 512, name='dense_3', activation=tf.nn.leaky_relu)\n",
        "#         net = tf.layers.dense(net, 784, name='dense_5', activation=None)\n",
        "#     return net\n",
        "\n",
        "# lr    = tf.placeholder_with_default(0.001,shape=[])\n",
        "\n",
        "# x     = tf.placeholder(shape=[batch_size, 784], dtype=tf.float32)\n",
        "\n",
        "# prior = tfd.MultivariateNormalDiag(tf.zeros(hidden_size), scale_identity_multiplier=1.0)\n",
        "\n",
        "# mu, sigma        = tf.split(inference(x), 2, axis=-1)\n",
        "# sigma            = tf.nn.softplus(sigma) + 0.0001\n",
        "# approx_posterior = tfd.MultivariateNormalDiag(loc=mu, scale_diag=sigma)\n",
        "\n",
        "# z                = approx_posterior.sample()\n",
        "\n",
        "# sample_size      = tf.placeholder_with_default(100,shape=[])\n",
        "\n",
        "# z_samples        = approx_posterior.sample(sample_size)\n",
        "\n",
        "# x_samples        = tfd.Independent(tfd.Bernoulli(logits=generator(z_samples))).sample(sample_size)\n",
        "\n",
        "# x_sims           = tfd.Independent(tfd.Bernoulli(logits=generator( prior.sample(batch_size)))).sample(sample_size)\n",
        "\n",
        "# data_likelihood  = tfd.Independent(tfd.Bernoulli(logits=generator(z)))\n",
        "\n",
        "# kl_divergence    = tfd.kl_divergence(approx_posterior, prior)\n",
        "\n",
        "# elbo             = -tf.reduce_mean(data_likelihood.log_prob(x) - kl_divergence,axis=0)\n",
        "\n",
        "# with tf.variable_scope(\"posteriorELBO\"):\n",
        "#     mu_elbo    = tf.Variable(initial_value=np.zeros((batch_size,hidden_size)), dtype=tf.float32)\n",
        "#     sigma_elbo = tf.Variable(initial_value=np.ones((batch_size,hidden_size *(hidden_size +1) // 2)), dtype=tf.float32)\n",
        "# sigma_t_elbo = tfd.matrix_diag_transform(tfd.fill_triangular(sigma_elbo), transform=tf.nn.softplus)\n",
        "\n",
        "# approx_posterior_elbo = tfd.MultivariateNormalTriL(loc=mu_elbo,scale_tril=sigma_t_elbo, name='posteriorELBO')\n",
        "\n",
        "\n",
        "# with tf.variable_scope(\"posteriorEL2O\"):\n",
        "#     mu_el2 = tf.Variable(initial_value=np.zeros((batch_size,hidden_size)), dtype=tf.float32)\n",
        "#     sigma_el2 = tf.Variable(initial_value=np.ones((batch_size,hidden_size *(hidden_size +1) // 2)), dtype=tf.float32)\n",
        "# sigma_t_el2 = tfd.matrix_diag_transform(tfd.fill_triangular(sigma_el2), transform=tf.nn.softplus)\n",
        "\n",
        "# approx_posterior_el2o = tfd.MultivariateNormalTriL(loc=mu_el2,scale_tril=sigma_t_el2, name='posteriorEL2O')\n",
        "\n",
        "# z_sample_elbo     = approx_posterior_elbo.sample()\n",
        "\n",
        "# z_sample_el2o     = approx_posterior_el2o.sample()\n",
        "\n",
        "# zmean_elbo        = approx_posterior_elbo.mean()\n",
        "\n",
        "# zmean_el2o        = approx_posterior_el2o.mean()\n",
        "\n",
        "# likeli_zmean_elbo = tfd.Independent(tfd.Bernoulli(logits=generator(zmean_elbo)))\n",
        "\n",
        "# likeli_zmean_el2o = tfd.Independent(tfd.Bernoulli(logits=generator(zmean_el2o)))\n",
        "\n",
        "# kl_divergence_elbo= tfd.kl_divergence(approx_posterior_elbo, prior) \n",
        "\n",
        "# mymask            = tf.placeholder_with_default(np.ones((784),dtype=int),shape=[784])\n",
        "\n",
        "# zz                = tf.identity(z_sample_el2o)\n",
        "\n",
        "# elbo_logits       = tf.boolean_mask(generator(z_sample_elbo), mymask, axis=1)\n",
        "\n",
        "# el2o_logits       = tf.boolean_mask(generator(zz), mymask, axis=1)\n",
        "\n",
        "# data_likelihood_elbo = tfd.Independent(tfd.Bernoulli(logits=elbo_logits))\n",
        "\n",
        "# data_likelihood_el2o = tfd.Independent(tfd.Bernoulli(logits=el2o_logits))\n",
        "\n",
        "# masked_data       = tf.boolean_mask(x, mymask, axis=1)\n",
        "    \n",
        "# mask_elbo         = -tf.reduce_mean(data_likelihood_elbo.log_prob(masked_data)- kl_divergence_elbo,axis=0)\n",
        "\n",
        "# mask_post         = - tf.reduce_mean(prior.log_prob(zz)) - tf.reduce_mean(data_likelihood_el2o.log_prob(masked_data))\n",
        "\n",
        "# mask_post_approx  = - approx_posterior_el2o.log_prob(zz)\n",
        "\n",
        "# dptdz             = tf.gradients(mask_post,zz) \n",
        "# dptdz             = tf.gather(dptdz, 0)\n",
        "\n",
        "# dpdz              = tf.gradients(mask_post_approx,zz) \n",
        "# dpdz              = tf.gather(dpdz, 0)\n",
        "\n",
        "# hesst             = tf.hessians(mask_post, zz)\n",
        "# hesst             = tf.gather(hesst, 0)\n",
        "# hesst2            = tf.reduce_sum( hesst, axis = -1 )\n",
        "# lowt              = tf.matrix_band_part(hesst2, -1, 0)\n",
        "\n",
        "# hess              = tf.hessians(mask_post_approx, zz)\n",
        "# hess              = tf.gather(hess, 0)\n",
        "# hess2             = tf.reduce_sum(hess, axis = -1 )\n",
        "# lowt2             = tf.matrix_band_part(hess2, -1, 0)\n",
        "\n",
        "# mask_el2o         = tf.reduce_mean(tf.math.square(dpdz-dptdz))+tf.reduce_mean(tf.math.square((lowt-lowt2)))\n",
        "\n",
        "# z_samples_elbo    = approx_posterior_elbo.sample(sample_size)\n",
        "\n",
        "# x_samples_elbo    = tfd.Independent(tfd.Bernoulli(logits=generator(z_samples_elbo))).sample(sample_size)\n",
        "\n",
        "# z_samples_el2o    = approx_posterior_el2o.sample(sample_size)\n",
        "\n",
        "# x_samples_el2o    = tfd.Independent(tfd.Bernoulli(logits=generator(z_samples_el2o))).sample(sample_size)"
      ],
      "execution_count": 0,
      "outputs": []
    },
    {
      "metadata": {
        "id": "m-Q4FyGgIxxE",
        "colab_type": "code",
        "colab": {
          "base_uri": "https://localhost:8080/",
          "height": 188
        },
        "outputId": "ee38263b-0b0a-4c83-e710-4bc179660616"
      },
      "cell_type": "code",
      "source": [
        "#finding EL2O 'by hand'\n",
        "tf.reset_default_graph()\n",
        "\n",
        "batch_size  = 256\n",
        "batch_size2 = 1\n",
        "hidden_size = 8\n",
        "\n",
        "def inference(in_net):\n",
        "    with tf.variable_scope('generator/inference', reuse=tf.AUTO_REUSE):\n",
        "        net = tf.layers.dense(in_net, 512, name='dense_1', activation=tf.nn.leaky_relu)\n",
        "        net = tf.layers.dense(net, 384, name='dense_2', activation=tf.nn.leaky_relu)\n",
        "        net = tf.layers.dense(net, 256, name='dense_3', activation=tf.nn.leaky_relu)\n",
        "        net = tf.layers.dense(net, 2*hidden_size, name='dense_5', activation=None)\n",
        "    return net\n",
        "\n",
        "def generator(in_net):\n",
        "    with tf.variable_scope('generator', reuse=tf.AUTO_REUSE):\n",
        "        net = tf.layers.dense(in_net, 256, name='dense_1', activation=tf.nn.leaky_relu)\n",
        "        net = tf.layers.dense(net, 384, name='dense_2', activation=tf.nn.leaky_relu)\n",
        "        net = tf.layers.dense(net, 512, name='dense_3', activation=tf.nn.leaky_relu)\n",
        "        net = tf.layers.dense(net, 784, name='dense_5', activation=None)\n",
        "    return net\n",
        "\n",
        "lr    = tf.placeholder_with_default(0.001,shape=[])\n",
        "\n",
        "x     = tf.placeholder(shape=[batch_size, 784], dtype=tf.float32)\n",
        "\n",
        "prior = tfd.MultivariateNormalDiag(tf.zeros(hidden_size), scale_identity_multiplier=1.0)\n",
        "\n",
        "mu, sigma        = tf.split(inference(x), 2, axis=-1)\n",
        "sigma            = tf.nn.softplus(sigma) + 0.0001\n",
        "approx_posterior = tfd.MultivariateNormalDiag(loc=mu, scale_diag=sigma)\n",
        "\n",
        "z                = approx_posterior.sample()\n",
        "\n",
        "sample_size      = tf.placeholder_with_default(1,shape=[])\n",
        "\n",
        "z_samples        = approx_posterior.sample(sample_size)\n",
        "\n",
        "x_samples        = tfd.Independent(tfd.Bernoulli(logits=generator(z_samples))).sample(sample_size)\n",
        "\n",
        "x_sims           = tfd.Independent(tfd.Bernoulli(logits=generator( prior.sample(batch_size)))).sample(sample_size)\n",
        "\n",
        "data_likelihood  = tfd.Independent(tfd.Bernoulli(logits=generator(z)))\n",
        "\n",
        "kl_divergence    = tfd.kl_divergence(approx_posterior, prior)\n",
        "\n",
        "elbo             = -tf.reduce_mean(data_likelihood.log_prob(x) - kl_divergence,axis=0)\n",
        "\n",
        "optimizer = tf.train.AdamOptimizer(learning_rate=lr)\n",
        "opt_op = optimizer.minimize(elbo)\n",
        "\n",
        "ini_val  = np.ones((batch_size,(hidden_size *(hidden_size +1)) // 2),dtype=np.float32)\n",
        "with tf.variable_scope(\"approxposterior2\",reuse=True):\n",
        "  mu_new      = tf.Variable(np.ones((1,hidden_size))*10., dtype=np.float32)\n",
        "  sigma_new   = tf.Variable(np.ones((1,hidden_size))*4., dtype=np.float32)\n",
        "  \n",
        "#idellay I wanna have a loop where mu_new and sigma_new get updated\n",
        "approx_posterior2 = tfd.MultivariateNormalDiag(loc=mu_new,scale_diag=sigma_new, name='approxposterior2')\n",
        "\n",
        "update1           = tf.assign(mu_new,tf.expand_dims(tf.gather(mu,0),0))\n",
        "\n",
        "update2           = tf.assign(sigma_new,tf.expand_dims(tf.gather(sigma,0),0))\n",
        "\n",
        "zz                = approx_posterior2.sample()\n",
        "shape1            = tf.shape(zz)\n",
        "mymask            = tf.placeholder_with_default(np.ones((784),dtype=int),shape=[784])\n",
        "xx                = tf.identity(zz)\n",
        "el2o_logits       = tf.boolean_mask(generator(xx), mymask, axis=1)\n",
        "shape2            = tf.shape(el2o_logits)\n",
        "data_likelihood_el2o = tfd.Independent(tfd.Bernoulli(logits=el2o_logits))\n",
        "x_corr            = tf.placeholder(shape=[784], dtype=tf.float32)\n",
        "m_data            = tf.boolean_mask(x_corr, mymask)\n",
        "p_of_z            = -prior.log_prob(xx)-data_likelihood_el2o.log_prob(m_data)##\n",
        "shape3            = tf.shape(p_of_z)\n",
        "p_of_z            = tf.gather(p_of_z,0)\n",
        "shape4            = tf.shape(p_of_z)\n",
        "dpdz              = tf.gradients(p_of_z, xx) \n",
        "dpdz              = tf.gather(dpdz, 0)\n",
        "dpdzz             = tf.gradients(dpdz,xx)\n",
        "dpdzz             = tf.gather(dpdzz, 0)\n",
        "sigma2            = tf.sqrt(tf.square(tf.math.reciprocal(dpdzz)))\n",
        "sigma_n           = tf.math.sqrt(sigma2)\n",
        "mu_n              = -tf.einsum('ij,ij->ij', sigma2,dpdz)+xx\n",
        "update3           = tf.assign(mu_new,mu_n)\n",
        "update4           = tf.assign(sigma_new,sigma_n)\n",
        "\n",
        "z_samples_el2o    = approx_posterior2.sample(sample_size)\n",
        "\n",
        "x_samples_el2o    = tfd.Independent(tfd.Bernoulli(logits=generator(z_samples_el2o))).sample(sample_size)"
      ],
      "execution_count": 7,
      "outputs": [
        {
          "output_type": "stream",
          "text": [
            "WARNING:tensorflow:From <ipython-input-7-70438c19e160>:9: dense (from tensorflow.python.layers.core) is deprecated and will be removed in a future version.\n",
            "Instructions for updating:\n",
            "Use keras.layers.dense instead.\n",
            "WARNING:tensorflow:From /usr/local/lib/python3.6/dist-packages/tensorflow/python/framework/op_def_library.py:263: colocate_with (from tensorflow.python.framework.ops) is deprecated and will be removed in a future version.\n",
            "Instructions for updating:\n",
            "Colocations handled automatically by placer.\n",
            "WARNING:tensorflow:From /usr/local/lib/python3.6/dist-packages/tensorflow/python/ops/math_ops.py:3066: to_int32 (from tensorflow.python.ops.math_ops) is deprecated and will be removed in a future version.\n",
            "Instructions for updating:\n",
            "Use tf.cast instead.\n"
          ],
          "name": "stdout"
        }
      ]
    },
    {
      "metadata": {
        "id": "ryR4lAa41FTP",
        "colab_type": "code",
        "colab": {}
      },
      "cell_type": "code",
      "source": [
        "datagen = tf.keras.preprocessing.image.ImageDataGenerator(rotation_range=5,zoom_range=0.1)\n",
        "#datagen.fit(x_train.reshape((50000,28,28,1))) only needed if data trafos depend on the data itself"
      ],
      "execution_count": 0,
      "outputs": []
    },
    {
      "metadata": {
        "id": "WssPeDyl1FTT",
        "colab_type": "code",
        "colab": {}
      },
      "cell_type": "code",
      "source": [
        "#opt_op2a= optimizer.minimize(mask_elbo,var_list=[mu_elbo,sigma_elbo])\n",
        "\n",
        "#opt_op2b= optimizer.minimize(mask_el2o,var_list=[mu_el2,sigma_el2])"
      ],
      "execution_count": 0,
      "outputs": []
    },
    {
      "metadata": {
        "id": "Soh1tnGH1FTW",
        "colab_type": "code",
        "colab": {}
      },
      "cell_type": "code",
      "source": [
        "sess = tf.Session()\n",
        "sess.run(tf.global_variables_initializer())"
      ],
      "execution_count": 0,
      "outputs": []
    },
    {
      "metadata": {
        "id": "YoicH-hW1FTY",
        "colab_type": "code",
        "colab": {}
      },
      "cell_type": "code",
      "source": [
        "losses_data = []"
      ],
      "execution_count": 0,
      "outputs": []
    },
    {
      "metadata": {
        "id": "8omyuYL5tihx",
        "colab_type": "code",
        "outputId": "3dd06c57-d32b-44db-d39d-c1780beb72a7",
        "colab": {
          "base_uri": "https://localhost:8080/",
          "height": 34
        }
      },
      "cell_type": "code",
      "source": [
        "imgsv_full= x_valid.reshape((-1,28,28,1))\n",
        "print(imgsv_full.shape)"
      ],
      "execution_count": 12,
      "outputs": [
        {
          "output_type": "stream",
          "text": [
            "(10000, 28, 28, 1)\n"
          ],
          "name": "stdout"
        }
      ]
    },
    {
      "metadata": {
        "id": "I1EHrkJ_1FTa",
        "colab_type": "code",
        "outputId": "438950a7-c2a8-41ca-aa0c-e52b957f52b3",
        "colab": {
          "base_uri": "https://localhost:8080/",
          "height": 3424
        }
      },
      "cell_type": "code",
      "source": [
        "nepochs     = 20\n",
        "jj          = 0.\n",
        "lrate_start = 1e-3\n",
        "maxcount    = 10\n",
        "ii          = 0\n",
        "\n",
        "for ep in range(nepochs):\n",
        "    gen  = datagen.flow(x_train.reshape((50000,28,28,1)), batch_size=batch_size)\n",
        "    \n",
        "    count = 0\n",
        "    print('new epoch')\n",
        "    lrate=lrate_start\n",
        "    for i in range(50000 // batch_size):\n",
        "        # Train the inference model\n",
        "        imgs  = next(gen)\n",
        "\n",
        "        imgsv = imgsv_full[ii*batch_size:(ii+1)*batch_size]\n",
        "\n",
        "        if (len(imgsv) < batch_size) or ((ii+1)*batch_size==len(imgsv_full)):\n",
        "          ii=0\n",
        "          imgsv = imgsv_full[ii*batch_size:(ii+1)*batch_size]\n",
        "        ii+=1\n",
        "       \n",
        "        \n",
        "        if len(imgs) < batch_size:\n",
        "            imgs = next(gen)\n",
        "\n",
        "            \n",
        "        imgs = imgs.reshape([-1,784])\n",
        "        imgsv= imgsv.reshape([-1,784])\n",
        "\n",
        "        # Train the generative model\n",
        "        _, l  = sess.run([opt_op, elbo], feed_dict={x: imgs, lr:lrate})\n",
        "        lv    = sess.run([elbo], feed_dict={x: imgsv})[0]\n",
        "        \n",
        "        if lv>l:\n",
        "          jj+=1\n",
        "        if l>lv:\n",
        "          jj=0.\n",
        "        \n",
        "      \n",
        "        losses_data.append(l)\n",
        "        \n",
        "        count += 1\n",
        "        if count % 10 ==0:\n",
        "            print(ep, l, lv, jj)\n",
        "            \n",
        "        if jj>maxcount:\n",
        "            print('break criterion met')\n",
        "            break\n",
        "    if jj>(maxcount+5):\n",
        "      break"
      ],
      "execution_count": 13,
      "outputs": [
        {
          "output_type": "stream",
          "text": [
            "new epoch\n",
            "0 236.95203 225.98811 0.0\n",
            "0 214.44318 212.18436 0.0\n",
            "0 211.45813 205.84167 0.0\n",
            "0 207.5043 188.62645 0.0\n",
            "0 206.67986 188.78525 0.0\n",
            "0 199.62279 186.57033 0.0\n",
            "0 191.73329 184.2946 0.0\n",
            "0 190.67616 184.8783 0.0\n",
            "0 188.9408 179.62978 0.0\n",
            "0 179.08122 170.5333 0.0\n",
            "0 172.2508 165.90283 0.0\n",
            "0 171.51913 163.62634 0.0\n",
            "0 171.01099 154.8649 0.0\n",
            "0 170.4438 157.31961 0.0\n",
            "0 167.30789 158.99152 0.0\n",
            "0 163.1881 145.77568 0.0\n",
            "0 155.85164 148.56544 0.0\n",
            "0 150.71884 146.3967 0.0\n",
            "0 161.30345 138.61163 0.0\n",
            "new epoch\n",
            "1 153.67351 140.24048 0.0\n",
            "1 154.20328 144.06207 0.0\n",
            "1 152.57227 143.73962 0.0\n",
            "1 152.73175 135.61354 0.0\n",
            "1 151.88454 134.79489 0.0\n",
            "1 153.25548 132.21677 0.0\n",
            "1 152.85794 137.04091 0.0\n",
            "1 150.40616 142.02301 0.0\n",
            "1 149.91641 138.67772 0.0\n",
            "1 147.40512 136.41443 0.0\n",
            "1 151.34406 134.37381 0.0\n",
            "1 141.45447 136.92583 0.0\n",
            "1 144.02136 132.0167 0.0\n",
            "1 140.70424 134.16338 0.0\n",
            "1 144.80922 137.78511 0.0\n",
            "1 144.69955 125.18577 0.0\n",
            "1 143.74744 129.77463 0.0\n",
            "1 140.9422 128.82288 0.0\n",
            "1 140.00409 122.5164 0.0\n",
            "new epoch\n",
            "2 140.92116 126.14195 0.0\n",
            "2 139.71783 131.17223 0.0\n",
            "2 138.41054 131.4698 0.0\n",
            "2 138.34836 124.33735 0.0\n",
            "2 137.89668 123.84455 0.0\n",
            "2 139.7441 121.84412 0.0\n",
            "2 141.74886 126.70625 0.0\n",
            "2 135.09258 131.72353 0.0\n",
            "2 133.29442 131.49872 0.0\n",
            "2 138.74094 127.633606 0.0\n",
            "2 137.08296 125.75088 0.0\n",
            "2 140.59367 128.81403 0.0\n",
            "2 134.60406 124.0197 0.0\n",
            "2 133.57607 126.43118 0.0\n",
            "2 133.45996 129.27306 0.0\n",
            "2 135.56444 117.7075 0.0\n",
            "2 134.01901 123.295105 0.0\n",
            "2 138.6487 123.26413 0.0\n",
            "2 139.49367 117.68565 0.0\n",
            "new epoch\n",
            "3 137.97464 119.9684 0.0\n",
            "3 133.69156 126.396164 0.0\n",
            "3 137.90071 127.291 0.0\n",
            "3 135.4139 119.67426 0.0\n",
            "3 134.9095 118.78179 0.0\n",
            "3 133.2109 119.23844 0.0\n",
            "3 131.77783 122.6261 0.0\n",
            "3 137.33064 127.32604 0.0\n",
            "3 134.96509 127.23657 0.0\n",
            "3 138.03995 122.12582 0.0\n",
            "3 135.26279 121.80624 0.0\n",
            "3 135.41241 124.83976 0.0\n",
            "3 139.33182 120.32673 0.0\n",
            "3 136.15388 122.75517 0.0\n",
            "3 131.3911 126.591156 0.0\n",
            "3 132.18536 115.466354 0.0\n",
            "3 135.54767 120.391205 0.0\n",
            "3 134.321 119.65884 0.0\n",
            "3 134.5161 115.06502 0.0\n",
            "new epoch\n",
            "4 133.28888 118.174355 0.0\n",
            "4 132.64366 122.840195 0.0\n",
            "4 131.07399 123.756546 0.0\n",
            "4 133.69684 117.72954 0.0\n",
            "4 133.42099 116.12864 0.0\n",
            "4 132.1221 115.9129 0.0\n",
            "4 132.99066 120.96231 0.0\n",
            "4 132.46634 124.15327 0.0\n",
            "4 131.82655 125.62846 0.0\n",
            "4 135.63513 120.817276 0.0\n",
            "4 130.57103 118.66546 0.0\n",
            "4 131.67076 122.7784 0.0\n",
            "4 131.90604 118.608536 0.0\n",
            "4 130.57036 120.18868 0.0\n",
            "4 132.64658 123.85283 0.0\n",
            "4 131.57153 113.6394 0.0\n",
            "4 129.27513 118.232605 0.0\n",
            "4 130.86884 116.82017 0.0\n",
            "4 132.35559 112.529465 0.0\n",
            "new epoch\n",
            "5 131.12027 116.09024 0.0\n",
            "5 133.04535 121.42673 0.0\n",
            "5 132.53857 122.272964 0.0\n",
            "5 128.92867 115.86917 0.0\n",
            "5 124.49255 113.91357 0.0\n",
            "5 130.53513 114.785706 0.0\n",
            "5 131.00385 118.75466 0.0\n",
            "5 135.04584 122.486 0.0\n",
            "5 132.24747 123.3664 0.0\n",
            "5 130.19858 117.93929 0.0\n",
            "5 126.92551 117.02495 0.0\n",
            "5 134.40291 120.89295 0.0\n",
            "5 134.78793 117.3775 0.0\n",
            "5 131.96745 118.174194 0.0\n",
            "5 129.20494 121.479004 0.0\n",
            "5 132.53389 112.18758 0.0\n",
            "5 128.04726 116.52932 0.0\n",
            "5 125.401344 115.421555 0.0\n",
            "5 133.27238 110.3976 0.0\n",
            "new epoch\n",
            "6 130.51491 114.5429 0.0\n",
            "6 135.53226 119.46727 0.0\n",
            "6 127.24003 120.82498 0.0\n",
            "6 126.79546 113.94508 0.0\n",
            "6 129.81433 112.71792 0.0\n"
          ],
          "name": "stdout"
        },
        {
          "output_type": "error",
          "ename": "KeyboardInterrupt",
          "evalue": "ignored",
          "traceback": [
            "\u001b[0;31m---------------------------------------------------------------------------\u001b[0m",
            "\u001b[0;31mKeyboardInterrupt\u001b[0m                         Traceback (most recent call last)",
            "\u001b[0;32m<ipython-input-13-9ad0c4d339d0>\u001b[0m in \u001b[0;36m<module>\u001b[0;34m()\u001b[0m\n\u001b[1;32m     13\u001b[0m     \u001b[0;32mfor\u001b[0m \u001b[0mi\u001b[0m \u001b[0;32min\u001b[0m \u001b[0mrange\u001b[0m\u001b[0;34m(\u001b[0m\u001b[0;36m50000\u001b[0m \u001b[0;34m//\u001b[0m \u001b[0mbatch_size\u001b[0m\u001b[0;34m)\u001b[0m\u001b[0;34m:\u001b[0m\u001b[0;34m\u001b[0m\u001b[0;34m\u001b[0m\u001b[0m\n\u001b[1;32m     14\u001b[0m         \u001b[0;31m# Train the inference model\u001b[0m\u001b[0;34m\u001b[0m\u001b[0;34m\u001b[0m\u001b[0;34m\u001b[0m\u001b[0m\n\u001b[0;32m---> 15\u001b[0;31m         \u001b[0mimgs\u001b[0m  \u001b[0;34m=\u001b[0m \u001b[0mnext\u001b[0m\u001b[0;34m(\u001b[0m\u001b[0mgen\u001b[0m\u001b[0;34m)\u001b[0m\u001b[0;34m\u001b[0m\u001b[0;34m\u001b[0m\u001b[0m\n\u001b[0m\u001b[1;32m     16\u001b[0m \u001b[0;34m\u001b[0m\u001b[0m\n\u001b[1;32m     17\u001b[0m         \u001b[0mimgsv\u001b[0m \u001b[0;34m=\u001b[0m \u001b[0mimgsv_full\u001b[0m\u001b[0;34m[\u001b[0m\u001b[0mii\u001b[0m\u001b[0;34m*\u001b[0m\u001b[0mbatch_size\u001b[0m\u001b[0;34m:\u001b[0m\u001b[0;34m(\u001b[0m\u001b[0mii\u001b[0m\u001b[0;34m+\u001b[0m\u001b[0;36m1\u001b[0m\u001b[0;34m)\u001b[0m\u001b[0;34m*\u001b[0m\u001b[0mbatch_size\u001b[0m\u001b[0;34m]\u001b[0m\u001b[0;34m\u001b[0m\u001b[0;34m\u001b[0m\u001b[0m\n",
            "\u001b[0;32m/usr/local/lib/python3.6/dist-packages/keras_preprocessing/image/iterator.py\u001b[0m in \u001b[0;36m__next__\u001b[0;34m(self, *args, **kwargs)\u001b[0m\n\u001b[1;32m     98\u001b[0m \u001b[0;34m\u001b[0m\u001b[0m\n\u001b[1;32m     99\u001b[0m     \u001b[0;32mdef\u001b[0m \u001b[0m__next__\u001b[0m\u001b[0;34m(\u001b[0m\u001b[0mself\u001b[0m\u001b[0;34m,\u001b[0m \u001b[0;34m*\u001b[0m\u001b[0margs\u001b[0m\u001b[0;34m,\u001b[0m \u001b[0;34m**\u001b[0m\u001b[0mkwargs\u001b[0m\u001b[0;34m)\u001b[0m\u001b[0;34m:\u001b[0m\u001b[0;34m\u001b[0m\u001b[0;34m\u001b[0m\u001b[0m\n\u001b[0;32m--> 100\u001b[0;31m         \u001b[0;32mreturn\u001b[0m \u001b[0mself\u001b[0m\u001b[0;34m.\u001b[0m\u001b[0mnext\u001b[0m\u001b[0;34m(\u001b[0m\u001b[0;34m*\u001b[0m\u001b[0margs\u001b[0m\u001b[0;34m,\u001b[0m \u001b[0;34m**\u001b[0m\u001b[0mkwargs\u001b[0m\u001b[0;34m)\u001b[0m\u001b[0;34m\u001b[0m\u001b[0;34m\u001b[0m\u001b[0m\n\u001b[0m\u001b[1;32m    101\u001b[0m \u001b[0;34m\u001b[0m\u001b[0m\n\u001b[1;32m    102\u001b[0m     \u001b[0;32mdef\u001b[0m \u001b[0mnext\u001b[0m\u001b[0;34m(\u001b[0m\u001b[0mself\u001b[0m\u001b[0;34m)\u001b[0m\u001b[0;34m:\u001b[0m\u001b[0;34m\u001b[0m\u001b[0;34m\u001b[0m\u001b[0m\n",
            "\u001b[0;32m/usr/local/lib/python3.6/dist-packages/keras_preprocessing/image/iterator.py\u001b[0m in \u001b[0;36mnext\u001b[0;34m(self)\u001b[0m\n\u001b[1;32m    110\u001b[0m         \u001b[0;31m# The transformation of images is not under thread lock\u001b[0m\u001b[0;34m\u001b[0m\u001b[0;34m\u001b[0m\u001b[0;34m\u001b[0m\u001b[0m\n\u001b[1;32m    111\u001b[0m         \u001b[0;31m# so it can be done in parallel\u001b[0m\u001b[0;34m\u001b[0m\u001b[0;34m\u001b[0m\u001b[0;34m\u001b[0m\u001b[0m\n\u001b[0;32m--> 112\u001b[0;31m         \u001b[0;32mreturn\u001b[0m \u001b[0mself\u001b[0m\u001b[0;34m.\u001b[0m\u001b[0m_get_batches_of_transformed_samples\u001b[0m\u001b[0;34m(\u001b[0m\u001b[0mindex_array\u001b[0m\u001b[0;34m)\u001b[0m\u001b[0;34m\u001b[0m\u001b[0;34m\u001b[0m\u001b[0m\n\u001b[0m\u001b[1;32m    113\u001b[0m \u001b[0;34m\u001b[0m\u001b[0m\n\u001b[1;32m    114\u001b[0m     \u001b[0;32mdef\u001b[0m \u001b[0m_get_batches_of_transformed_samples\u001b[0m\u001b[0;34m(\u001b[0m\u001b[0mself\u001b[0m\u001b[0;34m,\u001b[0m \u001b[0mindex_array\u001b[0m\u001b[0;34m)\u001b[0m\u001b[0;34m:\u001b[0m\u001b[0;34m\u001b[0m\u001b[0;34m\u001b[0m\u001b[0m\n",
            "\u001b[0;32m/usr/local/lib/python3.6/dist-packages/keras_preprocessing/image/numpy_array_iterator.py\u001b[0m in \u001b[0;36m_get_batches_of_transformed_samples\u001b[0;34m(self, index_array)\u001b[0m\n\u001b[1;32m    151\u001b[0m             \u001b[0mparams\u001b[0m \u001b[0;34m=\u001b[0m \u001b[0mself\u001b[0m\u001b[0;34m.\u001b[0m\u001b[0mimage_data_generator\u001b[0m\u001b[0;34m.\u001b[0m\u001b[0mget_random_transform\u001b[0m\u001b[0;34m(\u001b[0m\u001b[0mx\u001b[0m\u001b[0;34m.\u001b[0m\u001b[0mshape\u001b[0m\u001b[0;34m)\u001b[0m\u001b[0;34m\u001b[0m\u001b[0;34m\u001b[0m\u001b[0m\n\u001b[1;32m    152\u001b[0m             x = self.image_data_generator.apply_transform(\n\u001b[0;32m--> 153\u001b[0;31m                 x.astype(self.dtype), params)\n\u001b[0m\u001b[1;32m    154\u001b[0m             \u001b[0mx\u001b[0m \u001b[0;34m=\u001b[0m \u001b[0mself\u001b[0m\u001b[0;34m.\u001b[0m\u001b[0mimage_data_generator\u001b[0m\u001b[0;34m.\u001b[0m\u001b[0mstandardize\u001b[0m\u001b[0;34m(\u001b[0m\u001b[0mx\u001b[0m\u001b[0;34m)\u001b[0m\u001b[0;34m\u001b[0m\u001b[0;34m\u001b[0m\u001b[0m\n\u001b[1;32m    155\u001b[0m             \u001b[0mbatch_x\u001b[0m\u001b[0;34m[\u001b[0m\u001b[0mi\u001b[0m\u001b[0;34m]\u001b[0m \u001b[0;34m=\u001b[0m \u001b[0mx\u001b[0m\u001b[0;34m\u001b[0m\u001b[0;34m\u001b[0m\u001b[0m\n",
            "\u001b[0;32m/usr/local/lib/python3.6/dist-packages/keras_preprocessing/image/image_data_generator.py\u001b[0m in \u001b[0;36mapply_transform\u001b[0;34m(self, x, transform_parameters)\u001b[0m\n\u001b[1;32m    851\u001b[0m                                    \u001b[0mfill_mode\u001b[0m\u001b[0;34m=\u001b[0m\u001b[0mself\u001b[0m\u001b[0;34m.\u001b[0m\u001b[0mfill_mode\u001b[0m\u001b[0;34m,\u001b[0m\u001b[0;34m\u001b[0m\u001b[0;34m\u001b[0m\u001b[0m\n\u001b[1;32m    852\u001b[0m                                    \u001b[0mcval\u001b[0m\u001b[0;34m=\u001b[0m\u001b[0mself\u001b[0m\u001b[0;34m.\u001b[0m\u001b[0mcval\u001b[0m\u001b[0;34m,\u001b[0m\u001b[0;34m\u001b[0m\u001b[0;34m\u001b[0m\u001b[0m\n\u001b[0;32m--> 853\u001b[0;31m                                    order=self.interpolation_order)\n\u001b[0m\u001b[1;32m    854\u001b[0m \u001b[0;34m\u001b[0m\u001b[0m\n\u001b[1;32m    855\u001b[0m         \u001b[0;32mif\u001b[0m \u001b[0mtransform_parameters\u001b[0m\u001b[0;34m.\u001b[0m\u001b[0mget\u001b[0m\u001b[0;34m(\u001b[0m\u001b[0;34m'channel_shift_intensity'\u001b[0m\u001b[0;34m)\u001b[0m \u001b[0;32mis\u001b[0m \u001b[0;32mnot\u001b[0m \u001b[0;32mNone\u001b[0m\u001b[0;34m:\u001b[0m\u001b[0;34m\u001b[0m\u001b[0;34m\u001b[0m\u001b[0m\n",
            "\u001b[0;32m/usr/local/lib/python3.6/dist-packages/keras_preprocessing/image/affine_transformations.py\u001b[0m in \u001b[0;36mapply_affine_transform\u001b[0;34m(x, theta, tx, ty, shear, zx, zy, row_axis, col_axis, channel_axis, fill_mode, cval, order)\u001b[0m\n\u001b[1;32m    328\u001b[0m             \u001b[0morder\u001b[0m\u001b[0;34m=\u001b[0m\u001b[0morder\u001b[0m\u001b[0;34m,\u001b[0m\u001b[0;34m\u001b[0m\u001b[0;34m\u001b[0m\u001b[0m\n\u001b[1;32m    329\u001b[0m             \u001b[0mmode\u001b[0m\u001b[0;34m=\u001b[0m\u001b[0mfill_mode\u001b[0m\u001b[0;34m,\u001b[0m\u001b[0;34m\u001b[0m\u001b[0;34m\u001b[0m\u001b[0m\n\u001b[0;32m--> 330\u001b[0;31m             cval=cval) for x_channel in x]\n\u001b[0m\u001b[1;32m    331\u001b[0m         \u001b[0mx\u001b[0m \u001b[0;34m=\u001b[0m \u001b[0mnp\u001b[0m\u001b[0;34m.\u001b[0m\u001b[0mstack\u001b[0m\u001b[0;34m(\u001b[0m\u001b[0mchannel_images\u001b[0m\u001b[0;34m,\u001b[0m \u001b[0maxis\u001b[0m\u001b[0;34m=\u001b[0m\u001b[0;36m0\u001b[0m\u001b[0;34m)\u001b[0m\u001b[0;34m\u001b[0m\u001b[0;34m\u001b[0m\u001b[0m\n\u001b[1;32m    332\u001b[0m         \u001b[0mx\u001b[0m \u001b[0;34m=\u001b[0m \u001b[0mnp\u001b[0m\u001b[0;34m.\u001b[0m\u001b[0mrollaxis\u001b[0m\u001b[0;34m(\u001b[0m\u001b[0mx\u001b[0m\u001b[0;34m,\u001b[0m \u001b[0;36m0\u001b[0m\u001b[0;34m,\u001b[0m \u001b[0mchannel_axis\u001b[0m \u001b[0;34m+\u001b[0m \u001b[0;36m1\u001b[0m\u001b[0;34m)\u001b[0m\u001b[0;34m\u001b[0m\u001b[0;34m\u001b[0m\u001b[0m\n",
            "\u001b[0;32m/usr/local/lib/python3.6/dist-packages/keras_preprocessing/image/affine_transformations.py\u001b[0m in \u001b[0;36m<listcomp>\u001b[0;34m(.0)\u001b[0m\n\u001b[1;32m    328\u001b[0m             \u001b[0morder\u001b[0m\u001b[0;34m=\u001b[0m\u001b[0morder\u001b[0m\u001b[0;34m,\u001b[0m\u001b[0;34m\u001b[0m\u001b[0;34m\u001b[0m\u001b[0m\n\u001b[1;32m    329\u001b[0m             \u001b[0mmode\u001b[0m\u001b[0;34m=\u001b[0m\u001b[0mfill_mode\u001b[0m\u001b[0;34m,\u001b[0m\u001b[0;34m\u001b[0m\u001b[0;34m\u001b[0m\u001b[0m\n\u001b[0;32m--> 330\u001b[0;31m             cval=cval) for x_channel in x]\n\u001b[0m\u001b[1;32m    331\u001b[0m         \u001b[0mx\u001b[0m \u001b[0;34m=\u001b[0m \u001b[0mnp\u001b[0m\u001b[0;34m.\u001b[0m\u001b[0mstack\u001b[0m\u001b[0;34m(\u001b[0m\u001b[0mchannel_images\u001b[0m\u001b[0;34m,\u001b[0m \u001b[0maxis\u001b[0m\u001b[0;34m=\u001b[0m\u001b[0;36m0\u001b[0m\u001b[0;34m)\u001b[0m\u001b[0;34m\u001b[0m\u001b[0;34m\u001b[0m\u001b[0m\n\u001b[1;32m    332\u001b[0m         \u001b[0mx\u001b[0m \u001b[0;34m=\u001b[0m \u001b[0mnp\u001b[0m\u001b[0;34m.\u001b[0m\u001b[0mrollaxis\u001b[0m\u001b[0;34m(\u001b[0m\u001b[0mx\u001b[0m\u001b[0;34m,\u001b[0m \u001b[0;36m0\u001b[0m\u001b[0;34m,\u001b[0m \u001b[0mchannel_axis\u001b[0m \u001b[0;34m+\u001b[0m \u001b[0;36m1\u001b[0m\u001b[0;34m)\u001b[0m\u001b[0;34m\u001b[0m\u001b[0;34m\u001b[0m\u001b[0m\n",
            "\u001b[0;32m/usr/local/lib/python3.6/dist-packages/scipy/ndimage/interpolation.py\u001b[0m in \u001b[0;36maffine_transform\u001b[0;34m(input, matrix, offset, output_shape, output, order, mode, cval, prefilter)\u001b[0m\n\u001b[1;32m    440\u001b[0m         \u001b[0mfiltered\u001b[0m \u001b[0;34m=\u001b[0m \u001b[0minput\u001b[0m\u001b[0;34m\u001b[0m\u001b[0;34m\u001b[0m\u001b[0m\n\u001b[1;32m    441\u001b[0m     output = _ni_support._get_output(output, input,\n\u001b[0;32m--> 442\u001b[0;31m                                      shape=output_shape)\n\u001b[0m\u001b[1;32m    443\u001b[0m     \u001b[0mmatrix\u001b[0m \u001b[0;34m=\u001b[0m \u001b[0mnumpy\u001b[0m\u001b[0;34m.\u001b[0m\u001b[0masarray\u001b[0m\u001b[0;34m(\u001b[0m\u001b[0mmatrix\u001b[0m\u001b[0;34m,\u001b[0m \u001b[0mdtype\u001b[0m\u001b[0;34m=\u001b[0m\u001b[0mnumpy\u001b[0m\u001b[0;34m.\u001b[0m\u001b[0mfloat64\u001b[0m\u001b[0;34m)\u001b[0m\u001b[0;34m\u001b[0m\u001b[0;34m\u001b[0m\u001b[0m\n\u001b[1;32m    444\u001b[0m     \u001b[0;32mif\u001b[0m \u001b[0mmatrix\u001b[0m\u001b[0;34m.\u001b[0m\u001b[0mndim\u001b[0m \u001b[0;32mnot\u001b[0m \u001b[0;32min\u001b[0m \u001b[0;34m[\u001b[0m\u001b[0;36m1\u001b[0m\u001b[0;34m,\u001b[0m \u001b[0;36m2\u001b[0m\u001b[0;34m]\u001b[0m \u001b[0;32mor\u001b[0m \u001b[0mmatrix\u001b[0m\u001b[0;34m.\u001b[0m\u001b[0mshape\u001b[0m\u001b[0;34m[\u001b[0m\u001b[0;36m0\u001b[0m\u001b[0;34m]\u001b[0m \u001b[0;34m<\u001b[0m \u001b[0;36m1\u001b[0m\u001b[0;34m:\u001b[0m\u001b[0;34m\u001b[0m\u001b[0;34m\u001b[0m\u001b[0m\n",
            "\u001b[0;32m/usr/local/lib/python3.6/dist-packages/scipy/ndimage/_ni_support.py\u001b[0m in \u001b[0;36m_get_output\u001b[0;34m(output, input, shape)\u001b[0m\n\u001b[1;32m     73\u001b[0m         \u001b[0mshape\u001b[0m \u001b[0;34m=\u001b[0m \u001b[0minput\u001b[0m\u001b[0;34m.\u001b[0m\u001b[0mshape\u001b[0m\u001b[0;34m\u001b[0m\u001b[0;34m\u001b[0m\u001b[0m\n\u001b[1;32m     74\u001b[0m     \u001b[0;32mif\u001b[0m \u001b[0moutput\u001b[0m \u001b[0;32mis\u001b[0m \u001b[0;32mNone\u001b[0m\u001b[0;34m:\u001b[0m\u001b[0;34m\u001b[0m\u001b[0;34m\u001b[0m\u001b[0m\n\u001b[0;32m---> 75\u001b[0;31m         \u001b[0moutput\u001b[0m \u001b[0;34m=\u001b[0m \u001b[0mnumpy\u001b[0m\u001b[0;34m.\u001b[0m\u001b[0mzeros\u001b[0m\u001b[0;34m(\u001b[0m\u001b[0mshape\u001b[0m\u001b[0;34m,\u001b[0m \u001b[0mdtype\u001b[0m\u001b[0;34m=\u001b[0m\u001b[0minput\u001b[0m\u001b[0;34m.\u001b[0m\u001b[0mdtype\u001b[0m\u001b[0;34m.\u001b[0m\u001b[0mname\u001b[0m\u001b[0;34m)\u001b[0m\u001b[0;34m\u001b[0m\u001b[0;34m\u001b[0m\u001b[0m\n\u001b[0m\u001b[1;32m     76\u001b[0m     \u001b[0;32melif\u001b[0m \u001b[0mtype\u001b[0m\u001b[0;34m(\u001b[0m\u001b[0moutput\u001b[0m\u001b[0;34m)\u001b[0m \u001b[0;32min\u001b[0m \u001b[0;34m[\u001b[0m\u001b[0mtype\u001b[0m\u001b[0;34m(\u001b[0m\u001b[0mtype\u001b[0m\u001b[0;34m)\u001b[0m\u001b[0;34m,\u001b[0m \u001b[0mtype\u001b[0m\u001b[0;34m(\u001b[0m\u001b[0mnumpy\u001b[0m\u001b[0;34m.\u001b[0m\u001b[0mzeros\u001b[0m\u001b[0;34m(\u001b[0m\u001b[0;34m(\u001b[0m\u001b[0;36m4\u001b[0m\u001b[0;34m,\u001b[0m\u001b[0;34m)\u001b[0m\u001b[0;34m)\u001b[0m\u001b[0;34m.\u001b[0m\u001b[0mdtype\u001b[0m\u001b[0;34m)\u001b[0m\u001b[0;34m]\u001b[0m\u001b[0;34m:\u001b[0m\u001b[0;34m\u001b[0m\u001b[0;34m\u001b[0m\u001b[0m\n\u001b[1;32m     77\u001b[0m         \u001b[0moutput\u001b[0m \u001b[0;34m=\u001b[0m \u001b[0mnumpy\u001b[0m\u001b[0;34m.\u001b[0m\u001b[0mzeros\u001b[0m\u001b[0;34m(\u001b[0m\u001b[0mshape\u001b[0m\u001b[0;34m,\u001b[0m \u001b[0mdtype\u001b[0m\u001b[0;34m=\u001b[0m\u001b[0moutput\u001b[0m\u001b[0;34m)\u001b[0m\u001b[0;34m\u001b[0m\u001b[0;34m\u001b[0m\u001b[0m\n",
            "\u001b[0;32m/usr/local/lib/python3.6/dist-packages/numpy/core/_dtype.py\u001b[0m in \u001b[0;36m_name_get\u001b[0;34m(dtype)\u001b[0m\n\u001b[1;32m    317\u001b[0m \u001b[0;34m\u001b[0m\u001b[0m\n\u001b[1;32m    318\u001b[0m \u001b[0;34m\u001b[0m\u001b[0m\n\u001b[0;32m--> 319\u001b[0;31m \u001b[0;32mdef\u001b[0m \u001b[0m_name_get\u001b[0m\u001b[0;34m(\u001b[0m\u001b[0mdtype\u001b[0m\u001b[0;34m)\u001b[0m\u001b[0;34m:\u001b[0m\u001b[0;34m\u001b[0m\u001b[0;34m\u001b[0m\u001b[0m\n\u001b[0m\u001b[1;32m    320\u001b[0m     \u001b[0;31m# provides dtype.name.__get__\u001b[0m\u001b[0;34m\u001b[0m\u001b[0;34m\u001b[0m\u001b[0;34m\u001b[0m\u001b[0m\n\u001b[1;32m    321\u001b[0m \u001b[0;34m\u001b[0m\u001b[0m\n",
            "\u001b[0;31mKeyboardInterrupt\u001b[0m: "
          ]
        }
      ]
    },
    {
      "metadata": {
        "id": "Gro_ExTE1FTc",
        "colab_type": "code",
        "outputId": "749ba62f-b52c-4c21-9cbe-1142e61fad5d",
        "colab": {
          "base_uri": "https://localhost:8080/",
          "height": 269
        }
      },
      "cell_type": "code",
      "source": [
        "plot(losses_data,label='data_loss')\n",
        "legend()\n",
        "yscale('log')"
      ],
      "execution_count": 14,
      "outputs": [
        {
          "output_type": "display_data",
          "data": {
            "image/png": "[encoded data removed]",
            "text/plain": [
              "<Figure size 432x288 with 1 Axes>"
            ]
          },
          "metadata": {
            "tags": []
          }
        }
      ]
    },
    {
      "metadata": {
        "id": "Ey0jj0ar1FTf",
        "colab_type": "code",
        "colab": {}
      },
      "cell_type": "code",
      "source": [
        "res    = sess.run(z_samples, feed_dict={x: x_test[0:batch_size]})\n",
        "labels = targets_test[0:batch_size]"
      ],
      "execution_count": 0,
      "outputs": []
    },
    {
      "metadata": {
        "id": "AJmd4wnx1FTh",
        "colab_type": "code",
        "outputId": "52003a26-8475-4781-fb3f-f5bf2b489d1c",
        "colab": {
          "base_uri": "https://localhost:8080/",
          "height": 286
        }
      },
      "cell_type": "code",
      "source": [
        "hist(res.flatten(),100,range=[-5,5],label='encoded data');\n",
        "hist(randn(len(res.flatten())),100,range=[-5,5],alpha=0.5,label='prior');\n",
        "legend()"
      ],
      "execution_count": 16,
      "outputs": [
        {
          "output_type": "execute_result",
          "data": {
            "text/plain": [
              "<matplotlib.legend.Legend at 0x7f6db02a02b0>"
            ]
          },
          "metadata": {
            "tags": []
          },
          "execution_count": 16
        },
        {
          "output_type": "display_data",
          "data": {
            "image/png": "[encoded data removed]",
            "text/plain": [
              "<Figure size 432x288 with 1 Axes>"
            ]
          },
          "metadata": {
            "tags": []
          }
        }
      ]
    },
    {
      "metadata": {
        "id": "qqqbGahp1FTj",
        "colab_type": "code",
        "outputId": "02f46af2-aaf5-4200-d5b3-c20b2feb8b9c",
        "colab": {
          "base_uri": "https://localhost:8080/",
          "height": 782
        }
      },
      "cell_type": "code",
      "source": [
        "res, inim, s = sess.run([data_likelihood.mean(), x, x_sims], feed_dict={x: x_test[0:batch_size], sample_size: 100})\n",
        "figure(figsize=(5,5))\n",
        "\n",
        "    \n",
        "figure(figsize=(5,5))\n",
        "suptitle('input images')\n",
        "for i in range(16):\n",
        "    subplot(4,4,i+1)\n",
        "    imshow(inim[i].reshape((28,28)),cmap='gray',vmin=0); #colorbar()\n",
        "    axis('off')\n",
        "\n",
        "suptitle('mean data likelihood')\n",
        "for i in range(16):\n",
        "    subplot(4,4,i+1)\n",
        "    imshow((res )[i].reshape((28,28)),cmap='gray',vmin=0); #colorbar()\n",
        "    axis('off')\n",
        "\n",
        "figure(figsize=(5,5))\n",
        "suptitle('random samples from likelihood')\n",
        "for i in range(16):\n",
        "    subplot(4,4,i+1)\n",
        "    imshow(np.mean(s[:,i,:].reshape((-1,28,28)),axis=0),cmap='gray',vmin=0); #colorbar()\n",
        "    axis('off')"
      ],
      "execution_count": 17,
      "outputs": [
        {
          "output_type": "stream",
          "text": [
            "/usr/local/lib/python3.6/dist-packages/matplotlib/figure.py:98: MatplotlibDeprecationWarning: \n",
            "Adding an axes using the same arguments as a previous axes currently reuses the earlier instance.  In a future version, a new instance will always be created and returned.  Meanwhile, this warning can be suppressed, and the future behavior ensured, by passing a unique label to each axes instance.\n",
            "  \"Adding an axes using the same arguments as a previous axes \"\n"
          ],
          "name": "stderr"
        },
        {
          "output_type": "display_data",
          "data": {
            "text/plain": [
              "<Figure size 360x360 with 0 Axes>"
            ]
          },
          "metadata": {
            "tags": []
          }
        },
        {
          "output_type": "display_data",
          "data": {
            "image/png": "[encoded data removed]",
            "text/plain": [
              "<Figure size 360x360 with 16 Axes>"
            ]
          },
          "metadata": {
            "tags": []
          }
        },
        {
          "output_type": "display_data",
          "data": {
            "image/png": "[encoded data removed]",
            "text/plain": [
              "<Figure size 360x360 with 16 Axes>"
            ]
          },
          "metadata": {
            "tags": []
          }
        }
      ]
    },
    {
      "metadata": {
        "id": "B88wpvsy1FTm",
        "colab_type": "code",
        "colab": {
          "base_uri": "https://localhost:8080/",
          "height": 356
        },
        "outputId": "a518961e-22b2-4811-f718-30590d7c8b4f"
      },
      "cell_type": "code",
      "source": [
        "mask = np.ones(IMAGE_SHAPE, dtype=int)\n",
        "mask[0:28,12:14]=0.\n",
        "mask = mask.reshape((28*28))\n",
        "\n",
        "#mask = np.asarray([mask]*batch_size)\n",
        "masked_data = x_test[0]*mask\n",
        "\n",
        "mask = np.ones(IMAGE_SHAPE, dtype=int)\n",
        "mask = mask.reshape((28*28))\n",
        "\n",
        "\n",
        "figure(figsize=(5,5))\n",
        "suptitle('input images')\n",
        "for i in range(1):\n",
        "    subplot(1,1,i+1)\n",
        "    imshow(masked_data.reshape((28,28)),cmap='gray',vmin=0); #colorbar()\n",
        "    axis('off')"
      ],
      "execution_count": 63,
      "outputs": [
        {
          "output_type": "display_data",
          "data": {
            "image/png": "[encoded data removed]",
            "text/plain": [
              "<Figure size 360x360 with 1 Axes>"
            ]
          },
          "metadata": {
            "tags": []
          }
        }
      ]
    },
    {
      "metadata": {
        "id": "0aE0SqSPVCOO",
        "colab_type": "code",
        "outputId": "db996531-f288-405b-844c-035c667dec13",
        "colab": {
          "base_uri": "https://localhost:8080/",
          "height": 151
        }
      },
      "cell_type": "code",
      "source": [
        "c, c1, m, m1=sess.run([sigma,sigma_new, mu, mu_new], feed_dict={x_corr: masked_data, x: x_train[0:batch_size], mymask: mask})\n",
        "\n",
        "print(c[0])\n",
        "print(c1[0])\n",
        "print(m[0])\n",
        "print(m1[0])"
      ],
      "execution_count": 64,
      "outputs": [
        {
          "output_type": "stream",
          "text": [
            "[0.18349133 0.09503159 0.15842229 0.11231325 0.22282185 0.16121906\n",
            " 0.21784668 0.08822463]\n",
            "[0.27375    0.11097156 0.16756123 0.13145827 0.28342986 0.26513785\n",
            " 0.23535264 0.09523567]\n",
            "[ 0.29456776  0.35255235  2.306435   -0.2138356   0.416307    0.6389077\n",
            "  0.97872406 -0.7365344 ]\n",
            "[ 2.0655262  -0.48777765  1.1346701  -1.5265465  -0.01162672  1.4324223\n",
            "  0.25486743  0.27574164]\n"
          ],
          "name": "stdout"
        }
      ]
    },
    {
      "metadata": {
        "id": "jopds1t-1D_9",
        "colab_type": "code",
        "colab": {
          "base_uri": "https://localhost:8080/",
          "height": 151
        },
        "outputId": "c4747107-501e-4a2c-c179-7f3334527fc8"
      },
      "cell_type": "code",
      "source": [
        "sess.run([mu_n, sigma_n, shape1, shape2,shape3,shape4], feed_dict={x_corr: masked_data, x: x_train[0:batch_size], mymask: mask})"
      ],
      "execution_count": 65,
      "outputs": [
        {
          "output_type": "execute_result",
          "data": {
            "text/plain": [
              "[array([[ 1.91961   , -0.53331643,  0.802734  , -1.4286938 , -0.23933545,\n",
              "          1.1194422 , -0.20211563,  0.34087503]], dtype=float32),\n",
              " array([[0.2231751 , 0.1400494 , 0.18655469, 0.1230664 , 0.22628509,\n",
              "         0.26822555, 0.2632581 , 0.08312427]], dtype=float32),\n",
              " array([1, 8], dtype=int32),\n",
              " array([  1, 784], dtype=int32),\n",
              " array([1], dtype=int32),\n",
              " array([], dtype=int32)]"
            ]
          },
          "metadata": {
            "tags": []
          },
          "execution_count": 65
        }
      ]
    },
    {
      "metadata": {
        "id": "7yC1I0LldcMu",
        "colab_type": "code",
        "colab": {
          "base_uri": "https://localhost:8080/",
          "height": 101
        },
        "outputId": "f9457283-0ca0-4afd-f294-1fd874567f1e"
      },
      "cell_type": "code",
      "source": [
        "sess.run([dpdz,dpdzz], feed_dict={x_corr: x_train[0], x: x_train[0:batch_size], mymask: mask})"
      ],
      "execution_count": 66,
      "outputs": [
        {
          "output_type": "execute_result",
          "data": {
            "text/plain": [
              "[array([[  32.27619  , -110.765305 ,  -10.915742 ,  -90.06741  ,\n",
              "           10.67746  ,   16.805021 ,    4.2027764,  106.54213  ]],\n",
              "       dtype=float32),\n",
              " array([[ 24.264496 ,  63.955666 ,  22.152391 ,  67.23999  ,  18.532373 ,\n",
              "           5.3971367,  18.651955 , 138.23936  ]], dtype=float32)]"
            ]
          },
          "metadata": {
            "tags": []
          },
          "execution_count": 66
        }
      ]
    },
    {
      "metadata": {
        "colab_type": "code",
        "id": "rNtMvvWlmA3h",
        "outputId": "76c24395-3906-41a4-91f7-f39287c3f3b1",
        "colab": {
          "base_uri": "https://localhost:8080/",
          "height": 151
        }
      },
      "cell_type": "code",
      "source": [
        "_, _=sess.run([update1,update2], feed_dict={x_corr: masked_data, x: x_train[0:batch_size], mymask: mask})\n",
        "c, c1, m, m1=sess.run([sigma,sigma_new, mu, mu_new], feed_dict={x_corr:masked_data, x: x_train[0:batch_size], mymask: mask})\n",
        "\n",
        "print(c[0])\n",
        "print(c1[0])\n",
        "print(m[0])\n",
        "print(m1[0])\n"
      ],
      "execution_count": 67,
      "outputs": [
        {
          "output_type": "stream",
          "text": [
            "[0.18349133 0.09503159 0.15842229 0.11231325 0.22282185 0.16121906\n",
            " 0.21784668 0.08822463]\n",
            "[0.18349133 0.09503159 0.15842229 0.11231325 0.22282185 0.16121906\n",
            " 0.21784668 0.08822463]\n",
            "[ 0.29456776  0.35255235  2.306435   -0.2138356   0.416307    0.6389077\n",
            "  0.97872406 -0.7365344 ]\n",
            "[ 0.29456776  0.35255235  2.306435   -0.2138356   0.416307    0.6389077\n",
            "  0.97872406 -0.7365344 ]\n"
          ],
          "name": "stdout"
        }
      ]
    },
    {
      "metadata": {
        "id": "G-0qgwFN1dTf",
        "colab_type": "code",
        "colab": {
          "base_uri": "https://localhost:8080/",
          "height": 101
        },
        "outputId": "039cb0c1-ab1f-403f-f535-051ed2501eb3"
      },
      "cell_type": "code",
      "source": [
        "sess.run([mu_n, sigma_n, shape1], feed_dict={x_corr: masked_data, x: x_train[0:batch_size], mymask: mask})"
      ],
      "execution_count": 68,
      "outputs": [
        {
          "output_type": "execute_result",
          "data": {
            "text/plain": [
              "[array([[ 1.3998414 , -0.0154604 ,  1.4452434 , -0.65402794,  0.01236835,\n",
              "          2.5590873 ,  0.728966  , -0.40991127]], dtype=float32),\n",
              " array([[0.1761225 , 0.07692652, 0.13263254, 0.10019305, 0.42300686,\n",
              "         0.25458723, 0.24396926, 0.08401358]], dtype=float32),\n",
              " array([1, 8], dtype=int32)]"
            ]
          },
          "metadata": {
            "tags": []
          },
          "execution_count": 68
        }
      ]
    },
    {
      "metadata": {
        "id": "fEzh6WfijmpW",
        "colab_type": "code",
        "colab": {
          "base_uri": "https://localhost:8080/",
          "height": 306
        },
        "outputId": "584ea34b-c2ec-4f97-bd8d-954631c1d42e"
      },
      "cell_type": "code",
      "source": [
        "res3 = sess.run(z_samples_el2o,feed_dict={x_corr: masked_data, x: x_train[0:batch_size], sample_size:100, mymask: mask})\n",
        "res2 = sess.run(z_samples,feed_dict={x_corr: masked_data, x: x_train[0:batch_size], sample_size:100, mymask: mask})\n",
        "res2 = res2[:,0,:]\n",
        "res3 = res3[:,0,:]\n",
        "f=plt.figure()\n",
        "f.set_figheight(4)\n",
        "f.set_figwidth(25)\n",
        "for ii in range(hidden_size):\n",
        "  subplot(1,hidden_size,ii+1)\n",
        "  hist(randn(len(res2[:,ii].flatten())),50,range=[-5,5],alpha=1.,label='prior');\n",
        "  hist(res2[:,ii].flatten(),50,range=[-5,5],alpha=0.8, label='encoded data VAE');\n",
        "  hist(res3[:,ii].flatten(),50,range=[-5,5],alpha=0.4,label='encoded data EL2O');\n",
        "legend()"
      ],
      "execution_count": 69,
      "outputs": [
        {
          "output_type": "execute_result",
          "data": {
            "text/plain": [
              "<matplotlib.legend.Legend at 0x7f6ae4c12160>"
            ]
          },
          "metadata": {
            "tags": []
          },
          "execution_count": 69
        },
        {
          "output_type": "display_data",
          "data": {
            "image/png": "[encoded data removed]",
            "text/plain": [
              "<Figure size 1800x288 with 8 Axes>"
            ]
          },
          "metadata": {
            "tags": []
          }
        }
      ]
    },
    {
      "metadata": {
        "id": "Wls8p-2nq882",
        "colab_type": "code",
        "colab": {
          "base_uri": "https://localhost:8080/",
          "height": 134
        },
        "outputId": "aef5aafe-76e8-48fc-e20e-d9165286ed18"
      },
      "cell_type": "code",
      "source": [
        "sess.run([dpdz,dpdzz,sigma2],feed_dict={x_corr: masked_data, x: x_train[0:batch_size], mymask: mask})"
      ],
      "execution_count": 70,
      "outputs": [
        {
          "output_type": "execute_result",
          "data": {
            "text/plain": [
              "[array([[-3.4417320e+01,  4.8024883e+01,  4.6190540e+01,  3.6259727e+01,\n",
              "         -3.5200715e-03, -2.0553757e+01,  2.7476296e+00, -4.9641151e+01]],\n",
              "       dtype=float32),\n",
              " array([[ 43.775326 , 183.61201  ,  76.488304 , 102.57473  , -14.4039955,\n",
              "          19.422932 ,  28.984922 , 143.22876  ]], dtype=float32),\n",
              " array([[0.02284392, 0.00544627, 0.01307389, 0.00974899, 0.06942518,\n",
              "         0.05148553, 0.0345007 , 0.00698184]], dtype=float32)]"
            ]
          },
          "metadata": {
            "tags": []
          },
          "execution_count": 70
        }
      ]
    },
    {
      "metadata": {
        "id": "WBOu8sALWFv1",
        "colab_type": "code",
        "outputId": "55e80f0a-7ceb-4377-ce97-db066dfe3ad5",
        "colab": {
          "base_uri": "https://localhost:8080/",
          "height": 84
        }
      },
      "cell_type": "code",
      "source": [
        "_, _=sess.run([update3,update4],feed_dict={x_corr: masked_data, x: x_train[0:batch_size], mymask: mask})\n",
        "c, c1, m, m1=sess.run([sigma,sigma_new, mu, mu_new],feed_dict={x_corr: x_train[0], x: x_train[0:batch_size], mymask: mask})\n",
        "\n",
        "print(c[0]-c1[0])\n",
        "print(m[0]-m1[0])"
      ],
      "execution_count": 77,
      "outputs": [
        {
          "output_type": "stream",
          "text": [
            "[-0.09573252 -0.04374023 -0.13042039 -0.07732657  0.00553611 -0.09188139\n",
            " -0.49669576 -0.02235022]\n",
            "[-3.422435    1.1411488   1.2172282   1.6749002   0.44791123 -1.7526586\n",
            "  0.26645738 -0.73830676]\n"
          ],
          "name": "stdout"
        }
      ]
    },
    {
      "metadata": {
        "id": "nABau_tf8dvK",
        "colab_type": "code",
        "outputId": "9f055f0f-4ceb-4543-b31d-113980dbbabb",
        "colab": {
          "base_uri": "https://localhost:8080/",
          "height": 306
        }
      },
      "cell_type": "code",
      "source": [
        "res3 = sess.run(z_samples_el2o,feed_dict={x_corr: masked_data, x: x_train[0:batch_size], sample_size:100, mymask: mask})\n",
        "res2 = sess.run(z_samples,feed_dict={x_corr: masked_data, x: x_train[0:batch_size], sample_size:100, mymask: mask})\n",
        "res2 = res2[:,0,:]\n",
        "res3 = res3[:,0,:]\n",
        "f=plt.figure()\n",
        "f.set_figheight(4)\n",
        "f.set_figwidth(25)\n",
        "for ii in range(hidden_size):\n",
        "  subplot(1,hidden_size,ii+1)\n",
        "  hist(randn(len(res2[:,ii].flatten())),50,range=[-5,5],alpha=1.,label='prior');\n",
        "  hist(res2[:,ii].flatten(),50,range=[-5,5],alpha=0.8, label='encoded data VAE');\n",
        "  hist(res3[:,ii].flatten(),50,range=[-5,5],alpha=0.6,label='encoded data EL2O');\n",
        "legend()"
      ],
      "execution_count": 78,
      "outputs": [
        {
          "output_type": "execute_result",
          "data": {
            "text/plain": [
              "<matplotlib.legend.Legend at 0x7f6ae229bcc0>"
            ]
          },
          "metadata": {
            "tags": []
          },
          "execution_count": 78
        },
        {
          "output_type": "display_data",
          "data": {
            "image/png": "[encoded data removed]",
            "text/plain": [
              "<Figure size 1800x288 with 8 Axes>"
            ]
          },
          "metadata": {
            "tags": []
          }
        }
      ]
    },
    {
      "metadata": {
        "id": "e6buqGZ090vm",
        "colab_type": "code",
        "outputId": "b2a610fc-df14-4606-ff2e-47c58a2a55a6",
        "colab": {
          "base_uri": "https://localhost:8080/",
          "height": 1713
        }
      },
      "cell_type": "code",
      "source": [
        "inim, xrecons2 = sess.run([x, x_samples_el2o], feed_dict={x_corr: masked_data, x: x_train[0:batch_size], sample_size:40, mymask: mask})\n",
        "xmean, xrecon  = sess.run([data_likelihood.mean(),x_samples], feed_dict={x_corr:masked_data, x: x_train[0:batch_size], sample_size:40, mymask: mask})\n",
        "\n",
        "figure(figsize=(5,5))\n",
        "suptitle('input images')\n",
        "for i in range(1):\n",
        "    subplot(1,1,i+1)\n",
        "    imshow(masked_data.reshape((28,28)),cmap='gray',vmin=0); #colorbar()\n",
        "    axis('off')\n",
        "\n",
        "figure(figsize=(5,5))\n",
        "suptitle('input images')\n",
        "for i in range(1):\n",
        "    subplot(1,1,i+1)\n",
        "    imshow(inim[i].reshape((28,28)),cmap='gray',vmin=0); #colorbar()\n",
        "    axis('off')\n",
        "\n",
        "\n",
        "figure(figsize=(5,5))\n",
        "suptitle('mean data likelihood VAE')\n",
        "for i in range(1):\n",
        "    subplot(1,1,i+1)\n",
        "    imshow((xmean)[i].reshape((28,28)),cmap='gray',vmin=0); #colorbar()\n",
        "    axis('off')\n",
        "\n",
        "\n",
        "\n",
        "\n",
        "    \n",
        "figure(figsize=(5,5))\n",
        "suptitle('averaged generated data from approx posterior EL2O')\n",
        "for i in range(1):\n",
        "    subplot(1,1,i+1)\n",
        "    imshow(np.mean(xrecons2[:,:,i,:],axis=(0,1)).reshape((28,28)),cmap='gray',vmin=0); #colorbar()\n",
        "    axis('off')\n",
        "    \n",
        "figure(figsize=(5,5))\n",
        "suptitle('averaged generated data from approx posterior VAE')\n",
        "for i in range(1):\n",
        "    subplot(1,1,i+1)\n",
        "    imshow(np.mean(xrecon[:,:,i,:],axis=(0,1)).reshape((28,28)),cmap='gray',vmin=0); #colorbar()\n",
        "    axis('off')"
      ],
      "execution_count": 79,
      "outputs": [
        {
          "output_type": "display_data",
          "data": {
            "image/png": "[encoded data removed]",
            "text/plain": [
              "<Figure size 360x360 with 1 Axes>"
            ]
          },
          "metadata": {
            "tags": []
          }
        },
        {
          "output_type": "display_data",
          "data": {
            "image/png": "[encoded data removed]",
            "text/plain": [
              "<Figure size 360x360 with 1 Axes>"
            ]
          },
          "metadata": {
            "tags": []
          }
        },
        {
          "output_type": "display_data",
          "data": {
            "image/png": "[encoded data removed]",
            "text/plain": [
              "<Figure size 360x360 with 1 Axes>"
            ]
          },
          "metadata": {
            "tags": []
          }
        },
        {
          "output_type": "display_data",
          "data": {
            "image/png": "[encoded data removed]",
            "text/plain": [
              "<Figure size 360x360 with 1 Axes>"
            ]
          },
          "metadata": {
            "tags": []
          }
        },
        {
          "output_type": "display_data",
          "data": {
            "image/png": "[encoded data removed]",
            "text/plain": [
              "<Figure size 360x360 with 1 Axes>"
            ]
          },
          "metadata": {
            "tags": []
          }
        }
      ]
    },
    {
      "metadata": {
        "id": "usI0G6Hyq8aj",
        "colab_type": "code",
        "outputId": "c5996f06-8f33-48df-8012-68c46ab2f970",
        "colab": {
          "base_uri": "https://localhost:8080/",
          "height": 34
        }
      },
      "cell_type": "code",
      "source": [
        "mask = np.ones(IMAGE_SHAPE, dtype=int)\n",
        "mask[6:14,0:28]=0\n",
        "mask = mask.reshape((28*28))\n",
        "\n",
        "mask = np.asarray([mask]*batch_size)\n",
        "print(mask.shape)\n",
        "masked_data = x_valid[0:batch_size]*mask\n",
        "\n",
        "mask = np.ones(IMAGE_SHAPE, dtype=int)\n",
        "mask[6:14,0:28]=0\n",
        "mask = mask.reshape((28*28))"
      ],
      "execution_count": 43,
      "outputs": [
        {
          "output_type": "stream",
          "text": [
            "(256, 784)\n"
          ],
          "name": "stdout"
        }
      ]
    },
    {
      "metadata": {
        "id": "hj56Fn3UpBX0",
        "colab_type": "code",
        "colab": {}
      },
      "cell_type": "code",
      "source": [
        ""
      ],
      "execution_count": 0,
      "outputs": []
    }
  ]
}