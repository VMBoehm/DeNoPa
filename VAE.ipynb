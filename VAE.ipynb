{
  "nbformat": 4,
  "nbformat_minor": 0,
  "metadata": {
    "colab": {
      "name": "VAE.ipynb",
      "version": "0.3.2",
      "provenance": [],
      "collapsed_sections": [],
      "include_colab_link": true
    },
    "kernelspec": {
      "display_name": "Python 3",
      "language": "python",
      "name": "python3"
    }
  },
  "cells": [
    {
      "cell_type": "markdown",
      "metadata": {
        "id": "view-in-github",
        "colab_type": "text"
      },
      "source": [
        "<a href=\"https://colab.research.google.com/github/VMBoehm/DeNoPa/blob/master/VAE.ipynb\" target=\"_parent\"><img src=\"https://colab.research.google.com/assets/colab-badge.svg\" alt=\"Open In Colab\"/></a>"
      ]
    },
    {
      "metadata": {
        "id": "D-Fe5G8m1FTC",
        "colab_type": "code",
        "outputId": "8596751e-da5a-4368-ae54-9d8f283e24da",
        "colab": {
          "base_uri": "https://localhost:8080/",
          "height": 34
        }
      },
      "cell_type": "code",
      "source": [
        "import os\n",
        "%pylab inline"
      ],
      "execution_count": 1,
      "outputs": [
        {
          "output_type": "stream",
          "text": [
            "Populating the interactive namespace from numpy and matplotlib\n"
          ],
          "name": "stdout"
        }
      ]
    },
    {
      "metadata": {
        "id": "-AEYmOsH1FTI",
        "colab_type": "code",
        "colab": {
          "base_uri": "https://localhost:8080/",
          "height": 141
        },
        "outputId": "3033c256-0d19-4458-d031-933cbac36330"
      },
      "cell_type": "code",
      "source": [
        "import tensorflow as tf\n",
        "import tensorflow_probability as tfp\n",
        "from tensorflow.python.ops.parallel_for.gradients import jacobian\n",
        "tfd = tfp.distributions\n",
        "tfb = tfp.bijectors\n",
        "IMAGE_SHAPE = [28, 28, 1]"
      ],
      "execution_count": 2,
      "outputs": [
        {
          "output_type": "stream",
          "text": [
            "\n",
            "WARNING: The TensorFlow contrib module will not be included in TensorFlow 2.0.\n",
            "For more information, please see:\n",
            "  * https://github.com/tensorflow/community/blob/master/rfcs/20180907-contrib-sunset.md\n",
            "  * https://github.com/tensorflow/addons\n",
            "If you depend on functionality not listed there, please file an issue.\n",
            "\n"
          ],
          "name": "stdout"
        }
      ]
    },
    {
      "metadata": {
        "id": "wk5CRADD52aa",
        "colab_type": "code",
        "outputId": "67e91b0b-1de0-47fa-efc3-3889e8652001",
        "colab": {
          "base_uri": "https://localhost:8080/",
          "height": 105
        }
      },
      "cell_type": "code",
      "source": [
        "np.indices((2,2))"
      ],
      "execution_count": 3,
      "outputs": [
        {
          "output_type": "execute_result",
          "data": {
            "text/plain": [
              "array([[[0, 0],\n",
              "        [1, 1]],\n",
              "\n",
              "       [[0, 1],\n",
              "        [0, 1]]])"
            ]
          },
          "metadata": {
            "tags": []
          },
          "execution_count": 3
        }
      ]
    },
    {
      "metadata": {
        "id": "nFzYYSxY1FTL",
        "colab_type": "code",
        "colab": {}
      },
      "cell_type": "code",
      "source": [
        "import gzip, zipfile, tarfile\n",
        "import os, shutil, re, string, urllib, fnmatch\n",
        "import pickle as pkl\n",
        "\n",
        "def _download_mnist_realval(dataset):\n",
        "    \"\"\"\n",
        "    Download the MNIST dataset if it is not present.\n",
        "    :return: The train, test and validation set.\n",
        "    \"\"\"\n",
        "    origin = (\n",
        "        'http://www.iro.umontreal.ca/~lisa/deep/data/mnist/mnist.pkl.gz'\n",
        "    )\n",
        "    print('Downloading data from %s' % origin)\n",
        "    urllib.request.urlretrieve(origin, dataset)\n",
        "\n",
        "def _get_datafolder_path():\n",
        "    full_path = os.path.abspath('.')\n",
        "    path = full_path +'/data'\n",
        "    return path\n",
        "\n",
        "def load_mnist_realval(\n",
        "        dataset=_get_datafolder_path()+'/mnist_real/mnist.pkl.gz'):\n",
        "    '''\n",
        "    Loads the real valued MNIST dataset\n",
        "    :param dataset: path to dataset file\n",
        "    :return: None\n",
        "    '''\n",
        "    if not os.path.isfile(dataset):\n",
        "        datasetfolder = os.path.dirname(dataset)\n",
        "        if not os.path.exists(datasetfolder):\n",
        "            os.makedirs(datasetfolder)\n",
        "        _download_mnist_realval(dataset)\n",
        "\n",
        "    f = gzip.open(dataset, 'rb')\n",
        "    train_set, valid_set, test_set = pkl.load(f, encoding='latin1')\n",
        "    f.close()\n",
        "    x_train, targets_train = train_set[0], train_set[1]\n",
        "    x_valid, targets_valid = valid_set[0], valid_set[1]\n",
        "    x_test, targets_test = test_set[0], test_set[1]\n",
        "    return x_train, targets_train, x_valid, targets_valid, x_test, targets_test"
      ],
      "execution_count": 0,
      "outputs": []
    },
    {
      "metadata": {
        "id": "ft_jIh-W1FTN",
        "colab_type": "code",
        "colab": {
          "base_uri": "https://localhost:8080/",
          "height": 34
        },
        "outputId": "e6c4c302-cced-4e60-89bf-36c9fc4bd58d"
      },
      "cell_type": "code",
      "source": [
        "x_train, targets_train, x_valid, targets_valid, x_test, targets_test = load_mnist_realval()"
      ],
      "execution_count": 5,
      "outputs": [
        {
          "output_type": "stream",
          "text": [
            "Downloading data from http://www.iro.umontreal.ca/~lisa/deep/data/mnist/mnist.pkl.gz\n"
          ],
          "name": "stdout"
        }
      ]
    },
    {
      "metadata": {
        "id": "FxZ3yhvU1FTR",
        "colab_type": "code",
        "outputId": "a2331802-3135-459f-8ee8-6c0c9e09089b",
        "colab": {
          "base_uri": "https://localhost:8080/",
          "height": 123
        }
      },
      "cell_type": "code",
      "source": [
        "tf.reset_default_graph()\n",
        "\n",
        "batch_size  = 256\n",
        "hidden_size = 8\n",
        "\n",
        "def inference(in_net):\n",
        "    with tf.variable_scope('generator/inference', reuse=tf.AUTO_REUSE):\n",
        "        net = tf.layers.dense(in_net, 512, name='dense_1', activation=tf.nn.leaky_relu)\n",
        "        net = tf.layers.dense(net, 384, name='dense_2', activation=tf.nn.leaky_relu)\n",
        "        net = tf.layers.dense(net, 256, name='dense_3', activation=tf.nn.leaky_relu)\n",
        "        net = tf.layers.dense(net, 2*hidden_size, name='dense_5', activation=None)\n",
        "    return net\n",
        "\n",
        "def generator(in_net):\n",
        "    with tf.variable_scope('generator', reuse=tf.AUTO_REUSE):\n",
        "        net = tf.layers.dense(in_net, 256, name='dense_1', activation=tf.nn.leaky_relu)\n",
        "        net = tf.layers.dense(net, 384, name='dense_2', activation=tf.nn.leaky_relu)\n",
        "        net = tf.layers.dense(net, 512, name='dense_3', activation=tf.nn.leaky_relu)\n",
        "        net = tf.layers.dense(net, 784, name='dense_5', activation=None)\n",
        "    return net\n",
        "\n",
        "lr    = tf.placeholder_with_default(0.001,shape=[])\n",
        "\n",
        "x     = tf.placeholder(shape=[batch_size, 784], dtype=tf.float32)\n",
        "\n",
        "prior = tfd.MultivariateNormalDiag(tf.zeros(hidden_size), scale_identity_multiplier=1.0)\n",
        "\n",
        "mu, sigma        = tf.split(inference(x), 2, axis=-1)\n",
        "sigma            = tf.nn.softplus(sigma) + 0.0001\n",
        "approx_posterior = tfd.MultivariateNormalDiag(loc=mu, scale_diag=sigma)\n",
        "\n",
        "z = approx_posterior.sample()\n",
        "\n",
        "sample_size = tf.placeholder_with_default(100,shape=[])\n",
        "\n",
        "z_samples   = approx_posterior.sample(sample_size)\n",
        "\n",
        "x_samples   = tfd.Independent(tfd.Bernoulli(logits=generator(z_samples))).sample(sample_size)\n",
        "\n",
        "x_sims      = tfd.Independent(tfd.Bernoulli(logits=generator( prior.sample(batch_size)))).sample(sample_size)\n",
        "\n",
        "data_likelihood = tfd.Independent(tfd.Bernoulli(logits=generator(z)))\n",
        "\n",
        "kl_divergence   = tfd.kl_divergence(approx_posterior, prior)\n",
        "\n",
        "shape1a         = tf.shape(data_likelihood.log_prob(x))\n",
        "\n",
        "shape2a         = tf.shape(kl_divergence)\n",
        "\n",
        "elbo            = - tf.reduce_mean(data_likelihood.log_prob(x) - kl_divergence,axis=0)\n",
        "\n",
        "with tf.variable_scope(\"posterior2\"):\n",
        "    mu_t = tf.Variable(initial_value=np.zeros((batch_size,hidden_size)), dtype=tf.float32)\n",
        "    sigma_t = tf.Variable(initial_value=np.ones((batch_size,hidden_size *(hidden_size +1) // 2)), dtype=tf.float32)\n",
        "sigma_t2 = tfd.matrix_diag_transform(tfd.fill_triangular(sigma_t), transform=tf.nn.softplus)\n",
        "\n",
        "approx_posterior2 = tfd.MultivariateNormalTriL(loc=mu_t,scale_tril=sigma_t2, name='posterior2')\n",
        "\n",
        "z2                = approx_posterior2.sample()\n",
        "\n",
        "zmean             = approx_posterior2.mean()\n",
        "\n",
        "likeli_zmean      = tfd.Independent(tfd.Bernoulli(logits=generator(zmean)))\n",
        "\n",
        "kl_divergence2    = tfd.kl_divergence(approx_posterior2, prior) \n",
        "\n",
        "shape1            = tf.shape(kl_divergence2)\n",
        "\n",
        "mymask            = tf.placeholder_with_default(np.ones((784),dtype=int),shape=[784])\n",
        "\n",
        "shape6            = tf.shape(generator(z2))\n",
        "\n",
        "liklogits         = tf.boolean_mask(generator(z2), mymask, axis=1)\n",
        "\n",
        "shape2            = tf.shape(liklogits)\n",
        "\n",
        "data_likelihood2  = tfd.Independent(tfd.Bernoulli(logits=liklogits))\n",
        "\n",
        "masked_x          = tf.boolean_mask(x, mymask, axis=1)\n",
        "\n",
        "shape3            = tf.shape(masked_x)\n",
        "\n",
        "shape4            = tf.shape(data_likelihood2.log_prob(masked_x))\n",
        "    \n",
        "elbo2             = -tf.reduce_mean(data_likelihood2.log_prob(masked_x)- kl_divergence2,axis=0)\n",
        "\n",
        "shape5            = tf.shape(elbo2)\n",
        "\n",
        "z2_samples        = approx_posterior2.sample(sample_size)\n",
        "\n",
        "x2_samples        = tfd.Independent(tfd.Bernoulli(logits=generator(z2_samples))).sample(sample_size)"
      ],
      "execution_count": 6,
      "outputs": [
        {
          "output_type": "stream",
          "text": [
            "WARNING:tensorflow:From <ipython-input-6-c0ca92870570>:8: dense (from tensorflow.python.layers.core) is deprecated and will be removed in a future version.\n",
            "Instructions for updating:\n",
            "Use keras.layers.dense instead.\n",
            "WARNING:tensorflow:From /usr/local/lib/python3.6/dist-packages/tensorflow/python/framework/op_def_library.py:263: colocate_with (from tensorflow.python.framework.ops) is deprecated and will be removed in a future version.\n",
            "Instructions for updating:\n",
            "Colocations handled automatically by placer.\n"
          ],
          "name": "stdout"
        }
      ]
    },
    {
      "metadata": {
        "id": "ryR4lAa41FTP",
        "colab_type": "code",
        "colab": {}
      },
      "cell_type": "code",
      "source": [
        "datagen = tf.keras.preprocessing.image.ImageDataGenerator(rotation_range=5,zoom_range=0.1)\n",
        "#datagen.fit(x_train.reshape((50000,28,28,1))) only needed if data trafos depend on the data itself"
      ],
      "execution_count": 0,
      "outputs": []
    },
    {
      "metadata": {
        "id": "WssPeDyl1FTT",
        "colab_type": "code",
        "colab": {
          "base_uri": "https://localhost:8080/",
          "height": 70
        },
        "outputId": "2f6a2442-2da0-44ad-e2f4-99c1e40fcd2b"
      },
      "cell_type": "code",
      "source": [
        "optimizer = tf.train.AdamOptimizer(learning_rate=lr)\n",
        "opt_op = optimizer.minimize(elbo)\n",
        "\n",
        "opt_op2 = optimizer.minimize(elbo2,var_list=[mu_t,sigma_t])"
      ],
      "execution_count": 8,
      "outputs": [
        {
          "output_type": "stream",
          "text": [
            "WARNING:tensorflow:From /usr/local/lib/python3.6/dist-packages/tensorflow/python/ops/math_ops.py:3066: to_int32 (from tensorflow.python.ops.math_ops) is deprecated and will be removed in a future version.\n",
            "Instructions for updating:\n",
            "Use tf.cast instead.\n"
          ],
          "name": "stdout"
        }
      ]
    },
    {
      "metadata": {
        "id": "Soh1tnGH1FTW",
        "colab_type": "code",
        "colab": {}
      },
      "cell_type": "code",
      "source": [
        "sess = tf.Session()\n",
        "sess.run(tf.global_variables_initializer())"
      ],
      "execution_count": 0,
      "outputs": []
    },
    {
      "metadata": {
        "id": "YoicH-hW1FTY",
        "colab_type": "code",
        "colab": {}
      },
      "cell_type": "code",
      "source": [
        "losses_data = []"
      ],
      "execution_count": 0,
      "outputs": []
    },
    {
      "metadata": {
        "id": "8omyuYL5tihx",
        "colab_type": "code",
        "outputId": "c7c8f472-11ee-4059-a388-d451e64c35f6",
        "colab": {
          "base_uri": "https://localhost:8080/",
          "height": 34
        }
      },
      "cell_type": "code",
      "source": [
        "imgsv_full= x_valid.reshape((-1,28,28,1))\n",
        "print(imgsv_full.shape)"
      ],
      "execution_count": 11,
      "outputs": [
        {
          "output_type": "stream",
          "text": [
            "(10000, 28, 28, 1)\n"
          ],
          "name": "stdout"
        }
      ]
    },
    {
      "metadata": {
        "id": "I1EHrkJ_1FTa",
        "colab_type": "code",
        "outputId": "bf0f80e1-29ff-41f3-b853-34e70be9854b",
        "colab": {
          "base_uri": "https://localhost:8080/",
          "height": 1874
        }
      },
      "cell_type": "code",
      "source": [
        "nepochs     = 20\n",
        "jj          = 0.\n",
        "lrate_start = 1e-5\n",
        "maxcount    = 10\n",
        "ii          = 0\n",
        "\n",
        "for ep in range(nepochs):\n",
        "    gen  = datagen.flow(x_train.reshape((50000,28,28,1)), batch_size=batch_size)\n",
        "    \n",
        "    count = 0\n",
        "    print('new epoch')\n",
        "    lrate=lrate_start\n",
        "    for i in range(50000 // batch_size):\n",
        "        # Train the inference model\n",
        "        imgs  = next(gen)\n",
        "\n",
        "        imgsv = imgsv_full[ii*batch_size:(ii+1)*batch_size]\n",
        "\n",
        "        if (len(imgsv) < batch_size) or ((ii+1)*batch_size==len(imgsv_full)):\n",
        "          ii=0\n",
        "          imgsv = imgsv_full[ii*batch_size:(ii+1)*batch_size]\n",
        "        ii+=1\n",
        "       \n",
        "        \n",
        "        if len(imgs) < batch_size:\n",
        "            imgs = next(gen)\n",
        "\n",
        "            \n",
        "        imgs = imgs.reshape([-1,784])\n",
        "        imgsv= imgsv.reshape([-1,784])\n",
        "\n",
        "        # Train the generative model\n",
        "        _, l  = sess.run([opt_op, elbo], feed_dict={x: imgs, lr:lrate})\n",
        "        lv    = sess.run([elbo], feed_dict={x: imgsv})[0]\n",
        "        \n",
        "        if lv>l:\n",
        "          jj+=1\n",
        "        if l>lv:\n",
        "          jj=0.\n",
        "        \n",
        "      \n",
        "        losses_data.append(l)\n",
        "        \n",
        "        count += 1\n",
        "        if count % 10 ==0:\n",
        "            print(ep, l, lv, jj)\n",
        "            \n",
        "        if jj>maxcount:\n",
        "            print('break criterion met')\n",
        "            break\n",
        "    if jj>(maxcount+5):\n",
        "      break"
      ],
      "execution_count": 14,
      "outputs": [
        {
          "output_type": "stream",
          "text": [
            "new epoch\n",
            "0 125.2274 114.75067 0.0\n",
            "0 132.17957 119.002174 0.0\n",
            "0 127.651474 120.029175 0.0\n",
            "0 126.02329 113.576065 0.0\n",
            "0 130.47668 112.24135 0.0\n",
            "0 128.47455 112.58861 0.0\n",
            "0 132.92596 116.020004 0.0\n",
            "0 129.14676 120.29129 0.0\n",
            "0 120.06804 122.44316 1.0\n",
            "0 128.63057 116.36546 0.0\n",
            "0 126.43914 114.574524 0.0\n",
            "0 128.49663 119.09433 0.0\n",
            "0 132.02061 115.28941 0.0\n",
            "0 125.872116 116.518974 0.0\n",
            "0 126.62253 119.89557 0.0\n",
            "0 128.90944 109.93329 0.0\n",
            "0 130.43567 114.3302 0.0\n",
            "0 124.61559 113.74566 0.0\n",
            "0 127.5791 109.95365 0.0\n",
            "new epoch\n",
            "1 128.06596 113.42733 0.0\n",
            "1 129.87964 118.25706 0.0\n",
            "1 125.61935 119.00362 0.0\n",
            "1 129.41998 112.98408 0.0\n",
            "1 127.884254 111.35948 0.0\n",
            "1 126.63901 112.1265 0.0\n",
            "1 125.96329 115.80922 0.0\n",
            "1 132.98941 119.98685 0.0\n",
            "1 127.60664 121.61107 0.0\n",
            "1 128.84293 115.65514 0.0\n",
            "1 127.73678 114.35084 0.0\n",
            "1 126.132484 118.614365 0.0\n",
            "1 125.86185 114.74246 0.0\n",
            "1 126.660995 116.18189 0.0\n",
            "1 126.628235 119.85603 0.0\n",
            "1 131.50972 109.79407 0.0\n",
            "1 125.47804 113.83405 0.0\n",
            "1 126.91872 113.84265 0.0\n",
            "1 130.69864 109.70645 0.0\n",
            "new epoch\n",
            "2 127.06603 113.11369 0.0\n",
            "2 130.34424 118.03157 0.0\n",
            "2 130.10876 118.8185 0.0\n",
            "2 126.18844 113.09369 0.0\n",
            "2 127.79068 111.66696 0.0\n",
            "2 128.43716 112.18042 0.0\n",
            "2 128.30183 115.702576 0.0\n",
            "2 127.543976 119.59016 0.0\n",
            "2 127.67018 121.72481 0.0\n"
          ],
          "name": "stdout"
        },
        {
          "output_type": "error",
          "ename": "KeyboardInterrupt",
          "evalue": "ignored",
          "traceback": [
            "\u001b[0;31m---------------------------------------------------------------------------\u001b[0m",
            "\u001b[0;31mKeyboardInterrupt\u001b[0m                         Traceback (most recent call last)",
            "\u001b[0;32m<ipython-input-14-b1aa94d18a7e>\u001b[0m in \u001b[0;36m<module>\u001b[0;34m()\u001b[0m\n\u001b[1;32m     31\u001b[0m \u001b[0;34m\u001b[0m\u001b[0m\n\u001b[1;32m     32\u001b[0m         \u001b[0;31m# Train the generative model\u001b[0m\u001b[0;34m\u001b[0m\u001b[0;34m\u001b[0m\u001b[0;34m\u001b[0m\u001b[0m\n\u001b[0;32m---> 33\u001b[0;31m         \u001b[0m_\u001b[0m\u001b[0;34m,\u001b[0m \u001b[0ml\u001b[0m  \u001b[0;34m=\u001b[0m \u001b[0msess\u001b[0m\u001b[0;34m.\u001b[0m\u001b[0mrun\u001b[0m\u001b[0;34m(\u001b[0m\u001b[0;34m[\u001b[0m\u001b[0mopt_op\u001b[0m\u001b[0;34m,\u001b[0m \u001b[0melbo\u001b[0m\u001b[0;34m]\u001b[0m\u001b[0;34m,\u001b[0m \u001b[0mfeed_dict\u001b[0m\u001b[0;34m=\u001b[0m\u001b[0;34m{\u001b[0m\u001b[0mx\u001b[0m\u001b[0;34m:\u001b[0m \u001b[0mimgs\u001b[0m\u001b[0;34m,\u001b[0m \u001b[0mlr\u001b[0m\u001b[0;34m:\u001b[0m\u001b[0mlrate\u001b[0m\u001b[0;34m}\u001b[0m\u001b[0;34m)\u001b[0m\u001b[0;34m\u001b[0m\u001b[0;34m\u001b[0m\u001b[0m\n\u001b[0m\u001b[1;32m     34\u001b[0m         \u001b[0mlv\u001b[0m    \u001b[0;34m=\u001b[0m \u001b[0msess\u001b[0m\u001b[0;34m.\u001b[0m\u001b[0mrun\u001b[0m\u001b[0;34m(\u001b[0m\u001b[0;34m[\u001b[0m\u001b[0melbo\u001b[0m\u001b[0;34m]\u001b[0m\u001b[0;34m,\u001b[0m \u001b[0mfeed_dict\u001b[0m\u001b[0;34m=\u001b[0m\u001b[0;34m{\u001b[0m\u001b[0mx\u001b[0m\u001b[0;34m:\u001b[0m \u001b[0mimgsv\u001b[0m\u001b[0;34m}\u001b[0m\u001b[0;34m)\u001b[0m\u001b[0;34m[\u001b[0m\u001b[0;36m0\u001b[0m\u001b[0;34m]\u001b[0m\u001b[0;34m\u001b[0m\u001b[0;34m\u001b[0m\u001b[0m\n\u001b[1;32m     35\u001b[0m \u001b[0;34m\u001b[0m\u001b[0m\n",
            "\u001b[0;32m/usr/local/lib/python3.6/dist-packages/tensorflow/python/client/session.py\u001b[0m in \u001b[0;36mrun\u001b[0;34m(self, fetches, feed_dict, options, run_metadata)\u001b[0m\n\u001b[1;32m    927\u001b[0m     \u001b[0;32mtry\u001b[0m\u001b[0;34m:\u001b[0m\u001b[0;34m\u001b[0m\u001b[0;34m\u001b[0m\u001b[0m\n\u001b[1;32m    928\u001b[0m       result = self._run(None, fetches, feed_dict, options_ptr,\n\u001b[0;32m--> 929\u001b[0;31m                          run_metadata_ptr)\n\u001b[0m\u001b[1;32m    930\u001b[0m       \u001b[0;32mif\u001b[0m \u001b[0mrun_metadata\u001b[0m\u001b[0;34m:\u001b[0m\u001b[0;34m\u001b[0m\u001b[0;34m\u001b[0m\u001b[0m\n\u001b[1;32m    931\u001b[0m         \u001b[0mproto_data\u001b[0m \u001b[0;34m=\u001b[0m \u001b[0mtf_session\u001b[0m\u001b[0;34m.\u001b[0m\u001b[0mTF_GetBuffer\u001b[0m\u001b[0;34m(\u001b[0m\u001b[0mrun_metadata_ptr\u001b[0m\u001b[0;34m)\u001b[0m\u001b[0;34m\u001b[0m\u001b[0;34m\u001b[0m\u001b[0m\n",
            "\u001b[0;32m/usr/local/lib/python3.6/dist-packages/tensorflow/python/client/session.py\u001b[0m in \u001b[0;36m_run\u001b[0;34m(self, handle, fetches, feed_dict, options, run_metadata)\u001b[0m\n\u001b[1;32m   1150\u001b[0m     \u001b[0;32mif\u001b[0m \u001b[0mfinal_fetches\u001b[0m \u001b[0;32mor\u001b[0m \u001b[0mfinal_targets\u001b[0m \u001b[0;32mor\u001b[0m \u001b[0;34m(\u001b[0m\u001b[0mhandle\u001b[0m \u001b[0;32mand\u001b[0m \u001b[0mfeed_dict_tensor\u001b[0m\u001b[0;34m)\u001b[0m\u001b[0;34m:\u001b[0m\u001b[0;34m\u001b[0m\u001b[0;34m\u001b[0m\u001b[0m\n\u001b[1;32m   1151\u001b[0m       results = self._do_run(handle, final_targets, final_fetches,\n\u001b[0;32m-> 1152\u001b[0;31m                              feed_dict_tensor, options, run_metadata)\n\u001b[0m\u001b[1;32m   1153\u001b[0m     \u001b[0;32melse\u001b[0m\u001b[0;34m:\u001b[0m\u001b[0;34m\u001b[0m\u001b[0;34m\u001b[0m\u001b[0m\n\u001b[1;32m   1154\u001b[0m       \u001b[0mresults\u001b[0m \u001b[0;34m=\u001b[0m \u001b[0;34m[\u001b[0m\u001b[0;34m]\u001b[0m\u001b[0;34m\u001b[0m\u001b[0;34m\u001b[0m\u001b[0m\n",
            "\u001b[0;32m/usr/local/lib/python3.6/dist-packages/tensorflow/python/client/session.py\u001b[0m in \u001b[0;36m_do_run\u001b[0;34m(self, handle, target_list, fetch_list, feed_dict, options, run_metadata)\u001b[0m\n\u001b[1;32m   1326\u001b[0m     \u001b[0;32mif\u001b[0m \u001b[0mhandle\u001b[0m \u001b[0;32mis\u001b[0m \u001b[0;32mNone\u001b[0m\u001b[0;34m:\u001b[0m\u001b[0;34m\u001b[0m\u001b[0;34m\u001b[0m\u001b[0m\n\u001b[1;32m   1327\u001b[0m       return self._do_call(_run_fn, feeds, fetches, targets, options,\n\u001b[0;32m-> 1328\u001b[0;31m                            run_metadata)\n\u001b[0m\u001b[1;32m   1329\u001b[0m     \u001b[0;32melse\u001b[0m\u001b[0;34m:\u001b[0m\u001b[0;34m\u001b[0m\u001b[0;34m\u001b[0m\u001b[0m\n\u001b[1;32m   1330\u001b[0m       \u001b[0;32mreturn\u001b[0m \u001b[0mself\u001b[0m\u001b[0;34m.\u001b[0m\u001b[0m_do_call\u001b[0m\u001b[0;34m(\u001b[0m\u001b[0m_prun_fn\u001b[0m\u001b[0;34m,\u001b[0m \u001b[0mhandle\u001b[0m\u001b[0;34m,\u001b[0m \u001b[0mfeeds\u001b[0m\u001b[0;34m,\u001b[0m \u001b[0mfetches\u001b[0m\u001b[0;34m)\u001b[0m\u001b[0;34m\u001b[0m\u001b[0;34m\u001b[0m\u001b[0m\n",
            "\u001b[0;32m/usr/local/lib/python3.6/dist-packages/tensorflow/python/client/session.py\u001b[0m in \u001b[0;36m_do_call\u001b[0;34m(self, fn, *args)\u001b[0m\n\u001b[1;32m   1332\u001b[0m   \u001b[0;32mdef\u001b[0m \u001b[0m_do_call\u001b[0m\u001b[0;34m(\u001b[0m\u001b[0mself\u001b[0m\u001b[0;34m,\u001b[0m \u001b[0mfn\u001b[0m\u001b[0;34m,\u001b[0m \u001b[0;34m*\u001b[0m\u001b[0margs\u001b[0m\u001b[0;34m)\u001b[0m\u001b[0;34m:\u001b[0m\u001b[0;34m\u001b[0m\u001b[0;34m\u001b[0m\u001b[0m\n\u001b[1;32m   1333\u001b[0m     \u001b[0;32mtry\u001b[0m\u001b[0;34m:\u001b[0m\u001b[0;34m\u001b[0m\u001b[0;34m\u001b[0m\u001b[0m\n\u001b[0;32m-> 1334\u001b[0;31m       \u001b[0;32mreturn\u001b[0m \u001b[0mfn\u001b[0m\u001b[0;34m(\u001b[0m\u001b[0;34m*\u001b[0m\u001b[0margs\u001b[0m\u001b[0;34m)\u001b[0m\u001b[0;34m\u001b[0m\u001b[0;34m\u001b[0m\u001b[0m\n\u001b[0m\u001b[1;32m   1335\u001b[0m     \u001b[0;32mexcept\u001b[0m \u001b[0merrors\u001b[0m\u001b[0;34m.\u001b[0m\u001b[0mOpError\u001b[0m \u001b[0;32mas\u001b[0m \u001b[0me\u001b[0m\u001b[0;34m:\u001b[0m\u001b[0;34m\u001b[0m\u001b[0;34m\u001b[0m\u001b[0m\n\u001b[1;32m   1336\u001b[0m       \u001b[0mmessage\u001b[0m \u001b[0;34m=\u001b[0m \u001b[0mcompat\u001b[0m\u001b[0;34m.\u001b[0m\u001b[0mas_text\u001b[0m\u001b[0;34m(\u001b[0m\u001b[0me\u001b[0m\u001b[0;34m.\u001b[0m\u001b[0mmessage\u001b[0m\u001b[0;34m)\u001b[0m\u001b[0;34m\u001b[0m\u001b[0;34m\u001b[0m\u001b[0m\n",
            "\u001b[0;32m/usr/local/lib/python3.6/dist-packages/tensorflow/python/client/session.py\u001b[0m in \u001b[0;36m_run_fn\u001b[0;34m(feed_dict, fetch_list, target_list, options, run_metadata)\u001b[0m\n\u001b[1;32m   1317\u001b[0m       \u001b[0mself\u001b[0m\u001b[0;34m.\u001b[0m\u001b[0m_extend_graph\u001b[0m\u001b[0;34m(\u001b[0m\u001b[0;34m)\u001b[0m\u001b[0;34m\u001b[0m\u001b[0;34m\u001b[0m\u001b[0m\n\u001b[1;32m   1318\u001b[0m       return self._call_tf_sessionrun(\n\u001b[0;32m-> 1319\u001b[0;31m           options, feed_dict, fetch_list, target_list, run_metadata)\n\u001b[0m\u001b[1;32m   1320\u001b[0m \u001b[0;34m\u001b[0m\u001b[0m\n\u001b[1;32m   1321\u001b[0m     \u001b[0;32mdef\u001b[0m \u001b[0m_prun_fn\u001b[0m\u001b[0;34m(\u001b[0m\u001b[0mhandle\u001b[0m\u001b[0;34m,\u001b[0m \u001b[0mfeed_dict\u001b[0m\u001b[0;34m,\u001b[0m \u001b[0mfetch_list\u001b[0m\u001b[0;34m)\u001b[0m\u001b[0;34m:\u001b[0m\u001b[0;34m\u001b[0m\u001b[0;34m\u001b[0m\u001b[0m\n",
            "\u001b[0;32m/usr/local/lib/python3.6/dist-packages/tensorflow/python/client/session.py\u001b[0m in \u001b[0;36m_call_tf_sessionrun\u001b[0;34m(self, options, feed_dict, fetch_list, target_list, run_metadata)\u001b[0m\n\u001b[1;32m   1405\u001b[0m     return tf_session.TF_SessionRun_wrapper(\n\u001b[1;32m   1406\u001b[0m         \u001b[0mself\u001b[0m\u001b[0;34m.\u001b[0m\u001b[0m_session\u001b[0m\u001b[0;34m,\u001b[0m \u001b[0moptions\u001b[0m\u001b[0;34m,\u001b[0m \u001b[0mfeed_dict\u001b[0m\u001b[0;34m,\u001b[0m \u001b[0mfetch_list\u001b[0m\u001b[0;34m,\u001b[0m \u001b[0mtarget_list\u001b[0m\u001b[0;34m,\u001b[0m\u001b[0;34m\u001b[0m\u001b[0;34m\u001b[0m\u001b[0m\n\u001b[0;32m-> 1407\u001b[0;31m         run_metadata)\n\u001b[0m\u001b[1;32m   1408\u001b[0m \u001b[0;34m\u001b[0m\u001b[0m\n\u001b[1;32m   1409\u001b[0m   \u001b[0;32mdef\u001b[0m \u001b[0m_call_tf_sessionprun\u001b[0m\u001b[0;34m(\u001b[0m\u001b[0mself\u001b[0m\u001b[0;34m,\u001b[0m \u001b[0mhandle\u001b[0m\u001b[0;34m,\u001b[0m \u001b[0mfeed_dict\u001b[0m\u001b[0;34m,\u001b[0m \u001b[0mfetch_list\u001b[0m\u001b[0;34m)\u001b[0m\u001b[0;34m:\u001b[0m\u001b[0;34m\u001b[0m\u001b[0;34m\u001b[0m\u001b[0m\n",
            "\u001b[0;31mKeyboardInterrupt\u001b[0m: "
          ]
        }
      ]
    },
    {
      "metadata": {
        "id": "Gro_ExTE1FTc",
        "colab_type": "code",
        "outputId": "fd99ec96-bd35-4e32-dfaa-7e8b05b714eb",
        "colab": {
          "base_uri": "https://localhost:8080/",
          "height": 268
        }
      },
      "cell_type": "code",
      "source": [
        "plot(losses_data,label='data_loss')\n",
        "legend()\n",
        "yscale('log')"
      ],
      "execution_count": 15,
      "outputs": [
        {
          "output_type": "display_data",
          "data": {
            "image/png": "[encoded data removed]",
            "text/plain": [
              "<Figure size 432x288 with 1 Axes>"
            ]
          },
          "metadata": {
            "tags": []
          }
        }
      ]
    },
    {
      "metadata": {
        "id": "Ey0jj0ar1FTf",
        "colab_type": "code",
        "colab": {}
      },
      "cell_type": "code",
      "source": [
        "res    = sess.run(z, feed_dict={x: x_test[0:batch_size]})\n",
        "labels = targets_test[0:batch_size]"
      ],
      "execution_count": 0,
      "outputs": []
    },
    {
      "metadata": {
        "id": "AJmd4wnx1FTh",
        "colab_type": "code",
        "outputId": "4ee2d81b-1e2b-4a1c-e09e-9e4029b0411a",
        "colab": {
          "base_uri": "https://localhost:8080/",
          "height": 286
        }
      },
      "cell_type": "code",
      "source": [
        "hist(res.flatten(),100,range=[-5,5],label='encoded data');\n",
        "hist(randn(len(res.flatten())),100,range=[-5,5],alpha=0.5,label='prior');\n",
        "legend()"
      ],
      "execution_count": 17,
      "outputs": [
        {
          "output_type": "execute_result",
          "data": {
            "text/plain": [
              "<matplotlib.legend.Legend at 0x7f4e899a20f0>"
            ]
          },
          "metadata": {
            "tags": []
          },
          "execution_count": 17
        },
        {
          "output_type": "display_data",
          "data": {
            "image/png": "[encoded data removed]",
            "text/plain": [
              "<Figure size 432x288 with 1 Axes>"
            ]
          },
          "metadata": {
            "tags": []
          }
        }
      ]
    },
    {
      "metadata": {
        "id": "qqqbGahp1FTj",
        "colab_type": "code",
        "outputId": "28ad8036-2cdc-4aee-bab9-eaf801543ed8",
        "colab": {
          "base_uri": "https://localhost:8080/",
          "height": 1033
        }
      },
      "cell_type": "code",
      "source": [
        "res, inim, s = sess.run([data_likelihood.mean(), x, x_sims], feed_dict={x: x_train[0:batch_size], sample_size: 400})\n",
        "figure(figsize=(5,5))\n",
        "suptitle('mean data likelihood')\n",
        "for i in range(16):\n",
        "    subplot(4,4,i+1)\n",
        "    imshow((res )[i].reshape((28,28)),cmap='gray',vmin=0); #colorbar()\n",
        "    axis('off')\n",
        "    \n",
        "figure(figsize=(5,5))\n",
        "suptitle('input images')\n",
        "for i in range(16):\n",
        "    subplot(4,4,i+1)\n",
        "    imshow(inim[i].reshape((28,28)),cmap='gray',vmin=0); #colorbar()\n",
        "    axis('off')\n",
        "\n",
        "figure(figsize=(5,5))\n",
        "suptitle('random samples from likelihood')\n",
        "for i in range(16):\n",
        "    subplot(4,4,i+1)\n",
        "    imshow(np.mean(s[:,i,:].reshape((-1,28,28)),axis=0),cmap='gray',vmin=0); #colorbar()\n",
        "    axis('off')"
      ],
      "execution_count": 18,
      "outputs": [
        {
          "output_type": "display_data",
          "data": {
            "image/png": "[encoded data removed]",
            "text/plain": [
              "<Figure size 360x360 with 16 Axes>"
            ]
          },
          "metadata": {
            "tags": []
          }
        },
        {
          "output_type": "display_data",
          "data": {
            "image/png": "[encoded data removed]",
            "text/plain": [
              "<Figure size 360x360 with 16 Axes>"
            ]
          },
          "metadata": {
            "tags": []
          }
        },
        {
          "output_type": "display_data",
          "data": {
            "image/png": "[encoded data removed]",
            "text/plain": [
              "<Figure size 360x360 with 16 Axes>"
            ]
          },
          "metadata": {
            "tags": []
          }
        }
      ]
    },
    {
      "metadata": {
        "id": "B88wpvsy1FTm",
        "colab_type": "code",
        "colab": {}
      },
      "cell_type": "code",
      "source": [
        "mask = np.ones(IMAGE_SHAPE, dtype=int)\n",
        "#mask[0:12,0:12]=0\n",
        "mask = mask.reshape((28*28))\n",
        "\n",
        "mask = np.asarray([mask]*batch_size)\n",
        "#print(mask.shape)\n",
        "masked_data = x_valid[0:batch_size]*mask\n",
        "\n",
        "mask = np.ones(IMAGE_SHAPE, dtype=int)\n",
        "#mask[0:12,0:12]=0\n",
        "mask = mask.reshape((28*28))"
      ],
      "execution_count": 0,
      "outputs": []
    },
    {
      "metadata": {
        "id": "ong8ITNOVeZJ",
        "colab_type": "code",
        "outputId": "979f0912-4b88-43c9-9aa6-a7c6b09b5138",
        "colab": {
          "base_uri": "https://localhost:8080/",
          "height": 123
        }
      },
      "cell_type": "code",
      "source": [
        "#_, ll = sess.run([opt_op2, elbo2], feed_dict={x: masked_data, lr:lrate})\n",
        "print(sess.run([shape1a,shape2a,shape6], feed_dict={x: masked_data, lr:lrate, mymask:mask}))\n",
        "sess.run([shape1,shape2,shape3,shape4,shape5], feed_dict={x: masked_data, lr:lrate, mymask:mask})"
      ],
      "execution_count": 20,
      "outputs": [
        {
          "output_type": "stream",
          "text": [
            "[array([256], dtype=int32), array([256], dtype=int32), array([256, 784], dtype=int32)]\n"
          ],
          "name": "stdout"
        },
        {
          "output_type": "execute_result",
          "data": {
            "text/plain": [
              "[array([256], dtype=int32),\n",
              " array([256, 784], dtype=int32),\n",
              " array([256, 784], dtype=int32),\n",
              " array([256], dtype=int32),\n",
              " array([], dtype=int32)]"
            ]
          },
          "metadata": {
            "tags": []
          },
          "execution_count": 20
        }
      ]
    },
    {
      "metadata": {
        "id": "YD1W0jYLa-CO",
        "colab_type": "code",
        "colab": {}
      },
      "cell_type": "code",
      "source": [
        "posterior2_loss=[]"
      ],
      "execution_count": 0,
      "outputs": []
    },
    {
      "metadata": {
        "id": "g0ootK_ze47g",
        "colab_type": "code",
        "outputId": "891a32c2-4e1e-4919-e2de-8b5354424633",
        "colab": {
          "base_uri": "https://localhost:8080/",
          "height": 5021
        }
      },
      "cell_type": "code",
      "source": [
        "lrate=1e-4\n",
        "for ii in range(1000):\n",
        "  _, ll = sess.run([opt_op2, elbo2], feed_dict={x: masked_data, lr:lrate, mymask:mask})\n",
        "  posterior2_loss.append(ll)\n",
        "  if ii%100==0:\n",
        "    mus, sigmas = sess.run([mu_t, sigma_t], feed_dict={x: masked_data})\n",
        "    #print(mus[0:10])\n",
        "  print(ll)"
      ],
      "execution_count": 23,
      "outputs": [
        {
          "output_type": "stream",
          "text": [
            "111.36456\n",
            "110.76387\n",
            "111.649185\n",
            "110.82178\n",
            "111.37315\n",
            "111.61701\n",
            "110.91594\n",
            "111.1226\n",
            "111.322075\n",
            "111.28531\n",
            "111.1444\n",
            "111.42152\n",
            "111.39673\n",
            "111.298164\n",
            "111.7106\n",
            "111.16374\n",
            "111.08432\n",
            "110.930504\n",
            "111.187325\n",
            "111.45839\n",
            "111.17449\n",
            "111.06731\n",
            "111.2996\n",
            "111.17534\n",
            "111.37005\n",
            "111.24208\n",
            "111.02915\n",
            "111.24153\n",
            "111.1236\n",
            "111.44498\n",
            "111.46999\n",
            "111.237206\n",
            "111.028244\n",
            "111.35947\n",
            "111.39375\n",
            "111.382126\n",
            "111.01829\n",
            "111.55319\n",
            "111.18244\n",
            "111.241684\n",
            "111.132355\n",
            "111.13203\n",
            "111.37805\n",
            "111.21735\n",
            "111.06639\n",
            "111.31528\n",
            "111.135605\n",
            "111.20632\n",
            "111.262184\n",
            "111.146194\n",
            "111.50955\n",
            "111.25955\n",
            "111.09361\n",
            "110.98044\n",
            "111.28949\n",
            "111.19154\n",
            "110.99627\n",
            "111.04386\n",
            "111.49485\n",
            "111.07808\n",
            "111.74568\n",
            "111.0276\n",
            "111.307434\n",
            "111.382355\n",
            "111.214035\n",
            "111.31211\n",
            "111.12117\n",
            "111.25779\n",
            "111.2249\n",
            "111.013916\n",
            "111.161255\n",
            "111.11181\n",
            "111.25122\n",
            "111.36161\n",
            "111.270035\n",
            "111.2336\n",
            "111.150116\n",
            "111.581604\n",
            "111.34971\n",
            "111.05678\n",
            "111.14928\n",
            "111.058426\n",
            "111.11522\n",
            "110.92829\n",
            "111.20834\n",
            "111.27806\n",
            "111.20113\n",
            "111.10867\n",
            "111.49231\n",
            "111.26306\n",
            "111.157005\n",
            "110.95041\n",
            "111.23128\n",
            "111.36133\n",
            "110.88305\n",
            "111.39509\n",
            "110.89497\n",
            "111.37561\n",
            "111.193436\n",
            "110.848495\n",
            "111.65159\n",
            "111.16956\n",
            "111.27155\n",
            "111.08205\n",
            "111.13514\n",
            "111.23698\n",
            "111.439995\n",
            "111.067245\n",
            "111.24372\n",
            "110.87271\n",
            "111.18913\n",
            "111.4077\n",
            "111.0932\n",
            "111.19726\n",
            "111.0294\n",
            "111.336334\n",
            "111.118065\n",
            "111.297066\n",
            "111.27191\n",
            "111.3801\n",
            "111.05643\n",
            "111.01422\n",
            "111.19305\n",
            "111.07556\n",
            "111.4026\n",
            "111.07799\n",
            "111.11441\n",
            "111.549576\n",
            "111.2628\n",
            "111.185745\n",
            "110.89213\n",
            "111.03746\n",
            "110.9763\n",
            "111.46889\n",
            "111.05443\n",
            "111.19049\n",
            "110.97983\n",
            "111.41644\n",
            "111.00568\n",
            "110.945946\n",
            "111.40028\n",
            "111.05939\n",
            "111.071075\n",
            "111.55546\n",
            "111.222946\n",
            "111.38745\n",
            "111.34487\n",
            "110.92601\n",
            "111.035934\n",
            "111.24475\n",
            "111.01827\n",
            "111.000046\n",
            "111.169785\n",
            "111.36139\n",
            "111.21395\n",
            "111.10835\n",
            "111.25325\n",
            "111.07156\n",
            "110.8441\n",
            "111.2336\n",
            "111.271225\n",
            "111.1136\n",
            "111.39369\n",
            "111.273766\n",
            "110.93169\n",
            "111.01518\n",
            "111.11343\n",
            "111.2776\n",
            "111.2958\n",
            "111.07655\n",
            "111.34236\n",
            "111.1302\n",
            "111.35106\n",
            "111.19662\n",
            "110.894264\n",
            "111.10222\n",
            "111.33102\n",
            "111.14154\n",
            "110.938255\n",
            "111.467834\n",
            "111.19787\n",
            "111.06596\n",
            "111.11607\n",
            "111.19896\n",
            "111.09047\n",
            "111.44896\n",
            "111.38058\n",
            "110.966934\n",
            "111.02163\n",
            "111.069626\n",
            "111.07035\n",
            "111.37802\n",
            "111.4462\n",
            "111.229614\n",
            "111.134125\n",
            "111.05086\n",
            "111.45231\n",
            "111.025635\n",
            "111.27678\n",
            "110.86957\n",
            "111.02185\n",
            "111.39403\n",
            "111.33682\n",
            "111.28078\n",
            "111.03306\n",
            "111.178\n",
            "111.0336\n",
            "111.360275\n",
            "111.395\n",
            "111.35112\n",
            "111.22859\n",
            "111.04868\n",
            "110.99634\n",
            "111.45364\n",
            "110.858734\n",
            "111.01855\n",
            "111.19188\n",
            "111.03934\n",
            "111.22978\n",
            "111.13428\n",
            "110.88884\n",
            "110.97832\n",
            "111.089195\n",
            "110.87895\n",
            "111.189255\n",
            "111.377\n",
            "111.057365\n"
          ],
          "name": "stdout"
        },
        {
          "output_type": "error",
          "ename": "KeyboardInterrupt",
          "evalue": "ignored",
          "traceback": [
            "\u001b[0;31m---------------------------------------------------------------------------\u001b[0m",
            "\u001b[0;31mKeyboardInterrupt\u001b[0m                         Traceback (most recent call last)",
            "\u001b[0;32m<ipython-input-23-276b58746c57>\u001b[0m in \u001b[0;36m<module>\u001b[0;34m()\u001b[0m\n\u001b[1;32m      1\u001b[0m \u001b[0mlrate\u001b[0m\u001b[0;34m=\u001b[0m\u001b[0;36m1e-4\u001b[0m\u001b[0;34m\u001b[0m\u001b[0;34m\u001b[0m\u001b[0m\n\u001b[1;32m      2\u001b[0m \u001b[0;32mfor\u001b[0m \u001b[0mii\u001b[0m \u001b[0;32min\u001b[0m \u001b[0mrange\u001b[0m\u001b[0;34m(\u001b[0m\u001b[0;36m1000\u001b[0m\u001b[0;34m)\u001b[0m\u001b[0;34m:\u001b[0m\u001b[0;34m\u001b[0m\u001b[0;34m\u001b[0m\u001b[0m\n\u001b[0;32m----> 3\u001b[0;31m   \u001b[0m_\u001b[0m\u001b[0;34m,\u001b[0m \u001b[0mll\u001b[0m \u001b[0;34m=\u001b[0m \u001b[0msess\u001b[0m\u001b[0;34m.\u001b[0m\u001b[0mrun\u001b[0m\u001b[0;34m(\u001b[0m\u001b[0;34m[\u001b[0m\u001b[0mopt_op2\u001b[0m\u001b[0;34m,\u001b[0m \u001b[0melbo2\u001b[0m\u001b[0;34m]\u001b[0m\u001b[0;34m,\u001b[0m \u001b[0mfeed_dict\u001b[0m\u001b[0;34m=\u001b[0m\u001b[0;34m{\u001b[0m\u001b[0mx\u001b[0m\u001b[0;34m:\u001b[0m \u001b[0mmasked_data\u001b[0m\u001b[0;34m,\u001b[0m \u001b[0mlr\u001b[0m\u001b[0;34m:\u001b[0m\u001b[0mlrate\u001b[0m\u001b[0;34m,\u001b[0m \u001b[0mmymask\u001b[0m\u001b[0;34m:\u001b[0m\u001b[0mmask\u001b[0m\u001b[0;34m}\u001b[0m\u001b[0;34m)\u001b[0m\u001b[0;34m\u001b[0m\u001b[0;34m\u001b[0m\u001b[0m\n\u001b[0m\u001b[1;32m      4\u001b[0m   \u001b[0mposterior2_loss\u001b[0m\u001b[0;34m.\u001b[0m\u001b[0mappend\u001b[0m\u001b[0;34m(\u001b[0m\u001b[0mll\u001b[0m\u001b[0;34m)\u001b[0m\u001b[0;34m\u001b[0m\u001b[0;34m\u001b[0m\u001b[0m\n\u001b[1;32m      5\u001b[0m   \u001b[0;32mif\u001b[0m \u001b[0mii\u001b[0m\u001b[0;34m%\u001b[0m\u001b[0;36m100\u001b[0m\u001b[0;34m==\u001b[0m\u001b[0;36m0\u001b[0m\u001b[0;34m:\u001b[0m\u001b[0;34m\u001b[0m\u001b[0;34m\u001b[0m\u001b[0m\n",
            "\u001b[0;32m/usr/local/lib/python3.6/dist-packages/tensorflow/python/client/session.py\u001b[0m in \u001b[0;36mrun\u001b[0;34m(self, fetches, feed_dict, options, run_metadata)\u001b[0m\n\u001b[1;32m    927\u001b[0m     \u001b[0;32mtry\u001b[0m\u001b[0;34m:\u001b[0m\u001b[0;34m\u001b[0m\u001b[0;34m\u001b[0m\u001b[0m\n\u001b[1;32m    928\u001b[0m       result = self._run(None, fetches, feed_dict, options_ptr,\n\u001b[0;32m--> 929\u001b[0;31m                          run_metadata_ptr)\n\u001b[0m\u001b[1;32m    930\u001b[0m       \u001b[0;32mif\u001b[0m \u001b[0mrun_metadata\u001b[0m\u001b[0;34m:\u001b[0m\u001b[0;34m\u001b[0m\u001b[0;34m\u001b[0m\u001b[0m\n\u001b[1;32m    931\u001b[0m         \u001b[0mproto_data\u001b[0m \u001b[0;34m=\u001b[0m \u001b[0mtf_session\u001b[0m\u001b[0;34m.\u001b[0m\u001b[0mTF_GetBuffer\u001b[0m\u001b[0;34m(\u001b[0m\u001b[0mrun_metadata_ptr\u001b[0m\u001b[0;34m)\u001b[0m\u001b[0;34m\u001b[0m\u001b[0;34m\u001b[0m\u001b[0m\n",
            "\u001b[0;32m/usr/local/lib/python3.6/dist-packages/tensorflow/python/client/session.py\u001b[0m in \u001b[0;36m_run\u001b[0;34m(self, handle, fetches, feed_dict, options, run_metadata)\u001b[0m\n\u001b[1;32m   1150\u001b[0m     \u001b[0;32mif\u001b[0m \u001b[0mfinal_fetches\u001b[0m \u001b[0;32mor\u001b[0m \u001b[0mfinal_targets\u001b[0m \u001b[0;32mor\u001b[0m \u001b[0;34m(\u001b[0m\u001b[0mhandle\u001b[0m \u001b[0;32mand\u001b[0m \u001b[0mfeed_dict_tensor\u001b[0m\u001b[0;34m)\u001b[0m\u001b[0;34m:\u001b[0m\u001b[0;34m\u001b[0m\u001b[0;34m\u001b[0m\u001b[0m\n\u001b[1;32m   1151\u001b[0m       results = self._do_run(handle, final_targets, final_fetches,\n\u001b[0;32m-> 1152\u001b[0;31m                              feed_dict_tensor, options, run_metadata)\n\u001b[0m\u001b[1;32m   1153\u001b[0m     \u001b[0;32melse\u001b[0m\u001b[0;34m:\u001b[0m\u001b[0;34m\u001b[0m\u001b[0;34m\u001b[0m\u001b[0m\n\u001b[1;32m   1154\u001b[0m       \u001b[0mresults\u001b[0m \u001b[0;34m=\u001b[0m \u001b[0;34m[\u001b[0m\u001b[0;34m]\u001b[0m\u001b[0;34m\u001b[0m\u001b[0;34m\u001b[0m\u001b[0m\n",
            "\u001b[0;32m/usr/local/lib/python3.6/dist-packages/tensorflow/python/client/session.py\u001b[0m in \u001b[0;36m_do_run\u001b[0;34m(self, handle, target_list, fetch_list, feed_dict, options, run_metadata)\u001b[0m\n\u001b[1;32m   1326\u001b[0m     \u001b[0;32mif\u001b[0m \u001b[0mhandle\u001b[0m \u001b[0;32mis\u001b[0m \u001b[0;32mNone\u001b[0m\u001b[0;34m:\u001b[0m\u001b[0;34m\u001b[0m\u001b[0;34m\u001b[0m\u001b[0m\n\u001b[1;32m   1327\u001b[0m       return self._do_call(_run_fn, feeds, fetches, targets, options,\n\u001b[0;32m-> 1328\u001b[0;31m                            run_metadata)\n\u001b[0m\u001b[1;32m   1329\u001b[0m     \u001b[0;32melse\u001b[0m\u001b[0;34m:\u001b[0m\u001b[0;34m\u001b[0m\u001b[0;34m\u001b[0m\u001b[0m\n\u001b[1;32m   1330\u001b[0m       \u001b[0;32mreturn\u001b[0m \u001b[0mself\u001b[0m\u001b[0;34m.\u001b[0m\u001b[0m_do_call\u001b[0m\u001b[0;34m(\u001b[0m\u001b[0m_prun_fn\u001b[0m\u001b[0;34m,\u001b[0m \u001b[0mhandle\u001b[0m\u001b[0;34m,\u001b[0m \u001b[0mfeeds\u001b[0m\u001b[0;34m,\u001b[0m \u001b[0mfetches\u001b[0m\u001b[0;34m)\u001b[0m\u001b[0;34m\u001b[0m\u001b[0;34m\u001b[0m\u001b[0m\n",
            "\u001b[0;32m/usr/local/lib/python3.6/dist-packages/tensorflow/python/client/session.py\u001b[0m in \u001b[0;36m_do_call\u001b[0;34m(self, fn, *args)\u001b[0m\n\u001b[1;32m   1332\u001b[0m   \u001b[0;32mdef\u001b[0m \u001b[0m_do_call\u001b[0m\u001b[0;34m(\u001b[0m\u001b[0mself\u001b[0m\u001b[0;34m,\u001b[0m \u001b[0mfn\u001b[0m\u001b[0;34m,\u001b[0m \u001b[0;34m*\u001b[0m\u001b[0margs\u001b[0m\u001b[0;34m)\u001b[0m\u001b[0;34m:\u001b[0m\u001b[0;34m\u001b[0m\u001b[0;34m\u001b[0m\u001b[0m\n\u001b[1;32m   1333\u001b[0m     \u001b[0;32mtry\u001b[0m\u001b[0;34m:\u001b[0m\u001b[0;34m\u001b[0m\u001b[0;34m\u001b[0m\u001b[0m\n\u001b[0;32m-> 1334\u001b[0;31m       \u001b[0;32mreturn\u001b[0m \u001b[0mfn\u001b[0m\u001b[0;34m(\u001b[0m\u001b[0;34m*\u001b[0m\u001b[0margs\u001b[0m\u001b[0;34m)\u001b[0m\u001b[0;34m\u001b[0m\u001b[0;34m\u001b[0m\u001b[0m\n\u001b[0m\u001b[1;32m   1335\u001b[0m     \u001b[0;32mexcept\u001b[0m \u001b[0merrors\u001b[0m\u001b[0;34m.\u001b[0m\u001b[0mOpError\u001b[0m \u001b[0;32mas\u001b[0m \u001b[0me\u001b[0m\u001b[0;34m:\u001b[0m\u001b[0;34m\u001b[0m\u001b[0;34m\u001b[0m\u001b[0m\n\u001b[1;32m   1336\u001b[0m       \u001b[0mmessage\u001b[0m \u001b[0;34m=\u001b[0m \u001b[0mcompat\u001b[0m\u001b[0;34m.\u001b[0m\u001b[0mas_text\u001b[0m\u001b[0;34m(\u001b[0m\u001b[0me\u001b[0m\u001b[0;34m.\u001b[0m\u001b[0mmessage\u001b[0m\u001b[0;34m)\u001b[0m\u001b[0;34m\u001b[0m\u001b[0;34m\u001b[0m\u001b[0m\n",
            "\u001b[0;32m/usr/local/lib/python3.6/dist-packages/tensorflow/python/client/session.py\u001b[0m in \u001b[0;36m_run_fn\u001b[0;34m(feed_dict, fetch_list, target_list, options, run_metadata)\u001b[0m\n\u001b[1;32m   1317\u001b[0m       \u001b[0mself\u001b[0m\u001b[0;34m.\u001b[0m\u001b[0m_extend_graph\u001b[0m\u001b[0;34m(\u001b[0m\u001b[0;34m)\u001b[0m\u001b[0;34m\u001b[0m\u001b[0;34m\u001b[0m\u001b[0m\n\u001b[1;32m   1318\u001b[0m       return self._call_tf_sessionrun(\n\u001b[0;32m-> 1319\u001b[0;31m           options, feed_dict, fetch_list, target_list, run_metadata)\n\u001b[0m\u001b[1;32m   1320\u001b[0m \u001b[0;34m\u001b[0m\u001b[0m\n\u001b[1;32m   1321\u001b[0m     \u001b[0;32mdef\u001b[0m \u001b[0m_prun_fn\u001b[0m\u001b[0;34m(\u001b[0m\u001b[0mhandle\u001b[0m\u001b[0;34m,\u001b[0m \u001b[0mfeed_dict\u001b[0m\u001b[0;34m,\u001b[0m \u001b[0mfetch_list\u001b[0m\u001b[0;34m)\u001b[0m\u001b[0;34m:\u001b[0m\u001b[0;34m\u001b[0m\u001b[0;34m\u001b[0m\u001b[0m\n",
            "\u001b[0;32m/usr/local/lib/python3.6/dist-packages/tensorflow/python/client/session.py\u001b[0m in \u001b[0;36m_call_tf_sessionrun\u001b[0;34m(self, options, feed_dict, fetch_list, target_list, run_metadata)\u001b[0m\n\u001b[1;32m   1405\u001b[0m     return tf_session.TF_SessionRun_wrapper(\n\u001b[1;32m   1406\u001b[0m         \u001b[0mself\u001b[0m\u001b[0;34m.\u001b[0m\u001b[0m_session\u001b[0m\u001b[0;34m,\u001b[0m \u001b[0moptions\u001b[0m\u001b[0;34m,\u001b[0m \u001b[0mfeed_dict\u001b[0m\u001b[0;34m,\u001b[0m \u001b[0mfetch_list\u001b[0m\u001b[0;34m,\u001b[0m \u001b[0mtarget_list\u001b[0m\u001b[0;34m,\u001b[0m\u001b[0;34m\u001b[0m\u001b[0;34m\u001b[0m\u001b[0m\n\u001b[0;32m-> 1407\u001b[0;31m         run_metadata)\n\u001b[0m\u001b[1;32m   1408\u001b[0m \u001b[0;34m\u001b[0m\u001b[0m\n\u001b[1;32m   1409\u001b[0m   \u001b[0;32mdef\u001b[0m \u001b[0m_call_tf_sessionprun\u001b[0m\u001b[0;34m(\u001b[0m\u001b[0mself\u001b[0m\u001b[0;34m,\u001b[0m \u001b[0mhandle\u001b[0m\u001b[0;34m,\u001b[0m \u001b[0mfeed_dict\u001b[0m\u001b[0;34m,\u001b[0m \u001b[0mfetch_list\u001b[0m\u001b[0;34m)\u001b[0m\u001b[0;34m:\u001b[0m\u001b[0;34m\u001b[0m\u001b[0;34m\u001b[0m\u001b[0m\n",
            "\u001b[0;31mKeyboardInterrupt\u001b[0m: "
          ]
        }
      ]
    },
    {
      "metadata": {
        "id": "b-shHeUTWEYY",
        "colab_type": "code",
        "outputId": "b1797d3c-e97a-4ab3-9013-4297228e51b9",
        "colab": {
          "base_uri": "https://localhost:8080/",
          "height": 268
        }
      },
      "cell_type": "code",
      "source": [
        "plot(posterior2_loss,label='posterior2_loss')\n",
        "legend()\n",
        "yscale('log')"
      ],
      "execution_count": 24,
      "outputs": [
        {
          "output_type": "display_data",
          "data": {
            "image/png": "[encoded data removed]",
            "text/plain": [
              "<Figure size 432x288 with 1 Axes>"
            ]
          },
          "metadata": {
            "tags": []
          }
        }
      ]
    },
    {
      "metadata": {
        "id": "F628SfCWgyZo",
        "colab_type": "code",
        "colab": {}
      },
      "cell_type": "code",
      "source": [
        "res2 = sess.run(z2, feed_dict={x: masked_data[0:batch_size]})\n",
        "res = sess.run(z, feed_dict={x: masked_data[0:batch_size]})"
      ],
      "execution_count": 0,
      "outputs": []
    },
    {
      "metadata": {
        "id": "jndT-04XbWjT",
        "colab_type": "code",
        "outputId": "2aecbe95-fcc1-4105-9521-ec42a99ba089",
        "colab": {
          "base_uri": "https://localhost:8080/",
          "height": 286
        }
      },
      "cell_type": "code",
      "source": [
        "hist(randn(len(res.flatten())),100,range=[-5,5],label='prior');\n",
        "hist(res.flatten(),100,range=[-5,5],alpha=0.6,label='encoded data 1');\n",
        "hist(res2.flatten(),100,range=[-5,5],alpha=0.3,label='encoded data 2');\n",
        "legend()"
      ],
      "execution_count": 26,
      "outputs": [
        {
          "output_type": "execute_result",
          "data": {
            "text/plain": [
              "<matplotlib.legend.Legend at 0x7f4e88eec240>"
            ]
          },
          "metadata": {
            "tags": []
          },
          "execution_count": 26
        },
        {
          "output_type": "display_data",
          "data": {
            "image/png": "[encoded data removed]",
            "text/plain": [
              "<Figure size 432x288 with 1 Axes>"
            ]
          },
          "metadata": {
            "tags": []
          }
        }
      ]
    },
    {
      "metadata": {
        "id": "J9ItLevNeOpJ",
        "colab_type": "code",
        "outputId": "3c8f85da-872a-40d1-d1c1-314924ee1099",
        "colab": {
          "base_uri": "https://localhost:8080/",
          "height": 1372
        }
      },
      "cell_type": "code",
      "source": [
        "inim, xrecons2 = sess.run([x, x2_samples], feed_dict={x: masked_data[0:batch_size], sample_size: 20})\n",
        "xmean, xrecon          = sess.run([data_likelihood.mean(),x_samples], feed_dict={x: masked_data[0:batch_size], sample_size: 20})\n",
        "\n",
        "\n",
        "figure(figsize=(5,5))\n",
        "suptitle('mean data likelihood VAE')\n",
        "for i in range(16):\n",
        "    subplot(4,4,i+1)\n",
        "    imshow((xmean)[i].reshape((28,28)),cmap='gray',vmin=0); #colorbar()\n",
        "    axis('off')\n",
        "\n",
        "\n",
        "# figure(figsize=(5,5))\n",
        "# suptitle('mean data likelihood non amortized VAE')\n",
        "# for i in range(16):\n",
        "#     subplot(4,4,i+1)\n",
        "#     imshow((res2)[i].reshape((28,28)),cmap='gray',vmin=0); #colorbar()\n",
        "#     axis('off')\n",
        "\n",
        "\n",
        "figure(figsize=(5,5))\n",
        "suptitle('input images')\n",
        "for i in range(16):\n",
        "    subplot(4,4,i+1)\n",
        "    imshow(inim[i].reshape((28,28)),cmap='gray',vmin=0); #colorbar()\n",
        "    axis('off')\n",
        "\n",
        "    \n",
        "figure(figsize=(5,5))\n",
        "suptitle('generated data from approx posterior non amort. VAE')\n",
        "for i in range(16):\n",
        "    subplot(4,4,i+1)\n",
        "    imshow(np.mean(xrecons2[:,:,i,:],axis=(0,1)).reshape((28,28)),cmap='gray',vmin=0); #colorbar()\n",
        "    axis('off')\n",
        "    \n",
        "figure(figsize=(5,5))\n",
        "suptitle('generated data from approx posterior VAE')\n",
        "for i in range(16):\n",
        "    subplot(4,4,i+1)\n",
        "    imshow(np.mean(xrecon[:,:,i,:],axis=(0,1)).reshape((28,28)),cmap='gray',vmin=0); #colorbar()\n",
        "    axis('off')"
      ],
      "execution_count": 27,
      "outputs": [
        {
          "output_type": "display_data",
          "data": {
            "image/png": "[encoded data removed]",
            "text/plain": [
              "<Figure size 360x360 with 16 Axes>"
            ]
          },
          "metadata": {
            "tags": []
          }
        },
        {
          "output_type": "display_data",
          "data": {
            "image/png": "[encoded data removed]",
            "text/plain": [
              "<Figure size 360x360 with 16 Axes>"
            ]
          },
          "metadata": {
            "tags": []
          }
        },
        {
          "output_type": "display_data",
          "data": {
            "image/png": "[encoded data removed]",
            "text/plain": [
              "<Figure size 360x360 with 16 Axes>"
            ]
          },
          "metadata": {
            "tags": []
          }
        },
        {
          "output_type": "display_data",
          "data": {
            "image/png": "[encoded data removed]",
            "text/plain": [
              "<Figure size 360x360 with 16 Axes>"
            ]
          },
          "metadata": {
            "tags": []
          }
        }
      ]
    },
    {
      "metadata": {
        "id": "9xxRv_ynooUw",
        "colab_type": "code",
        "colab": {}
      },
      "cell_type": "code",
      "source": [
        "#has already been trained on one specific data set\n",
        "data_from_mean_z = sess.run(likeli_zmean.mean(), feed_dict={x: masked_data[0:batch_size], mymask:mask, sample_size: 20})"
      ],
      "execution_count": 0,
      "outputs": []
    },
    {
      "metadata": {
        "id": "3aeRoi66p2El",
        "colab_type": "code",
        "outputId": "59627ef9-5e46-4167-b958-edebba1e3fdc",
        "colab": {
          "base_uri": "https://localhost:8080/",
          "height": 373
        }
      },
      "cell_type": "code",
      "source": [
        "print(data_from_mean_z.shape)\n",
        "figure(figsize=(5,5))\n",
        "suptitle('input images')\n",
        "for i in range(16):\n",
        "    subplot(4,4,i+1)\n",
        "    imshow(data_from_mean_z[i].reshape((28,28)),cmap='gray',vmin=0); #colorbar()\n",
        "    axis('off')\n"
      ],
      "execution_count": 29,
      "outputs": [
        {
          "output_type": "stream",
          "text": [
            "(256, 784)\n"
          ],
          "name": "stdout"
        },
        {
          "output_type": "display_data",
          "data": {
            "image/png": "[encoded data removed]",
            "text/plain": [
              "<Figure size 360x360 with 16 Axes>"
            ]
          },
          "metadata": {
            "tags": []
          }
        }
      ]
    },
    {
      "metadata": {
        "id": "usI0G6Hyq8aj",
        "colab_type": "code",
        "outputId": "d9e9b217-dca7-4079-b74e-1282a2b8ab22",
        "colab": {
          "base_uri": "https://localhost:8080/",
          "height": 34
        }
      },
      "cell_type": "code",
      "source": [
        "mask = np.ones(IMAGE_SHAPE, dtype=int)\n",
        "mask[6:14,0:28]=0\n",
        "mask = mask.reshape((28*28))\n",
        "\n",
        "mask = np.asarray([mask]*batch_size)\n",
        "print(mask.shape)\n",
        "masked_data = x_valid[0:batch_size]*mask\n",
        "\n",
        "mask = np.ones(IMAGE_SHAPE, dtype=int)\n",
        "mask[6:14,0:28]=0\n",
        "mask = mask.reshape((28*28))"
      ],
      "execution_count": 30,
      "outputs": [
        {
          "output_type": "stream",
          "text": [
            "(256, 784)\n"
          ],
          "name": "stdout"
        }
      ]
    },
    {
      "metadata": {
        "id": "6DJZISnXFaEn",
        "colab_type": "code",
        "colab": {}
      },
      "cell_type": "code",
      "source": [
        ""
      ],
      "execution_count": 0,
      "outputs": []
    },
    {
      "metadata": {
        "id": "NaQkXg1Zhh6s",
        "colab_type": "code",
        "outputId": "9c7992aa-bab5-4f6b-e428-0ecdc0e55954",
        "colab": {
          "base_uri": "https://localhost:8080/",
          "height": 8505
        }
      },
      "cell_type": "code",
      "source": [
        "lrate=1e-4\n",
        "for ii in range(1000):\n",
        "  _, ll = sess.run([opt_op2, elbo2], feed_dict={x: masked_data, lr:lrate, mymask:mask})\n",
        "  posterior2_loss.append(ll)\n",
        "  if ii%100==0:\n",
        "    mus, sigmas = sess.run([mu_t, sigma_t], feed_dict={x: masked_data, mymask:mask})\n",
        "    print(mus[0:10])\n",
        "  print(ll)"
      ],
      "execution_count": 32,
      "outputs": [
        {
          "output_type": "stream",
          "text": [
            "[[-9.68666375e-01  2.50261843e-01 -7.88609982e-02 -9.98772979e-01\n",
            "   5.98259568e-01 -7.16044218e-04  8.18366468e-01 -2.03343558e+00]\n",
            " [ 8.01338017e-01  3.65319550e-01  5.15160859e-01 -1.73454583e+00\n",
            "  -3.71628821e-01  4.92179334e-01 -1.59701139e-01 -1.06116915e+00]\n",
            " [-1.42087098e-02 -6.32915258e-01  3.49428236e-01  2.26409364e+00\n",
            "  -5.14312387e-01  1.15005052e+00 -2.05753136e+00  4.22525615e-01]\n",
            " [-5.14110804e-01  8.58349442e-01  4.13691670e-01 -3.47582459e-01\n",
            "  -2.62952375e+00  6.58221066e-01 -1.51004577e+00  1.08054101e+00]\n",
            " [ 1.10616124e+00 -1.13674831e+00  3.58958602e-01  5.03829658e-01\n",
            "  -1.68765199e+00  1.75384593e+00  3.09807539e-01 -4.21865582e-01]\n",
            " [-1.62253439e-01  5.63766837e-01  1.16964865e+00  1.84630156e-01\n",
            "  -1.35987091e+00  9.51673508e-01 -1.28632951e+00  5.24890304e-01]\n",
            " [ 1.80337596e+00  4.15548056e-01 -7.27400362e-01 -5.35138190e-01\n",
            "   1.49749374e+00 -3.77550304e-01  2.14280677e+00  1.41175985e+00]\n",
            " [-6.66444182e-01 -5.84432185e-01 -8.69231403e-01 -2.97490329e-01\n",
            "  -6.48151100e-01  4.52561289e-01 -4.22569841e-01 -1.68958354e+00]\n",
            " [ 1.98935449e-01  8.96551907e-01  4.07093972e-01 -1.21839118e+00\n",
            "   2.01240942e-01  3.98189932e-01 -5.80690861e-01 -7.31494188e-01]\n",
            " [-6.05408587e-02  7.90309072e-01  8.91573012e-01  3.70560557e-01\n",
            "  -1.08543122e+00  1.09267974e+00 -8.52666438e-01  1.22456685e-01]]\n",
            "66.353516\n",
            "66.355286\n",
            "65.881516\n",
            "66.1295\n",
            "66.312065\n",
            "66.38164\n",
            "66.21548\n",
            "66.547066\n",
            "66.24858\n",
            "66.3462\n",
            "66.5024\n",
            "66.24391\n",
            "66.15999\n",
            "66.672356\n",
            "66.29331\n",
            "66.299545\n",
            "66.24621\n",
            "66.36756\n",
            "66.34375\n",
            "66.34678\n",
            "66.56955\n",
            "66.2462\n",
            "66.36176\n",
            "66.68826\n",
            "66.17091\n",
            "66.19741\n",
            "66.44877\n",
            "66.39232\n",
            "66.22444\n",
            "66.508415\n",
            "66.39522\n",
            "66.32854\n",
            "66.14511\n",
            "66.144714\n",
            "66.1944\n",
            "66.30505\n",
            "66.364845\n",
            "66.16147\n",
            "66.3237\n",
            "66.21088\n",
            "66.06831\n",
            "66.300385\n",
            "66.4794\n",
            "66.3793\n",
            "66.29423\n",
            "66.34138\n",
            "66.31909\n",
            "66.31798\n",
            "66.23303\n",
            "66.151535\n",
            "66.32524\n",
            "66.11199\n",
            "66.3613\n",
            "66.29048\n",
            "66.19149\n",
            "66.30393\n",
            "66.22953\n",
            "66.392975\n",
            "66.262726\n",
            "66.13162\n",
            "66.396255\n",
            "66.335945\n",
            "66.374916\n",
            "66.24077\n",
            "66.19708\n",
            "66.22723\n",
            "66.203445\n",
            "66.39918\n",
            "66.322815\n",
            "66.062935\n",
            "66.21884\n",
            "65.80809\n",
            "66.319855\n",
            "66.3627\n",
            "66.191574\n",
            "66.02469\n",
            "66.27282\n",
            "66.328606\n",
            "66.20475\n",
            "65.93551\n",
            "66.40615\n",
            "66.28059\n",
            "66.335434\n",
            "66.17171\n",
            "66.29962\n",
            "66.43077\n",
            "66.140854\n",
            "66.350395\n",
            "66.356384\n",
            "66.026855\n",
            "66.18442\n",
            "66.34726\n",
            "66.38101\n",
            "66.37689\n",
            "66.189514\n",
            "66.26385\n",
            "66.27171\n",
            "66.25097\n",
            "66.44903\n",
            "66.37307\n",
            "[[-9.70328033e-01  2.49663427e-01 -7.92924985e-02 -9.99500632e-01\n",
            "   5.97562492e-01 -1.07051444e-03  8.19255948e-01 -2.03408217e+00]\n",
            " [ 8.01345706e-01  3.63798797e-01  5.13795316e-01 -1.73481786e+00\n",
            "  -3.72239739e-01  4.91711289e-01 -1.59400731e-01 -1.06086111e+00]\n",
            " [-1.43771358e-02 -6.34825885e-01  3.48554254e-01  2.26382113e+00\n",
            "  -5.16545117e-01  1.14919317e+00 -2.05616546e+00  4.22568232e-01]\n",
            " [-5.13337195e-01  8.58124733e-01  4.13758487e-01 -3.46894145e-01\n",
            "  -2.62929702e+00  6.58010244e-01 -1.50990057e+00  1.08008349e+00]\n",
            " [ 1.10624027e+00 -1.13887823e+00  3.59145880e-01  5.04326463e-01\n",
            "  -1.68692410e+00  1.75401926e+00  3.09677184e-01 -4.20663893e-01]\n",
            " [-1.61333501e-01  5.62599421e-01  1.17075336e+00  1.85191095e-01\n",
            "  -1.36036384e+00  9.52478170e-01 -1.28707910e+00  5.23018777e-01]\n",
            " [ 1.80372357e+00  4.18174595e-01 -7.26412475e-01 -5.36270618e-01\n",
            "   1.49660385e+00 -3.77585351e-01  2.14149117e+00  1.41295481e+00]\n",
            " [-6.67082906e-01 -5.84679008e-01 -8.70144010e-01 -2.96153992e-01\n",
            "  -6.47066057e-01  4.52161252e-01 -4.22321498e-01 -1.68923366e+00]\n",
            " [ 1.98696360e-01  8.98317933e-01  4.06242043e-01 -1.21783996e+00\n",
            "   1.99466512e-01  3.96349937e-01 -5.80613971e-01 -7.30387688e-01]\n",
            " [-6.07412681e-02  7.90544689e-01  8.89281631e-01  3.70517612e-01\n",
            "  -1.08718598e+00  1.09272981e+00 -8.51055562e-01  1.22796685e-01]]\n",
            "66.30765\n",
            "66.294266\n",
            "66.00806\n",
            "66.22403\n",
            "66.41898\n",
            "66.37047\n",
            "66.19469\n",
            "66.33211\n",
            "66.07736\n",
            "66.33055\n",
            "66.22866\n",
            "66.14908\n",
            "66.273254\n",
            "66.3542\n",
            "66.14791\n",
            "66.01725\n",
            "66.19989\n",
            "66.09158\n",
            "66.30495\n",
            "66.24261\n",
            "66.29524\n",
            "66.28314\n",
            "66.18187\n",
            "66.06482\n",
            "66.40523\n",
            "66.17551\n",
            "66.07235\n",
            "66.20005\n",
            "66.24052\n",
            "66.24859\n",
            "66.49887\n",
            "66.189064\n",
            "66.26033\n",
            "66.14693\n",
            "66.32669\n",
            "66.12479\n",
            "66.35124\n",
            "66.3222\n",
            "65.93909\n",
            "66.479034\n",
            "66.371506\n",
            "66.415245\n",
            "66.605354\n",
            "66.4131\n",
            "66.27084\n",
            "66.38283\n",
            "66.39676\n",
            "66.17879\n",
            "66.377625\n",
            "66.28991\n",
            "66.34534\n",
            "66.25891\n",
            "66.20668\n",
            "66.03903\n",
            "66.23593\n",
            "66.34945\n",
            "66.211136\n",
            "66.361435\n",
            "66.358604\n",
            "66.2405\n",
            "66.2729\n",
            "66.4121\n",
            "66.31694\n",
            "65.99298\n",
            "66.03352\n",
            "66.20061\n",
            "65.98958\n",
            "66.05945\n",
            "66.1404\n",
            "66.46811\n",
            "66.41983\n",
            "66.17349\n",
            "66.33329\n",
            "66.35434\n",
            "66.16037\n",
            "66.19444\n",
            "66.27502\n",
            "66.36853\n",
            "66.18826\n",
            "66.264435\n",
            "66.56315\n",
            "66.207504\n",
            "66.305756\n",
            "66.11995\n",
            "66.23374\n",
            "66.57471\n",
            "66.45732\n",
            "66.13379\n",
            "66.36972\n",
            "66.214325\n",
            "66.26414\n",
            "66.2402\n",
            "66.244835\n",
            "66.04856\n",
            "66.434555\n",
            "66.36061\n",
            "66.472046\n",
            "66.37309\n",
            "66.05177\n",
            "66.210556\n",
            "[[-9.72502232e-01  2.48813272e-01 -7.90372714e-02 -9.98872936e-01\n",
            "   5.97588480e-01 -1.57932227e-04  8.20535123e-01 -2.03400707e+00]\n",
            " [ 8.01404893e-01  3.61481100e-01  5.12410164e-01 -1.73498857e+00\n",
            "  -3.71956408e-01  4.91726935e-01 -1.59643203e-01 -1.06173587e+00]\n",
            " [-1.38246361e-02 -6.35570228e-01  3.47971886e-01  2.26337981e+00\n",
            "  -5.18234909e-01  1.14846849e+00 -2.05466437e+00  4.22142476e-01]\n",
            " [-5.13695478e-01  8.57952297e-01  4.14767951e-01 -3.46288532e-01\n",
            "  -2.62838197e+00  6.57830477e-01 -1.51114786e+00  1.08045006e+00]\n",
            " [ 1.10704684e+00 -1.14057374e+00  3.59305739e-01  5.04288912e-01\n",
            "  -1.68699288e+00  1.75373805e+00  3.09259713e-01 -4.20851499e-01]\n",
            " [-1.61086485e-01  5.61008096e-01  1.17126477e+00  1.86854973e-01\n",
            "  -1.36002612e+00  9.52576160e-01 -1.28798950e+00  5.22492468e-01]\n",
            " [ 1.80277574e+00  4.19449389e-01 -7.26637661e-01 -5.37238598e-01\n",
            "   1.49731719e+00 -3.77843469e-01  2.14071965e+00  1.41271961e+00]\n",
            " [-6.68248355e-01 -5.83879769e-01 -8.66966665e-01 -2.94621468e-01\n",
            "  -6.47242069e-01  4.52571362e-01 -4.21658278e-01 -1.68957114e+00]\n",
            " [ 1.97592244e-01  9.00236666e-01  4.05947268e-01 -1.21631956e+00\n",
            "   2.00181976e-01  3.93820018e-01 -5.81498504e-01 -7.29210317e-01]\n",
            " [-6.01053461e-02  7.90184200e-01  8.87262762e-01  3.71028662e-01\n",
            "  -1.08824480e+00  1.09301162e+00 -8.49933922e-01  1.22000836e-01]]\n",
            "66.127014\n",
            "66.38851\n",
            "66.20787\n",
            "66.26083\n",
            "66.14414\n",
            "66.39903\n",
            "66.247955\n",
            "66.19488\n",
            "66.25796\n",
            "66.342545\n",
            "66.455154\n",
            "66.452614\n",
            "66.032845\n",
            "66.424324\n",
            "66.19147\n",
            "66.55616\n",
            "66.33504\n",
            "65.98508\n",
            "66.447464\n",
            "66.131805\n",
            "66.19066\n",
            "66.34335\n",
            "66.08167\n",
            "66.38142\n",
            "66.152466\n",
            "66.249374\n",
            "66.18254\n",
            "66.09772\n",
            "66.53973\n",
            "66.40816\n",
            "65.99331\n",
            "66.43207\n",
            "66.60111\n",
            "66.28417\n",
            "66.13982\n",
            "66.39592\n",
            "66.23693\n",
            "66.0783\n",
            "66.35196\n",
            "66.48288\n",
            "66.21815\n",
            "65.9636\n",
            "66.48672\n",
            "66.26102\n",
            "66.175064\n",
            "65.937775\n",
            "66.36972\n",
            "66.22077\n",
            "66.390945\n",
            "66.01664\n",
            "66.20758\n",
            "66.49679\n",
            "66.51558\n",
            "66.307205\n",
            "66.27683\n",
            "66.067825\n",
            "66.32446\n",
            "66.2323\n",
            "66.637146\n",
            "66.18729\n",
            "66.30217\n",
            "66.41643\n",
            "66.06689\n",
            "66.24144\n",
            "66.286835\n",
            "66.350494\n",
            "66.12958\n",
            "66.08658\n",
            "66.18254\n",
            "66.11764\n",
            "66.2168\n",
            "66.31739\n",
            "66.48766\n",
            "66.306625\n",
            "66.40526\n",
            "66.11969\n",
            "66.12395\n",
            "66.359604\n",
            "65.97496\n",
            "66.390526\n",
            "66.23499\n",
            "66.14307\n",
            "66.334335\n",
            "66.34921\n",
            "66.24242\n",
            "66.48438\n",
            "66.03816\n",
            "66.1265\n",
            "66.44324\n",
            "66.13112\n",
            "65.82088\n",
            "66.464386\n",
            "66.23745\n",
            "66.34862\n",
            "66.39133\n",
            "66.21394\n",
            "66.60761\n",
            "66.05871\n",
            "66.14758\n",
            "66.274414\n",
            "[[-9.7436720e-01  2.4697922e-01 -7.8916200e-02 -9.9873507e-01\n",
            "   5.9790713e-01  5.5095571e-04  8.2226062e-01 -2.0349936e+00]\n",
            " [ 8.0088037e-01  3.5888040e-01  5.1151597e-01 -1.7363181e+00\n",
            "  -3.7196869e-01  4.9169296e-01 -1.6024828e-01 -1.0616679e+00]\n",
            " [-1.3542948e-02 -6.3722938e-01  3.4697834e-01  2.2627687e+00\n",
            "  -5.1991916e-01  1.1480507e+00 -2.0528355e+00  4.2127281e-01]\n",
            " [-5.1363432e-01  8.5706270e-01  4.1443828e-01 -3.4661114e-01\n",
            "  -2.6287417e+00  6.5774173e-01 -1.5123883e+00  1.0798544e+00]\n",
            " [ 1.1067870e+00 -1.1426415e+00  3.5904789e-01  5.0460923e-01\n",
            "  -1.6866615e+00  1.7534325e+00  3.0845103e-01 -4.2034668e-01]\n",
            " [-1.6142987e-01  5.6132448e-01  1.1718034e+00  1.8738249e-01\n",
            "  -1.3598549e+00  9.5190912e-01 -1.2881614e+00  5.2148628e-01]\n",
            " [ 1.8027155e+00  4.2225152e-01 -7.2672975e-01 -5.3834456e-01\n",
            "   1.4978795e+00 -3.7887239e-01  2.1381199e+00  1.4130847e+00]\n",
            " [-6.6868973e-01 -5.8308280e-01 -8.6534798e-01 -2.9384521e-01\n",
            "  -6.4618134e-01  4.5254228e-01 -4.2118546e-01 -1.6895940e+00]\n",
            " [ 1.9692013e-01  9.0192461e-01  4.0647608e-01 -1.2154741e+00\n",
            "   2.0003703e-01  3.9293474e-01 -5.8131009e-01 -7.2868323e-01]\n",
            " [-5.9959076e-02  7.9097050e-01  8.8461423e-01  3.6942101e-01\n",
            "  -1.0881859e+00  1.0919068e+00 -8.4763581e-01  1.2223370e-01]]\n",
            "66.20975\n",
            "66.27113\n",
            "65.965385\n",
            "66.16789\n",
            "66.05149\n",
            "66.223526\n",
            "66.26749\n",
            "65.96457\n",
            "66.30652\n",
            "66.02699\n",
            "66.45251\n",
            "66.45465\n",
            "66.33055\n",
            "66.33255\n",
            "66.19034\n",
            "66.21117\n",
            "66.19476\n",
            "66.33501\n",
            "66.42815\n",
            "66.419235\n",
            "66.40114\n",
            "66.40726\n",
            "66.08953\n",
            "66.37392\n",
            "66.26819\n",
            "66.12499\n",
            "66.57556\n",
            "66.18097\n",
            "66.18678\n",
            "66.17829\n",
            "66.48441\n",
            "66.45138\n",
            "66.09633\n",
            "66.006134\n",
            "66.21412\n",
            "66.21774\n",
            "66.39316\n",
            "66.20601\n",
            "66.451675\n",
            "66.28583\n",
            "66.4624\n",
            "66.054695\n",
            "66.126335\n"
          ],
          "name": "stdout"
        },
        {
          "output_type": "error",
          "ename": "KeyboardInterrupt",
          "evalue": "ignored",
          "traceback": [
            "\u001b[0;31m---------------------------------------------------------------------------\u001b[0m",
            "\u001b[0;31mKeyboardInterrupt\u001b[0m                         Traceback (most recent call last)",
            "\u001b[0;32m<ipython-input-32-ff8f6b9b9b60>\u001b[0m in \u001b[0;36m<module>\u001b[0;34m()\u001b[0m\n\u001b[1;32m      1\u001b[0m \u001b[0mlrate\u001b[0m\u001b[0;34m=\u001b[0m\u001b[0;36m1e-4\u001b[0m\u001b[0;34m\u001b[0m\u001b[0;34m\u001b[0m\u001b[0m\n\u001b[1;32m      2\u001b[0m \u001b[0;32mfor\u001b[0m \u001b[0mii\u001b[0m \u001b[0;32min\u001b[0m \u001b[0mrange\u001b[0m\u001b[0;34m(\u001b[0m\u001b[0;36m1000\u001b[0m\u001b[0;34m)\u001b[0m\u001b[0;34m:\u001b[0m\u001b[0;34m\u001b[0m\u001b[0;34m\u001b[0m\u001b[0m\n\u001b[0;32m----> 3\u001b[0;31m   \u001b[0m_\u001b[0m\u001b[0;34m,\u001b[0m \u001b[0mll\u001b[0m \u001b[0;34m=\u001b[0m \u001b[0msess\u001b[0m\u001b[0;34m.\u001b[0m\u001b[0mrun\u001b[0m\u001b[0;34m(\u001b[0m\u001b[0;34m[\u001b[0m\u001b[0mopt_op2\u001b[0m\u001b[0;34m,\u001b[0m \u001b[0melbo2\u001b[0m\u001b[0;34m]\u001b[0m\u001b[0;34m,\u001b[0m \u001b[0mfeed_dict\u001b[0m\u001b[0;34m=\u001b[0m\u001b[0;34m{\u001b[0m\u001b[0mx\u001b[0m\u001b[0;34m:\u001b[0m \u001b[0mmasked_data\u001b[0m\u001b[0;34m,\u001b[0m \u001b[0mlr\u001b[0m\u001b[0;34m:\u001b[0m\u001b[0mlrate\u001b[0m\u001b[0;34m,\u001b[0m \u001b[0mmymask\u001b[0m\u001b[0;34m:\u001b[0m\u001b[0mmask\u001b[0m\u001b[0;34m}\u001b[0m\u001b[0;34m)\u001b[0m\u001b[0;34m\u001b[0m\u001b[0;34m\u001b[0m\u001b[0m\n\u001b[0m\u001b[1;32m      4\u001b[0m   \u001b[0mposterior2_loss\u001b[0m\u001b[0;34m.\u001b[0m\u001b[0mappend\u001b[0m\u001b[0;34m(\u001b[0m\u001b[0mll\u001b[0m\u001b[0;34m)\u001b[0m\u001b[0;34m\u001b[0m\u001b[0;34m\u001b[0m\u001b[0m\n\u001b[1;32m      5\u001b[0m   \u001b[0;32mif\u001b[0m \u001b[0mii\u001b[0m\u001b[0;34m%\u001b[0m\u001b[0;36m100\u001b[0m\u001b[0;34m==\u001b[0m\u001b[0;36m0\u001b[0m\u001b[0;34m:\u001b[0m\u001b[0;34m\u001b[0m\u001b[0;34m\u001b[0m\u001b[0m\n",
            "\u001b[0;32m/usr/local/lib/python3.6/dist-packages/tensorflow/python/client/session.py\u001b[0m in \u001b[0;36mrun\u001b[0;34m(self, fetches, feed_dict, options, run_metadata)\u001b[0m\n\u001b[1;32m    927\u001b[0m     \u001b[0;32mtry\u001b[0m\u001b[0;34m:\u001b[0m\u001b[0;34m\u001b[0m\u001b[0;34m\u001b[0m\u001b[0m\n\u001b[1;32m    928\u001b[0m       result = self._run(None, fetches, feed_dict, options_ptr,\n\u001b[0;32m--> 929\u001b[0;31m                          run_metadata_ptr)\n\u001b[0m\u001b[1;32m    930\u001b[0m       \u001b[0;32mif\u001b[0m \u001b[0mrun_metadata\u001b[0m\u001b[0;34m:\u001b[0m\u001b[0;34m\u001b[0m\u001b[0;34m\u001b[0m\u001b[0m\n\u001b[1;32m    931\u001b[0m         \u001b[0mproto_data\u001b[0m \u001b[0;34m=\u001b[0m \u001b[0mtf_session\u001b[0m\u001b[0;34m.\u001b[0m\u001b[0mTF_GetBuffer\u001b[0m\u001b[0;34m(\u001b[0m\u001b[0mrun_metadata_ptr\u001b[0m\u001b[0;34m)\u001b[0m\u001b[0;34m\u001b[0m\u001b[0;34m\u001b[0m\u001b[0m\n",
            "\u001b[0;32m/usr/local/lib/python3.6/dist-packages/tensorflow/python/client/session.py\u001b[0m in \u001b[0;36m_run\u001b[0;34m(self, handle, fetches, feed_dict, options, run_metadata)\u001b[0m\n\u001b[1;32m   1150\u001b[0m     \u001b[0;32mif\u001b[0m \u001b[0mfinal_fetches\u001b[0m \u001b[0;32mor\u001b[0m \u001b[0mfinal_targets\u001b[0m \u001b[0;32mor\u001b[0m \u001b[0;34m(\u001b[0m\u001b[0mhandle\u001b[0m \u001b[0;32mand\u001b[0m \u001b[0mfeed_dict_tensor\u001b[0m\u001b[0;34m)\u001b[0m\u001b[0;34m:\u001b[0m\u001b[0;34m\u001b[0m\u001b[0;34m\u001b[0m\u001b[0m\n\u001b[1;32m   1151\u001b[0m       results = self._do_run(handle, final_targets, final_fetches,\n\u001b[0;32m-> 1152\u001b[0;31m                              feed_dict_tensor, options, run_metadata)\n\u001b[0m\u001b[1;32m   1153\u001b[0m     \u001b[0;32melse\u001b[0m\u001b[0;34m:\u001b[0m\u001b[0;34m\u001b[0m\u001b[0;34m\u001b[0m\u001b[0m\n\u001b[1;32m   1154\u001b[0m       \u001b[0mresults\u001b[0m \u001b[0;34m=\u001b[0m \u001b[0;34m[\u001b[0m\u001b[0;34m]\u001b[0m\u001b[0;34m\u001b[0m\u001b[0;34m\u001b[0m\u001b[0m\n",
            "\u001b[0;32m/usr/local/lib/python3.6/dist-packages/tensorflow/python/client/session.py\u001b[0m in \u001b[0;36m_do_run\u001b[0;34m(self, handle, target_list, fetch_list, feed_dict, options, run_metadata)\u001b[0m\n\u001b[1;32m   1326\u001b[0m     \u001b[0;32mif\u001b[0m \u001b[0mhandle\u001b[0m \u001b[0;32mis\u001b[0m \u001b[0;32mNone\u001b[0m\u001b[0;34m:\u001b[0m\u001b[0;34m\u001b[0m\u001b[0;34m\u001b[0m\u001b[0m\n\u001b[1;32m   1327\u001b[0m       return self._do_call(_run_fn, feeds, fetches, targets, options,\n\u001b[0;32m-> 1328\u001b[0;31m                            run_metadata)\n\u001b[0m\u001b[1;32m   1329\u001b[0m     \u001b[0;32melse\u001b[0m\u001b[0;34m:\u001b[0m\u001b[0;34m\u001b[0m\u001b[0;34m\u001b[0m\u001b[0m\n\u001b[1;32m   1330\u001b[0m       \u001b[0;32mreturn\u001b[0m \u001b[0mself\u001b[0m\u001b[0;34m.\u001b[0m\u001b[0m_do_call\u001b[0m\u001b[0;34m(\u001b[0m\u001b[0m_prun_fn\u001b[0m\u001b[0;34m,\u001b[0m \u001b[0mhandle\u001b[0m\u001b[0;34m,\u001b[0m \u001b[0mfeeds\u001b[0m\u001b[0;34m,\u001b[0m \u001b[0mfetches\u001b[0m\u001b[0;34m)\u001b[0m\u001b[0;34m\u001b[0m\u001b[0;34m\u001b[0m\u001b[0m\n",
            "\u001b[0;32m/usr/local/lib/python3.6/dist-packages/tensorflow/python/client/session.py\u001b[0m in \u001b[0;36m_do_call\u001b[0;34m(self, fn, *args)\u001b[0m\n\u001b[1;32m   1332\u001b[0m   \u001b[0;32mdef\u001b[0m \u001b[0m_do_call\u001b[0m\u001b[0;34m(\u001b[0m\u001b[0mself\u001b[0m\u001b[0;34m,\u001b[0m \u001b[0mfn\u001b[0m\u001b[0;34m,\u001b[0m \u001b[0;34m*\u001b[0m\u001b[0margs\u001b[0m\u001b[0;34m)\u001b[0m\u001b[0;34m:\u001b[0m\u001b[0;34m\u001b[0m\u001b[0;34m\u001b[0m\u001b[0m\n\u001b[1;32m   1333\u001b[0m     \u001b[0;32mtry\u001b[0m\u001b[0;34m:\u001b[0m\u001b[0;34m\u001b[0m\u001b[0;34m\u001b[0m\u001b[0m\n\u001b[0;32m-> 1334\u001b[0;31m       \u001b[0;32mreturn\u001b[0m \u001b[0mfn\u001b[0m\u001b[0;34m(\u001b[0m\u001b[0;34m*\u001b[0m\u001b[0margs\u001b[0m\u001b[0;34m)\u001b[0m\u001b[0;34m\u001b[0m\u001b[0;34m\u001b[0m\u001b[0m\n\u001b[0m\u001b[1;32m   1335\u001b[0m     \u001b[0;32mexcept\u001b[0m \u001b[0merrors\u001b[0m\u001b[0;34m.\u001b[0m\u001b[0mOpError\u001b[0m \u001b[0;32mas\u001b[0m \u001b[0me\u001b[0m\u001b[0;34m:\u001b[0m\u001b[0;34m\u001b[0m\u001b[0;34m\u001b[0m\u001b[0m\n\u001b[1;32m   1336\u001b[0m       \u001b[0mmessage\u001b[0m \u001b[0;34m=\u001b[0m \u001b[0mcompat\u001b[0m\u001b[0;34m.\u001b[0m\u001b[0mas_text\u001b[0m\u001b[0;34m(\u001b[0m\u001b[0me\u001b[0m\u001b[0;34m.\u001b[0m\u001b[0mmessage\u001b[0m\u001b[0;34m)\u001b[0m\u001b[0;34m\u001b[0m\u001b[0;34m\u001b[0m\u001b[0m\n",
            "\u001b[0;32m/usr/local/lib/python3.6/dist-packages/tensorflow/python/client/session.py\u001b[0m in \u001b[0;36m_run_fn\u001b[0;34m(feed_dict, fetch_list, target_list, options, run_metadata)\u001b[0m\n\u001b[1;32m   1317\u001b[0m       \u001b[0mself\u001b[0m\u001b[0;34m.\u001b[0m\u001b[0m_extend_graph\u001b[0m\u001b[0;34m(\u001b[0m\u001b[0;34m)\u001b[0m\u001b[0;34m\u001b[0m\u001b[0;34m\u001b[0m\u001b[0m\n\u001b[1;32m   1318\u001b[0m       return self._call_tf_sessionrun(\n\u001b[0;32m-> 1319\u001b[0;31m           options, feed_dict, fetch_list, target_list, run_metadata)\n\u001b[0m\u001b[1;32m   1320\u001b[0m \u001b[0;34m\u001b[0m\u001b[0m\n\u001b[1;32m   1321\u001b[0m     \u001b[0;32mdef\u001b[0m \u001b[0m_prun_fn\u001b[0m\u001b[0;34m(\u001b[0m\u001b[0mhandle\u001b[0m\u001b[0;34m,\u001b[0m \u001b[0mfeed_dict\u001b[0m\u001b[0;34m,\u001b[0m \u001b[0mfetch_list\u001b[0m\u001b[0;34m)\u001b[0m\u001b[0;34m:\u001b[0m\u001b[0;34m\u001b[0m\u001b[0;34m\u001b[0m\u001b[0m\n",
            "\u001b[0;32m/usr/local/lib/python3.6/dist-packages/tensorflow/python/client/session.py\u001b[0m in \u001b[0;36m_call_tf_sessionrun\u001b[0;34m(self, options, feed_dict, fetch_list, target_list, run_metadata)\u001b[0m\n\u001b[1;32m   1405\u001b[0m     return tf_session.TF_SessionRun_wrapper(\n\u001b[1;32m   1406\u001b[0m         \u001b[0mself\u001b[0m\u001b[0;34m.\u001b[0m\u001b[0m_session\u001b[0m\u001b[0;34m,\u001b[0m \u001b[0moptions\u001b[0m\u001b[0;34m,\u001b[0m \u001b[0mfeed_dict\u001b[0m\u001b[0;34m,\u001b[0m \u001b[0mfetch_list\u001b[0m\u001b[0;34m,\u001b[0m \u001b[0mtarget_list\u001b[0m\u001b[0;34m,\u001b[0m\u001b[0;34m\u001b[0m\u001b[0;34m\u001b[0m\u001b[0m\n\u001b[0;32m-> 1407\u001b[0;31m         run_metadata)\n\u001b[0m\u001b[1;32m   1408\u001b[0m \u001b[0;34m\u001b[0m\u001b[0m\n\u001b[1;32m   1409\u001b[0m   \u001b[0;32mdef\u001b[0m \u001b[0m_call_tf_sessionprun\u001b[0m\u001b[0;34m(\u001b[0m\u001b[0mself\u001b[0m\u001b[0;34m,\u001b[0m \u001b[0mhandle\u001b[0m\u001b[0;34m,\u001b[0m \u001b[0mfeed_dict\u001b[0m\u001b[0;34m,\u001b[0m \u001b[0mfetch_list\u001b[0m\u001b[0;34m)\u001b[0m\u001b[0;34m:\u001b[0m\u001b[0;34m\u001b[0m\u001b[0;34m\u001b[0m\u001b[0m\n",
            "\u001b[0;31mKeyboardInterrupt\u001b[0m: "
          ]
        }
      ]
    },
    {
      "metadata": {
        "id": "IoUK6s7DfW_e",
        "colab_type": "code",
        "outputId": "2d5e4202-02dd-4916-e449-21e32a2dd52c",
        "colab": {
          "base_uri": "https://localhost:8080/",
          "height": 268
        }
      },
      "cell_type": "code",
      "source": [
        "plot(posterior2_loss,label='posterior2_loss')\n",
        "legend()\n",
        "yscale('log')"
      ],
      "execution_count": 33,
      "outputs": [
        {
          "output_type": "display_data",
          "data": {
            "image/png": "[encoded data removed]",
            "text/plain": [
              "<Figure size 432x288 with 1 Axes>"
            ]
          },
          "metadata": {
            "tags": []
          }
        }
      ]
    },
    {
      "metadata": {
        "id": "hgiFuFJigOxy",
        "colab_type": "code",
        "colab": {}
      },
      "cell_type": "code",
      "source": [
        "res3 = sess.run(z2, feed_dict={x: masked_data[0:batch_size]})\n",
        "#res = sess.run(z, feed_dict={x: masked_data[0:batch_size]})"
      ],
      "execution_count": 0,
      "outputs": []
    },
    {
      "metadata": {
        "id": "kxz3wSn9oogK",
        "colab_type": "code",
        "outputId": "664ba4a1-6fc5-4a15-95ba-0b8cb8ca3aff",
        "colab": {
          "base_uri": "https://localhost:8080/",
          "height": 286
        }
      },
      "cell_type": "code",
      "source": [
        "hist(randn(len(res3.flatten())),100,range=[-5,5],label='prior');\n",
        "hist(res3.flatten(),100,range=[-5,5],alpha=0.5,label='encoded data 3');\n",
        "legend()"
      ],
      "execution_count": 35,
      "outputs": [
        {
          "output_type": "execute_result",
          "data": {
            "text/plain": [
              "<matplotlib.legend.Legend at 0x7f4e8829fcc0>"
            ]
          },
          "metadata": {
            "tags": []
          },
          "execution_count": 35
        },
        {
          "output_type": "display_data",
          "data": {
            "image/png": "[encoded data removed]",
            "text/plain": [
              "<Figure size 432x288 with 1 Axes>"
            ]
          },
          "metadata": {
            "tags": []
          }
        }
      ]
    },
    {
      "metadata": {
        "id": "S2QyyWOAoxH_",
        "colab_type": "code",
        "outputId": "9edbe383-db27-492d-abe5-784c552e3cf8",
        "colab": {
          "base_uri": "https://localhost:8080/",
          "height": 1372
        }
      },
      "cell_type": "code",
      "source": [
        "inim, xrecons2 = sess.run([x, x2_samples], feed_dict={x: masked_data[0:batch_size], sample_size: 40})\n",
        "xmean, xrecon          = sess.run([data_likelihood.mean(),x_samples], feed_dict={x: masked_data[0:batch_size], sample_size: 40})\n",
        "\n",
        "figure(figsize=(5,5))\n",
        "suptitle('mean data likelihood VAE')\n",
        "for i in range(16):\n",
        "    subplot(4,4,i+1)\n",
        "    imshow((xmean)[i].reshape((28,28)),cmap='gray',vmin=0); #colorbar()\n",
        "    axis('off')\n",
        "\n",
        "\n",
        "# figure(figsize=(5,5))\n",
        "# suptitle('mean data likelihood amortized VAE')\n",
        "# for i in range(16):\n",
        "#     subplot(4,4,i+1)\n",
        "#     imshow((res2)[i].reshape((28,28)),cmap='gray',vmin=0); #colorbar()\n",
        "#     axis('off')\n",
        "\n",
        "\n",
        "figure(figsize=(5,5))\n",
        "suptitle('input images')\n",
        "for i in range(16):\n",
        "    subplot(4,4,i+1)\n",
        "    imshow(inim[i].reshape((28,28)),cmap='gray',vmin=0); #colorbar()\n",
        "    axis('off')\n",
        "\n",
        "    \n",
        "figure(figsize=(5,5))\n",
        "suptitle('averaged generated data from approx posterior amort. VAE')\n",
        "for i in range(16):\n",
        "    subplot(4,4,i+1)\n",
        "    imshow(np.mean(xrecons2[:,:,i,:],axis=(0,1)).reshape((28,28)),cmap='gray',vmin=0); #colorbar()\n",
        "    axis('off')\n",
        "    \n",
        "figure(figsize=(5,5))\n",
        "suptitle('averaged generated data from approx posterior VAE')\n",
        "for i in range(16):\n",
        "    subplot(4,4,i+1)\n",
        "    imshow(np.mean(xrecon[:,:,i,:],axis=(0,1)).reshape((28,28)),cmap='gray',vmin=0); #colorbar()\n",
        "    axis('off')"
      ],
      "execution_count": 36,
      "outputs": [
        {
          "output_type": "display_data",
          "data": {
            "image/png": "[encoded data removed]",
            "text/plain": [
              "<Figure size 360x360 with 16 Axes>"
            ]
          },
          "metadata": {
            "tags": []
          }
        },
        {
          "output_type": "display_data",
          "data": {
            "image/png": "[encoded data removed]",
            "text/plain": [
              "<Figure size 360x360 with 16 Axes>"
            ]
          },
          "metadata": {
            "tags": []
          }
        },
        {
          "output_type": "display_data",
          "data": {
            "image/png": "[encoded data removed]",
            "text/plain": [
              "<Figure size 360x360 with 16 Axes>"
            ]
          },
          "metadata": {
            "tags": []
          }
        },
        {
          "output_type": "display_data",
          "data": {
            "image/png": "[encoded data removed]",
            "text/plain": [
              "<Figure size 360x360 with 16 Axes>"
            ]
          },
          "metadata": {
            "tags": []
          }
        }
      ]
    },
    {
      "metadata": {
        "id": "5mN6eUiSe1b9",
        "colab_type": "code",
        "colab": {}
      },
      "cell_type": "code",
      "source": [
        ""
      ],
      "execution_count": 0,
      "outputs": []
    }
  ]
}