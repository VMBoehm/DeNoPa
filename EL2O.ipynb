{
  "nbformat": 4,
  "nbformat_minor": 0,
  "metadata": {
    "colab": {
      "name": "EL2O.ipynb",
      "version": "0.3.2",
      "provenance": [],
      "collapsed_sections": [],
      "include_colab_link": true
    },
    "kernelspec": {
      "display_name": "Python 3",
      "language": "python",
      "name": "python3"
    }
  },
  "cells": [
    {
      "cell_type": "markdown",
      "metadata": {
        "id": "view-in-github",
        "colab_type": "text"
      },
      "source": [
        "<a href=\"https://colab.research.google.com/github/VMBoehm/DeNoPa/blob/master/EL2O.ipynb\" target=\"_parent\"><img src=\"https://colab.research.google.com/assets/colab-badge.svg\" alt=\"Open In Colab\"/></a>"
      ]
    },
    {
      "metadata": {
        "id": "D-Fe5G8m1FTC",
        "colab_type": "code",
        "outputId": "b9ced403-90b9-476c-90f3-28433102dce8",
        "colab": {
          "base_uri": "https://localhost:8080/",
          "height": 34
        }
      },
      "cell_type": "code",
      "source": [
        "import os\n",
        "%pylab inline"
      ],
      "execution_count": 1,
      "outputs": [
        {
          "output_type": "stream",
          "text": [
            "Populating the interactive namespace from numpy and matplotlib\n"
          ],
          "name": "stdout"
        }
      ]
    },
    {
      "metadata": {
        "id": "-AEYmOsH1FTI",
        "colab_type": "code",
        "colab": {
          "base_uri": "https://localhost:8080/",
          "height": 141
        },
        "outputId": "9d24f18b-a245-42c6-eace-d7f6e14785f3"
      },
      "cell_type": "code",
      "source": [
        "import tensorflow as tf\n",
        "import tensorflow_probability as tfp\n",
        "from tensorflow.python.ops.parallel_for.gradients import jacobian\n",
        "tfd = tfp.distributions\n",
        "tfb = tfp.bijectors\n",
        "# IMAGE_SHAPE = [28, 28, 1]"
      ],
      "execution_count": 2,
      "outputs": [
        {
          "output_type": "stream",
          "text": [
            "\n",
            "WARNING: The TensorFlow contrib module will not be included in TensorFlow 2.0.\n",
            "For more information, please see:\n",
            "  * https://github.com/tensorflow/community/blob/master/rfcs/20180907-contrib-sunset.md\n",
            "  * https://github.com/tensorflow/addons\n",
            "If you depend on functionality not listed there, please file an issue.\n",
            "\n"
          ],
          "name": "stdout"
        }
      ]
    },
    {
      "metadata": {
        "id": "8KfB25JnmYDw",
        "colab_type": "code",
        "colab": {}
      },
      "cell_type": "code",
      "source": [
        ""
      ],
      "execution_count": 0,
      "outputs": []
    },
    {
      "metadata": {
        "id": "pDsbrs3BmYqM",
        "colab_type": "text"
      },
      "cell_type": "markdown",
      "source": [
        "Simple recovery of a multivariate Gaussian by taking gradients at samples; this is **EL2O** 'by hand'"
      ]
    },
    {
      "metadata": {
        "id": "FxZ3yhvU1FTR",
        "colab_type": "code",
        "colab": {}
      },
      "cell_type": "code",
      "source": [
        "tf.reset_default_graph()\n",
        "\n",
        "\n",
        "batch_size  = 2#256\n",
        "hidden_size = 4\n",
        "\n",
        "\n",
        "sample_size = tf.placeholder_with_default(500,shape=[])\n",
        "\n",
        "\n",
        "ini_val = np.ones((batch_size,(hidden_size *(hidden_size +1)) // 2),dtype=np.float32)\n",
        "mu_t    = tf.constant(np.zeros((batch_size,hidden_size), dtype=np.float32))\n",
        "                   \n",
        "sigma_t = tf.constant(ini_val)\n",
        "\n",
        "sigma_t2 = tfd.matrix_diag_transform(tfd.fill_triangular(sigma_t), transform=tf.nn.softplus)\n",
        "\n",
        "\n",
        "approx_posterior2 = tfd.MultivariateNormalTriL(loc=mu_t,scale_tril=sigma_t2, name='posterior2')\n",
        "\n",
        "z2                = approx_posterior2.sample()\n",
        "\n",
        "big_sample        = approx_posterior2.sample(sample_size)\n",
        "\n",
        "xx                = tf.Variable(z2)\n",
        "\n",
        "p_of_z            = -approx_posterior2.log_prob(xx)\n",
        "\n",
        "dpdz              = tf.gradients(p_of_z, xx) \n",
        "\n",
        "dpdz              = tf.gather(dpdz, 0)\n",
        "\n",
        "hess              = tf.hessians(p_of_z,xx)\n",
        "\n",
        "hess              = tf.gather(hess, 0)\n",
        "\n",
        "hess2             = tf.reduce_sum( hess, axis = 2 )\n",
        "\n",
        "eigen             = tf.linalg.eigh(hess2)\n",
        "\n",
        "sigma_new         = tf.linalg.inv(hess2)\n",
        "#sigma_new         = (sigma_new+tf.linalg.transpose(sigma_new))/2.\n",
        "\n",
        "eigen2            = tf.linalg.eigh(sigma_new)\n",
        "\n",
        "mu_new            = -tf.einsum('ijk,ik->ij', sigma_new,dpdz)+xx\n",
        "\n",
        "sigma_ch          = tf.linalg.cholesky(sigma_new)\n",
        "\n",
        "approx_posterior3 = tfd.MultivariateNormalFullCovariance(loc=mu_new, covariance_matrix=sigma_new)\n",
        "\n",
        "\n",
        "z3                = approx_posterior3.sample(sample_size)"
      ],
      "execution_count": 0,
      "outputs": []
    },
    {
      "metadata": {
        "id": "sxr2SDLG-VFy",
        "colab_type": "text"
      },
      "cell_type": "markdown",
      "source": [
        "check if we recover correct mean and covariances:"
      ]
    },
    {
      "metadata": {
        "id": "2RuGuvHKYowk",
        "colab_type": "code",
        "colab": {
          "base_uri": "https://localhost:8080/",
          "height": 372
        },
        "outputId": "549ff96c-57b1-4125-9770-7b6ce2480ca1"
      },
      "cell_type": "code",
      "source": [
        "sess = tf.Session()\n",
        "sess.run(tf.global_variables_initializer())\n",
        "#covariances agree\n",
        "res, res2= sess.run([sigma_t2, sigma_ch])\n",
        "print(res,res2)\n",
        "\n",
        "#means agree\n",
        "mu, mu_n= sess.run([mu_t,mu_new])\n",
        "print(mu,mu_n)"
      ],
      "execution_count": 224,
      "outputs": [
        {
          "output_type": "stream",
          "text": [
            "[[[1.3132616 0.        0.        0.       ]\n",
            "  [1.        1.3132616 0.        0.       ]\n",
            "  [1.        1.        1.3132616 0.       ]\n",
            "  [1.        1.        1.        1.3132616]]\n",
            "\n",
            " [[1.3132616 0.        0.        0.       ]\n",
            "  [1.        1.3132616 0.        0.       ]\n",
            "  [1.        1.        1.3132616 0.       ]\n",
            "  [1.        1.        1.        1.3132616]]] [[[1.3132615  0.         0.         0.        ]\n",
            "  [1.         1.3132614  0.         0.        ]\n",
            "  [0.9999999  0.99999964 1.3132616  0.        ]\n",
            "  [0.9999999  0.99999964 0.9999999  1.3132617 ]]\n",
            "\n",
            " [[1.3132615  0.         0.         0.        ]\n",
            "  [1.         1.3132614  0.         0.        ]\n",
            "  [0.9999999  0.99999964 1.3132616  0.        ]\n",
            "  [0.9999999  0.99999964 0.9999999  1.3132617 ]]]\n",
            "[[0. 0. 0. 0.]\n",
            " [0. 0. 0. 0.]] [[-2.3841858e-07  8.3446503e-07  4.7683716e-07  2.3841858e-07]\n",
            " [ 2.3841858e-07 -1.7881393e-07 -9.5367432e-07 -4.7683716e-07]]\n"
          ],
          "name": "stdout"
        }
      ]
    },
    {
      "metadata": {
        "id": "WsYUd49i-aSe",
        "colab_type": "text"
      },
      "cell_type": "markdown",
      "source": [
        "and plot samples from the distributions"
      ]
    },
    {
      "metadata": {
        "id": "SWApsFOMk_D9",
        "colab_type": "code",
        "colab": {
          "base_uri": "https://localhost:8080/",
          "height": 571
        },
        "outputId": "fa6e0e92-1ee4-48c0-8f24-e19f382d12e9"
      },
      "cell_type": "code",
      "source": [
        "res, res2= sess.run([big_sample,z3])\n",
        "plt.hist(res.flatten(),bins=50)\n",
        "plt.hist(res2.flatten(),alpha=0.5,bins=50)"
      ],
      "execution_count": 225,
      "outputs": [
        {
          "output_type": "execute_result",
          "data": {
            "text/plain": [
              "(array([  2.,   6.,   5.,   4.,   6.,   8.,   7.,  22.,  23.,  27.,  30.,\n",
              "         39.,  58.,  67.,  75., 107., 113., 131., 138., 153., 197., 194.,\n",
              "        208., 210., 249., 227., 206., 205., 180., 171., 152., 160., 101.,\n",
              "        107.,  98.,  46.,  59.,  47.,  36.,  41.,  18.,  12.,  12.,   7.,\n",
              "         13.,  10.,   8.,   2.,   1.,   2.]),\n",
              " array([-5.96197891, -5.7198505 , -5.47772209, -5.23559368, -4.99346527,\n",
              "        -4.75133686, -4.50920845, -4.26708004, -4.02495163, -3.78282322,\n",
              "        -3.54069481, -3.2985664 , -3.05643799, -2.81430958, -2.57218117,\n",
              "        -2.33005276, -2.08792435, -1.84579594, -1.60366753, -1.36153912,\n",
              "        -1.11941071, -0.8772823 , -0.63515388, -0.39302547, -0.15089706,\n",
              "         0.09123135,  0.33335976,  0.57548817,  0.81761658,  1.05974499,\n",
              "         1.3018734 ,  1.54400181,  1.78613022,  2.02825863,  2.27038704,\n",
              "         2.51251545,  2.75464386,  2.99677227,  3.23890068,  3.48102909,\n",
              "         3.7231575 ,  3.96528591,  4.20741432,  4.44954273,  4.69167114,\n",
              "         4.93379955,  5.17592796,  5.41805637,  5.66018478,  5.90231319,\n",
              "         6.1444416 ]),\n",
              " <a list of 50 Patch objects>)"
            ]
          },
          "metadata": {
            "tags": []
          },
          "execution_count": 225
        },
        {
          "output_type": "display_data",
          "data": {
            "image/png": "[encoded data removed]",
            "text/plain": [
              "<Figure size 432x288 with 1 Axes>"
            ]
          },
          "metadata": {
            "tags": []
          }
        }
      ]
    },
    {
      "metadata": {
        "id": "Cgu5CPmLtHXI",
        "colab_type": "text"
      },
      "cell_type": "markdown",
      "source": [
        "now let's see if we can automize this by minimizing the **EL2O**"
      ]
    },
    {
      "metadata": {
        "id": "6Cl2Mv-2tGgB",
        "colab_type": "code",
        "colab": {}
      },
      "cell_type": "code",
      "source": [
        "tf.reset_default_graph()\n",
        "\n",
        "\n",
        "batch_size  = 2\n",
        "hidden_size = 4\n",
        "\n",
        "lr          = tf.placeholder_with_default(0.001,shape=[])\n",
        "sample_size = tf.placeholder_with_default(500,shape=[])\n",
        "\n",
        "\n",
        "# this is the true distribution\n",
        "ini_val = np.ones((batch_size,(hidden_size *(hidden_size +1)) // 2),dtype=np.float32)\n",
        "mu_true    = tf.constant(np.zeros((batch_size,hidden_size), dtype=np.float32))                  \n",
        "sigma_true = tf.constant(ini_val)\n",
        "sigma_t2 = tfd.matrix_diag_transform(tfd.fill_triangular(sigma_true), transform=tf.nn.softplus)\n",
        "\n",
        "true_posterior = tfd.MultivariateNormalTriL(loc=mu_true,scale_tril=sigma_t2, name='trueposterior')\n",
        "\n",
        "\n",
        "# this is going to be our approximation of the posterior\n",
        "ini_val      = 1.2*np.ones((batch_size,(hidden_size *(hidden_size +1)) // 2),dtype=np.float32)\n",
        "mu_approx    = tf.Variable(initial_value=0.5*np.ones((batch_size,hidden_size), dtype=np.float32))                  \n",
        "sigma_approx = tf.Variable(ini_val)\n",
        "sigma_approx2= tfd.matrix_diag_transform(tfd.fill_triangular(sigma_approx), transform=tf.nn.softplus)\n",
        "\n",
        "approx_posterior = tfd.MultivariateNormalTriL(loc=mu_approx,scale_tril=sigma_approx2, name='approxposterior')\n",
        "\n",
        "z                = approx_posterior.sample()\n",
        "\n",
        "xx               = tf.Variable(z)\n",
        "\n",
        "p_of_z           = -approx_posterior.log_prob(xx)\n",
        "pt_of_z          = -true_posterior.log_prob(xx)\n",
        "\n",
        "dpdz              = tf.gradients(p_of_z, xx) \n",
        "\n",
        "dpdz              = tf.gather(dpdz, 0)\n",
        "\n",
        "dptdz             = tf.gradients(pt_of_z, xx) \n",
        "\n",
        "dptdz             = tf.gather(dptdz, 0)\n",
        "\n",
        "hess              = tf.hessians(p_of_z,xx)\n",
        "\n",
        "hess              = tf.gather(hess, 0)\n",
        "\n",
        "hess2             = tf.reduce_sum( hess, axis = 2 )\n",
        "\n",
        "#sets values that are double to zero\n",
        "lowt              = tf.matrix_band_part(hess2, -1, 0)\n",
        "\n",
        "hesst             = tf.hessians(pt_of_z,xx)\n",
        "\n",
        "hesst             = tf.gather(hesst, 0)\n",
        "\n",
        "hesst2            = tf.reduce_sum( hesst, axis = 2 )\n",
        "\n",
        "lowt2             = tf.matrix_band_part(hesst2, -1, 0)\n",
        "\n",
        "EL2O              = tf.reduce_sum(tf.math.square(dpdz-dptdz))+tf.reduce_sum(tf.math.square((lowt-lowt2)))\n",
        "\n"
      ],
      "execution_count": 0,
      "outputs": []
    },
    {
      "metadata": {
        "id": "48Bg6IO_4LbS",
        "colab_type": "code",
        "colab": {}
      },
      "cell_type": "code",
      "source": [
        "optimizer = tf.train.AdamOptimizer(learning_rate=lr)\n",
        "opt_op    = optimizer.minimize(EL2O,var_list=[mu_approx,sigma_approx])"
      ],
      "execution_count": 0,
      "outputs": []
    },
    {
      "metadata": {
        "id": "GQd6zTBey2yn",
        "colab_type": "code",
        "colab": {}
      },
      "cell_type": "code",
      "source": [
        "sess = tf.Session()\n",
        "sess.run(tf.global_variables_initializer())"
      ],
      "execution_count": 0,
      "outputs": []
    },
    {
      "metadata": {
        "id": "nYZzJkPE5YcL",
        "colab_type": "code",
        "colab": {
          "base_uri": "https://localhost:8080/",
          "height": 34
        },
        "outputId": "2f01982a-f084-4fe8-b1e3-29b9482f2976"
      },
      "cell_type": "code",
      "source": [
        "lrate= 0.05\n",
        "for ii in range(2000):\n",
        "  _, loss  = sess.run([opt_op, EL2O], feed_dict={lr:lrate})\n",
        "print(loss)"
      ],
      "execution_count": 329,
      "outputs": [
        {
          "output_type": "stream",
          "text": [
            "6.9867085e-05\n"
          ],
          "name": "stdout"
        }
      ]
    },
    {
      "metadata": {
        "id": "AWRsFRwW-kGh",
        "colab_type": "text"
      },
      "cell_type": "markdown",
      "source": [
        "this seems to work, too, but at some additional cost, could probably optimize the optimization with second derivatives..."
      ]
    },
    {
      "metadata": {
        "id": "OiMEUXAF5afq",
        "colab_type": "code",
        "colab": {
          "base_uri": "https://localhost:8080/",
          "height": 372
        },
        "outputId": "ae8c3c11-465e-4523-d505-129f05bf2e1f"
      },
      "cell_type": "code",
      "source": [
        "### seems to be working too!\n",
        "res, res2, mut, sigmat = sess.run([mu_approx,sigma_approx2,mu_true,sigma_t2])\n",
        "print(res,mut)\n",
        "print(res2,sigmat)"
      ],
      "execution_count": 330,
      "outputs": [
        {
          "output_type": "stream",
          "text": [
            "[[0.00743369 0.01199255 0.01502631 0.01653728]\n",
            " [0.08273391 0.1304898  0.1697108  0.18788718]] [[0. 0. 0. 0.]\n",
            " [0. 0. 0. 0.]]\n",
            "[[[1.3111266  0.         0.         0.        ]\n",
            "  [0.9946116  1.3116595  0.         0.        ]\n",
            "  [0.99309546 0.99669147 1.3126882  0.        ]\n",
            "  [0.992199   0.9959294  0.99890435 1.3131263 ]]\n",
            "\n",
            " [[1.3308675  0.         0.         0.        ]\n",
            "  [1.0444174  1.3248684  0.         0.        ]\n",
            "  [1.0615145  1.029821   1.3208656  0.        ]\n",
            "  [1.070637   1.0374932  1.0152241  1.3151367 ]]] [[[1.3132616 0.        0.        0.       ]\n",
            "  [1.        1.3132616 0.        0.       ]\n",
            "  [1.        1.        1.3132616 0.       ]\n",
            "  [1.        1.        1.        1.3132616]]\n",
            "\n",
            " [[1.3132616 0.        0.        0.       ]\n",
            "  [1.        1.3132616 0.        0.       ]\n",
            "  [1.        1.        1.3132616 0.       ]\n",
            "  [1.        1.        1.        1.3132616]]]\n"
          ],
          "name": "stdout"
        }
      ]
    },
    {
      "metadata": {
        "id": "bNqpfz1GnBTB",
        "colab_type": "text"
      },
      "cell_type": "markdown",
      "source": [
        "start with a Laplace approximation"
      ]
    },
    {
      "metadata": {
        "id": "5mN6eUiSe1b9",
        "colab_type": "code",
        "colab": {}
      },
      "cell_type": "code",
      "source": [
        "tf.reset_default_graph()\n",
        "\n",
        "\n",
        "batch_size  = 2\n",
        "hidden_size = 4\n",
        "\n",
        "lr          = tf.placeholder_with_default(0.001,shape=[])\n",
        "sample_size = tf.placeholder_with_default(500,shape=[])\n",
        "\n",
        "\n",
        "# this is the true distribution\n",
        "ini_val = np.ones((batch_size,(hidden_size *(hidden_size +1)) // 2),dtype=np.float32)\n",
        "mu_true    = tf.constant(np.zeros((batch_size,hidden_size), dtype=np.float32))                  \n",
        "sigma_true = tf.constant(ini_val)\n",
        "sigma_t2 = tfd.matrix_diag_transform(tfd.fill_triangular(sigma_true), transform=tf.nn.softplus)\n",
        "\n",
        "true_posterior = tfd.MultivariateNormalTriL(loc=mu_true,scale_tril=sigma_t2, name='trueposterior')\n",
        "\n",
        "\n",
        "# this is going to be our approximation of the posterior\n",
        "\n",
        "mu_approx    = tf.Variable(initial_value=0.5*np.ones((batch_size,hidden_size), dtype=np.float32))       \n",
        "\n",
        "# get hessian at mean of approximate posterior\n",
        "x_           = tf.Variable(mu_approx)\n",
        "p_mu         = -true_posterior.log_prob(x_)\n",
        "\n",
        "hessl        = tf.hessians(p_mu,x_)\n",
        "\n",
        "hessl        = tf.gather(hessl, 0)\n",
        "\n",
        "hessl        = tf.reduce_sum(hessl, axis = 2 )\n",
        "\n",
        "sigmal       = tf.linalg.inv(hessl)\n",
        "\n",
        "chol         = tf.linalg.cholesky(sigmal)\n",
        "\n",
        "\n",
        "tf.stop_gradient(sigma_approx)\n",
        "# and use the derived sigma as initial sigma -> Laplace approximation\n",
        "sigma_approx = tf.Variable(chol)\n",
        "\n",
        "approx_posterior = tfd.MultivariateNormalTriL(loc=mu_approx,scale_tril=sigma_approx, name='approxposterior')\n",
        "\n",
        "z                = approx_posterior.sample()\n",
        "\n",
        "xx               = tf.Variable(z)\n",
        "\n",
        "p_of_z           = -approx_posterior.log_prob(xx)\n",
        "pt_of_z          = -true_posterior.log_prob(xx)\n",
        "\n",
        "dpdz              = tf.gradients(p_of_z, xx) \n",
        "\n",
        "dpdz              = tf.gather(dpdz, 0)\n",
        "\n",
        "dptdz             = tf.gradients(pt_of_z, xx) \n",
        "\n",
        "dptdz             = tf.gather(dptdz, 0)\n",
        "\n",
        "hess              = tf.hessians(p_of_z,xx)\n",
        "\n",
        "hess              = tf.gather(hess, 0)\n",
        "\n",
        "hess2             = tf.reduce_sum( hess, axis = 2 )\n",
        "\n",
        "#sets values that are double to zero\n",
        "lowt              = tf.matrix_band_part(hess2, -1, 0)\n",
        "\n",
        "hesst             = tf.hessians(pt_of_z,xx)\n",
        "\n",
        "hesst             = tf.gather(hesst, 0)\n",
        "\n",
        "hesst2            = tf.reduce_sum( hesst, axis = 2 )\n",
        "\n",
        "lowt2             = tf.matrix_band_part(hesst2, -1, 0)\n",
        "\n",
        "EL2O              = tf.reduce_sum(tf.math.square(dpdz-dptdz))+tf.reduce_sum(tf.math.square((lowt-lowt2)))\n",
        "\n"
      ],
      "execution_count": 0,
      "outputs": []
    },
    {
      "metadata": {
        "id": "TXrRA2IzBRL9",
        "colab_type": "code",
        "colab": {}
      },
      "cell_type": "code",
      "source": [
        "optimizer = tf.train.AdamOptimizer(learning_rate=lr)\n",
        "opt_op    = optimizer.minimize(EL2O,var_list=[mu_approx,sigma_approx])"
      ],
      "execution_count": 0,
      "outputs": []
    },
    {
      "metadata": {
        "id": "c31EZuXgBpnV",
        "colab_type": "code",
        "colab": {}
      },
      "cell_type": "code",
      "source": [
        "sess = tf.Session()\n",
        "sess.run(tf.global_variables_initializer())"
      ],
      "execution_count": 0,
      "outputs": []
    },
    {
      "metadata": {
        "id": "1_suraE2DlOt",
        "colab_type": "code",
        "colab": {
          "base_uri": "https://localhost:8080/",
          "height": 34
        },
        "outputId": "d87db413-0232-4249-8b29-e9ef82a5d9ac"
      },
      "cell_type": "code",
      "source": [
        "#starting at laplace in this case, gives lower EL2O\n",
        "lrate= 0.05\n",
        "for ii in range(2000):\n",
        "  _, loss  = sess.run([opt_op, EL2O], feed_dict={lr:lrate})\n",
        "print(loss)"
      ],
      "execution_count": 343,
      "outputs": [
        {
          "output_type": "stream",
          "text": [
            "8.412061e-06\n"
          ],
          "name": "stdout"
        }
      ]
    },
    {
      "metadata": {
        "id": "BVM0cf6WDn2E",
        "colab_type": "code",
        "colab": {
          "base_uri": "https://localhost:8080/",
          "height": 372
        },
        "outputId": "2761ad55-0810-4d8c-fcba-cb002ef10fb5"
      },
      "cell_type": "code",
      "source": [
        "### seems to be working too!\n",
        "res, res2, mut, sigmat = sess.run([mu_approx,sigma_approx,mu_true,sigma_t2])\n",
        "print(res,mut)\n",
        "print(res2,sigmat)"
      ],
      "execution_count": 344,
      "outputs": [
        {
          "output_type": "stream",
          "text": [
            "[[0.00913437 0.01422298 0.01857121 0.02040558]\n",
            " [0.00597881 0.009539   0.01204131 0.01334246]] [[0. 0. 0. 0.]\n",
            " [0. 0. 0. 0.]]\n",
            "[[[1.3110282  0.         0.         0.        ]\n",
            "  [0.99377674 1.3112942  0.         0.        ]\n",
            "  [0.9918645  0.99556506 1.3124146  0.        ]\n",
            "  [0.99038756 0.99523526 0.99783605 1.3132738 ]]\n",
            "\n",
            " [[1.3117437  0.         0.         0.        ]\n",
            "  [0.9963134  1.3122506  0.         0.        ]\n",
            "  [0.9949883  0.9976562  1.3127372  0.        ]\n",
            "  [0.9943018  0.99709946 0.9989153  1.3131356 ]]] [[[1.3132616 0.        0.        0.       ]\n",
            "  [1.        1.3132616 0.        0.       ]\n",
            "  [1.        1.        1.3132616 0.       ]\n",
            "  [1.        1.        1.        1.3132616]]\n",
            "\n",
            " [[1.3132616 0.        0.        0.       ]\n",
            "  [1.        1.3132616 0.        0.       ]\n",
            "  [1.        1.        1.3132616 0.       ]\n",
            "  [1.        1.        1.        1.3132616]]]\n"
          ],
          "name": "stdout"
        }
      ]
    },
    {
      "metadata": {
        "id": "yqr2zZeGDs6D",
        "colab_type": "code",
        "colab": {}
      },
      "cell_type": "code",
      "source": [
        ""
      ],
      "execution_count": 0,
      "outputs": []
    },
    {
      "metadata": {
        "id": "r6rGR8CvD3iZ",
        "colab_type": "code",
        "colab": {}
      },
      "cell_type": "code",
      "source": [
        ""
      ],
      "execution_count": 0,
      "outputs": []
    }
  ]
}