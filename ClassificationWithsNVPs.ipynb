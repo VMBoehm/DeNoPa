{
  "nbformat": 4,
  "nbformat_minor": 0,
  "metadata": {
    "colab": {
      "name": "ClassificationWithsNVPs.ipynb",
      "version": "0.3.2",
      "provenance": [],
      "collapsed_sections": [],
      "include_colab_link": true
    },
    "kernelspec": {
      "name": "python3",
      "display_name": "Python 3"
    },
    "accelerator": "GPU"
  },
  "cells": [
    {
      "cell_type": "markdown",
      "metadata": {
        "id": "view-in-github",
        "colab_type": "text"
      },
      "source": [
        "<a href=\"https://colab.research.google.com/github/VMBoehm/DeNoPa/blob/master/ClassificationWithsNVPs.ipynb\" target=\"_parent\"><img src=\"https://colab.research.google.com/assets/colab-badge.svg\" alt=\"Open In Colab\"/></a>"
      ]
    },
    {
      "cell_type": "code",
      "metadata": {
        "id": "ApinSp7LinS1",
        "colab_type": "code",
        "outputId": "9aba2ed6-05f0-4959-adb0-d346d1ccee55",
        "colab": {
          "base_uri": "https://localhost:8080/",
          "height": 121
        }
      },
      "source": [
        "from google.colab import drive\n",
        "\n",
        "ROOT = \"/content/gdrive\"\n",
        "drive.mount(ROOT, force_remount=True)"
      ],
      "execution_count": 2,
      "outputs": [
        {
          "output_type": "stream",
          "text": [
            "Go to this URL in a browser: https://accounts.google.com/o/oauth2/auth?client_id=947318989803-6bn6qk8qdgf4n4g3pfee6491hc0brc4i.apps.googleusercontent.com&redirect_uri=urn%3Aietf%3Awg%3Aoauth%3A2.0%3Aoob&scope=email%20https%3A%2F%2Fwww.googleapis.com%2Fauth%2Fdocs.test%20https%3A%2F%2Fwww.googleapis.com%2Fauth%2Fdrive%20https%3A%2F%2Fwww.googleapis.com%2Fauth%2Fdrive.photos.readonly%20https%3A%2F%2Fwww.googleapis.com%2Fauth%2Fpeopleapi.readonly&response_type=code\n",
            "\n",
            "Enter your authorization code:\n",
            "··········\n",
            "Mounted at /content/gdrive\n"
          ],
          "name": "stdout"
        }
      ]
    },
    {
      "cell_type": "code",
      "metadata": {
        "id": "D-Fe5G8m1FTC",
        "colab_type": "code",
        "outputId": "5b54fd33-cebf-4d2d-a966-30497c238922",
        "colab": {
          "base_uri": "https://localhost:8080/",
          "height": 34
        }
      },
      "source": [
        "%pylab inline\n",
        "import pickle"
      ],
      "execution_count": 3,
      "outputs": [
        {
          "output_type": "stream",
          "text": [
            "Populating the interactive namespace from numpy and matplotlib\n"
          ],
          "name": "stdout"
        }
      ]
    },
    {
      "cell_type": "code",
      "metadata": {
        "id": "cvKJzuU8CIeN",
        "colab_type": "code",
        "outputId": "ba767dac-0b37-4f2a-de33-3c6e51f0bf96",
        "colab": {
          "base_uri": "https://localhost:8080/",
          "height": 50
        }
      },
      "source": [
        "! pip install -q https://github.com/dfm/corner.py/archive/master.zip\n",
        "import corner"
      ],
      "execution_count": 4,
      "outputs": [
        {
          "output_type": "stream",
          "text": [
            "\u001b[K     - 10.7MB 1.4MB/s\n",
            "\u001b[?25h  Building wheel for corner (setup.py) ... \u001b[?25l\u001b[?25hdone\n"
          ],
          "name": "stdout"
        }
      ]
    },
    {
      "cell_type": "code",
      "metadata": {
        "id": "-AEYmOsH1FTI",
        "colab_type": "code",
        "colab": {
          "base_uri": "https://localhost:8080/",
          "height": 168
        },
        "outputId": "af90da24-b6a1-4730-da8c-98398d1ffd4e"
      },
      "source": [
        "import tensorflow as tf\n",
        "import tensorflow_probability as tfp\n",
        "import tensorflow_hub as hub\n",
        "tfd = tfp.distributions\n",
        "tfb = tfp.bijectors\n",
        "from tensorflow.contrib.distributions import softplus_inverse"
      ],
      "execution_count": 5,
      "outputs": [
        {
          "output_type": "stream",
          "text": [
            "WARNING: Logging before flag parsing goes to stderr.\n",
            "W0602 16:03:13.007596 140471502022528 __init__.py:56] Some hub symbols are not available because TensorFlow version is less than 1.14\n"
          ],
          "name": "stderr"
        },
        {
          "output_type": "stream",
          "text": [
            "\n",
            "WARNING: The TensorFlow contrib module will not be included in TensorFlow 2.0.\n",
            "For more information, please see:\n",
            "  * https://github.com/tensorflow/community/blob/master/rfcs/20180907-contrib-sunset.md\n",
            "  * https://github.com/tensorflow/addons\n",
            "If you depend on functionality not listed there, please file an issue.\n",
            "\n"
          ],
          "name": "stdout"
        }
      ]
    },
    {
      "cell_type": "code",
      "metadata": {
        "id": "8puPFE90P0aD",
        "colab_type": "code",
        "colab": {}
      },
      "source": [
        "generator_path   = './gdrive/My Drive/InjectiveFlow/modules/decoder1/decoder'\n",
        "encoder_path     = './gdrive/My Drive/InjectiveFlow/modules/encoder1/encoder'\n",
        "nvp_func_path    = './gdrive/My Drive/InjectiveFlow/modules/nvp1/'\n",
        "class_nvp_path   = './gdrive/My Drive/InjectiveFlow/modules/nvp_by_class/'\n",
        "plot_path        = './gdrive/My Drive/InjectiveFlow/semi-supervised/plots/'\n",
        "loss_path        = './gdrive/My Drive/InjectiveFlow/semi-supervised/losses/'"
      ],
      "execution_count": 0,
      "outputs": []
    },
    {
      "cell_type": "code",
      "metadata": {
        "id": "nFzYYSxY1FTL",
        "colab_type": "code",
        "colab": {
          "base_uri": "https://localhost:8080/",
          "height": 34
        },
        "outputId": "c9c27ce1-0e24-4211-d737-02328f224b19"
      },
      "source": [
        "import gzip, zipfile, tarfile\n",
        "import os, shutil, re, string, urllib, fnmatch\n",
        "import pickle as pkl\n",
        "\n",
        "def _download_mnist_realval(dataset):\n",
        "    \"\"\"\n",
        "    Download the MNIST dataset if it is not present.\n",
        "    :return: The train, test and validation set.\n",
        "    \"\"\"\n",
        "    origin = (\n",
        "        'http://www.iro.umontreal.ca/~lisa/deep/data/mnist/mnist.pkl.gz'\n",
        "    )\n",
        "    print('Downloading data from %s' % origin)\n",
        "    urllib.request.urlretrieve(origin, dataset)\n",
        "\n",
        "def _get_datafolder_path():\n",
        "    full_path = os.path.abspath('.')\n",
        "    path = full_path +'/data'\n",
        "    return path\n",
        "\n",
        "def load_mnist_realval(\n",
        "        dataset=_get_datafolder_path()+'/mnist_real/mnist.pkl.gz'):\n",
        "    '''\n",
        "    Loads the real valued MNIST dataset\n",
        "    :param dataset: path to dataset file\n",
        "    :return: None\n",
        "    '''\n",
        "    if not os.path.isfile(dataset):\n",
        "        datasetfolder = os.path.dirname(dataset)\n",
        "        if not os.path.exists(datasetfolder):\n",
        "            os.makedirs(datasetfolder)\n",
        "        _download_mnist_realval(dataset)\n",
        "\n",
        "    f = gzip.open(dataset, 'rb')\n",
        "    train_set, valid_set, test_set = pkl.load(f, encoding='latin1')\n",
        "    f.close()\n",
        "    x_train, targets_train = train_set[0], train_set[1]\n",
        "    x_valid, targets_valid = valid_set[0], valid_set[1]\n",
        "    x_test, targets_test = test_set[0], test_set[1]\n",
        "    return x_train, targets_train, x_valid, targets_valid, x_test, targets_test\n",
        "  \n",
        "x_train, targets_train, x_valid, targets_valid, x_test, targets_test = load_mnist_realval()"
      ],
      "execution_count": 7,
      "outputs": [
        {
          "output_type": "stream",
          "text": [
            "Downloading data from http://www.iro.umontreal.ca/~lisa/deep/data/mnist/mnist.pkl.gz\n"
          ],
          "name": "stdout"
        }
      ]
    },
    {
      "cell_type": "code",
      "metadata": {
        "id": "ft_jIh-W1FTN",
        "colab_type": "code",
        "colab": {}
      },
      "source": [
        "data_dim    = 28*28\n",
        "batch_size  = 16\n",
        "hidden_size = 10\n",
        "n_channels  = 1\n",
        "label = 'class_nvp'"
      ],
      "execution_count": 0,
      "outputs": []
    },
    {
      "cell_type": "markdown",
      "metadata": {
        "id": "qkoQn-LTBkVM",
        "colab_type": "text"
      },
      "source": [
        ""
      ]
    },
    {
      "cell_type": "code",
      "metadata": {
        "colab_type": "code",
        "id": "yvTEYw44O_5q",
        "outputId": "03753c8d-3a64-4293-ef7a-07c62ad1ffe3",
        "colab": {
          "base_uri": "https://localhost:8080/",
          "height": 507
        }
      },
      "source": [
        "tf.reset_default_graph()\n",
        "\n",
        "nvps          = [] \n",
        "lr            = tf.placeholder_with_default(0.001,shape=[])\n",
        "\n",
        "encoder       = hub.Module(encoder_path, trainable=False)\n",
        "\n",
        "for ii in range(10):\n",
        "  nvps+=[hub.Module(class_nvp_path+'nvp_%d/'%ii, trainable=False)]\n",
        "\n",
        "x_tr          = tf.placeholder(shape=[batch_size,data_dim,n_channels], dtype=tf.float32)\n",
        "\n",
        "mu            = encoder(tf.reshape(x_tr,[-1,28,28,n_channels]))\n",
        "\n",
        "log_likes = []\n",
        "for nvp in nvps:\n",
        "  log_likes+=[nvp({'z_sample':mu,'sample_size':1,'u_sample':np.zeros((1, hidden_size))},as_dict=True)['log_prob']]\n",
        "\n",
        "\n",
        "\n",
        "\n",
        "# ---------------------------end train nvp ----------------- #\n",
        "\n",
        "#comment train nvp above section above and uncomment this for loading the trained module\n",
        "\n"
      ],
      "execution_count": 9,
      "outputs": [
        {
          "output_type": "stream",
          "text": [
            "WARNING:tensorflow:From /usr/local/lib/python3.6/dist-packages/tensorflow/python/ops/control_flow_ops.py:3632: colocate_with (from tensorflow.python.framework.ops) is deprecated and will be removed in a future version.\n",
            "Instructions for updating:\n",
            "Colocations handled automatically by placer.\n"
          ],
          "name": "stdout"
        },
        {
          "output_type": "stream",
          "text": [
            "W0602 16:03:19.888059 140471502022528 deprecation.py:323] From /usr/local/lib/python3.6/dist-packages/tensorflow/python/ops/control_flow_ops.py:3632: colocate_with (from tensorflow.python.framework.ops) is deprecated and will be removed in a future version.\n",
            "Instructions for updating:\n",
            "Colocations handled automatically by placer.\n"
          ],
          "name": "stderr"
        },
        {
          "output_type": "stream",
          "text": [
            "INFO:tensorflow:Saver not created because there are no variables in the graph to restore\n"
          ],
          "name": "stdout"
        },
        {
          "output_type": "stream",
          "text": [
            "I0602 16:03:41.895846 140471502022528 saver.py:1483] Saver not created because there are no variables in the graph to restore\n"
          ],
          "name": "stderr"
        },
        {
          "output_type": "stream",
          "text": [
            "INFO:tensorflow:Saver not created because there are no variables in the graph to restore\n"
          ],
          "name": "stdout"
        },
        {
          "output_type": "stream",
          "text": [
            "I0602 16:03:42.268178 140471502022528 saver.py:1483] Saver not created because there are no variables in the graph to restore\n"
          ],
          "name": "stderr"
        },
        {
          "output_type": "stream",
          "text": [
            "INFO:tensorflow:Saver not created because there are no variables in the graph to restore\n"
          ],
          "name": "stdout"
        },
        {
          "output_type": "stream",
          "text": [
            "I0602 16:03:43.040260 140471502022528 saver.py:1483] Saver not created because there are no variables in the graph to restore\n"
          ],
          "name": "stderr"
        },
        {
          "output_type": "stream",
          "text": [
            "INFO:tensorflow:Saver not created because there are no variables in the graph to restore\n"
          ],
          "name": "stdout"
        },
        {
          "output_type": "stream",
          "text": [
            "I0602 16:03:43.461637 140471502022528 saver.py:1483] Saver not created because there are no variables in the graph to restore\n"
          ],
          "name": "stderr"
        },
        {
          "output_type": "stream",
          "text": [
            "INFO:tensorflow:Saver not created because there are no variables in the graph to restore\n"
          ],
          "name": "stdout"
        },
        {
          "output_type": "stream",
          "text": [
            "I0602 16:03:43.876801 140471502022528 saver.py:1483] Saver not created because there are no variables in the graph to restore\n"
          ],
          "name": "stderr"
        },
        {
          "output_type": "stream",
          "text": [
            "INFO:tensorflow:Saver not created because there are no variables in the graph to restore\n"
          ],
          "name": "stdout"
        },
        {
          "output_type": "stream",
          "text": [
            "I0602 16:03:44.293855 140471502022528 saver.py:1483] Saver not created because there are no variables in the graph to restore\n"
          ],
          "name": "stderr"
        },
        {
          "output_type": "stream",
          "text": [
            "INFO:tensorflow:Saver not created because there are no variables in the graph to restore\n"
          ],
          "name": "stdout"
        },
        {
          "output_type": "stream",
          "text": [
            "I0602 16:03:44.729554 140471502022528 saver.py:1483] Saver not created because there are no variables in the graph to restore\n"
          ],
          "name": "stderr"
        },
        {
          "output_type": "stream",
          "text": [
            "INFO:tensorflow:Saver not created because there are no variables in the graph to restore\n"
          ],
          "name": "stdout"
        },
        {
          "output_type": "stream",
          "text": [
            "I0602 16:03:45.167434 140471502022528 saver.py:1483] Saver not created because there are no variables in the graph to restore\n"
          ],
          "name": "stderr"
        },
        {
          "output_type": "stream",
          "text": [
            "INFO:tensorflow:Saver not created because there are no variables in the graph to restore\n"
          ],
          "name": "stdout"
        },
        {
          "output_type": "stream",
          "text": [
            "I0602 16:03:46.043784 140471502022528 saver.py:1483] Saver not created because there are no variables in the graph to restore\n"
          ],
          "name": "stderr"
        },
        {
          "output_type": "stream",
          "text": [
            "INFO:tensorflow:Saver not created because there are no variables in the graph to restore\n"
          ],
          "name": "stdout"
        },
        {
          "output_type": "stream",
          "text": [
            "I0602 16:03:46.505229 140471502022528 saver.py:1483] Saver not created because there are no variables in the graph to restore\n"
          ],
          "name": "stderr"
        },
        {
          "output_type": "stream",
          "text": [
            "INFO:tensorflow:Saver not created because there are no variables in the graph to restore\n"
          ],
          "name": "stdout"
        },
        {
          "output_type": "stream",
          "text": [
            "I0602 16:03:46.976268 140471502022528 saver.py:1483] Saver not created because there are no variables in the graph to restore\n"
          ],
          "name": "stderr"
        }
      ]
    },
    {
      "cell_type": "code",
      "metadata": {
        "id": "Soh1tnGH1FTW",
        "colab_type": "code",
        "colab": {}
      },
      "source": [
        "sess = tf.Session()\n",
        "sess.run(tf.global_variables_initializer())"
      ],
      "execution_count": 0,
      "outputs": []
    },
    {
      "cell_type": "markdown",
      "metadata": {
        "id": "U0xZ_4ActOw9",
        "colab_type": "text"
      },
      "source": [
        "**Training of the NVP**"
      ]
    },
    {
      "cell_type": "code",
      "metadata": {
        "id": "ggPmR0fs8qEM",
        "colab_type": "code",
        "colab": {}
      },
      "source": [
        "\n"
      ],
      "execution_count": 0,
      "outputs": []
    },
    {
      "cell_type": "code",
      "metadata": {
        "id": "NZKD8hagmEE6",
        "colab_type": "code",
        "outputId": "30667180-04ee-4437-ba8d-c38dd26ebe2d",
        "colab": {
          "base_uri": "https://localhost:8080/",
          "height": 235
        }
      },
      "source": [
        "mean_loss=[]\n",
        "for ii in range(10):\n",
        "  data_class = ii\n",
        "  indices = np.where(targets_test==data_class)\n",
        "  print(len(indices[0]))\n",
        "  nvp_loss = pickle.load(open(loss_path+'class%d.pkl'%data_class,'rb'))\n",
        "  mean_loss+=[np.mean(nvp_loss[::-len(indices[0])])]\n",
        "print(mean_loss)\n",
        "mean_loss=np.expand_dims(np.asarray(mean_loss),0)\n",
        "norm=np.sum(mean_loss)\n",
        "print(mean_loss/norm)\n",
        "\n"
      ],
      "execution_count": 59,
      "outputs": [
        {
          "output_type": "stream",
          "text": [
            "980\n",
            "1135\n",
            "1032\n",
            "1010\n",
            "982\n",
            "892\n",
            "958\n",
            "1028\n",
            "974\n",
            "1009\n",
            "[14.263117, 8.576102, 16.051311, 15.003335, 15.635943, 14.977023, 13.633031, 12.757795, 14.484809, 12.842262]\n",
            "[[0.10318788 0.06204463 0.11612474 0.10854306 0.11311972 0.1083527\n",
            "  0.09862946 0.09229749 0.10479173 0.09290857]]\n"
          ],
          "name": "stdout"
        }
      ]
    },
    {
      "cell_type": "code",
      "metadata": {
        "id": "ERmZCW6yBqUR",
        "colab_type": "code",
        "outputId": "cb5233a6-b9fa-4d1d-e448-55f84026754f",
        "colab": {
          "base_uri": "https://localhost:8080/",
          "height": 1162
        }
      },
      "source": [
        "data_class = 9\n",
        "indices = np.where(targets_test==data_class)\n",
        "x_test_class = x_test[indices]\n",
        "print(len(x_test_class))\n",
        "probs = sess.run(log_likes, feed_dict={x_tr:np.expand_dims(x_test_class[0:16],-1)})\n",
        "\n",
        "figure(figsize=(5,5))\n",
        "suptitle('test data')\n",
        "for i in range(16):\n",
        "    subplot(4,4,i+1)\n",
        "    imshow(np.reshape(x_test_class[i,:],(28,28)),cmap='gray',vmin=0); #colorbar()\n",
        "    axis('off')\n",
        "plt.savefig(plot_path+'test_data_%d.png'%data_class, bbox_inches='tight')\n",
        "\n",
        "probs=np.asarray(probs)\n",
        "probs[np.where(np.isnan(probs))]=-np.inf \n",
        "probs = probs.T/mean_loss\n",
        "inds =[]\n",
        "for ii in range(16):\n",
        "  minimum = max(probs[ii])\n",
        "  ind = np.where(probs[ii]==minimum)[0]\n",
        "  print(ind)\n",
        "  inds+=[ind]\n",
        "  \n",
        "plt.figure()\n",
        "for ii in range(16):\n",
        "  subplot(4,4,ii+1)\n",
        "  norm = np.sum(np.exp(probs[ii]))\n",
        "  print(norm)\n",
        "  ind=inds[ii]\n",
        "  plt.scatter(np.arange(10),np.exp(probs[ii])/norm, label='relative prob.', color='darkblue')\n",
        "  plt.scatter(data_class,np.exp(probs[ii][data_class])/norm, color='limegreen', label='truth')\n",
        "  plt.scatter(ind,np.exp(probs[ii][ind])/norm, color='crimson',marker='+',label='max prob')\n",
        "plt.legend(loc=(1.02,3.6))\n",
        "plt.savefig(plot_path+'classification_%d_corrected.png'%data_class, bbox_inches='tight')"
      ],
      "execution_count": 73,
      "outputs": [
        {
          "output_type": "stream",
          "text": [
            "1009\n",
            "[9]\n",
            "[9]\n",
            "[9]\n",
            "[9]\n",
            "[9]\n",
            "[9]\n",
            "[9]\n",
            "[9]\n",
            "[9]\n",
            "[9]\n",
            "[9]\n",
            "[5]\n",
            "[9]\n",
            "[9]\n",
            "[9]\n",
            "[9]\n",
            "0.8712911\n",
            "0.7968215\n",
            "1.2595844\n",
            "1.0539976\n",
            "0.5913498\n",
            "1.0161138\n",
            "1.6503304\n",
            "0.8564713\n",
            "1.2746425\n",
            "1.3995863\n",
            "0.92475414\n",
            "0.7752704\n",
            "0.9414828\n",
            "0.25959373\n",
            "0.787123\n",
            "1.4382789\n"
          ],
          "name": "stdout"
        },
        {
          "output_type": "display_data",
          "data": {
            "image/png": "[encoded data removed]",
            "text/plain": [
              "<Figure size 360x360 with 16 Axes>"
            ]
          },
          "metadata": {
            "tags": []
          }
        },
        {
          "output_type": "display_data",
          "data": {
            "image/png": "[encoded data removed]",
            "text/plain": [
              "<Figure size 432x288 with 16 Axes>"
            ]
          },
          "metadata": {
            "tags": []
          }
        }
      ]
    },
    {
      "cell_type": "code",
      "metadata": {
        "id": "bvfbqZJ4RX9x",
        "colab_type": "code",
        "outputId": "88e9e137-26bf-43a8-ad94-6616afa84eae",
        "colab": {
          "base_uri": "https://localhost:8080/",
          "height": 1162
        }
      },
      "source": [
        "data_class = 4\n",
        "indices = np.where(targets_test==data_class)\n",
        "x_test_class = x_test[indices]\n",
        "print(len(x_test_class))\n",
        "probs = sess.run(log_likes, feed_dict={x_tr:np.expand_dims(x_test_class[0:16],-1)})\n",
        "\n",
        "figure(figsize=(5,5))\n",
        "suptitle('test data')\n",
        "for i in range(16):\n",
        "    subplot(4,4,i+1)\n",
        "    imshow(np.reshape(x_test_class[i,:],(28,28)),cmap='gray',vmin=0); #colorbar()\n",
        "    axis('off')\n",
        "plt.savefig(plot_path+'test_data_%d.png'%data_class, bbox_inches='tight')\n",
        "\n",
        "probs=np.asarray(probs)\n",
        "probs[np.where(np.isnan(probs))]=-np.inf \n",
        "probs = probs.T/mean_loss\n",
        "inds =[]\n",
        "for ii in range(16):\n",
        "  minimum = max(probs[ii])\n",
        "  ind = np.where(probs[ii]==minimum)[0]\n",
        "  print(ind)\n",
        "  inds+=[ind]\n",
        "  \n",
        "plt.figure()\n",
        "for ii in range(16):\n",
        "  subplot(4,4,ii+1)\n",
        "  norm = np.sum(np.exp(probs[ii]))\n",
        "  print(norm)\n",
        "  ind=inds[ii]\n",
        "  plt.scatter(np.arange(10),np.exp(probs[ii])/norm, label='relative prob.', color='darkblue')\n",
        "  plt.scatter(data_class,np.exp(probs[ii][data_class])/norm, color='limegreen', label='truth')\n",
        "  plt.scatter(ind,np.exp(probs[ii][ind])/norm, color='crimson',marker='+',label='max prob')\n",
        "plt.legend(loc=(1.02,3.6))\n",
        "plt.savefig(plot_path+'classification_%d_corrected.png'%data_class, bbox_inches='tight')"
      ],
      "execution_count": 78,
      "outputs": [
        {
          "output_type": "stream",
          "text": [
            "982\n",
            "[4]\n",
            "[4]\n",
            "[4]\n",
            "[4]\n",
            "[4]\n",
            "[4]\n",
            "[4]\n",
            "[4]\n",
            "[4]\n",
            "[4]\n",
            "[4]\n",
            "[4]\n",
            "[4]\n",
            "[4]\n",
            "[4]\n",
            "[4]\n",
            "0.5350001\n",
            "0.2741634\n",
            "0.71232486\n",
            "0.76385564\n",
            "0.47438133\n",
            "0.618242\n",
            "0.5420847\n",
            "0.26750112\n",
            "0.48580003\n",
            "0.41261896\n",
            "0.7322891\n",
            "0.37534472\n",
            "0.25394332\n",
            "0.14757343\n",
            "0.35598615\n",
            "0.6228263\n"
          ],
          "name": "stdout"
        },
        {
          "output_type": "display_data",
          "data": {
            "image/png": "[encoded data removed]",
            "text/plain": [
              "<Figure size 360x360 with 16 Axes>"
            ]
          },
          "metadata": {
            "tags": []
          }
        },
        {
          "output_type": "display_data",
          "data": {
            "image/png": "[encoded data removed]",
            "text/plain": [
              "<Figure size 432x288 with 16 Axes>"
            ]
          },
          "metadata": {
            "tags": []
          }
        }
      ]
    },
    {
      "cell_type": "code",
      "metadata": {
        "id": "ifA1759Yho16",
        "colab_type": "code",
        "colab": {
          "base_uri": "https://localhost:8080/",
          "height": 50
        },
        "outputId": "f3dfc398-2265-4259-cd41-6f474910311b"
      },
      "source": [
        "mean_loss"
      ],
      "execution_count": 79,
      "outputs": [
        {
          "output_type": "execute_result",
          "data": {
            "text/plain": [
              "array([[14.263117,  8.576102, 16.051311, 15.003335, 15.635943, 14.977023,\n",
              "        13.633031, 12.757795, 14.484809, 12.842262]], dtype=float32)"
            ]
          },
          "metadata": {
            "tags": []
          },
          "execution_count": 79
        }
      ]
    },
    {
      "cell_type": "code",
      "metadata": {
        "id": "ru8PfybeNyKz",
        "colab_type": "code",
        "colab": {
          "base_uri": "https://localhost:8080/",
          "height": 1162
        },
        "outputId": "6ad8dbbe-f553-4437-c205-0882705e80f8"
      },
      "source": [
        "data_class = 2\n",
        "indices = np.where(targets_test==data_class)\n",
        "x_test_class = x_test[indices]\n",
        "print(len(x_test_class))\n",
        "probs = sess.run(log_likes, feed_dict={x_tr:np.expand_dims(x_test_class[0:16],-1)})\n",
        "\n",
        "figure(figsize=(5,5))\n",
        "suptitle('test data')\n",
        "for i in range(16):\n",
        "    subplot(4,4,i+1)\n",
        "    imshow(np.reshape(x_test_class[i,:],(28,28)),cmap='gray',vmin=0); #colorbar()\n",
        "    axis('off')\n",
        "plt.savefig(plot_path+'test_data_%d.png'%data_class, bbox_inches='tight')\n",
        "\n",
        "probs=np.asarray(probs)\n",
        "probs[np.where(np.isnan(probs))]=-np.inf \n",
        "probs = probs.T/mean_loss\n",
        "inds =[]\n",
        "for ii in range(16):\n",
        "  minimum = max(probs[ii])\n",
        "  ind = np.where(probs[ii]==minimum)[0]\n",
        "  print(ind)\n",
        "  inds+=[ind]\n",
        "  \n",
        "plt.figure()\n",
        "for ii in range(16):\n",
        "  subplot(4,4,ii+1)\n",
        "  norm = np.sum(np.exp(probs[ii]))\n",
        "  print(norm)\n",
        "  ind=inds[ii]\n",
        "  plt.scatter(np.arange(10),np.exp(probs[ii])/norm, label='relative prob.', color='darkblue')\n",
        "  plt.scatter(data_class,np.exp(probs[ii][data_class])/norm, color='limegreen', label='truth')\n",
        "  plt.scatter(ind,np.exp(probs[ii][ind])/norm, color='crimson',marker='+',label='max prob')\n",
        "plt.legend(loc=(1.02,3.6))\n",
        "plt.savefig(plot_path+'classification_%d_uncorrected.png'%data_class, bbox_inches='tight')"
      ],
      "execution_count": 81,
      "outputs": [
        {
          "output_type": "stream",
          "text": [
            "1032\n",
            "[2]\n",
            "[2]\n",
            "[2]\n",
            "[4]\n",
            "[2]\n",
            "[2]\n",
            "[2]\n",
            "[4]\n",
            "[2]\n",
            "[2]\n",
            "[2]\n",
            "[4]\n",
            "[2]\n",
            "[2]\n",
            "[2]\n",
            "[3]\n",
            "0.52409333\n",
            "0.31375924\n",
            "0.31034607\n",
            "0.4141548\n",
            "0.6361582\n",
            "0.119377986\n",
            "0.4060708\n",
            "0.22159818\n",
            "0.777701\n",
            "0.3868617\n",
            "0.28090993\n",
            "0.9024933\n",
            "0.08229455\n",
            "0.86069745\n",
            "0.59260744\n",
            "0.41893524\n"
          ],
          "name": "stdout"
        },
        {
          "output_type": "display_data",
          "data": {
            "image/png": "[encoded data removed]",
            "text/plain": [
              "<Figure size 360x360 with 16 Axes>"
            ]
          },
          "metadata": {
            "tags": []
          }
        },
        {
          "output_type": "display_data",
          "data": {
            "image/png": "[encoded data removed]",
            "text/plain": [
              "<Figure size 432x288 with 16 Axes>"
            ]
          },
          "metadata": {
            "tags": []
          }
        }
      ]
    },
    {
      "cell_type": "code",
      "metadata": {
        "id": "dKxhOVfRN11a",
        "colab_type": "code",
        "colab": {
          "base_uri": "https://localhost:8080/",
          "height": 1162
        },
        "outputId": "f186e429-fabb-4c34-ec40-865602af7b32"
      },
      "source": [
        "data_class = 1\n",
        "indices = np.where(targets_test==data_class)\n",
        "x_test_class = x_test[indices]\n",
        "print(len(x_test_class))\n",
        "probs = sess.run(log_likes, feed_dict={x_tr:np.expand_dims(x_test_class[0:16],-1)})\n",
        "\n",
        "figure(figsize=(5,5))\n",
        "suptitle('test data')\n",
        "for i in range(16):\n",
        "    subplot(4,4,i+1)\n",
        "    imshow(np.reshape(x_test_class[i,:],(28,28)),cmap='gray',vmin=0); #colorbar()\n",
        "    axis('off')\n",
        "plt.savefig(plot_path+'test_data_%d.png'%data_class, bbox_inches='tight')\n",
        "\n",
        "probs=np.asarray(probs)\n",
        "probs[np.where(np.isnan(probs))]=-np.inf \n",
        "probs = probs.T/mean_loss\n",
        "inds =[]\n",
        "for ii in range(16):\n",
        "  minimum = max(probs[ii])\n",
        "  ind = np.where(probs[ii]==minimum)[0]\n",
        "  print(ind)\n",
        "  inds+=[ind]\n",
        "  \n",
        "plt.figure()\n",
        "for ii in range(16):\n",
        "  subplot(4,4,ii+1)\n",
        "  norm = np.sum(np.exp(probs[ii]))\n",
        "  print(norm)\n",
        "  ind=inds[ii]\n",
        "  plt.scatter(np.arange(10),np.exp(probs[ii])/norm, label='relative prob.', color='darkblue')\n",
        "  plt.scatter(data_class,np.exp(probs[ii][data_class])/norm, color='limegreen', label='truth')\n",
        "  plt.scatter(ind,np.exp(probs[ii][ind])/norm, color='crimson',marker='+',label='max prob')\n",
        "plt.legend(loc=(1.02,3.6))\n",
        "plt.savefig(plot_path+'classification_%d_corrected.png'%data_class, bbox_inches='tight')"
      ],
      "execution_count": 77,
      "outputs": [
        {
          "output_type": "stream",
          "text": [
            "1135\n",
            "[1]\n",
            "[1]\n",
            "[3]\n",
            "[1]\n",
            "[1]\n",
            "[1]\n",
            "[1]\n",
            "[1]\n",
            "[4]\n",
            "[1]\n",
            "[1]\n",
            "[1]\n",
            "[4]\n",
            "[1]\n",
            "[1]\n",
            "[1]\n",
            "1.3818264\n",
            "1.2275146\n",
            "0.994666\n",
            "0.8406539\n",
            "1.4752206\n",
            "1.4199616\n",
            "1.1866889\n",
            "1.5390563\n",
            "0.31202734\n",
            "0.7154024\n",
            "1.3346263\n",
            "0.3368994\n",
            "0.42162758\n",
            "0.95694906\n",
            "0.99468344\n",
            "1.0357982\n"
          ],
          "name": "stdout"
        },
        {
          "output_type": "display_data",
          "data": {
            "image/png": "[encoded data removed]",
            "text/plain": [
              "<Figure size 360x360 with 16 Axes>"
            ]
          },
          "metadata": {
            "tags": []
          }
        },
        {
          "output_type": "display_data",
          "data": {
            "image/png": "[encoded data removed]",
            "text/plain": [
              "<Figure size 432x288 with 16 Axes>"
            ]
          },
          "metadata": {
            "tags": []
          }
        }
      ]
    },
    {
      "cell_type": "code",
      "metadata": {
        "id": "hcle87T_OM4N",
        "colab_type": "code",
        "colab": {}
      },
      "source": [
        ""
      ],
      "execution_count": 0,
      "outputs": []
    }
  ]
}