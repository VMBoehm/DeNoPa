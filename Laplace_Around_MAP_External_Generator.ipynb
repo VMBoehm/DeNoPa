{
  "nbformat": 4,
  "nbformat_minor": 0,
  "metadata": {
    "colab": {
      "name": "Laplace Around MAP External Generator.ipynb",
      "version": "0.3.2",
      "provenance": [],
      "collapsed_sections": [],
      "include_colab_link": true
    },
    "kernelspec": {
      "name": "python3",
      "display_name": "Python 3"
    },
    "accelerator": "GPU"
  },
  "cells": [
    {
      "cell_type": "markdown",
      "metadata": {
        "id": "view-in-github",
        "colab_type": "text"
      },
      "source": [
        "<a href=\"https://colab.research.google.com/github/VMBoehm/DeNoPa/blob/master/Laplace_Around_MAP_External_Generator.ipynb\" target=\"_parent\"><img src=\"https://colab.research.google.com/assets/colab-badge.svg\" alt=\"Open In Colab\"/></a>"
      ]
    },
    {
      "metadata": {
        "id": "D-Fe5G8m1FTC",
        "colab_type": "code",
        "outputId": "b43c5bef-630c-42ae-dd3a-38e417313507",
        "colab": {
          "base_uri": "https://localhost:8080/",
          "height": 34
        }
      },
      "cell_type": "code",
      "source": [
        "import os\n",
        "%pylab inline"
      ],
      "execution_count": 0,
      "outputs": [
        {
          "output_type": "stream",
          "text": [
            "Populating the interactive namespace from numpy and matplotlib\n"
          ],
          "name": "stdout"
        }
      ]
    },
    {
      "metadata": {
        "id": "-AEYmOsH1FTI",
        "colab_type": "code",
        "colab": {}
      },
      "cell_type": "code",
      "source": [
        "import tensorflow as tf\n",
        "import tensorflow_probability as tfp\n",
        "import tensorflow_hub as hub\n",
        "from tensorflow.python.ops.parallel_for.gradients import jacobian\n",
        "tfd = tfp.distributions\n",
        "tfb = tfp.bijectors\n",
        "IMAGE_SHAPE = [28, 28, 1]"
      ],
      "execution_count": 0,
      "outputs": []
    },
    {
      "metadata": {
        "id": "8puPFE90P0aD",
        "colab_type": "code",
        "outputId": "07b1704d-c0ce-420e-a2d7-3603049e22ba",
        "colab": {
          "base_uri": "https://localhost:8080/",
          "height": 34
        }
      },
      "cell_type": "code",
      "source": [
        "generator_path = './gdrive/My Drive/MPM/modules/vae1/vae_1/decoder'\n",
        "encoder_path   ='./gdrive/My Drive/MPM/modules/vae1/vae_1/encoder'\n",
        "!ls "
      ],
      "execution_count": 0,
      "outputs": [
        {
          "output_type": "stream",
          "text": [
            "data  gdrive  sample_data\n"
          ],
          "name": "stdout"
        }
      ]
    },
    {
      "metadata": {
        "id": "nFzYYSxY1FTL",
        "colab_type": "code",
        "colab": {}
      },
      "cell_type": "code",
      "source": [
        "import gzip, zipfile, tarfile\n",
        "import os, shutil, re, string, urllib, fnmatch\n",
        "import pickle as pkl\n",
        "\n",
        "def _download_mnist_realval(dataset):\n",
        "    \"\"\"\n",
        "    Download the MNIST dataset if it is not present.\n",
        "    :return: The train, test and validation set.\n",
        "    \"\"\"\n",
        "    origin = (\n",
        "        'http://www.iro.umontreal.ca/~lisa/deep/data/mnist/mnist.pkl.gz'\n",
        "    )\n",
        "    print('Downloading data from %s' % origin)\n",
        "    urllib.request.urlretrieve(origin, dataset)\n",
        "\n",
        "def _get_datafolder_path():\n",
        "    full_path = os.path.abspath('.')\n",
        "    path = full_path +'/data'\n",
        "    return path\n",
        "\n",
        "def load_mnist_realval(\n",
        "        dataset=_get_datafolder_path()+'/mnist_real/mnist.pkl.gz'):\n",
        "    '''\n",
        "    Loads the real valued MNIST dataset\n",
        "    :param dataset: path to dataset file\n",
        "    :return: None\n",
        "    '''\n",
        "    if not os.path.isfile(dataset):\n",
        "        datasetfolder = os.path.dirname(dataset)\n",
        "        if not os.path.exists(datasetfolder):\n",
        "            os.makedirs(datasetfolder)\n",
        "        _download_mnist_realval(dataset)\n",
        "\n",
        "    f = gzip.open(dataset, 'rb')\n",
        "    train_set, valid_set, test_set = pkl.load(f, encoding='latin1')\n",
        "    f.close()\n",
        "    x_train, targets_train = train_set[0], train_set[1]\n",
        "    x_valid, targets_valid = valid_set[0], valid_set[1]\n",
        "    x_test, targets_test = test_set[0], test_set[1]\n",
        "    return x_train, targets_train, x_valid, targets_valid, x_test, targets_test"
      ],
      "execution_count": 0,
      "outputs": []
    },
    {
      "metadata": {
        "id": "ft_jIh-W1FTN",
        "colab_type": "code",
        "colab": {}
      },
      "cell_type": "code",
      "source": [
        "x_train, targets_train, x_valid, targets_valid, x_test, targets_test = load_mnist_realval()"
      ],
      "execution_count": 0,
      "outputs": []
    },
    {
      "metadata": {
        "colab_type": "code",
        "id": "yvTEYw44O_5q",
        "outputId": "c3a48c5f-ac71-40f9-9f8e-db3ddbb12095",
        "colab": {
          "base_uri": "https://localhost:8080/",
          "height": 353
        }
      },
      "cell_type": "code",
      "source": [
        "#finding EL2O 'by hand'\n",
        "tf.reset_default_graph()\n",
        "\n",
        "\n",
        "batch_size  = 1\n",
        "hidden_size = 10\n",
        "num_comp    = 4\n",
        "\n",
        "sample_size_z = tf.placeholder_with_default(10,shape=[])\n",
        "sample_size_x = tf.placeholder_with_default(10,shape=[])\n",
        "lr            = tf.placeholder_with_default(0.001,shape=[])\n",
        "optimizer     = tf.train.AdamOptimizer(learning_rate=lr)\n",
        "\n",
        "\n",
        "generator = hub.Module(generator_path)\n",
        "encoder   = hub.Module(encoder_path)\n",
        "\n",
        "# Define latent space prior\n",
        "prior = tfd.MultivariateNormalDiag(loc=tf.zeros([hidden_size]),scale_identity_multiplier=1.0)\n",
        "# get some masked data\n",
        "x_corr            = tf.placeholder(shape=[batch_size,784,1], dtype=tf.float32)\n",
        "mymask            = tf.placeholder_with_default(np.ones((784),dtype=int),shape=[784])\n",
        "m_data            = tf.boolean_mask(x_corr, mymask, axis=1)\n",
        "\n",
        "encoded_data      = encoder(tf.expand_dims(tf.reshape(x_corr,[-1,28,28]),-1))\n",
        "mu, sigma         = tf.split(encoded_data, 2, axis=-1)\n",
        "naive_sims        = tfd.Independent(tfd.Bernoulli(logits=generator(mu))).sample(sample_size_x)\n",
        "naive_mean        = tfd.Independent(tfd.Bernoulli(logits=generator(mu))).mean()\n",
        "\n",
        "######## find the MAP by minimization\n",
        "MAP_ini              = tf.placeholder_with_default(tf.zeros([batch_size,hidden_size]),shape=[batch_size,hidden_size])\n",
        "\n",
        "MAP                  = tf.Variable(MAP_ini)\n",
        "MAP_reset            = tf.stop_gradient(MAP.assign(MAP_ini))\n",
        "genMAP               = tf.reshape(generator(MAP),[batch_size,784,1])\n",
        "el2o_logits          = tf.boolean_mask(genMAP, mymask, axis=1)\n",
        "data_likelihood_el2o = tfd.Independent(tfd.Bernoulli(logits=el2o_logits))\n",
        "posterior_corr_MAP   = prior.log_prob(MAP)+data_likelihood_el2o.log_prob(m_data)\n",
        "loss                 = -tf.reduce_mean(posterior_corr_MAP)\n",
        "\n",
        "opt_op2 = optimizer.minimize(loss, var_list=[MAP])\n",
        "\n",
        "MAP_sims           = tfd.Independent(tfd.Bernoulli(logits=generator(MAP))).sample(sample_size_x)\n",
        "MAP_mean           = tfd.Independent(tfd.Bernoulli(logits=generator(MAP))).mean()\n",
        "\n",
        "## get approximate posterior Laplace approximation\n",
        "\n",
        "ini_val  = np.ones((batch_size,(hidden_size *(hidden_size +1)) // 2),dtype=np.float32)\n",
        "\n",
        "with tf.variable_scope(\"corrupted/approxposterior\",reuse=tf.AUTO_REUSE):\n",
        "  mu_new      = tf.Variable(np.ones((batch_size,hidden_size)), dtype=np.float32)\n",
        "  sigma_new_t = tf.constant(ini_val)\n",
        "  sigma_new_t2= tf.Variable(tfd.matrix_diag_transform(tfd.fill_triangular(sigma_new_t), transform=tf.nn.softplus))\n",
        "  \n",
        "approx_posterior_laplace = tfd.MultivariateNormalTriL(loc=mu_new,scale_tril=sigma_new_t2)\n",
        "\n",
        "update2          = tf.stop_gradient(mu_new.assign(MAP))\n",
        "\n",
        "hess             = tf.hessians(-posterior_corr_MAP,MAP)\n",
        "\n",
        "hess             = tf.gather(hess, 0)\n",
        "\n",
        "hess2            = tf.reduce_sum( hess, axis = 2 )\n",
        "\n",
        "sigma_new        = tf.linalg.inv(hess2)\n",
        "\n",
        "update3          = sigma_new_t2.assign(tf.linalg.cholesky(sigma_new))\n",
        "\n",
        "new_z_samples    = tf.reshape(approx_posterior_laplace.sample(sample_size_z),[-1,hidden_size])\n",
        "\n",
        "new_x_mean       = tf.reshape(tfd.Independent(tfd.Bernoulli(logits=generator(new_z_samples))).mean(),[sample_size_z,batch_size,784])\n",
        "\n",
        "with tf.variable_scope(\"corrupted/gmm\",reuse=tf.AUTO_REUSE):\n",
        "  mu_gmm      = tf.Variable(np.ones((batch_size,num_comp,hidden_size)), dtype=np.float32)\n",
        "  ini_val2    = np.ones((batch_size,num_comp,(hidden_size *(hidden_size +1)) // 2),dtype=np.float32)\n",
        "  sigma_gmm   = tf.constant(ini_val2)\n",
        "  sigma_gmmt  = tf.Variable(tfd.matrix_diag_transform(tfd.fill_triangular(sigma_gmm), transform=tf.nn.softplus))\n",
        "  w_gmm       = tf.Variable(np.ones((num_comp))/num_comp, dtype=np.float32)\n",
        "\n",
        "mu_est        = tf.placeholder_with_default(tf.zeros([batch_size,num_comp,hidden_size]),shape=[batch_size,num_comp,hidden_size])\n",
        "sigma_est     = tf.placeholder_with_default(tf.ones([batch_size,num_comp,hidden_size, hidden_size]),shape=[batch_size,num_comp,hidden_size, hidden_size])\n",
        "w_est         = tf.placeholder_with_default(tf.ones([num_comp])/num_comp,shape=[num_comp])\n",
        "\n",
        "update_a      = w_gmm.assign(w_est)\n",
        "update_b      = mu_gmm.assign(mu_est)\n",
        "update_c      = sigma_gmmt.assign(sigma_est)\n",
        "\n",
        "gmm           = tfd.MixtureSameFamily(mixture_distribution=tfd.Categorical(probs=w_gmm),components_distribution=tfd.MultivariateNormalTriL(loc=mu_gmm,scale_tril=sigma_gmmt))\n",
        "\n",
        "gmm_sample_z  = tf.reshape(gmm.sample(sample_size_z),[-1,hidden_size])\n",
        "gmm_sample_x  = tf.reshape(tfd.Independent(tfd.Bernoulli(logits=generator(gmm_sample_z))).mean(),[sample_size_z,batch_size,784])\n",
        "# ### for comparison: get minimize elbo for corrupted data\n",
        "\n",
        "with tf.variable_scope(\"posterior_elbo\"):\n",
        "  mu_elbo      = tf.Variable(np.zeros((batch_size,hidden_size)), dtype=np.float32)\n",
        "  sigma_elbo   = tf.Variable(np.ones((batch_size,hidden_size)), dtype=np.float32)\n",
        "\n",
        "approx_posterior_elbo = tfd.MultivariateNormalDiag(loc=mu_elbo,scale_diag=sigma_elbo, name='approxposterior_elbo')\n",
        "zz_               = approx_posterior_elbo.sample()\n",
        "elbo_mean         = approx_posterior_elbo.mean()\n",
        "kl_divergence2    = tfd.kl_divergence(approx_posterior_elbo, prior) \n",
        "genz              = tf.reshape(generator(zz_),[batch_size,784,1])\n",
        "elbo_liklogits    = tf.boolean_mask(genz, mymask, axis=1)\n",
        "data_likelihood2  = tfd.Independent(tfd.Bernoulli(logits=elbo_liklogits))\n",
        "elbo2             = -tf.reduce_mean(data_likelihood2.log_prob(m_data)- kl_divergence2,axis=0)\n",
        "\n",
        "opt_op_elbo2      = optimizer.minimize(elbo2,var_list=[mu_elbo,sigma_elbo])\n",
        "\n",
        "posterior_corr_elbo= prior.log_prob(mu_elbo)+data_likelihood2.log_prob(m_data)\n",
        "\n",
        "z_samples_elbo    = tf.reshape(approx_posterior_elbo.sample(sample_size_z),[-1,hidden_size])\n",
        "x_mean_elbo       = tf.reshape(tfd.Independent(tfd.Bernoulli(logits=generator(z_samples_elbo))).mean(),[sample_size_z,batch_size,784])\n",
        "\n",
        "\n",
        "#var_new           = tf.math.sqrt(tf.matrix_diag_part(sigma_new))\n",
        "#var_mean          = tfd.Independent(tfd.Bernoulli(logits=generator(var_new))).mean()"
      ],
      "execution_count": 306,
      "outputs": [
        {
          "output_type": "stream",
          "text": [
            "INFO:tensorflow:Saver not created because there are no variables in the graph to restore\n"
          ],
          "name": "stdout"
        },
        {
          "output_type": "stream",
          "text": [
            "I0424 20:58:23.582793 140198046865280 saver.py:1483] Saver not created because there are no variables in the graph to restore\n"
          ],
          "name": "stderr"
        },
        {
          "output_type": "stream",
          "text": [
            "INFO:tensorflow:Saver not created because there are no variables in the graph to restore\n"
          ],
          "name": "stdout"
        },
        {
          "output_type": "stream",
          "text": [
            "I0424 20:58:23.608453 140198046865280 saver.py:1483] Saver not created because there are no variables in the graph to restore\n"
          ],
          "name": "stderr"
        },
        {
          "output_type": "stream",
          "text": [
            "INFO:tensorflow:Saver not created because there are no variables in the graph to restore\n"
          ],
          "name": "stdout"
        },
        {
          "output_type": "stream",
          "text": [
            "I0424 20:58:23.652080 140198046865280 saver.py:1483] Saver not created because there are no variables in the graph to restore\n"
          ],
          "name": "stderr"
        },
        {
          "output_type": "stream",
          "text": [
            "INFO:tensorflow:Saver not created because there are no variables in the graph to restore\n"
          ],
          "name": "stdout"
        },
        {
          "output_type": "stream",
          "text": [
            "I0424 20:58:23.678053 140198046865280 saver.py:1483] Saver not created because there are no variables in the graph to restore\n"
          ],
          "name": "stderr"
        },
        {
          "output_type": "stream",
          "text": [
            "INFO:tensorflow:Saver not created because there are no variables in the graph to restore\n"
          ],
          "name": "stdout"
        },
        {
          "output_type": "stream",
          "text": [
            "I0424 20:58:23.952226 140198046865280 saver.py:1483] Saver not created because there are no variables in the graph to restore\n"
          ],
          "name": "stderr"
        },
        {
          "output_type": "stream",
          "text": [
            "INFO:tensorflow:Saver not created because there are no variables in the graph to restore\n"
          ],
          "name": "stdout"
        },
        {
          "output_type": "stream",
          "text": [
            "I0424 20:58:23.997363 140198046865280 saver.py:1483] Saver not created because there are no variables in the graph to restore\n"
          ],
          "name": "stderr"
        },
        {
          "output_type": "stream",
          "text": [
            "INFO:tensorflow:Saver not created because there are no variables in the graph to restore\n"
          ],
          "name": "stdout"
        },
        {
          "output_type": "stream",
          "text": [
            "I0424 20:58:24.558721 140198046865280 saver.py:1483] Saver not created because there are no variables in the graph to restore\n"
          ],
          "name": "stderr"
        },
        {
          "output_type": "stream",
          "text": [
            "INFO:tensorflow:Saver not created because there are no variables in the graph to restore\n"
          ],
          "name": "stdout"
        },
        {
          "output_type": "stream",
          "text": [
            "I0424 20:58:24.743045 140198046865280 saver.py:1483] Saver not created because there are no variables in the graph to restore\n"
          ],
          "name": "stderr"
        },
        {
          "output_type": "stream",
          "text": [
            "INFO:tensorflow:Saver not created because there are no variables in the graph to restore\n"
          ],
          "name": "stdout"
        },
        {
          "output_type": "stream",
          "text": [
            "I0424 20:58:24.851078 140198046865280 saver.py:1483] Saver not created because there are no variables in the graph to restore\n"
          ],
          "name": "stderr"
        },
        {
          "output_type": "stream",
          "text": [
            "INFO:tensorflow:Saver not created because there are no variables in the graph to restore\n"
          ],
          "name": "stdout"
        },
        {
          "output_type": "stream",
          "text": [
            "I0424 20:58:25.210454 140198046865280 saver.py:1483] Saver not created because there are no variables in the graph to restore\n"
          ],
          "name": "stderr"
        }
      ]
    },
    {
      "metadata": {
        "id": "Soh1tnGH1FTW",
        "colab_type": "code",
        "colab": {}
      },
      "cell_type": "code",
      "source": [
        "sess = tf.Session()\n",
        "sess.run(tf.global_variables_initializer())"
      ],
      "execution_count": 0,
      "outputs": []
    },
    {
      "metadata": {
        "id": "64WUbrj20wbg",
        "colab_type": "code",
        "colab": {}
      },
      "cell_type": "code",
      "source": [
        "inc = 6\n",
        "x_truth = x_test[inc:batch_size+inc]"
      ],
      "execution_count": 0,
      "outputs": []
    },
    {
      "metadata": {
        "id": "qqqbGahp1FTj",
        "colab_type": "code",
        "outputId": "b91122ab-0c80-469f-c2a7-45e993ed907b",
        "colab": {
          "base_uri": "https://localhost:8080/",
          "height": 413
        }
      },
      "cell_type": "code",
      "source": [
        "inim, res, s = sess.run([x_corr,naive_mean,naive_sims], feed_dict={x_corr: np.expand_dims(x_truth,-1)})\n",
        "figure(figsize=(5,5))\n",
        "\n",
        "    \n",
        "figure(figsize=(5,5))\n",
        "suptitle('input images')\n",
        "for i in range(min(batch_size,16)):\n",
        "    subplot(4,4,i+1)\n",
        "    imshow(inim[i].reshape((28,28)),cmap='gray',vmin=0); #colorbar()\n",
        "    axis('off')\n",
        "\n",
        "figure(figsize=(5,5))\n",
        "suptitle('mean data likelihood')\n",
        "for i in range(min(batch_size,16)):\n",
        "    subplot(4,4,i+1)\n",
        "    imshow(res[i,:,:,0],cmap='gray',vmin=0); #colorbar()\n",
        "    axis('off')\n",
        "\n",
        "figure(figsize=(5,5))\n",
        "suptitle('averaged random samples from likelihood')\n",
        "for i in range(min(batch_size,16)):\n",
        "    subplot(4,4,i+1)\n",
        "    imshow(np.mean(s[:,i,:,:,0],axis=0),cmap='gray',vmin=0); #colorbar()\n",
        "    axis('off')"
      ],
      "execution_count": 309,
      "outputs": [
        {
          "output_type": "display_data",
          "data": {
            "text/plain": [
              "<Figure size 360x360 with 0 Axes>"
            ]
          },
          "metadata": {
            "tags": []
          }
        },
        {
          "output_type": "display_data",
          "data": {
            "image/png": "[encoded data removed]",
            "text/plain": [
              "<Figure size 360x360 with 1 Axes>"
            ]
          },
          "metadata": {
            "tags": []
          }
        },
        {
          "output_type": "display_data",
          "data": {
            "image/png": "[encoded data removed]",
            "text/plain": [
              "<Figure size 360x360 with 1 Axes>"
            ]
          },
          "metadata": {
            "tags": []
          }
        },
        {
          "output_type": "display_data",
          "data": {
            "image/png": "[encoded data removed]",
            "text/plain": [
              "<Figure size 360x360 with 1 Axes>"
            ]
          },
          "metadata": {
            "tags": []
          }
        }
      ]
    },
    {
      "metadata": {
        "id": "B88wpvsy1FTm",
        "colab_type": "code",
        "outputId": "4976ab3c-44e5-4c7d-da5b-3139a3274125",
        "colab": {
          "base_uri": "https://localhost:8080/",
          "height": 356
        }
      },
      "cell_type": "code",
      "source": [
        "mask = np.ones(IMAGE_SHAPE, dtype=int)\n",
        "mask[0:28,14:28]=0.\n",
        "mask = mask.reshape((28*28))\n",
        "\n",
        "masked_data = np.expand_dims(x_test[inc:batch_size+inc]*[mask],-1)\n",
        "\n",
        "figure(figsize=(5,5))\n",
        "suptitle('input images')\n",
        "for i in range(min(batch_size,16)):\n",
        "    if batch_size<16:\n",
        "      subplot(1,batch_size,i+1)\n",
        "      imshow(masked_data[i].reshape((28,28)),cmap='gray',vmin=0); #colorbar()\n",
        "      axis('off')\n",
        "    else:\n",
        "      subplot(4,4,i+1)\n",
        "      imshow(masked_data[i].reshape((28,28)),cmap='gray',vmin=0); #colorbar()\n",
        "      axis('off')"
      ],
      "execution_count": 310,
      "outputs": [
        {
          "output_type": "display_data",
          "data": {
            "image/png": "[encoded data removed]",
            "text/plain": [
              "<Figure size 360x360 with 1 Axes>"
            ]
          },
          "metadata": {
            "tags": []
          }
        }
      ]
    },
    {
      "metadata": {
        "id": "39y0qN_gGtbA",
        "colab_type": "code",
        "outputId": "979fe5b0-1a97-4f21-8807-74ec9b0f1817",
        "colab": {
          "base_uri": "https://localhost:8080/",
          "height": 286
        }
      },
      "cell_type": "code",
      "source": [
        "inim, res = sess.run([x_corr,naive_mean],feed_dict={x_corr: masked_data, mymask:mask})\n",
        "\n",
        "\n",
        "figure(figsize=(5,5))\n",
        "\n",
        "    \n",
        "figure(figsize=(5,5))\n",
        "suptitle('input images')\n",
        "for i in range(min(batch_size,16)):\n",
        "    subplot(4,4,i+1)\n",
        "    imshow(inim[i].reshape((28,28)),cmap='gray',vmin=0); #colorbar()\n",
        "    axis('off')\n",
        "\n",
        "figure(figsize=(5,5))\n",
        "suptitle('mean data likelihood, samples from naive posterior')\n",
        "for i in range(min(batch_size,16)):\n",
        "    subplot(4,4,i+1)\n",
        "    imshow(res[i,:,:,0],cmap='gray',vmin=0); #colorbar()\n",
        "    axis('off')\n",
        "\n"
      ],
      "execution_count": 311,
      "outputs": [
        {
          "output_type": "display_data",
          "data": {
            "text/plain": [
              "<Figure size 360x360 with 0 Axes>"
            ]
          },
          "metadata": {
            "tags": []
          }
        },
        {
          "output_type": "display_data",
          "data": {
            "image/png": "[encoded data removed]",
            "text/plain": [
              "<Figure size 360x360 with 1 Axes>"
            ]
          },
          "metadata": {
            "tags": []
          }
        },
        {
          "output_type": "display_data",
          "data": {
            "image/png": "[encoded data removed]",
            "text/plain": [
              "<Figure size 360x360 with 1 Axes>"
            ]
          },
          "metadata": {
            "tags": []
          }
        }
      ]
    },
    {
      "metadata": {
        "id": "cBw6wJtV4zQM",
        "colab_type": "code",
        "colab": {
          "base_uri": "https://localhost:8080/",
          "height": 34
        },
        "outputId": "a54473ba-29b9-41ea-9fff-47177331fa6b"
      },
      "cell_type": "code",
      "source": [
        "posterior2_loss=[]\n",
        "ini = np.zeros((batch_size,hidden_size), dtype=np.float)\n",
        "sess.run(MAP_reset,feed_dict={x_corr: masked_data, mymask: mask, MAP_ini:ini})"
      ],
      "execution_count": 345,
      "outputs": [
        {
          "output_type": "execute_result",
          "data": {
            "text/plain": [
              "array([[0., 0., 0., 0., 0., 0., 0., 0., 0., 0.]], dtype=float32)"
            ]
          },
          "metadata": {
            "tags": []
          },
          "execution_count": 345
        }
      ]
    },
    {
      "metadata": {
        "id": "B9t46s694yci",
        "colab_type": "code",
        "colab": {
          "base_uri": "https://localhost:8080/",
          "height": 336
        },
        "outputId": "0e0ad9a4-9000-4c24-fb58-4b6cb6db037f"
      },
      "cell_type": "code",
      "source": [
        "lrate=1e-1\n",
        "for ii in range(300):\n",
        "  _, ll = sess.run([opt_op2,loss],feed_dict={x_corr: masked_data, lr:lrate, mymask:mask})\n",
        "  posterior2_loss.append(ll)\n",
        "  if ii%100==0:\n",
        "    print(ll)\n",
        "lrate=1e-3\n",
        "for ii in range(800):\n",
        "  _, ll = sess.run([opt_op2,loss],feed_dict={x_corr: masked_data, lr:lrate, mymask:mask})\n",
        "  posterior2_loss.append(ll)\n",
        "  if ii%100==0:\n",
        "    print(ll)\n",
        "lrate=1e-5\n",
        "for ii in range(800):\n",
        "  _, ll = sess.run([opt_op2,loss],feed_dict={x_corr: masked_data, lr:lrate, mymask:mask})\n",
        "  posterior2_loss.append(ll)\n",
        "  if ii%100==0:\n",
        "    print(ll)"
      ],
      "execution_count": 346,
      "outputs": [
        {
          "output_type": "stream",
          "text": [
            "158.44145\n",
            "43.901257\n",
            "43.899086\n",
            "43.899086\n",
            "43.899086\n",
            "43.899086\n",
            "43.899086\n",
            "43.899086\n",
            "43.899086\n",
            "43.899086\n",
            "43.899086\n",
            "43.899086\n",
            "43.899086\n",
            "43.899086\n",
            "43.899086\n",
            "43.899086\n",
            "43.899086\n",
            "43.899086\n",
            "43.899086\n"
          ],
          "name": "stdout"
        }
      ]
    },
    {
      "metadata": {
        "id": "usyhDzLkns-v",
        "colab_type": "code",
        "outputId": "4efe8aa3-f0c6-4140-8981-74825a3b2e8d",
        "colab": {
          "base_uri": "https://localhost:8080/",
          "height": 269
        }
      },
      "cell_type": "code",
      "source": [
        "plot(posterior2_loss,label='data_loss')\n",
        "legend()\n",
        "yscale('log')"
      ],
      "execution_count": 347,
      "outputs": [
        {
          "output_type": "display_data",
          "data": {
            "image/png": "[encoded data removed]",
            "text/plain": [
              "<Figure size 432x288 with 1 Axes>"
            ]
          },
          "metadata": {
            "tags": []
          }
        }
      ]
    },
    {
      "metadata": {
        "id": "XOY3qV-DM3ED",
        "colab_type": "code",
        "colab": {
          "base_uri": "https://localhost:8080/",
          "height": 270
        },
        "outputId": "3e2d54b4-b971-4ddb-dd9c-40e4739839e1"
      },
      "cell_type": "code",
      "source": [
        "xrecons= sess.run(MAP_mean, feed_dict={x_corr: masked_data, mymask: mask})\n",
        "xrecons.shape\n",
        "    \n",
        "\n",
        "figure(figsize=(5,5))\n",
        "suptitle('mean likelihood at MAP')\n",
        "for i in range(min(batch_size,16)):\n",
        "#     if batch_size<16:\n",
        "#       subplot(1,batch_size,i+1)\n",
        "#       imshow(xrecons[i].reshape((28,28)),cmap='gray',vmin=0); #colorbar()\n",
        "#       axis('off')\n",
        "#     else:\n",
        "    subplot(4,4,i+1)\n",
        "    imshow(xrecons[i].reshape((28,28)),cmap='gray',vmin=0); #colorbar()\n",
        "    axis('off')\n",
        "      \n",
        "figure(figsize=(5,5))\n",
        "suptitle('truth')\n",
        "for i in range(min(batch_size,16)):\n",
        "    subplot(4,4,i+1)\n",
        "    imshow(x_truth[i].reshape((28,28)),cmap='gray',vmin=0); #colorbar()\n",
        "    axis('off')"
      ],
      "execution_count": 348,
      "outputs": [
        {
          "output_type": "display_data",
          "data": {
            "image/png": "[encoded data removed]",
            "text/plain": [
              "<Figure size 360x360 with 1 Axes>"
            ]
          },
          "metadata": {
            "tags": []
          }
        },
        {
          "output_type": "display_data",
          "data": {
            "image/png": "[encoded data removed]",
            "text/plain": [
              "<Figure size 360x360 with 1 Axes>"
            ]
          },
          "metadata": {
            "tags": []
          }
        }
      ]
    },
    {
      "metadata": {
        "id": "2pK7CTC6j3PE",
        "colab_type": "code",
        "colab": {}
      },
      "cell_type": "code",
      "source": [
        "_=sess.run(update2,feed_dict={x_corr: masked_data, lr:lrate, mymask:mask})"
      ],
      "execution_count": 0,
      "outputs": []
    },
    {
      "metadata": {
        "id": "FCLsBG8IoJVE",
        "colab_type": "code",
        "colab": {}
      },
      "cell_type": "code",
      "source": [
        "_=sess.run(update3,feed_dict={x_corr: masked_data, lr:lrate, mymask:mask})"
      ],
      "execution_count": 0,
      "outputs": []
    },
    {
      "metadata": {
        "id": "KQcBA19ohsg1",
        "colab_type": "code",
        "outputId": "acc0adec-b27f-46ed-f88c-22187136faf0",
        "colab": {
          "base_uri": "https://localhost:8080/",
          "height": 626
        }
      },
      "cell_type": "code",
      "source": [
        "xrecons3 = sess.run(new_x_mean, feed_dict={x_corr: masked_data, sample_size_z:64 , mymask: mask})\n",
        "print(xrecons3.shape)\n",
        "# xrecons4 = sess.run(var_mean, feed_dict={x_corr: masked_data, sample_size:64, mymask: mask})\n",
        "# print(xrecons3.shape)\n",
        "\n",
        "figure(figsize=(5,5))\n",
        "suptitle('average generated data from approx posterior samples (laplace approximation)')\n",
        "for i in range(min(batch_size,16)):\n",
        "    subplot(4,4,i+1)\n",
        "    imshow(np.mean(xrecons3[:,i,:],axis=(0)).reshape((28,28)),cmap='gray',vmin=0); \n",
        "    axis('off')\n",
        "      \n",
        "figure(figsize=(5,5))\n",
        "suptitle('truth')\n",
        "for i in range(min(batch_size,16)):\n",
        "    subplot(4,4,i+1)\n",
        "    imshow(x_truth[i].reshape((28,28)),cmap='gray',vmin=0); #colorbar()\n",
        "    axis('off')\n",
        "\n",
        "figure(figsize=(5,5))\n",
        "suptitle('samples from approx posterior (laplace approximation) in data space, digit #%d'%num)\n",
        "for jj in range(64):   \n",
        "  subplot(8,8,jj+1)\n",
        "  imshow(xrecons3[jj,0].reshape((28,28)),cmap='gray',vmin=0); \n",
        "  axis('off')\n",
        "  \n",
        "\n",
        "\n",
        "      \n",
        "# figure(figsize=(5,5))\n",
        "# suptitle('mean likelihood at stddev')\n",
        "# for i in range(min(batch_size,16)):\n",
        "#     if batch_size<16:\n",
        "#       subplot(1,batch_size,i+1)\n",
        "#       imshow(xrecons4[i].reshape((28,28)),cmap='gray',vmin=0);\n",
        "#       axis('off')\n",
        "#     else:\n",
        "#       subplot(4,4,i+1)\n",
        "#       imshow(xrecons4[i].reshape((28,28)),cmap='gray',vmin=0);\n",
        "#       axis('off')\n",
        "      "
      ],
      "execution_count": 354,
      "outputs": [
        {
          "output_type": "stream",
          "text": [
            "(64, 1, 784)\n"
          ],
          "name": "stdout"
        },
        {
          "output_type": "display_data",
          "data": {
            "image/png": "[encoded data removed]",
            "text/plain": [
              "<Figure size 360x360 with 1 Axes>"
            ]
          },
          "metadata": {
            "tags": []
          }
        },
        {
          "output_type": "display_data",
          "data": {
            "image/png": "[encoded data removed]",
            "text/plain": [
              "<Figure size 360x360 with 1 Axes>"
            ]
          },
          "metadata": {
            "tags": []
          }
        },
        {
          "output_type": "display_data",
          "data": {
            "image/png": "[encoded data removed]",
            "text/plain": [
              "<Figure size 360x360 with 64 Axes>"
            ]
          },
          "metadata": {
            "tags": []
          }
        }
      ]
    },
    {
      "metadata": {
        "id": "jDvzgEAWVeJ4",
        "colab_type": "code",
        "outputId": "212f65e8-23a1-44a4-a86b-16e7fe72313e",
        "colab": {
          "base_uri": "https://localhost:8080/",
          "height": 5074
        }
      },
      "cell_type": "code",
      "source": [
        "minima=[]\n",
        "min_loss=[]\n",
        "n_samples=100\n",
        "for jj in range(n_samples):\n",
        "  print(jj)\n",
        "  ini = np.random.random((batch_size,hidden_size))*50-25.\n",
        "  print(ini)\n",
        "  sess.run(MAP_reset,feed_dict={x_corr: masked_data, mymask: mask, MAP_ini:ini})\n",
        "  for lrate,num in zip([1e-1,1e-2, 1e-3, 1e-5],[300,400,1000,1000]):\n",
        "    for ii in range(num):\n",
        "      _, ll = sess.run([opt_op2,loss],feed_dict={x_corr: masked_data, lr:lrate, mymask:mask})\n",
        "  minima+=[sess.run(MAP,feed_dict={x_corr: masked_data, mymask: mask, MAP_ini:ini})]\n",
        "  min_loss+=[ll]"
      ],
      "execution_count": 315,
      "outputs": [
        {
          "output_type": "stream",
          "text": [
            "0\n",
            "[[-16.03418393  -3.0365464  -23.35553264   9.13528334 -22.43687467\n",
            "   -0.89834628  19.86148079   7.70463156 -10.13928808  12.8415137 ]]\n",
            "1\n",
            "[[  2.26472411  -4.79599147 -23.53237728  -0.38581427  11.18649102\n",
            "    0.35913832  17.94355067 -16.85087002   9.33283924   9.61952355]]\n",
            "2\n",
            "[[ 21.41575997   1.3718005    8.75916688  15.81983589  22.12345545\n",
            "    2.68980611 -11.56869084 -13.4765088   23.24040736 -20.95994645]]\n",
            "3\n",
            "[[-21.8563063  -13.34296559 -18.62647841  11.20215018 -12.19892479\n",
            "    0.4335456    7.63388531   7.18003056   6.45826781 -22.3520201 ]]\n",
            "4\n",
            "[[ -3.24959968 -19.27280868 -12.92067706  -4.50199127  -8.59584633\n",
            "  -20.72320717 -15.35874295 -15.77926736   0.3755479   17.28489484]]\n",
            "5\n",
            "[[-14.65795858 -11.59506373 -24.55861413 -23.21207952  12.4798098\n",
            "    2.91373132 -23.44013777  14.21409705 -13.56478206  -5.96284981]]\n",
            "6\n",
            "[[-16.92601612 -12.47664424  22.13570021  21.71051722  12.80204949\n",
            "   14.94574914 -14.27016642   4.59303675  19.86819823 -23.6100554 ]]\n",
            "7\n",
            "[[ -9.71107481 -17.03482829 -20.58782361 -20.83353436 -16.08771916\n",
            "  -17.3878416   24.46746445   7.57402869  23.25841182  13.23441602]]\n",
            "8\n",
            "[[ 13.85523511 -14.56056242 -15.89774286  16.79579224  12.9924737\n",
            "   11.9782698  -14.27757711  -4.71225291 -22.35396261 -13.4380595 ]]\n",
            "9\n",
            "[[ 24.08971944   9.51354024  15.47820484  -8.31381016  17.84418921\n",
            "   20.37835029  12.03560811   6.52387099 -13.37502813 -20.75609852]]\n",
            "10\n",
            "[[ 9.16683334e-03 -2.40960236e+01 -2.25226039e+01  7.39586597e+00\n",
            "   1.64799114e+01 -2.46838159e+01 -1.31329636e+01  1.38276489e+01\n",
            "   5.07895940e+00 -1.71986060e+01]]\n",
            "11\n",
            "[[ -0.14413633  11.90214771  23.65733182  19.62896306   6.25447046\n",
            "   -9.07478689  -9.40306434 -14.22837532  10.30842213  24.93477225]]\n",
            "12\n",
            "[[ 18.09276975 -20.19763194   6.00046942  18.7226181   15.48284895\n",
            "   -2.81353324  10.02856427   5.1266685   -5.98102443  10.58434499]]\n",
            "13\n",
            "[[-10.3574875    3.21404389  10.19746031  -3.41511043  14.17845154\n",
            "   -4.20086267  -6.99071633  -0.41384657 -11.83246163   3.43422473]]\n",
            "14\n",
            "[[-12.38550633   5.17857805 -17.07355644 -12.14689796  -1.97500775\n",
            "   15.11131171   6.92199647  23.13154797  -9.03819351  -5.79676321]]\n",
            "15\n",
            "[[-18.49339733   0.05276675  -8.60436976  16.53172228  -1.02877932\n",
            "  -13.80925365   8.43911248   1.9706138   23.13836852  12.50869929]]\n",
            "16\n",
            "[[ -3.60695759   3.2119006   -1.90106581   1.78565999 -23.63660826\n",
            "  -15.28691264  -4.55200085 -20.72472901  -7.84333638  16.21717064]]\n",
            "17\n",
            "[[ -1.3688653    0.83170785 -15.32145722  22.721506    -8.9355993\n",
            "    4.19972037  11.56582135  19.2528635  -20.2241469    0.34391367]]\n",
            "18\n",
            "[[ 23.55570552 -19.50950536  16.16545578  20.3534061   20.9465453\n",
            "    1.38687958   9.71301326   9.58906706   0.49858911  -7.22705471]]\n",
            "19\n",
            "[[  3.46122695   5.99101229  -8.3608721   11.27157328   5.86894001\n",
            "   19.83829312  -6.11486655 -21.87902825  23.58878518  -8.29529444]]\n",
            "20\n",
            "[[ 24.03067505  21.90778676   8.78895769 -24.07858068 -22.5029839\n",
            "  -24.05413006   9.77985757 -24.92157709 -15.47137266  -2.7909952 ]]\n",
            "21\n",
            "[[ 24.98832442 -15.41531478 -13.05773818   1.21671676 -15.14319353\n",
            "  -15.63363073 -13.62693993 -22.29500888 -14.26898207   5.06658637]]\n",
            "22\n",
            "[[-17.99823784   4.57305553   8.43786223 -22.04152021 -13.92703625\n",
            "   -4.3074922  -22.46579898   2.34326508  17.10697207  17.31094954]]\n",
            "23\n",
            "[[-22.85895694   1.03191266 -18.33812842  11.21615988   1.67270289\n",
            "  -20.33714066  14.94112182  16.59936649  11.40980024 -10.08596355]]\n",
            "24\n",
            "[[ -0.35892976 -10.91412063  24.95944362 -21.75689732   5.93422453\n",
            "   -2.56672615 -19.45029734  22.08316299 -13.32283969  10.8442671 ]]\n",
            "25\n",
            "[[  2.05049201  24.70165485   1.49480485  -0.7463701  -12.54097099\n",
            "    8.08485923 -21.56580509  16.3439629   14.97749389 -21.76079887]]\n",
            "26\n",
            "[[  0.47678994  17.23439232  18.53014925  19.94302638 -15.95056296\n",
            "  -24.88997763 -13.232296    10.76306739  -3.86772536  14.28681022]]\n",
            "27\n",
            "[[ -3.16717757 -13.12820715   6.13946148  18.54183714   2.90681172\n",
            "   -5.11079162 -11.52379998  -0.6691508   -8.0411387  -14.17965046]]\n",
            "28\n",
            "[[-24.37481607 -19.26392975  -8.88215279  10.17625812  -9.13440189\n",
            "    8.04496723 -24.79508445  21.62631733 -19.70265601   9.10154931]]\n",
            "29\n",
            "[[  6.07543816  23.17156218   7.91741321  -7.72562735   7.52587459\n",
            "    4.3369959  -10.75426679  17.79935069  14.20085727  12.4582973 ]]\n",
            "30\n",
            "[[-13.8246565    1.44039705  10.97627068  24.950491   -18.11277606\n",
            "   13.8715214   17.89351718  12.26318791  -1.40770039 -23.18181758]]\n",
            "31\n",
            "[[  4.60993327 -19.31556881  19.52323592  -0.49868302  -6.9750787\n",
            "   16.56705271  13.89583673  19.9195973  -18.70763213  18.2021797 ]]\n",
            "32\n",
            "[[  5.72528353  -5.09433771  -9.30924293   1.68893598  21.75452185\n",
            "   -1.19309196 -11.24596083  -3.21618278  18.41454973 -22.32039873]]\n",
            "33\n",
            "[[  6.20641272  -5.94540352   8.89908265 -18.04004292  -0.6124828\n",
            "   -4.93217249  -4.94714999  22.1913689   23.43535659  -7.72100099]]\n",
            "34\n",
            "[[ -6.49640118  10.8383009  -22.00679525  -0.90284912   1.97134989\n",
            "  -13.27133523 -15.63948711  23.10543113  15.36427613   8.72624168]]\n",
            "35\n",
            "[[-15.57075903  18.0882346   -9.05931458   7.91818187 -18.5392454\n",
            "   17.25632916  -4.22287374   3.14437547 -18.47742274  -9.69190221]]\n",
            "36\n",
            "[[ 17.82691982   8.77534364 -18.75220316   2.10444382  12.79631882\n",
            "  -11.30514427  -6.90304249  -3.50351941  12.66761317 -12.89123483]]\n",
            "37\n",
            "[[  5.93911571  -9.51849553 -14.1139679  -11.82784621  21.7688021\n",
            "   18.81112932  -0.3845348  -23.6875079   -7.72459848  -5.74815088]]\n",
            "38\n",
            "[[ 17.46152244 -22.92600947  17.54434945   8.8776216   -7.73816973\n",
            "    9.20411116  20.66877041 -12.72338292  -7.42904375  18.07694431]]\n",
            "39\n",
            "[[ -2.41494318  -0.20403178  21.89153037  23.97095618  21.74610694\n",
            "    5.26592673   4.86604585 -16.44780349   9.59891733 -24.66589231]]\n",
            "40\n",
            "[[24.74496862 10.38831074  2.19460336 -6.0242965  20.59335831 -9.52561907\n",
            "  -0.43716359 14.46258908  5.92414925 10.71886696]]\n",
            "41\n",
            "[[  1.36291631 -19.47951279 -16.94737289   0.02135535  18.0435075\n",
            "   -4.94461442  -0.18472367  -0.7308664    4.91127498  19.19293299]]\n",
            "42\n",
            "[[  3.75175474 -13.74639788   2.18045626 -16.55947074 -10.69299631\n",
            "   -9.10742146  12.62198971  24.66275487   9.67538706 -12.18021216]]\n",
            "43\n",
            "[[ 10.8027337    2.28661379  -4.67257482  14.21803763   6.28196433\n",
            "    5.66143872 -14.1476583  -16.40444203   8.37920582 -10.34722504]]\n",
            "44\n",
            "[[ 15.54996834 -22.95094386  24.66506024 -14.13326583  -6.65768141\n",
            "   13.38139428 -13.88042599  23.34652614  20.86334961  16.62165652]]\n",
            "45\n",
            "[[ 11.95669034  15.03240322 -15.93261297  -3.73510848  -3.21972158\n",
            "    9.30623498 -14.01043264  -0.83609899  -1.75323337 -13.80610954]]\n",
            "46\n",
            "[[-11.15611693  11.6919124    1.04632612  12.27367194  20.13930798\n",
            "  -15.28613283 -24.43851089   2.71372637   9.83617136   7.23935025]]\n",
            "47\n",
            "[[  0.72305369   8.63930819  -3.41436245 -12.03588795   8.44437436\n",
            "   11.2377445  -22.40313496  21.71551304 -12.7087166  -24.73221719]]\n",
            "48\n",
            "[[ 12.57102926  23.64760576  -7.02984001 -13.20714267   4.52078301\n",
            "   13.92681324  21.69451058  21.12622217  17.76502623  -4.29643225]]\n",
            "49\n",
            "[[-22.09676404   2.90243083  11.85357235  22.07886268  -9.96017142\n",
            "  -13.77748585  -8.41208632  22.16716026  11.03036242  12.95384025]]\n",
            "50\n",
            "[[-18.42149873  16.1855177   23.63025837  23.64285312 -11.65606154\n",
            "   -8.16041914  -7.44580306   2.15193519  23.81034561  -7.28441917]]\n",
            "51\n",
            "[[ -7.41225305 -19.89608907  -4.67775138 -11.59540093   1.50642237\n",
            "   21.28732394  -5.36905264  15.79360922   9.81980096  18.51687114]]\n",
            "52\n",
            "[[-15.10062953 -23.90656844  24.70182939  14.88485936  -3.41962483\n",
            "  -19.23387745 -19.79078211   0.36392147 -19.15479216  15.13978451]]\n",
            "53\n",
            "[[ 11.61129278 -23.52066949 -15.72493136  18.44081998  -3.91991629\n",
            "   24.39644325  -5.14331252   6.60279536   5.41621332  -2.46674152]]\n",
            "54\n",
            "[[-15.58651092 -17.73508472  18.08496992  21.47416341  14.88180025\n",
            "    1.0680967    5.13532538 -10.6742459  -17.18937339   2.33485379]]\n",
            "55\n",
            "[[-15.4116608    6.10164422   2.96046715   3.41648936  16.77795797\n",
            "    1.93776524   9.95778477  -2.45297644  -4.79424071  -3.10535791]]\n",
            "56\n",
            "[[ -1.32176031 -16.80457023  20.46534275 -18.5632487   13.36290319\n",
            "  -16.63850582   2.94520078  16.73173901  20.3047799    7.88708813]]\n",
            "57\n",
            "[[ -7.06142636  15.34519527 -11.92255562 -19.07134546 -16.80552414\n",
            "  -18.95364542  -5.74417939  10.29435332  15.28324316 -15.7931602 ]]\n",
            "58\n",
            "[[-18.08105878  18.84965947   2.19226512 -14.53234627  -2.13032789\n",
            "   23.97096474 -17.98926019 -22.87183896  20.24353538 -13.40242433]]\n",
            "59\n",
            "[[-12.06902728 -17.65977604  24.64756764  13.31155361   3.11475888\n",
            "   -5.88244601  18.52344842 -11.14232591  17.89849259   1.73124937]]\n",
            "60\n",
            "[[  0.33464175   5.1692147  -17.67614566   1.10378133 -22.02174136\n",
            "   22.51474036 -15.71105269   0.74875631 -24.49190905   2.06072156]]\n",
            "61\n",
            "[[ 15.76713185  16.17978782  14.49265409  20.78082824  13.17886545\n",
            "   -6.33988444  -5.96479453  -2.91219937 -22.67554188  19.46658039]]\n",
            "62\n",
            "[[ 21.67316248   1.59451731  14.77152551  20.06965407 -20.40791074\n",
            "   -4.92264537  17.72288104   7.13635313  -8.31472589  -8.99003326]]\n",
            "63\n",
            "[[  0.0717532    1.30416451 -10.21679383 -10.49343969 -15.92739388\n",
            "    6.84020666  15.28697852 -20.02981153  -1.04146564  14.81352496]]\n",
            "64\n",
            "[[ 13.80227972  22.32537669 -22.43587935  -8.10168733 -23.51929571\n",
            "   11.51670518 -22.34467734 -21.77260113  -3.69835634   1.71856166]]\n",
            "65\n",
            "[[  8.93579983  -9.24430474   6.36471533  19.57264043   9.00834374\n",
            "  -10.54579278   1.93519287  23.8206417   13.21457187 -17.21214946]]\n",
            "66\n",
            "[[ -8.85112337  21.82960889  19.46249045   7.32765013 -15.02420097\n",
            "   19.61644569 -20.72602726  12.36894972  15.70737344  11.27229424]]\n",
            "67\n",
            "[[ 22.55114333  -8.7259613  -15.06267607  13.51217564   5.73180953\n",
            "   -2.36502623  -6.5315624   17.01313998  -8.90413039 -21.080039  ]]\n",
            "68\n",
            "[[ 20.73884404  -7.501525   -23.86806835   6.69191341 -10.50900316\n",
            "   -8.37940034   9.78937335 -12.7307711   10.87169287   2.94593611]]\n",
            "69\n",
            "[[-18.03723571 -20.12100701  12.6115247   -3.3589457   12.57569546\n",
            "    9.76066228  -0.43621285  10.0366631   15.46225141   3.42346941]]\n",
            "70\n",
            "[[ -2.32994226  14.55547288 -19.15468021 -22.79929764   6.30564365\n",
            "  -23.57684486  10.94927618 -17.90603739  16.99217711 -15.27383621]]\n",
            "71\n",
            "[[-15.17827737  18.32980555  -1.71636215  10.53753319   0.39740568\n",
            "    7.27833221 -14.92050763 -21.87355411   6.907877    -8.79878075]]\n",
            "72\n",
            "[[-23.47206463  -2.31619204  18.52574082  16.92598437 -12.31619509\n",
            "    0.29671116  -7.67779849  15.34830182   6.88430996   7.96673771]]\n",
            "73\n",
            "[[ 18.04420436  10.02910247  14.88285719  -9.63059354  14.46807002\n",
            "  -14.90793812   4.3829257   11.90246753   2.44731847  15.09696977]]\n",
            "74\n",
            "[[-14.75537704   4.7117102    6.03261402 -13.84887479  12.21051955\n",
            "  -12.44391711   9.71351702 -12.17577722 -12.03273277  20.21409724]]\n",
            "75\n",
            "[[20.93583587 -7.16915581  6.8162886   5.47672839  0.23410274 24.19207019\n",
            "  -0.02612431 -6.94276393  2.21211523  1.24674738]]\n",
            "76\n",
            "[[ 17.30108577  24.32843486  11.89344247 -17.89338056  22.6860632\n",
            "   10.83346807  -7.41294962  21.79420803  20.77911856 -20.71394589]]\n",
            "77\n",
            "[[  4.49097062 -20.59902999  -8.38805808  24.73028801  -6.72260799\n",
            "    4.57890898 -11.21848333   4.32292096 -19.15543736  -9.67320267]]\n",
            "78\n",
            "[[ 8.59807058 20.75983953 22.91304392  2.26388135 17.29075141 21.84238305\n",
            "  20.01088298 19.68228823 23.51215149  8.12301289]]\n",
            "79\n",
            "[[-10.29767331  -9.99122896  24.2942509   -2.74635718 -12.13368822\n",
            "    3.49778049   7.32870436 -21.03861297  24.72585563 -21.7974007 ]]\n",
            "80\n",
            "[[ 2.76617964 -8.36325827 -8.17079328  9.40032397 -8.25346841 11.79700208\n",
            "   7.09138607 -3.62960877 -7.83331606 15.57971877]]\n",
            "81\n",
            "[[ -5.80744417  -2.81632784  16.17028943   9.52589288 -21.51023974\n",
            "   20.32569054   3.7610435    5.69591252 -16.01913864  19.67263497]]\n",
            "82\n",
            "[[-16.58334247  17.92530975  -0.95576195 -11.62263203 -12.12808861\n",
            "   12.96771428  10.33439744  19.98558026  10.26593728  10.28808554]]\n",
            "83\n",
            "[[-17.28198507 -17.0622728   13.9062201   -0.49701359  16.77613877\n",
            "  -20.5074292   17.70095194 -11.39079821  20.98680305  23.56296779]]\n",
            "84\n",
            "[[ -5.79059361  21.15827747 -20.60904798   0.76228993   1.48005823\n",
            "    2.63269871  19.45828606   7.68306889  18.03948948 -17.78332052]]\n",
            "85\n",
            "[[13.75056989 -5.72898124  7.43222543  6.88873353  2.57960225  3.6757663\n",
            "   7.08845671 15.21535238 -9.81599505  5.34548392]]\n",
            "86\n",
            "[[ 11.33129968  13.88442897  -3.1246726  -23.22140077  21.93129843\n",
            "   17.02419221  -7.10947034  19.5584571  -10.47248126 -11.84609146]]\n",
            "87\n",
            "[[ 17.89835447  -9.62254541  -3.92763068   9.3392654   16.47488895\n",
            "  -15.94495453   2.95066417  11.97688104  21.71618742  -6.44001666]]\n",
            "88\n",
            "[[ 15.57683582  10.09425767  -8.32682308   5.15617175 -15.05442769\n",
            "   17.20538235 -18.64774196 -18.56563454  16.81181542 -10.34387317]]\n",
            "89\n",
            "[[  1.78405973 -21.43120031  21.37828749  -1.21318098  12.80785685\n",
            "  -16.295385    -3.96271999  10.20194638 -22.49434013 -13.24009888]]\n",
            "90\n",
            "[[-21.17201488 -21.30432451 -12.97929295 -13.1965876   -7.93891622\n",
            "  -22.7100259   -3.79603872   8.88827322   9.14005578   8.2989867 ]]\n",
            "91\n",
            "[[ 20.77666676   0.04981006  -2.07343479 -13.92876807  -8.42874392\n",
            "   23.1659491   17.67192033  18.02468328  -3.74729363  24.73294957]]\n",
            "92\n",
            "[[-15.53525053  17.14374699   1.86918308  14.54653853   1.13276205\n",
            "  -19.265981    20.21078642 -15.75504121   8.86580283  -9.30476207]]\n",
            "93\n",
            "[[ 12.52691179  22.48163223  -0.15193975  12.30694023  22.47383528\n",
            "   22.97813558 -14.87559842 -10.18412169  22.56282523   5.20980946]]\n",
            "94\n",
            "[[ 11.6406193   20.25455549  -3.06444762 -22.11288001 -21.43565903\n",
            "   -5.74634972   6.97579307 -21.4544997   -6.58082965 -23.39018353]]\n",
            "95\n",
            "[[ 6.46964321 19.11399299 -9.81902273 -7.71778091 -6.33629056 -7.69704998\n",
            "  10.09357442  5.16849345 23.64930162 15.86468505]]\n",
            "96\n",
            "[[ 10.60822725 -11.8951942   23.60524399   1.12218513   8.84986356\n",
            "   -9.10961535 -23.81823191   1.53371752  -5.32269569  13.19470713]]\n",
            "97\n",
            "[[ -0.92210205  18.16601549   1.69184184 -15.47826492  12.22548409\n",
            "   22.68175417  -0.15085445   6.70685034  20.6147139   -1.11180416]]\n",
            "98\n",
            "[[ -2.29601016  11.3005235   11.75833706   4.08644729  20.5833679\n",
            "   11.32767946   9.54678766 -13.08761537  23.61795907   7.34399599]]\n",
            "99\n",
            "[[-16.47099717 -14.18182616 -11.04787086   9.18458696  -8.5847555\n",
            "   -6.91028652  20.41636911 -10.01969628   6.84936768  19.03808596]]\n"
          ],
          "name": "stdout"
        }
      ]
    },
    {
      "metadata": {
        "id": "y1g1qfKO0Fv7",
        "colab_type": "code",
        "colab": {
          "base_uri": "https://localhost:8080/",
          "height": 312
        },
        "outputId": "c035a8a3-82d0-4095-8dec-2e2e05f7b2e0"
      },
      "cell_type": "code",
      "source": [
        "min_loss = np.asarray(min_loss)\n",
        "index1 = np.where(min_loss<43.95)\n",
        "index3 = np.where((min_loss>45)*(min_loss<46))\n",
        "index4 = np.where(min_loss>46)\n",
        "index2 = np.where((min_loss>43.95)*(min_loss<45))\n",
        "x = np.arange(n_samples)\n",
        "plt.figure()\n",
        "plt.title('negative log posterior at the end of minimization')\n",
        "plt.plot(x[index1],min_loss[index1], ls='', marker='o')\n",
        "plt.plot(x[index2],min_loss[index2], ls='', marker='o')\n",
        "plt.plot(x[index3],min_loss[index3], ls='', marker='o')\n",
        "plt.plot(x[index4],min_loss[index4], ls='', marker='o')\n",
        "#plt.legend(ncol=4, loc=(1.01,0))\n",
        "plt.xlabel('# random starting value')\n",
        "plt.ylabel('loss')"
      ],
      "execution_count": 357,
      "outputs": [
        {
          "output_type": "execute_result",
          "data": {
            "text/plain": [
              "Text(0, 0.5, 'loss')"
            ]
          },
          "metadata": {
            "tags": []
          },
          "execution_count": 357
        },
        {
          "output_type": "display_data",
          "data": {
            "image/png": "[encoded data removed]",
            "text/plain": [
              "<Figure size 432x288 with 1 Axes>"
            ]
          },
          "metadata": {
            "tags": []
          }
        }
      ]
    },
    {
      "metadata": {
        "id": "KSjUX9c7HW9i",
        "colab_type": "code",
        "colab": {}
      },
      "cell_type": "code",
      "source": [
        ""
      ],
      "execution_count": 0,
      "outputs": []
    },
    {
      "metadata": {
        "id": "wZRXl4YEaA49",
        "colab_type": "code",
        "outputId": "7a866b83-4acf-4bcf-8ed4-ed0f5d65a60a",
        "colab": {
          "base_uri": "https://localhost:8080/",
          "height": 312
        }
      },
      "cell_type": "code",
      "source": [
        "minima = np.asarray(minima)\n",
        "plt.figure()\n",
        "plt.title('value of hidden variables at minimum')\n",
        "for index, color, m in zip([index1, index2, index3, index4],['b','c','r','coral'], ['o','^','+','*']):\n",
        "  for ii in index[0]:\n",
        "    plt.plot(np.arange(hidden_size),minima[ii,0,:], ls='', marker=m, color=color)\n",
        "plt.legend(ncol=4, loc=(1.01,0))\n",
        "plt.xlabel('# hidden variable')\n",
        "plt.ylabel('value')\n",
        "plt.show()"
      ],
      "execution_count": 358,
      "outputs": [
        {
          "output_type": "stream",
          "text": [
            "W0424 21:20:40.607518 140198046865280 legend.py:1289] No handles with labels found to put in legend.\n"
          ],
          "name": "stderr"
        },
        {
          "output_type": "display_data",
          "data": {
            "image/png": "[encoded data removed]",
            "text/plain": [
              "<Figure size 432x288 with 1 Axes>"
            ]
          },
          "metadata": {
            "tags": []
          }
        }
      ]
    },
    {
      "metadata": {
        "id": "XQOfnK214gmt",
        "colab_type": "text"
      },
      "cell_type": "markdown",
      "source": [
        "assuming there are four distinct minima in this case"
      ]
    },
    {
      "metadata": {
        "id": "wRORJT_3436m",
        "colab_type": "code",
        "colab": {
          "base_uri": "https://localhost:8080/",
          "height": 283
        },
        "outputId": "9b264ae2-5e3b-481f-bf64-57a55770f1d4"
      },
      "cell_type": "code",
      "source": [
        "mus = []\n",
        "std_mus = []\n",
        "for index in [index1, index2, index3, index4]:\n",
        "  mus+=[np.mean(minima[index], axis=0)]\n",
        "  std_mus+=[np.std(minima[index], axis=0)]\n",
        "\n",
        "mus    =np.asarray(mus)\n",
        "std_mus=np.asarray(std_mus)\n",
        "plt.figure()\n",
        "for ii in range(4):\n",
        "  plt.errorbar(np.arange(10),mus[ii][0], yerr=std_mus[ii][0], ls='', marker='.')\n",
        "plt.xlabel('# hidden variable')\n",
        "plt.ylabel('mean value at each identified minimum')\n",
        "plt.show()"
      ],
      "execution_count": 359,
      "outputs": [
        {
          "output_type": "display_data",
          "data": {
            "image/png": "[encoded data removed]",
            "text/plain": [
              "<Figure size 432x288 with 1 Axes>"
            ]
          },
          "metadata": {
            "tags": []
          }
        }
      ]
    },
    {
      "metadata": {
        "id": "wHTVE_fO7VsY",
        "colab_type": "text"
      },
      "cell_type": "markdown",
      "source": [
        "get covariances at these three minima to build Gaussian mixture model"
      ]
    },
    {
      "metadata": {
        "id": "A3R_SGvH7icr",
        "colab_type": "code",
        "colab": {
          "base_uri": "https://localhost:8080/",
          "height": 151
        },
        "outputId": "144dcc32-3a00-4579-dce7-351d777eb51f"
      },
      "cell_type": "code",
      "source": [
        "mu_=[]\n",
        "sigma_=[]\n",
        "for ii in range(num_comp):\n",
        "  print(sess.run(MAP_reset,feed_dict={x_corr: masked_data, mymask: mask, MAP_ini:mus[ii]}))\n",
        "  mu_+=[sess.run(update2,feed_dict={x_corr: masked_data, lr:lrate, mymask:mask})]\n",
        "  sigma_+=[sess.run(update3,feed_dict={x_corr: masked_data, lr:lrate, mymask:mask})]\n",
        "mu_    = np.asarray(mu_)\n",
        "sigma_ = np.asarray(sigma_)"
      ],
      "execution_count": 360,
      "outputs": [
        {
          "output_type": "stream",
          "text": [
            "[[ 0.4066869   0.41663104 -1.5680795   0.30190706 -0.31247395  1.8305696\n",
            "   0.8510054  -0.19392285 -0.6123942   0.20210887]]\n",
            "[[ 0.39353412  0.41698    -1.6015519   0.49801722 -0.80228513  1.9639866\n",
            "   0.5304165  -0.07222392 -0.65915525  0.20229813]]\n",
            "[[ 0.21580945 -0.1532637  -1.5300335   0.6591806  -0.48208025  2.1738892\n",
            "   0.4687861  -0.359751   -0.636684    0.3526401 ]]\n",
            "[[-0.0857738  -0.39543882 -1.643194    1.2808583  -0.9102899   1.8937888\n",
            "   0.44074875 -0.23076358 -0.66793704  0.09915359]]\n"
          ],
          "name": "stdout"
        }
      ]
    },
    {
      "metadata": {
        "id": "vev8XyO3-6tx",
        "colab_type": "code",
        "colab": {
          "base_uri": "https://localhost:8080/",
          "height": 34
        },
        "outputId": "6ece7de9-ab99-4e00-b451-45997bd0054a"
      },
      "cell_type": "code",
      "source": [
        "w=[]\n",
        "#choosing weights from how often I land in this minimum?\n",
        "for index in [index1, index2, index3, index4]:\n",
        "  w+=[len(index[0])/n_samples]\n",
        "w=np.asarray(w)\n",
        "print(sum(w),w)\n"
      ],
      "execution_count": 361,
      "outputs": [
        {
          "output_type": "stream",
          "text": [
            "1.0 [0.35 0.35 0.28 0.02]\n"
          ],
          "name": "stdout"
        }
      ]
    },
    {
      "metadata": {
        "id": "E0Q-j5CbCRxd",
        "colab_type": "code",
        "colab": {}
      },
      "cell_type": "code",
      "source": [
        "sigma_=sigma_.reshape(1,4,10,10)\n",
        "mu_=mu_.reshape(1,4,10)"
      ],
      "execution_count": 0,
      "outputs": []
    },
    {
      "metadata": {
        "id": "LxeD9zIcMLdk",
        "colab_type": "code",
        "colab": {}
      },
      "cell_type": "code",
      "source": [
        "_= sess.run(gmm_sample_x,feed_dict={x_corr: masked_data, mymask: mask, mu_est: mu_, sigma_est: sigma_, w_est:w })\n",
        "_= sess.run(update_a,feed_dict={x_corr: masked_data, mymask: mask, mu_est: mu_, sigma_est: sigma_, w_est:w })\n",
        "_=sess.run(update_b,feed_dict={x_corr: masked_data, mymask: mask, mu_est: mu_, sigma_est: sigma_, w_est:w })\n",
        "_=sess.run(update_c,feed_dict={x_corr: masked_data, mymask: mask, mu_est: mu_, sigma_est: sigma_, w_est:w })"
      ],
      "execution_count": 0,
      "outputs": []
    },
    {
      "metadata": {
        "id": "nskJv1pDAaFU",
        "colab_type": "code",
        "colab": {
          "base_uri": "https://localhost:8080/",
          "height": 356
        },
        "outputId": "9a84710a-c1ff-4ec0-a6d6-e716b71b9cd8"
      },
      "cell_type": "code",
      "source": [
        "x_recons = sess.run(gmm_sample_x,feed_dict={x_corr: masked_data, sample_size_z:64 , mymask: mask})\n",
        "\n",
        "num = 6\n",
        "figure(figsize=(5,5))\n",
        "suptitle('samples from approx posterior (GMM) in data space, digit %d'%num)\n",
        "for jj in range(64):   \n",
        "  subplot(8,8,jj+1)\n",
        "  imshow(xrecons3[jj,0,:].reshape((28,28)),cmap='gray',vmin=0); \n",
        "  axis('off')"
      ],
      "execution_count": 364,
      "outputs": [
        {
          "output_type": "display_data",
          "data": {
            "image/png": "[encoded data removed]",
            "text/plain": [
              "<Figure size 360x360 with 64 Axes>"
            ]
          },
          "metadata": {
            "tags": []
          }
        }
      ]
    },
    {
      "metadata": {
        "id": "9useGDZZOw-f",
        "colab_type": "code",
        "colab": {}
      },
      "cell_type": "code",
      "source": [
        "posterior3_loss=[]"
      ],
      "execution_count": 0,
      "outputs": []
    },
    {
      "metadata": {
        "id": "kJ2xcBz3knga",
        "colab_type": "code",
        "outputId": "58ddd8fc-5e64-4f24-c229-ae0111e42e62",
        "colab": {
          "base_uri": "https://localhost:8080/",
          "height": 1025
        }
      },
      "cell_type": "code",
      "source": [
        "lrate=1e-2\n",
        "for ii in range(2000):\n",
        "  _, ll = sess.run([opt_op_elbo2, elbo2],feed_dict={x_corr: masked_data, lr:lrate, mymask:mask})\n",
        "  posterior3_loss.append(ll)\n",
        "  if ii%100==0:\n",
        "    print(ll)\n",
        "lrate=1e-4\n",
        "for ii in range(1000):\n",
        "  _, ll = sess.run([opt_op_elbo2, elbo2],feed_dict={x_corr: masked_data, lr:lrate, mymask:mask})\n",
        "  posterior3_loss.append(ll)\n",
        "  if ii%100==0:\n",
        "    print(ll)\n",
        "lrate=1e-8\n",
        "for ii in range(1000):\n",
        "  _, ll = sess.run([opt_op_elbo2, elbo2],feed_dict={x_corr: masked_data, lr:lrate, mymask:mask})\n",
        "  posterior3_loss.append(ll)\n",
        "  if ii%100==0:\n",
        "    print(ll)"
      ],
      "execution_count": 0,
      "outputs": [
        {
          "output_type": "stream",
          "text": [
            "51.133766\n",
            "50.43215\n",
            "49.607887\n",
            "49.728355\n",
            "48.844955\n",
            "50.44349\n",
            "48.81931\n",
            "49.312874\n",
            "49.397713\n",
            "49.82924\n",
            "49.099586\n",
            "49.868675\n",
            "49.052254\n",
            "49.49446\n",
            "49.32017\n",
            "49.386066\n",
            "48.76383\n",
            "49.11968\n",
            "48.974174\n",
            "49.377495\n",
            "49.165127\n",
            "49.233414\n",
            "49.59709\n",
            "48.915657\n",
            "48.71952\n",
            "49.118095\n",
            "49.44622\n",
            "49.144897\n",
            "48.88849\n",
            "48.85293\n",
            "48.408142\n",
            "49.402134\n",
            "48.610107\n",
            "49.07057\n",
            "48.926132\n",
            "49.004032\n",
            "48.863136\n",
            "49.37509\n",
            "48.622906\n",
            "50.092194\n",
            "49.479275\n",
            "49.622\n",
            "48.684418\n",
            "48.589813\n",
            "49.42263\n",
            "49.906113\n",
            "48.9205\n",
            "48.925194\n",
            "48.575947\n",
            "48.741383\n",
            "48.722683\n",
            "48.77562\n",
            "48.96171\n",
            "48.952366\n",
            "48.823624\n",
            "48.541485\n",
            "48.535034\n",
            "48.687397\n",
            "49.0568\n",
            "48.93477\n"
          ],
          "name": "stdout"
        }
      ]
    },
    {
      "metadata": {
        "id": "VtkYmV9QVVfr",
        "colab_type": "code",
        "outputId": "3ca73aa9-3b25-4430-b435-3659081c2b76",
        "colab": {
          "base_uri": "https://localhost:8080/",
          "height": 34
        }
      },
      "cell_type": "code",
      "source": [
        "sess.run([tf.reduce_mean(posterior_corr_elbo)],feed_dict={x_corr: masked_data, lr:lrate, mymask:mask})"
      ],
      "execution_count": 0,
      "outputs": [
        {
          "output_type": "execute_result",
          "data": {
            "text/plain": [
              "[-48.11485]"
            ]
          },
          "metadata": {
            "tags": []
          },
          "execution_count": 89
        }
      ]
    },
    {
      "metadata": {
        "id": "Oy-25e210T0L",
        "colab_type": "code",
        "outputId": "33a0d13c-43c6-4548-9f03-9d7936dad44b",
        "colab": {
          "base_uri": "https://localhost:8080/",
          "height": 269
        }
      },
      "cell_type": "code",
      "source": [
        "plot(posterior3_loss,label='data_loss')\n",
        "legend()\n",
        "yscale('log')"
      ],
      "execution_count": 0,
      "outputs": [
        {
          "output_type": "display_data",
          "data": {
            "image/png": "[encoded data removed]",
            "text/plain": [
              "<Figure size 432x288 with 1 Axes>"
            ]
          },
          "metadata": {
            "tags": []
          }
        }
      ]
    },
    {
      "metadata": {
        "id": "Pt6zZjLUO0-4",
        "colab_type": "code",
        "outputId": "743fbb9c-a44c-451a-f79b-62866942e57d",
        "colab": {
          "base_uri": "https://localhost:8080/",
          "height": 712
        }
      },
      "cell_type": "code",
      "source": [
        "xrecons3 = sess.run(x_mean_elbo, feed_dict={x_corr: masked_data, sample_size_z:64 , mymask: mask})\n",
        "print(xrecons3.shape)\n",
        "# xrecons4 = sess.run(var_mean, feed_dict={x_corr: masked_data, sample_size:64, mymask: mask})\n",
        "# print(xrecons3.shape)\n",
        "\n",
        "figure(figsize=(5,5))\n",
        "suptitle('average generated data from approx posterior samples (elbo)')\n",
        "for i in range(min(batch_size,16)):\n",
        "    if batch_size<16:\n",
        "      subplot(1,batch_size,i+1)\n",
        "      imshow(np.mean(xrecons3[:,i,:],axis=(0)).reshape((28,28)),cmap='gray',vmin=0); \n",
        "      axis('off')\n",
        "    else:\n",
        "      subplot(4,4,i+1)\n",
        "      imshow(np.mean(xrecons3[:,i,:],axis=(0)).reshape((28,28)),cmap='gray',vmin=0); \n",
        "      axis('off')\n",
        "      \n",
        "figure(figsize=(5,5))\n",
        "suptitle('truth')\n",
        "for i in range(16):\n",
        "    subplot(4,4,i+1)\n",
        "    imshow(x_truth[i].reshape((28,28)),cmap='gray',vmin=0); #colorbar()\n",
        "    axis('off')"
      ],
      "execution_count": 0,
      "outputs": [
        {
          "output_type": "stream",
          "text": [
            "(64, 64, 784)\n"
          ],
          "name": "stdout"
        },
        {
          "output_type": "display_data",
          "data": {
            "image/png": "[encoded data removed]",
            "text/plain": [
              "<Figure size 360x360 with 16 Axes>"
            ]
          },
          "metadata": {
            "tags": []
          }
        },
        {
          "output_type": "display_data",
          "data": {
            "image/png": "[encoded data removed]",
            "text/plain": [
              "<Figure size 360x360 with 16 Axes>"
            ]
          },
          "metadata": {
            "tags": []
          }
        }
      ]
    },
    {
      "metadata": {
        "id": "ZZS50EEiQb3N",
        "colab_type": "code",
        "colab": {}
      },
      "cell_type": "code",
      "source": [
        ""
      ],
      "execution_count": 0,
      "outputs": []
    }
  ]
}