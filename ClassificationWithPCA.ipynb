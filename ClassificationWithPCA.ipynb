{
  "nbformat": 4,
  "nbformat_minor": 0,
  "metadata": {
    "colab": {
      "name": "ClassificationWithPCA.ipynb",
      "version": "0.3.2",
      "provenance": [],
      "collapsed_sections": [],
      "include_colab_link": true
    },
    "kernelspec": {
      "name": "python3",
      "display_name": "Python 3"
    },
    "accelerator": "GPU"
  },
  "cells": [
    {
      "cell_type": "markdown",
      "metadata": {
        "id": "view-in-github",
        "colab_type": "text"
      },
      "source": [
        "<a href=\"https://colab.research.google.com/github/VMBoehm/DeNoPa/blob/master/ClassificationWithPCA.ipynb\" target=\"_parent\"><img src=\"https://colab.research.google.com/assets/colab-badge.svg\" alt=\"Open In Colab\"/></a>"
      ]
    },
    {
      "cell_type": "markdown",
      "metadata": {
        "id": "c9W1pCtHrxpj",
        "colab_type": "text"
      },
      "source": [
        "**This notebook does PCA on MNIST**\n",
        "\n",
        "\n"
      ]
    },
    {
      "cell_type": "code",
      "metadata": {
        "id": "ApinSp7LinS1",
        "colab_type": "code",
        "outputId": "d22b17d1-31df-4c7e-cb5f-7dcfd06156d1",
        "colab": {
          "base_uri": "https://localhost:8080/",
          "height": 121
        }
      },
      "source": [
        "from google.colab import drive\n",
        "\n",
        "ROOT = \"/content/gdrive\"\n",
        "\n",
        "drive.mount(ROOT, force_remount=True)"
      ],
      "execution_count": 2,
      "outputs": [
        {
          "output_type": "stream",
          "text": [
            "Go to this URL in a browser: https://accounts.google.com/o/oauth2/auth?client_id=947318989803-6bn6qk8qdgf4n4g3pfee6491hc0brc4i.apps.googleusercontent.com&redirect_uri=urn%3Aietf%3Awg%3Aoauth%3A2.0%3Aoob&scope=email%20https%3A%2F%2Fwww.googleapis.com%2Fauth%2Fdocs.test%20https%3A%2F%2Fwww.googleapis.com%2Fauth%2Fdrive%20https%3A%2F%2Fwww.googleapis.com%2Fauth%2Fdrive.photos.readonly%20https%3A%2F%2Fwww.googleapis.com%2Fauth%2Fpeopleapi.readonly&response_type=code\n",
            "\n",
            "Enter your authorization code:\n",
            "··········\n",
            "Mounted at /content/gdrive\n"
          ],
          "name": "stdout"
        }
      ]
    },
    {
      "cell_type": "code",
      "metadata": {
        "id": "D-Fe5G8m1FTC",
        "colab_type": "code",
        "outputId": "517152b8-52da-468f-8104-646a7b21048f",
        "colab": {
          "base_uri": "https://localhost:8080/",
          "height": 34
        }
      },
      "source": [
        "%pylab inline\n",
        "import pickle\n",
        "import numpy as np"
      ],
      "execution_count": 1,
      "outputs": [
        {
          "output_type": "stream",
          "text": [
            "Populating the interactive namespace from numpy and matplotlib\n"
          ],
          "name": "stdout"
        }
      ]
    },
    {
      "cell_type": "code",
      "metadata": {
        "id": "nFzYYSxY1FTL",
        "colab_type": "code",
        "outputId": "66d679c1-3ab9-48f0-a3b9-59e055806252",
        "colab": {
          "base_uri": "https://localhost:8080/",
          "height": 34
        }
      },
      "source": [
        "import gzip, zipfile, tarfile\n",
        "import os, shutil, re, string, urllib, fnmatch\n",
        "import pickle as pkl\n",
        "\n",
        "def _download_mnist_realval(dataset):\n",
        "    \"\"\"\n",
        "    Download the MNIST dataset if it is not present.\n",
        "    :return: The train, test and validation set.\n",
        "    \"\"\"\n",
        "    origin = (\n",
        "        'http://www.iro.umontreal.ca/~lisa/deep/data/mnist/mnist.pkl.gz'\n",
        "    )\n",
        "    print('Downloading data from %s' % origin)\n",
        "    urllib.request.urlretrieve(origin, dataset)\n",
        "\n",
        "def _get_datafolder_path():\n",
        "    full_path = os.path.abspath('.')\n",
        "    path = full_path +'/data'\n",
        "    return path\n",
        "\n",
        "def load_mnist_realval(\n",
        "        dataset=_get_datafolder_path()+'/mnist_real/mnist.pkl.gz'):\n",
        "    '''\n",
        "    Loads the real valued MNIST dataset\n",
        "    :param dataset: path to dataset file\n",
        "    :return: None\n",
        "    '''\n",
        "    if not os.path.isfile(dataset):\n",
        "        datasetfolder = os.path.dirname(dataset)\n",
        "        if not os.path.exists(datasetfolder):\n",
        "            os.makedirs(datasetfolder)\n",
        "        _download_mnist_realval(dataset)\n",
        "\n",
        "    f = gzip.open(dataset, 'rb')\n",
        "    train_set, valid_set, test_set = pkl.load(f, encoding='latin1')\n",
        "    f.close()\n",
        "    x_train, targets_train = train_set[0], train_set[1]\n",
        "    x_valid, targets_valid = valid_set[0], valid_set[1]\n",
        "    x_test, targets_test = test_set[0], test_set[1]\n",
        "    return x_train, targets_train, x_valid, targets_valid, x_test, targets_test\n",
        "  \n",
        "x_train, targets_train, x_valid, targets_valid, x_test, targets_test = load_mnist_realval()"
      ],
      "execution_count": 3,
      "outputs": [
        {
          "output_type": "stream",
          "text": [
            "Downloading data from http://www.iro.umontreal.ca/~lisa/deep/data/mnist/mnist.pkl.gz\n"
          ],
          "name": "stdout"
        }
      ]
    },
    {
      "cell_type": "code",
      "metadata": {
        "id": "uG-r7qx9tO4c",
        "colab_type": "code",
        "colab": {}
      },
      "source": [
        ""
      ],
      "execution_count": 0,
      "outputs": []
    },
    {
      "cell_type": "code",
      "metadata": {
        "id": "u6Nj60ob0Kz-",
        "colab_type": "code",
        "colab": {}
      },
      "source": [
        "pca_path = './gdrive/My Drive/PCA/mnist/'"
      ],
      "execution_count": 0,
      "outputs": []
    },
    {
      "cell_type": "code",
      "metadata": {
        "id": "JNGlBRXMsbLA",
        "colab_type": "code",
        "outputId": "73963e86-f0a3-440f-cff2-08a83f75042f",
        "colab": {
          "base_uri": "https://localhost:8080/",
          "height": 185
        }
      },
      "source": [
        "from sklearn.decomposition import PCA\n",
        "\n",
        "\n",
        "\n",
        "\n",
        "for ii in range(10):\n",
        "  indices = np.where(targets_train==ii)\n",
        "  x_train_class = x_train[indices]\n",
        "  mask_0 = np.asarray(np.where(np.var(x_train_class, axis=0)==0.)[0])\n",
        "  mask_1 = np.asarray(np.where(np.var(x_train_class, axis=0)>0.)[0])\n",
        "\n",
        "  cut_train = x_train_class[:,mask_1]\n",
        "  mean      = np.mean(cut_train, axis=0)\n",
        "  num       = cut_train.shape[1]\n",
        "  print(num)\n",
        "  pca = PCA(svd_solver='full',n_components=num)\n",
        "  pca.fit(cut_train)  \n",
        "\n",
        "  pickle.dump([pca,mask_0, mask_1,mean], open(pca_path+'pca_on_%d_num_comp_full_inpainted.pkl'%ii,'wb'))\n",
        "\n"
      ],
      "execution_count": 63,
      "outputs": [
        {
          "output_type": "stream",
          "text": [
            "563\n",
            "577\n",
            "607\n",
            "581\n",
            "584\n",
            "578\n",
            "558\n",
            "577\n",
            "553\n",
            "545\n"
          ],
          "name": "stdout"
        }
      ]
    },
    {
      "cell_type": "code",
      "metadata": {
        "id": "MWNq0B4psbkp",
        "colab_type": "code",
        "colab": {
          "base_uri": "https://localhost:8080/",
          "height": 554
        },
        "outputId": "acd77004-3bfd-4756-f4fb-969e7c6b2c97"
      },
      "source": [
        "print(mask_1)"
      ],
      "execution_count": 66,
      "outputs": [
        {
          "output_type": "stream",
          "text": [
            "[ 39  40  41  43  44  45  59  60  62  63  64  67  68  69  70  71  72  73\n",
            "  74  75  87  88  89  90  91  92  93  94  95  96  97  98  99 100 101 102\n",
            " 103 104 105 106 107 108 109 115 116 117 118 119 120 121 122 123 124 125\n",
            " 126 127 128 129 130 131 132 133 134 135 136 137 143 144 145 146 147 148\n",
            " 149 150 151 152 153 154 155 156 157 158 159 160 161 162 163 164 165 172\n",
            " 173 174 175 176 177 178 179 180 181 182 183 184 185 186 187 188 189 190\n",
            " 191 192 193 194 195 199 200 201 202 203 204 205 206 207 208 209 210 211\n",
            " 212 213 214 215 216 217 218 219 220 221 222 223 226 227 228 229 230 231\n",
            " 232 233 234 235 236 237 238 239 240 241 242 243 244 245 246 247 248 249\n",
            " 254 255 256 257 258 259 260 261 262 263 264 265 266 267 268 269 270 271\n",
            " 272 273 274 275 276 277 282 283 284 285 286 287 288 289 290 291 292 293\n",
            " 294 295 296 297 298 299 300 301 302 303 304 305 311 312 313 314 315 316\n",
            " 317 318 319 320 321 322 323 324 325 326 327 328 329 330 331 332 333 334\n",
            " 337 338 339 340 341 342 343 344 345 346 347 348 349 350 351 352 353 354\n",
            " 355 356 357 358 359 360 361 362 365 366 367 368 369 370 371 372 373 374\n",
            " 375 376 377 378 379 380 381 382 383 384 385 386 387 388 389 390 395 396\n",
            " 397 398 399 400 401 402 403 404 405 406 407 408 409 410 411 412 413 414\n",
            " 415 416 417 423 424 425 426 427 428 429 430 431 432 433 434 435 436 437\n",
            " 438 439 440 441 442 443 444 445 451 452 453 454 455 456 457 458 459 460\n",
            " 461 462 463 464 465 466 467 468 469 470 471 472 473 475 479 480 481 482\n",
            " 483 484 485 486 487 488 489 490 491 492 493 494 495 496 497 498 499 500\n",
            " 501 503 507 508 509 510 511 512 513 514 515 516 517 518 519 520 521 522\n",
            " 523 524 525 526 527 528 529 533 534 535 536 537 538 539 540 541 542 543\n",
            " 544 545 546 547 548 549 550 551 552 553 554 555 556 557 561 562 563 564\n",
            " 565 566 567 568 569 570 571 572 573 574 575 576 577 578 579 580 581 582\n",
            " 583 584 585 586 590 591 592 593 594 595 596 597 598 599 600 601 602 603\n",
            " 604 605 606 607 608 609 610 611 612 613 614 615 619 620 621 622 623 624\n",
            " 625 626 627 628 629 630 631 632 633 634 635 636 637 638 639 640 641 642\n",
            " 643 647 648 649 650 651 652 653 654 655 656 657 658 659 660 661 662 663\n",
            " 664 665 666 667 668 669 676 677 678 679 680 681 682 683 684 685 686 687\n",
            " 688 689 690 691 692 693 694 695 696 697 706 707 708 709 710 711 712 713\n",
            " 714 715 716 717 718]\n"
          ],
          "name": "stdout"
        }
      ]
    },
    {
      "cell_type": "code",
      "metadata": {
        "id": "p37su1P15I3Y",
        "colab_type": "code",
        "colab": {}
      },
      "source": [
        "import numpy.linalg as lg\n",
        "def get_probability_of_data(logdet,Cinv,data, mean):\n",
        "  d    = len(data)\n",
        "  data = data-mean\n",
        "  Cinv_d = np.einsum('jk,...k->...j',Cinv,data)\n",
        "#   plt.figure()\n",
        "#   plt.imshow(Cinv_d[2].reshape(28,28))\n",
        "#   plt.colorbar()\n",
        "#   plt.show()\n",
        "  \n",
        "  logprob = -0.5*logdet-0.5*d*np.log((2*np.pi))-0.5*np.einsum('ij,ij->i',data, Cinv_d)\n",
        "  return logprob"
      ],
      "execution_count": 0,
      "outputs": []
    },
    {
      "cell_type": "code",
      "metadata": {
        "id": "Wi8J_SPJvzq0",
        "colab_type": "code",
        "outputId": "db50b5f5-2ae5-444a-9e1b-d1e2309cb4d5",
        "colab": {
          "base_uri": "https://localhost:8080/",
          "height": 942
        }
      },
      "source": [
        "# do classification\n",
        "nums = [500]\n",
        "acc = np.zeros((len(nums),10))\n",
        "\n",
        "\n",
        "for ll in range(len(nums)):\n",
        "  num = nums[ll] \n",
        "  print(num, ll)\n",
        "  for ii in range(10):\n",
        "    print(ii)\n",
        "    indices = np.where(targets_test==ii)\n",
        "    x_test_class =x_test[indices]\n",
        "    logprob=[]\n",
        "    for jj in range(10):\n",
        "      pca, mask_0, mask_1, mean = pickle.load(open(pca_path+'pca_on_%d_num_comp_full_inpainted.pkl'%(jj),'rb')) \n",
        "      \n",
        "      inpaint   = np.random.randn(len(mask_0)*len(x_test_class))*0.01\n",
        "      cut_test  = x_test_class\n",
        "      cut_test[:,mask_0] = inpaint.reshape((len(x_test_class),len(mask_0)))\n",
        "      \n",
        "      sing     = pca.singular_values_[0:num]\n",
        "      R        = pca.components_[0:num]\n",
        "\n",
        "      sigma2   = np.mean(pca.explained_variance_[num::])\n",
        "      \n",
        "      C_       = np.zeros((28*28,28*28))\n",
        "      mean_d   = np.zeros((28*28))\n",
        "      \n",
        "      C_pca    = np.dot(R.T,np.dot(np.diag(sing), R))\n",
        "      \n",
        "      kk = 0\n",
        "      for nn in range(28*28):\n",
        "        if nn in mask_1:\n",
        "          C_[nn,mask_1] = C_pca[kk]\n",
        "          C_[nn,nn]+=sigma2\n",
        "          mean_d[nn] = mean[kk]\n",
        "          kk+=1\n",
        "        if nn in mask_0:\n",
        "          C_[nn,nn] = 0.1\n",
        "      \n",
        "          \n",
        "#       #C_ = C_+np.eye(len(C_))*\n",
        "      \n",
        "      \n",
        "#       plt.figure()\n",
        "#       plt.imshow(np.diag(C_).reshape((28,28)))\n",
        "#       plt.colorbar()\n",
        "#       plt.show()\n",
        "      \n",
        "#       plt.figure()\n",
        "#       plt.imshow(mean_d.reshape((28,28)))\n",
        "#       plt.colorbar()\n",
        "#       plt.show()\n",
        "      sign ,logdetC = lg.slogdet(C_)\n",
        "      if ii==0:\n",
        "        print(logdetC)\n",
        "        ones = np.diag(np.dot(lg.inv(C_),C_))\n",
        "        eigs = (np.linalg.eigvalsh(C_))\n",
        "        print(min(ones),max(ones), max(ones-np.diag(np.diag(ones))))\n",
        "        print('cond 1e6', max(eigs)/min(eigs)/1e6)\n",
        "        \n",
        "      logprob+=[get_probability_of_data(logdetC,lg.inv(C_),cut_test,mean_d)]\n",
        "      \n",
        "\n",
        "    correct = len(np.where(np.argsort(logprob, axis=0)[-1]==ii)[0])\n",
        "    acc_ = np.float(correct)/np.float(len(x_test_class))\n",
        "    print('acc:', acc_)\n",
        "    acc[ll,ii]=acc_\n",
        "    \n",
        "#pickle.dump(acc, open(pca_path+'accuracies_addedvariance_testset.pkl','wb'))"
      ],
      "execution_count": 175,
      "outputs": [
        {
          "output_type": "stream",
          "text": [
            "500 0\n",
            "0\n",
            "-422.63678386348556\n",
            "0.999999921778965 1.000000098634235 0.0\n",
            "cond 1e6 51.44892000328845\n",
            "-1328.077714008681\n",
            "0.999046275316374 1.0008328882795468 0.0\n",
            "cond 1e6 -966.8384496323786\n",
            "-424.87995433665793\n",
            "0.9999999976128642 1.000000002350535 0.0\n",
            "cond 1e6 2.304094522956379\n",
            "-401.0727823931528\n",
            "0.99999996843529 1.0000000385909047 0.0\n",
            "cond 1e6 8.379243014797597\n",
            "-403.4663434830914\n",
            "0.9999999974652027 1.0000000026778189 0.0\n",
            "cond 1e6 3.6774075922436538\n",
            "-365.717601391945\n",
            "0.9999999977976586 1.000000002316483 0.0\n",
            "cond 1e6 5.306781615942511\n",
            "-404.6672866263781\n",
            "0.9999999915687621 1.0000000083694196 0.0\n",
            "cond 1e6 40.33662958088355\n",
            "-479.3559799246268\n",
            "0.9999999955233534 1.0000000097293835 0.0\n",
            "cond 1e6 10.31035949931902\n",
            "-268.9077606996664\n",
            "0.9999999992027728 1.000000000914639 0.0\n",
            "cond 1e6 25.88856164793225\n",
            "-392.10909721092884\n",
            "0.9999998283163167 1.0000001650691956 0.0\n",
            "cond 1e6 115.66486743480694\n",
            "acc: 0.9489795918367347\n",
            "1\n"
          ],
          "name": "stdout"
        },
        {
          "output_type": "error",
          "ename": "KeyboardInterrupt",
          "evalue": "ignored",
          "traceback": [
            "\u001b[0;31m---------------------------------------------------------------------------\u001b[0m",
            "\u001b[0;31mKeyboardInterrupt\u001b[0m                         Traceback (most recent call last)",
            "\u001b[0;32m<ipython-input-175-9381143cff29>\u001b[0m in \u001b[0;36m<module>\u001b[0;34m()\u001b[0m\n\u001b[1;32m     59\u001b[0m         \u001b[0mprint\u001b[0m\u001b[0;34m(\u001b[0m\u001b[0;34m'cond 1e6'\u001b[0m\u001b[0;34m,\u001b[0m \u001b[0mmax\u001b[0m\u001b[0;34m(\u001b[0m\u001b[0meigs\u001b[0m\u001b[0;34m)\u001b[0m\u001b[0;34m/\u001b[0m\u001b[0mmin\u001b[0m\u001b[0;34m(\u001b[0m\u001b[0meigs\u001b[0m\u001b[0;34m)\u001b[0m\u001b[0;34m/\u001b[0m\u001b[0;36m1e6\u001b[0m\u001b[0;34m)\u001b[0m\u001b[0;34m\u001b[0m\u001b[0;34m\u001b[0m\u001b[0m\n\u001b[1;32m     60\u001b[0m \u001b[0;34m\u001b[0m\u001b[0m\n\u001b[0;32m---> 61\u001b[0;31m       \u001b[0mlogprob\u001b[0m\u001b[0;34m+=\u001b[0m\u001b[0;34m[\u001b[0m\u001b[0mget_probability_of_data\u001b[0m\u001b[0;34m(\u001b[0m\u001b[0mlogdetC\u001b[0m\u001b[0;34m,\u001b[0m\u001b[0mlg\u001b[0m\u001b[0;34m.\u001b[0m\u001b[0minv\u001b[0m\u001b[0;34m(\u001b[0m\u001b[0mC_\u001b[0m\u001b[0;34m)\u001b[0m\u001b[0;34m,\u001b[0m\u001b[0mcut_test\u001b[0m\u001b[0;34m,\u001b[0m\u001b[0mmean_d\u001b[0m\u001b[0;34m)\u001b[0m\u001b[0;34m]\u001b[0m\u001b[0;34m\u001b[0m\u001b[0;34m\u001b[0m\u001b[0m\n\u001b[0m\u001b[1;32m     62\u001b[0m \u001b[0;34m\u001b[0m\u001b[0m\n\u001b[1;32m     63\u001b[0m \u001b[0;34m\u001b[0m\u001b[0m\n",
            "\u001b[0;32m<ipython-input-147-80c5e767f877>\u001b[0m in \u001b[0;36mget_probability_of_data\u001b[0;34m(logdet, Cinv, data, mean)\u001b[0m\n\u001b[1;32m      3\u001b[0m   \u001b[0md\u001b[0m    \u001b[0;34m=\u001b[0m \u001b[0mlen\u001b[0m\u001b[0;34m(\u001b[0m\u001b[0mdata\u001b[0m\u001b[0;34m)\u001b[0m\u001b[0;34m\u001b[0m\u001b[0;34m\u001b[0m\u001b[0m\n\u001b[1;32m      4\u001b[0m   \u001b[0mdata\u001b[0m \u001b[0;34m=\u001b[0m \u001b[0mdata\u001b[0m\u001b[0;34m-\u001b[0m\u001b[0mmean\u001b[0m\u001b[0;34m\u001b[0m\u001b[0;34m\u001b[0m\u001b[0m\n\u001b[0;32m----> 5\u001b[0;31m   \u001b[0mCinv_d\u001b[0m \u001b[0;34m=\u001b[0m \u001b[0mnp\u001b[0m\u001b[0;34m.\u001b[0m\u001b[0meinsum\u001b[0m\u001b[0;34m(\u001b[0m\u001b[0;34m'jk,...k->...j'\u001b[0m\u001b[0;34m,\u001b[0m\u001b[0mCinv\u001b[0m\u001b[0;34m,\u001b[0m\u001b[0mdata\u001b[0m\u001b[0;34m)\u001b[0m\u001b[0;34m\u001b[0m\u001b[0;34m\u001b[0m\u001b[0m\n\u001b[0m\u001b[1;32m      6\u001b[0m \u001b[0;31m#   plt.figure()\u001b[0m\u001b[0;34m\u001b[0m\u001b[0;34m\u001b[0m\u001b[0;34m\u001b[0m\u001b[0m\n\u001b[1;32m      7\u001b[0m \u001b[0;31m#   plt.imshow(Cinv_d[2].reshape(28,28))\u001b[0m\u001b[0;34m\u001b[0m\u001b[0;34m\u001b[0m\u001b[0;34m\u001b[0m\u001b[0m\n",
            "\u001b[0;32m/usr/local/lib/python3.6/dist-packages/numpy/core/einsumfunc.py\u001b[0m in \u001b[0;36meinsum\u001b[0;34m(*operands, **kwargs)\u001b[0m\n\u001b[1;32m   1344\u001b[0m     \u001b[0;31m# If no optimization, run pure einsum\u001b[0m\u001b[0;34m\u001b[0m\u001b[0;34m\u001b[0m\u001b[0;34m\u001b[0m\u001b[0m\n\u001b[1;32m   1345\u001b[0m     \u001b[0;32mif\u001b[0m \u001b[0moptimize_arg\u001b[0m \u001b[0;32mis\u001b[0m \u001b[0;32mFalse\u001b[0m\u001b[0;34m:\u001b[0m\u001b[0;34m\u001b[0m\u001b[0;34m\u001b[0m\u001b[0m\n\u001b[0;32m-> 1346\u001b[0;31m         \u001b[0;32mreturn\u001b[0m \u001b[0mc_einsum\u001b[0m\u001b[0;34m(\u001b[0m\u001b[0;34m*\u001b[0m\u001b[0moperands\u001b[0m\u001b[0;34m,\u001b[0m \u001b[0;34m**\u001b[0m\u001b[0mkwargs\u001b[0m\u001b[0;34m)\u001b[0m\u001b[0;34m\u001b[0m\u001b[0;34m\u001b[0m\u001b[0m\n\u001b[0m\u001b[1;32m   1347\u001b[0m \u001b[0;34m\u001b[0m\u001b[0m\n\u001b[1;32m   1348\u001b[0m     \u001b[0mvalid_einsum_kwargs\u001b[0m \u001b[0;34m=\u001b[0m \u001b[0;34m[\u001b[0m\u001b[0;34m'out'\u001b[0m\u001b[0;34m,\u001b[0m \u001b[0;34m'dtype'\u001b[0m\u001b[0;34m,\u001b[0m \u001b[0;34m'order'\u001b[0m\u001b[0;34m,\u001b[0m \u001b[0;34m'casting'\u001b[0m\u001b[0;34m]\u001b[0m\u001b[0;34m\u001b[0m\u001b[0;34m\u001b[0m\u001b[0m\n",
            "\u001b[0;31mKeyboardInterrupt\u001b[0m: "
          ]
        }
      ]
    },
    {
      "cell_type": "code",
      "metadata": {
        "id": "2_u25auJJNZ_",
        "colab_type": "code",
        "colab": {}
      },
      "source": [
        "acctest = pickle.load(open(pca_path+'accuracies_addedvariance_testset.pkl','rb'))\n",
        "acc2test = pickle.load(open(pca_path+'accuracies_addedvariance_testset.pkl','rb'))"
      ],
      "execution_count": 0,
      "outputs": []
    },
    {
      "cell_type": "code",
      "metadata": {
        "id": "Y57hXS1HS9gm",
        "colab_type": "code",
        "colab": {}
      },
      "source": [
        "# nums = [10,20,30,40,50,60,70,80,90,100,200,300,400,500]\n",
        "# for ii in range(10):\n",
        "#   plt.semilogx(nums, acc1test[:,ii], marker='o',label='class %d'%ii)"
      ],
      "execution_count": 0,
      "outputs": []
    },
    {
      "cell_type": "code",
      "metadata": {
        "id": "rClvR_yFiR6w",
        "colab_type": "code",
        "colab": {
          "base_uri": "https://localhost:8080/",
          "height": 299
        },
        "outputId": "7d7ab23b-032e-4966-d111-78956172972e"
      },
      "source": [
        "nums =  [10,20,30,40,50,60,70,80,90,100,200,300,400,500]\n",
        "plt.title('classification accuracy by class - test set')\n",
        "for ii in range(10):\n",
        "  plt.semilogx(nums, acctest[:,ii], marker='o',label='class %d'%ii)\n",
        "  plt.xlabel('number of components')\n",
        "  plt.ylabel('classification accuracy')\n",
        "  plt.legend()"
      ],
      "execution_count": 98,
      "outputs": [
        {
          "output_type": "display_data",
          "data": {
            "image/png": "[encoded data removed]",
            "text/plain": [
              "<Figure size 432x288 with 1 Axes>"
            ]
          },
          "metadata": {
            "tags": []
          }
        }
      ]
    },
    {
      "cell_type": "code",
      "metadata": {
        "id": "GK4wuPfiWvb4",
        "colab_type": "code",
        "colab": {
          "base_uri": "https://localhost:8080/",
          "height": 333
        },
        "outputId": "85b687e4-44ee-4d48-c901-5f132d76bb20"
      },
      "source": [
        "nums = [10,20,30,40,50,60,70,80,90,100,200,300,400,500]\n",
        "plt.figure()\n",
        "plt.title('mean classification accuracy')\n",
        "plt.semilogx(nums, np.mean(acctest,axis=1), marker='o')\n",
        "print(max(np.mean(acctest,axis=1)))\n",
        "plt.xlabel('number of components')\n",
        "plt.ylabel('classification accuracy')\n",
        "plt.legend()\n",
        "plt.show()"
      ],
      "execution_count": 100,
      "outputs": [
        {
          "output_type": "stream",
          "text": [
            "No handles with labels found to put in legend.\n"
          ],
          "name": "stderr"
        },
        {
          "output_type": "stream",
          "text": [
            "0.9567052133091781\n"
          ],
          "name": "stdout"
        },
        {
          "output_type": "display_data",
          "data": {
            "image/png": "[encoded data removed]",
            "text/plain": [
              "<Figure size 432x288 with 1 Axes>"
            ]
          },
          "metadata": {
            "tags": []
          }
        }
      ]
    },
    {
      "cell_type": "code",
      "metadata": {
        "id": "7ivx0tFIUpzy",
        "colab_type": "code",
        "colab": {
          "base_uri": "https://localhost:8080/",
          "height": 185
        },
        "outputId": "8c93e360-ba69-46d0-ec7e-deeb0f2181f6"
      },
      "source": [
        "for jj in range(10):\n",
        "      pca, _, _, _= pickle.load(open(pca_path+'pca_on_%d_num_comp_full_inpainted.pkl'%(jj),'rb')) \n",
        "      print(min(pca.singular_values_))"
      ],
      "execution_count": 101,
      "outputs": [
        {
          "output_type": "stream",
          "text": [
            "4.383058e-06\n",
            "1.0252844e-05\n",
            "1.5102141e-06\n",
            "2.9009868e-06\n",
            "3.4189654e-06\n",
            "7.4171808e-06\n",
            "1.3611575e-06\n",
            "2.5060256e-06\n",
            "9.851534e-07\n",
            "1.690221e-06\n"
          ],
          "name": "stdout"
        }
      ]
    },
    {
      "cell_type": "code",
      "metadata": {
        "id": "nDK8DxprYkpY",
        "colab_type": "code",
        "colab": {
          "base_uri": "https://localhost:8080/",
          "height": 2134
        },
        "outputId": "bb3dfcf7-1e86-4eef-d974-1666e8a52b50"
      },
      "source": [
        "# do classification\n",
        "nums = [10,30,60,100,300,500]\n",
        "# do classification\n",
        "acc = np.zeros((len(nums),10))\n",
        "\n",
        "\n",
        "for ll in range(len(nums)):\n",
        "  num = nums[ll] \n",
        "  print(num, ll)\n",
        "  for ii in range(10):\n",
        "    print(ii)\n",
        "    indices = np.where(targets_train==ii)\n",
        "    x_test_class =x_train[indices]\n",
        "    logprob=[]\n",
        "    for jj in range(10):\n",
        "      pca, mask_0, mask_1, mean = pickle.load(open(pca_path+'pca_on_%d_num_comp_full_inpainted.pkl'%(jj),'rb')) \n",
        "      \n",
        "      inpaint   = np.random.randn(len(mask_0)*len(x_test_class))*0.01\n",
        "      cut_test  = x_test_class\n",
        "      cut_test[:,mask_0] = inpaint.reshape((len(x_test_class),len(mask_0)))\n",
        "      \n",
        "      sing     = pca.singular_values_[0:num]\n",
        "      R        = pca.components_[0:num]\n",
        "\n",
        "      sigma2   = np.mean(pca.explained_variance_[num::])\n",
        "      \n",
        "      C_       = np.zeros((28*28,28*28))\n",
        "      mean_d   = np.zeros((28*28))\n",
        "      \n",
        "      C_pca    = np.dot(R.T,np.dot(np.diag(sing), R))\n",
        "      \n",
        "      kk = 0\n",
        "      for nn in range(28*28):\n",
        "        if nn in mask_1:\n",
        "          C_[nn,mask_1] = C_pca[kk]\n",
        "          mean_d[nn] = mean[kk]\n",
        "          kk+=1\n",
        "        if nn in mask_0:\n",
        "          C_[nn:nn] = 0.1\n",
        "          \n",
        "      C_ = C_+np.eye(len(C_))*sigma2\n",
        "      \n",
        "#       plt.figure()\n",
        "#       plt.imshow(np.diag(C_).reshape((28,28)))\n",
        "#       plt.colorbar()\n",
        "#       plt.show()\n",
        "      \n",
        "#       plt.figure()\n",
        "#       plt.imshow(mean_d.reshape((28,28)))\n",
        "#       plt.colorbar()\n",
        "#       plt.show()\n",
        "      \n",
        "      #print(min(np.diag(C_)))\n",
        "      sign ,logdetC = lg.slogdet(C_)\n",
        "      logprob+=[get_probability_of_data(logdetC,lg.inv(C_),cut_test,mean_d)]\n",
        "      \n",
        "\n",
        "    correct = len(np.where(np.argsort(logprob, axis=0)[-1]==ii)[0])\n",
        "    acc_ = np.float(correct)/np.float(len(x_test_class))\n",
        "    print('acc:', acc_)\n",
        "    acc[ll,ii]=acc_\n",
        "    \n",
        "pickle.dump(acc, open(pca_path+'accuracies_addedvariance_trainset.pkl','wb'))"
      ],
      "execution_count": 86,
      "outputs": [
        {
          "output_type": "stream",
          "text": [
            "10 0\n",
            "0\n",
            "acc: 0.981346309813463\n",
            "1\n",
            "acc: 0.9695315251849242\n",
            "2\n",
            "acc: 0.9446457326892109\n",
            "3\n",
            "acc: 0.9206038031758479\n",
            "4\n",
            "acc: 0.960279892982095\n",
            "5\n",
            "acc: 0.9349755881047492\n",
            "6\n",
            "acc: 0.9701070490809938\n",
            "7\n",
            "acc: 0.9352657004830918\n",
            "8\n",
            "acc: 0.9196612969847171\n",
            "9\n",
            "acc: 0.921411387329591\n",
            "30 1\n",
            "0\n",
            "acc: 0.9894566098945661\n",
            "1\n",
            "acc: 0.9672419866150053\n",
            "2\n",
            "acc: 0.961755233494364\n",
            "3\n",
            "acc: 0.9378553224857871\n",
            "4\n",
            "acc: 0.9643959662481992\n",
            "5\n",
            "acc: 0.9462938304482912\n",
            "6\n",
            "acc: 0.9707129872752979\n",
            "7\n",
            "acc: 0.9466666666666667\n",
            "8\n",
            "acc: 0.9568360181743082\n",
            "9\n",
            "acc: 0.9504811547714515\n",
            "60 2\n",
            "0\n",
            "acc: 0.9860097323600974\n",
            "1\n",
            "acc: 0.9584360690383938\n",
            "2\n",
            "acc: 0.9557165861513688\n",
            "3\n",
            "acc: 0.9335424426583023\n",
            "4\n",
            "acc: 0.9573986416958222\n",
            "5\n",
            "acc: 0.9380825565912118\n",
            "6\n",
            "acc: 0.9686931932942839\n",
            "7\n",
            "acc: 0.9321739130434783\n",
            "8\n",
            "acc: 0.9454770755885997\n",
            "9\n",
            "acc: 0.9434643143544507\n",
            "100 3\n",
            "0\n",
            "acc: 0.9835766423357665\n",
            "1\n",
            "acc: 0.9566748855230714\n",
            "2\n",
            "acc: 0.9430354267310789\n",
            "3\n",
            "acc: 0.9125661634973534\n",
            "4\n",
            "acc: 0.9471084585305618\n",
            "5\n",
            "acc: 0.9207723035952063\n",
            "6\n",
            "acc: 0.9656635023227631\n",
            "7\n",
            "acc: 0.9074396135265701\n",
            "8\n",
            "acc: 0.9308137133415944\n",
            "9\n",
            "acc: 0.9248195669607057\n",
            "300 4\n",
            "0\n",
            "acc: 0.9616788321167883\n",
            "1\n",
            "acc: 0.9464600211342021\n",
            "2\n",
            "acc: 0.8466183574879227\n",
            "3\n",
            "acc: 0.7970986081160557\n",
            "4\n",
            "acc: 0.7863757974891953\n",
            "5\n",
            "acc: 0.7862849533954727\n",
            "6\n",
            "acc: 0.9315289840436275\n",
            "7\n",
            "acc: 0.5895652173913043\n",
            "8\n",
            "acc: 0.7711689384551839\n",
            "9\n",
            "acc: 0.892542101042502\n",
            "500 5\n",
            "0\n",
            "acc: 0.00040551500405515005\n",
            "1\n",
            "acc: 0.0\n",
            "2\n",
            "acc: 0.8788244766505636\n",
            "3\n",
            "acc: 0.08037639678494413\n",
            "4\n",
            "acc: 0.8051039308499691\n",
            "5\n",
            "acc: 0.5028850421660009\n",
            "6\n",
            "acc: 0.003635629165825086\n",
            "7\n",
            "acc: 0.09004830917874396\n",
            "8\n",
            "acc: 0.0016522098306484924\n",
            "9\n",
            "acc: 0.0\n"
          ],
          "name": "stdout"
        }
      ]
    },
    {
      "cell_type": "code",
      "metadata": {
        "id": "FYIEAkgig9V3",
        "colab_type": "code",
        "colab": {}
      },
      "source": [
        ""
      ],
      "execution_count": 0,
      "outputs": []
    },
    {
      "cell_type": "code",
      "metadata": {
        "id": "jN7b_KQWfaDE",
        "colab_type": "code",
        "colab": {
          "base_uri": "https://localhost:8080/",
          "height": 299
        },
        "outputId": "98b07302-346a-47da-ac53-c2fae51f22f1"
      },
      "source": [
        "acctrain=pickle.load(open(pca_path+'accuracies_addedvariance_trainset.pkl','rb'))\n",
        "\n",
        "nums = np.asarray([10,30,60,100,300,500])\n",
        "\n",
        "plt.figure()\n",
        "plt.title('classification accuracy by class - training set')\n",
        "for ii in range(10):\n",
        "  plt.semilogx(nums, acctrain[:,ii], marker='o',label='class %d'%ii)\n",
        "  plt.xlabel('number of components')\n",
        "  plt.ylabel('classification accuracy')\n",
        "  plt.legend()\n",
        "plt.show()\n",
        "\n",
        "# plt.figure()\n",
        "# plt.title('classification accuracy by class')\n",
        "# for ii in range(10):\n",
        "#   plt.semilogx(nums, acc1train[:,ii], marker='o',label='class %d'%ii)\n",
        "#   plt.xlabel('number of components')\n",
        "#   plt.ylabel('classification accuracy')\n",
        "#   plt.legend()\n",
        "# plt.show()"
      ],
      "execution_count": 88,
      "outputs": [
        {
          "output_type": "display_data",
          "data": {
            "image/png": "[encoded data removed]",
            "text/plain": [
              "<Figure size 432x288 with 1 Axes>"
            ]
          },
          "metadata": {
            "tags": []
          }
        }
      ]
    },
    {
      "cell_type": "code",
      "metadata": {
        "id": "z4ZLD9cKGssd",
        "colab_type": "code",
        "colab": {
          "base_uri": "https://localhost:8080/",
          "height": 299
        },
        "outputId": "cf458ccf-72f9-4efd-d697-9905c2343bc7"
      },
      "source": [
        "\n",
        "plt.figure()\n",
        "plt.title('mean classification accuracy')\n",
        "nums = [10,20,30,40,50,60,70,80,90,100,200,300,400,500]\n",
        "plt.semilogx(nums, np.mean(acctest,axis=1), marker='o', label='test set')\n",
        "nums = np.asarray([10,30,60,100,300,500])\n",
        "plt.semilogx(nums, np.mean(acctrain,axis=1), marker='o',markersize=4,label='train set')\n",
        "plt.xlabel('number of components')\n",
        "plt.ylabel('classification accuracy')\n",
        "plt.legend()\n",
        "plt.show()"
      ],
      "execution_count": 89,
      "outputs": [
        {
          "output_type": "display_data",
          "data": {
            "image/png": "[encoded data removed]",
            "text/plain": [
              "<Figure size 432x288 with 1 Axes>"
            ]
          },
          "metadata": {
            "tags": []
          }
        }
      ]
    },
    {
      "cell_type": "code",
      "metadata": {
        "id": "qDikZ0R54T6G",
        "colab_type": "code",
        "colab": {}
      },
      "source": [
        ""
      ],
      "execution_count": 0,
      "outputs": []
    },
    {
      "cell_type": "code",
      "metadata": {
        "id": "1l6llHgj4URd",
        "colab_type": "code",
        "colab": {}
      },
      "source": [
        ""
      ],
      "execution_count": 0,
      "outputs": []
    },
    {
      "cell_type": "code",
      "metadata": {
        "id": "7hhiBOh5Hkeo",
        "colab_type": "code",
        "colab": {
          "base_uri": "https://localhost:8080/",
          "height": 662
        },
        "outputId": "dcb44e48-1ba3-43da-83de-df8dfda0b169"
      },
      "source": [
        "# do classification\n",
        "nums = [30,500]\n",
        "\n",
        "hists= np.zeros((len(nums),10,2,80))\n",
        "\n",
        "for ii in [1,5]:\n",
        "  plt.figure()\n",
        "  plt.title('class %d'%ii)\n",
        "  for ll in range(len(nums)):\n",
        "    print(ll)\n",
        "    num = nums[ll] \n",
        "    indices = np.where(targets_test==ii)\n",
        "    x_test_class =x_test[indices]\n",
        "    pca, mask, mean= pickle.load(open(pca_path+'pca_on_%d_num_comp_full.pkl'%(jj),'rb')) \n",
        "    cut_test = x_test_class[:,mask[0]]\n",
        "    R        = pca.components_[0:num]\n",
        "    Rd = np.einsum('ij,...j->...i', R,cut_test)\n",
        "    RRd= np.einsum('ij,...j->...i', R.T, Rd)\n",
        "    _ = plt.hist(((RRd - cut_test)).flatten(), range=(-0.2,0.2),bins=80, normed=True, alpha=(len(nums)-ll)/len(nums),label='# comp %d'%num)\n",
        "  plt.xlim(-0.2,0.2)\n",
        "  plt.legend()\n",
        "  #plt.yscale('log')\n",
        "  plt.show()\n"
      ],
      "execution_count": 31,
      "outputs": [
        {
          "output_type": "stream",
          "text": [
            "0\n",
            "1\n"
          ],
          "name": "stdout"
        },
        {
          "output_type": "stream",
          "text": [
            "/usr/local/lib/python3.6/dist-packages/matplotlib/axes/_axes.py:6521: MatplotlibDeprecationWarning: \n",
            "The 'normed' kwarg was deprecated in Matplotlib 2.1 and will be removed in 3.1. Use 'density' instead.\n",
            "  alternative=\"'density'\", removal=\"3.1\")\n"
          ],
          "name": "stderr"
        },
        {
          "output_type": "display_data",
          "data": {
            "image/png": "[encoded data removed]",
            "text/plain": [
              "<Figure size 432x288 with 1 Axes>"
            ]
          },
          "metadata": {
            "tags": []
          }
        },
        {
          "output_type": "stream",
          "text": [
            "0\n",
            "1\n"
          ],
          "name": "stdout"
        },
        {
          "output_type": "display_data",
          "data": {
            "image/png": "[encoded data removed]",
            "text/plain": [
              "<Figure size 432x288 with 1 Axes>"
            ]
          },
          "metadata": {
            "tags": []
          }
        }
      ]
    },
    {
      "cell_type": "code",
      "metadata": {
        "id": "nBRis8LYx48T",
        "colab_type": "code",
        "colab": {
          "base_uri": "https://localhost:8080/",
          "height": 629
        },
        "outputId": "76bdfdf0-0459-4836-f657-9b9fa54c722d"
      },
      "source": [
        "# do classification\n",
        "nums = [30,500]\n",
        "\n",
        "hists= np.zeros((len(nums),10,2,80))\n",
        "for ll in range(len(nums)):\n",
        "  print(ll)\n",
        "  num = nums[ll] \n",
        "  plt.figure()\n",
        "  plt.title('# comp %d'%num)\n",
        "  alpha=1.\n",
        "  for ii in [1,2,5]:\n",
        "    indices = np.where(targets_test==ii)\n",
        "    x_test_class =x_test[indices]\n",
        "    pca, mask, mean = pickle.load(open(pca_path+'pca_on_%d_num_comp_full.pkl'%(jj),'rb')) \n",
        "    cut_test = x_test_class[:,mask[0]]\n",
        "    R        = pca.components_[0:num]\n",
        "    Rd = np.einsum('ij,...j->...i', R,cut_test)\n",
        "    RRd= np.einsum('ij,...j->...i', R.T, Rd)\n",
        "    _ = plt.hist(((RRd - cut_test)).flatten(), range=(-0.2,0.2),bins=80, normed=True,alpha=alpha, label='class %d'%ii)\n",
        "    alpha-=0.3\n",
        "  plt.yscale('log')\n",
        "  plt.xlim(-0.2,0.2)\n",
        "  plt.legend()\n",
        "  plt.show()\n"
      ],
      "execution_count": 23,
      "outputs": [
        {
          "output_type": "stream",
          "text": [
            "0\n"
          ],
          "name": "stdout"
        },
        {
          "output_type": "stream",
          "text": [
            "/usr/local/lib/python3.6/dist-packages/matplotlib/axes/_axes.py:6521: MatplotlibDeprecationWarning: \n",
            "The 'normed' kwarg was deprecated in Matplotlib 2.1 and will be removed in 3.1. Use 'density' instead.\n",
            "  alternative=\"'density'\", removal=\"3.1\")\n"
          ],
          "name": "stderr"
        },
        {
          "output_type": "display_data",
          "data": {
            "image/png": "[encoded data removed]",
            "text/plain": [
              "<Figure size 432x288 with 1 Axes>"
            ]
          },
          "metadata": {
            "tags": []
          }
        },
        {
          "output_type": "stream",
          "text": [
            "1\n"
          ],
          "name": "stdout"
        },
        {
          "output_type": "display_data",
          "data": {
            "image/png": "[encoded data removed]",
            "text/plain": [
              "<Figure size 432x288 with 1 Axes>"
            ]
          },
          "metadata": {
            "tags": []
          }
        }
      ]
    },
    {
      "cell_type": "code",
      "metadata": {
        "id": "gffiwx6X3PSD",
        "colab_type": "code",
        "colab": {}
      },
      "source": [
        ""
      ],
      "execution_count": 0,
      "outputs": []
    }
  ]
}