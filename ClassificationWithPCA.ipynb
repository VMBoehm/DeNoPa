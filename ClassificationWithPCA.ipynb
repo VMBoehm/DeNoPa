{
  "nbformat": 4,
  "nbformat_minor": 0,
  "metadata": {
    "colab": {
      "name": "ClassificationWithPCA.ipynb",
      "version": "0.3.2",
      "provenance": [],
      "collapsed_sections": [],
      "include_colab_link": true
    },
    "kernelspec": {
      "name": "python3",
      "display_name": "Python 3"
    },
    "accelerator": "GPU"
  },
  "cells": [
    {
      "cell_type": "markdown",
      "metadata": {
        "id": "view-in-github",
        "colab_type": "text"
      },
      "source": [
        "<a href=\"https://colab.research.google.com/github/VMBoehm/DeNoPa/blob/master/ClassificationWithPCA.ipynb\" target=\"_parent\"><img src=\"https://colab.research.google.com/assets/colab-badge.svg\" alt=\"Open In Colab\"/></a>"
      ]
    },
    {
      "cell_type": "markdown",
      "metadata": {
        "id": "c9W1pCtHrxpj",
        "colab_type": "text"
      },
      "source": [
        "**This notebook does PCA on MNIST**\n",
        "\n",
        "\n"
      ]
    },
    {
      "cell_type": "code",
      "metadata": {
        "id": "ApinSp7LinS1",
        "colab_type": "code",
        "outputId": "d22b17d1-31df-4c7e-cb5f-7dcfd06156d1",
        "colab": {
          "base_uri": "https://localhost:8080/",
          "height": 121
        }
      },
      "source": [
        "from google.colab import drive\n",
        "\n",
        "ROOT = \"/content/gdrive\"\n",
        "\n",
        "drive.mount(ROOT, force_remount=True)"
      ],
      "execution_count": 2,
      "outputs": [
        {
          "output_type": "stream",
          "text": [
            "Go to this URL in a browser: https://accounts.google.com/o/oauth2/auth?client_id=947318989803-6bn6qk8qdgf4n4g3pfee6491hc0brc4i.apps.googleusercontent.com&redirect_uri=urn%3Aietf%3Awg%3Aoauth%3A2.0%3Aoob&scope=email%20https%3A%2F%2Fwww.googleapis.com%2Fauth%2Fdocs.test%20https%3A%2F%2Fwww.googleapis.com%2Fauth%2Fdrive%20https%3A%2F%2Fwww.googleapis.com%2Fauth%2Fdrive.photos.readonly%20https%3A%2F%2Fwww.googleapis.com%2Fauth%2Fpeopleapi.readonly&response_type=code\n",
            "\n",
            "Enter your authorization code:\n",
            "··········\n",
            "Mounted at /content/gdrive\n"
          ],
          "name": "stdout"
        }
      ]
    },
    {
      "cell_type": "code",
      "metadata": {
        "id": "D-Fe5G8m1FTC",
        "colab_type": "code",
        "outputId": "517152b8-52da-468f-8104-646a7b21048f",
        "colab": {
          "base_uri": "https://localhost:8080/",
          "height": 34
        }
      },
      "source": [
        "%pylab inline\n",
        "import pickle\n",
        "import numpy as np"
      ],
      "execution_count": 1,
      "outputs": [
        {
          "output_type": "stream",
          "text": [
            "Populating the interactive namespace from numpy and matplotlib\n"
          ],
          "name": "stdout"
        }
      ]
    },
    {
      "cell_type": "code",
      "metadata": {
        "id": "nFzYYSxY1FTL",
        "colab_type": "code",
        "outputId": "66d679c1-3ab9-48f0-a3b9-59e055806252",
        "colab": {
          "base_uri": "https://localhost:8080/",
          "height": 34
        }
      },
      "source": [
        "import gzip, zipfile, tarfile\n",
        "import os, shutil, re, string, urllib, fnmatch\n",
        "import pickle as pkl\n",
        "\n",
        "def _download_mnist_realval(dataset):\n",
        "    \"\"\"\n",
        "    Download the MNIST dataset if it is not present.\n",
        "    :return: The train, test and validation set.\n",
        "    \"\"\"\n",
        "    origin = (\n",
        "        'http://www.iro.umontreal.ca/~lisa/deep/data/mnist/mnist.pkl.gz'\n",
        "    )\n",
        "    print('Downloading data from %s' % origin)\n",
        "    urllib.request.urlretrieve(origin, dataset)\n",
        "\n",
        "def _get_datafolder_path():\n",
        "    full_path = os.path.abspath('.')\n",
        "    path = full_path +'/data'\n",
        "    return path\n",
        "\n",
        "def load_mnist_realval(\n",
        "        dataset=_get_datafolder_path()+'/mnist_real/mnist.pkl.gz'):\n",
        "    '''\n",
        "    Loads the real valued MNIST dataset\n",
        "    :param dataset: path to dataset file\n",
        "    :return: None\n",
        "    '''\n",
        "    if not os.path.isfile(dataset):\n",
        "        datasetfolder = os.path.dirname(dataset)\n",
        "        if not os.path.exists(datasetfolder):\n",
        "            os.makedirs(datasetfolder)\n",
        "        _download_mnist_realval(dataset)\n",
        "\n",
        "    f = gzip.open(dataset, 'rb')\n",
        "    train_set, valid_set, test_set = pkl.load(f, encoding='latin1')\n",
        "    f.close()\n",
        "    x_train, targets_train = train_set[0], train_set[1]\n",
        "    x_valid, targets_valid = valid_set[0], valid_set[1]\n",
        "    x_test, targets_test = test_set[0], test_set[1]\n",
        "    return x_train, targets_train, x_valid, targets_valid, x_test, targets_test\n",
        "  \n",
        "x_train, targets_train, x_valid, targets_valid, x_test, targets_test = load_mnist_realval()"
      ],
      "execution_count": 3,
      "outputs": [
        {
          "output_type": "stream",
          "text": [
            "Downloading data from http://www.iro.umontreal.ca/~lisa/deep/data/mnist/mnist.pkl.gz\n"
          ],
          "name": "stdout"
        }
      ]
    },
    {
      "cell_type": "code",
      "metadata": {
        "id": "uG-r7qx9tO4c",
        "colab_type": "code",
        "colab": {}
      },
      "source": [
        ""
      ],
      "execution_count": 0,
      "outputs": []
    },
    {
      "cell_type": "code",
      "metadata": {
        "id": "u6Nj60ob0Kz-",
        "colab_type": "code",
        "colab": {}
      },
      "source": [
        "pca_path = './gdrive/My Drive/PCA/mnist/'"
      ],
      "execution_count": 0,
      "outputs": []
    },
    {
      "cell_type": "code",
      "metadata": {
        "id": "JNGlBRXMsbLA",
        "colab_type": "code",
        "outputId": "085a186c-9387-441f-81ad-24d52708edad",
        "colab": {
          "base_uri": "https://localhost:8080/",
          "height": 353
        }
      },
      "source": [
        "from sklearn.decomposition import PCA\n",
        "\n",
        "\n",
        "\n",
        "\n",
        "for ii in range(10):\n",
        "  indices = np.where(targets_train==ii)\n",
        "  x_train_class = x_train[indices]\n",
        "  mask = np.where(np.var(x_train_class, axis=0)>0.)\n",
        "  cut_train = x_train_class[:,mask[0]]\n",
        "  mean      = np.mean(cut_train, axis=0)\n",
        "  num       = len(mask[0])\n",
        "  pca = PCA(svd_solver='full',n_components=num)\n",
        "  pca.fit(cut_train)  \n",
        "\n",
        "  pickle.dump([pca,mask,mean], open(pca_path+'pca_on_%d_num_comp_full.pkl'%ii,'wb'))\n",
        "\n"
      ],
      "execution_count": 9,
      "outputs": [
        {
          "output_type": "stream",
          "text": [
            "563\n",
            "(563,)\n",
            "577\n",
            "(577,)\n",
            "607\n",
            "(607,)\n",
            "581\n",
            "(581,)\n",
            "584\n",
            "(584,)\n",
            "578\n",
            "(578,)\n",
            "558\n",
            "(558,)\n",
            "577\n",
            "(577,)\n",
            "553\n",
            "(553,)\n",
            "545\n",
            "(545,)\n"
          ],
          "name": "stdout"
        }
      ]
    },
    {
      "cell_type": "code",
      "metadata": {
        "id": "MWNq0B4psbkp",
        "colab_type": "code",
        "colab": {}
      },
      "source": [
        ""
      ],
      "execution_count": 0,
      "outputs": []
    },
    {
      "cell_type": "code",
      "metadata": {
        "id": "p37su1P15I3Y",
        "colab_type": "code",
        "colab": {}
      },
      "source": [
        "import numpy.linalg as lg\n",
        "def get_probability_of_data(logdet,Cinv,data, mean):\n",
        "  d    = len(data)\n",
        "  data = data-mean\n",
        "  Cinv_d = np.einsum('jk,...k->...j',Cinv,data)\n",
        "  logprob = -0.5*logdet-0.5*d*np.log((2*np.pi))-0.5*np.einsum('ij,ij->i',data, Cinv_d)\n",
        "  return logprob"
      ],
      "execution_count": 0,
      "outputs": []
    },
    {
      "cell_type": "code",
      "metadata": {
        "id": "Wi8J_SPJvzq0",
        "colab_type": "code",
        "outputId": "1f4dd118-aba6-45aa-f915-238baadb62a5",
        "colab": {
          "base_uri": "https://localhost:8080/",
          "height": 7308
        }
      },
      "source": [
        "# do classification\n",
        "nums = [10,20,30,40,50,60,70,80,90,100,200,300,400,500]\n",
        "acc1 = np.zeros((len(nums),10))\n",
        "acc2 = np.zeros((len(nums),10))\n",
        "\n",
        "for ll in range(len(nums)):\n",
        "  num = nums[ll] \n",
        "  print(num, ll)\n",
        "  for ii in range(10):\n",
        "    print(ii)\n",
        "    indices = np.where(targets_test==ii)\n",
        "    x_test_class =x_test[indices]\n",
        "    logprob1=[]\n",
        "    logprob2=[]\n",
        "    for jj in range(10):\n",
        "      pca, mask, mean = pickle.load(open(pca_path+'pca_on_%d_num_comp_full.pkl'%(jj),'rb')) \n",
        "      cut_test = x_test_class[:,mask[0]]\n",
        "      sing     = pca.singular_values_[0:num]\n",
        "      R        = pca.components_[0:num]\n",
        "      sigma2_1 = pca.explained_variance_[num]\n",
        "      sigma2_2 = np.mean(pca.explained_variance_[num::])\n",
        "      \n",
        "      C_       = np.dot(R.T,np.dot(np.diag(sing), R))+np.eye(len(R.T))*sigma2_1\n",
        "      sign ,logdetC = lg.slogdet(C_)\n",
        "      logprob1+=[get_probability_of_data(logdetC,lg.inv(C_),cut_test,mean)]\n",
        "      \n",
        "      C_       = np.dot(R.T,np.dot(np.diag(sing), R))+np.eye(len(R.T))*sigma2_2\n",
        "      sign ,logdetC = lg.slogdet(C_)\n",
        "      logprob2+=[get_probability_of_data(logdetC,lg.inv(C_),cut_test,mean)]\n",
        "      \n",
        "    logprob1=np.asarray(logprob1)\n",
        "    correct = len(np.where(np.argsort(logprob1, axis=0)[-1]==ii)[0])\n",
        "    acc_1 = np.float(correct)/np.float(len(x_test_class))\n",
        "    print('acc 1:', acc_1)\n",
        "    acc1[ll,ii]=acc_1\n",
        "    \n",
        "    logprob2=np.asarray(logprob2)\n",
        "    correct = len(np.where(np.argsort(logprob2, axis=0)[-1]==ii)[0])\n",
        "    acc_2 = np.float(correct)/np.float(len(x_test_class))\n",
        "    print('acc 2:', acc_2)\n",
        "    acc2[ll,ii]=acc_2\n",
        "    \n",
        "pickle.dump(acc1, open(pca_path+'accuracies1_testset.pkl','wb'))\n",
        "pickle.dump(acc2, open(pca_path+'accuracies2_testset.pkl','wb'))"
      ],
      "execution_count": 10,
      "outputs": [
        {
          "output_type": "stream",
          "text": [
            "10 0\n",
            "0\n",
            "acc 1: 0.0\n",
            "acc 2: 0.9826530612244898\n",
            "1\n",
            "acc 1: 1.0\n",
            "acc 2: 0.9691629955947136\n",
            "2\n",
            "acc 1: 0.0\n",
            "acc 2: 0.9835271317829457\n",
            "3\n",
            "acc 1: 0.0\n",
            "acc 2: 0.9396039603960396\n",
            "4\n",
            "acc 1: 0.0\n",
            "acc 2: 0.9714867617107943\n",
            "5\n",
            "acc 1: 0.0\n",
            "acc 2: 0.9383408071748879\n",
            "6\n",
            "acc 1: 0.0\n",
            "acc 2: 0.9509394572025052\n",
            "7\n",
            "acc 1: 0.0\n",
            "acc 2: 0.9153696498054474\n",
            "8\n",
            "acc 1: 0.0\n",
            "acc 2: 0.8737166324435318\n",
            "9\n",
            "acc 1: 0.0\n",
            "acc 2: 0.798810703666997\n",
            "20 1\n",
            "0\n",
            "acc 1: 0.09897959183673469\n",
            "acc 2: 0.9857142857142858\n",
            "1\n",
            "acc 1: 1.0\n",
            "acc 2: 0.9656387665198238\n",
            "2\n",
            "acc 1: 0.0\n",
            "acc 2: 0.9874031007751938\n",
            "3\n",
            "acc 1: 0.0\n",
            "acc 2: 0.9455445544554455\n",
            "4\n",
            "acc 1: 0.002036659877800407\n",
            "acc 2: 0.9877800407331976\n",
            "5\n",
            "acc 1: 0.0\n",
            "acc 2: 0.968609865470852\n",
            "6\n",
            "acc 1: 0.028183716075156576\n",
            "acc 2: 0.9551148225469729\n",
            "7\n",
            "acc 1: 0.020428015564202335\n",
            "acc 2: 0.9260700389105059\n",
            "8\n",
            "acc 1: 0.0\n",
            "acc 2: 0.9117043121149897\n",
            "9\n",
            "acc 1: 0.0\n",
            "acc 2: 0.8374628344895937\n",
            "30 2\n",
            "0\n",
            "acc 1: 0.5908163265306122\n",
            "acc 2: 0.9836734693877551\n",
            "1\n",
            "acc 1: 1.0\n",
            "acc 2: 0.9612334801762115\n",
            "2\n",
            "acc 1: 0.015503875968992248\n",
            "acc 2: 0.9903100775193798\n",
            "3\n",
            "acc 1: 0.026732673267326732\n",
            "acc 2: 0.9465346534653465\n",
            "4\n",
            "acc 1: 0.03767820773930754\n",
            "acc 2: 0.984725050916497\n",
            "5\n",
            "acc 1: 0.020179372197309416\n",
            "acc 2: 0.9630044843049327\n",
            "6\n",
            "acc 1: 0.3048016701461378\n",
            "acc 2: 0.9498956158663883\n",
            "7\n",
            "acc 1: 0.25486381322957197\n",
            "acc 2: 0.9328793774319066\n",
            "8\n",
            "acc 1: 0.0\n",
            "acc 2: 0.9147843942505134\n",
            "9\n",
            "acc 1: 0.0019821605550049554\n",
            "acc 2: 0.8632309217046581\n",
            "40 3\n",
            "0\n",
            "acc 1: 0.8612244897959184\n",
            "acc 2: 0.9846938775510204\n",
            "1\n",
            "acc 1: 1.0\n",
            "acc 2: 0.9506607929515418\n",
            "2\n",
            "acc 1: 0.07848837209302326\n",
            "acc 2: 0.9883720930232558\n",
            "3\n",
            "acc 1: 0.18118811881188118\n",
            "acc 2: 0.9405940594059405\n",
            "4\n",
            "acc 1: 0.031568228105906315\n",
            "acc 2: 0.9806517311608961\n",
            "5\n",
            "acc 1: 0.16928251121076232\n",
            "acc 2: 0.9663677130044843\n",
            "6\n",
            "acc 1: 0.5365344467640919\n",
            "acc 2: 0.941544885177453\n",
            "7\n",
            "acc 1: 0.5680933852140078\n",
            "acc 2: 0.933852140077821\n",
            "8\n",
            "acc 1: 0.0\n",
            "acc 2: 0.9147843942505134\n",
            "9\n",
            "acc 1: 0.005946481665014866\n",
            "acc 2: 0.848364717542121\n",
            "50 4\n",
            "0\n",
            "acc 1: 0.9438775510204082\n",
            "acc 2: 0.9744897959183674\n",
            "1\n",
            "acc 1: 0.9991189427312775\n",
            "acc 2: 0.9444933920704845\n",
            "2\n",
            "acc 1: 0.25387596899224807\n",
            "acc 2: 0.9854651162790697\n",
            "3\n",
            "acc 1: 0.297029702970297\n",
            "acc 2: 0.9346534653465347\n",
            "4\n",
            "acc 1: 0.20264765784114053\n",
            "acc 2: 0.9796334012219959\n",
            "5\n",
            "acc 1: 0.3217488789237668\n",
            "acc 2: 0.9585201793721974\n",
            "6\n",
            "acc 1: 0.7578288100208769\n",
            "acc 2: 0.9446764091858038\n",
            "7\n",
            "acc 1: 0.6157587548638133\n",
            "acc 2: 0.9309338521400778\n",
            "8\n",
            "acc 1: 0.0\n",
            "acc 2: 0.8942505133470225\n",
            "9\n",
            "acc 1: 0.008919722497522299\n",
            "acc 2: 0.8334985133795837\n",
            "60 5\n",
            "0\n",
            "acc 1: 0.9653061224489796\n",
            "acc 2: 0.963265306122449\n",
            "1\n",
            "acc 1: 0.9991189427312775\n",
            "acc 2: 0.9383259911894273\n",
            "2\n",
            "acc 1: 0.4108527131782946\n",
            "acc 2: 0.9825581395348837\n",
            "3\n",
            "acc 1: 0.4871287128712871\n",
            "acc 2: 0.9207920792079208\n",
            "4\n",
            "acc 1: 0.4195519348268839\n",
            "acc 2: 0.9786150712830958\n",
            "5\n",
            "acc 1: 0.4428251121076233\n",
            "acc 2: 0.9484304932735426\n",
            "6\n",
            "acc 1: 0.8319415448851775\n",
            "acc 2: 0.9373695198329853\n",
            "7\n",
            "acc 1: 0.7091439688715954\n",
            "acc 2: 0.9348249027237354\n",
            "8\n",
            "acc 1: 0.0\n",
            "acc 2: 0.8726899383983573\n",
            "9\n",
            "acc 1: 0.01288404360753221\n",
            "acc 2: 0.7958374628344896\n",
            "70 6\n",
            "0\n",
            "acc 1: 0.9591836734693877\n",
            "acc 2: 0.9581632653061225\n",
            "1\n",
            "acc 1: 0.9991189427312775\n",
            "acc 2: 0.9409691629955947\n",
            "2\n",
            "acc 1: 0.5823643410852714\n",
            "acc 2: 0.9835271317829457\n",
            "3\n",
            "acc 1: 0.6158415841584158\n",
            "acc 2: 0.9168316831683169\n",
            "4\n",
            "acc 1: 0.5468431771894093\n",
            "acc 2: 0.9725050916496945\n",
            "5\n",
            "acc 1: 0.5033632286995515\n",
            "acc 2: 0.9349775784753364\n",
            "6\n",
            "acc 1: 0.8569937369519833\n",
            "acc 2: 0.930062630480167\n",
            "7\n",
            "acc 1: 0.8035019455252919\n",
            "acc 2: 0.9260700389105059\n",
            "8\n",
            "acc 1: 0.001026694045174538\n",
            "acc 2: 0.8655030800821355\n",
            "9\n",
            "acc 1: 0.02973240832507433\n",
            "acc 2: 0.7680872150644202\n",
            "80 7\n",
            "0\n",
            "acc 1: 0.9673469387755103\n",
            "acc 2: 0.9530612244897959\n",
            "1\n",
            "acc 1: 0.9982378854625551\n",
            "acc 2: 0.933920704845815\n",
            "2\n",
            "acc 1: 0.685077519379845\n",
            "acc 2: 0.9835271317829457\n",
            "3\n",
            "acc 1: 0.6198019801980198\n",
            "acc 2: 0.9158415841584159\n",
            "4\n",
            "acc 1: 0.570264765784114\n",
            "acc 2: 0.9684317718940937\n",
            "5\n",
            "acc 1: 0.594170403587444\n",
            "acc 2: 0.922645739910314\n",
            "6\n",
            "acc 1: 0.8768267223382046\n",
            "acc 2: 0.9248434237995825\n",
            "7\n",
            "acc 1: 0.8472762645914397\n",
            "acc 2: 0.9319066147859922\n",
            "8\n",
            "acc 1: 0.003080082135523614\n",
            "acc 2: 0.8418891170431212\n",
            "9\n",
            "acc 1: 0.02081268582755203\n",
            "acc 2: 0.7462834489593657\n",
            "90 8\n",
            "0\n",
            "acc 1: 0.9551020408163265\n",
            "acc 2: 0.9377551020408164\n",
            "1\n",
            "acc 1: 0.9973568281938326\n",
            "acc 2: 0.93215859030837\n",
            "2\n",
            "acc 1: 0.750968992248062\n",
            "acc 2: 0.9825581395348837\n",
            "3\n",
            "acc 1: 0.6455445544554456\n",
            "acc 2: 0.9099009900990099\n",
            "4\n",
            "acc 1: 0.6130346232179226\n",
            "acc 2: 0.9653767820773931\n",
            "5\n",
            "acc 1: 0.695067264573991\n",
            "acc 2: 0.9204035874439462\n",
            "6\n",
            "acc 1: 0.8987473903966597\n",
            "acc 2: 0.9164926931106472\n",
            "7\n",
            "acc 1: 0.8570038910505836\n",
            "acc 2: 0.9319066147859922\n",
            "8\n",
            "acc 1: 0.009240246406570842\n",
            "acc 2: 0.8305954825462012\n",
            "9\n",
            "acc 1: 0.02180376610505451\n",
            "acc 2: 0.7215064420218038\n",
            "100 9\n",
            "0\n",
            "acc 1: 0.9571428571428572\n",
            "acc 2: 0.9285714285714286\n",
            "1\n",
            "acc 1: 0.9964757709251101\n",
            "acc 2: 0.9295154185022027\n",
            "2\n",
            "acc 1: 0.7790697674418605\n",
            "acc 2: 0.9796511627906976\n",
            "3\n",
            "acc 1: 0.6534653465346535\n",
            "acc 2: 0.9\n",
            "4\n",
            "acc 1: 0.7046843177189409\n",
            "acc 2: 0.9613034623217923\n",
            "5\n",
            "acc 1: 0.6939461883408071\n",
            "acc 2: 0.9125560538116592\n",
            "6\n",
            "acc 1: 0.8956158663883089\n",
            "acc 2: 0.9175365344467641\n",
            "7\n",
            "acc 1: 0.8667315175097277\n",
            "acc 2: 0.9280155642023347\n",
            "8\n",
            "acc 1: 0.017453798767967144\n",
            "acc 2: 0.8090349075975359\n",
            "9\n",
            "acc 1: 0.01684836471754212\n",
            "acc 2: 0.6580773042616452\n",
            "200 10\n",
            "0\n",
            "acc 1: 0.8010204081632653\n",
            "acc 2: 0.9173469387755102\n",
            "1\n",
            "acc 1: 0.9885462555066079\n",
            "acc 2: 0.9180616740088106\n",
            "2\n",
            "acc 1: 0.9108527131782945\n",
            "acc 2: 0.9738372093023255\n",
            "3\n",
            "acc 1: 0.5514851485148515\n",
            "acc 2: 0.8336633663366336\n",
            "4\n",
            "acc 1: 0.8329938900203666\n",
            "acc 2: 0.9429735234215886\n",
            "5\n",
            "acc 1: 0.7982062780269058\n",
            "acc 2: 0.8733183856502242\n",
            "6\n",
            "acc 1: 0.8820459290187892\n",
            "acc 2: 0.8987473903966597\n",
            "7\n",
            "acc 1: 0.914396887159533\n",
            "acc 2: 0.9134241245136187\n",
            "8\n",
            "acc 1: 0.039014373716632446\n",
            "acc 2: 0.6817248459958932\n",
            "9\n",
            "acc 1: 0.031714568880079286\n",
            "acc 2: 0.554013875123885\n",
            "300 11\n",
            "0\n",
            "acc 1: 0.5214285714285715\n",
            "acc 2: 0.8908163265306123\n",
            "1\n",
            "acc 1: 0.9832599118942731\n",
            "acc 2: 0.9356828193832599\n",
            "2\n",
            "acc 1: 0.9079457364341085\n",
            "acc 2: 0.9602713178294574\n",
            "3\n",
            "acc 1: 0.3712871287128713\n",
            "acc 2: 0.7772277227722773\n",
            "4\n",
            "acc 1: 0.8105906313645621\n",
            "acc 2: 0.9103869653767821\n",
            "5\n",
            "acc 1: 0.7533632286995515\n",
            "acc 2: 0.8038116591928252\n",
            "6\n",
            "acc 1: 0.8256784968684759\n",
            "acc 2: 0.8653444676409185\n",
            "7\n",
            "acc 1: 0.8813229571984436\n",
            "acc 2: 0.8939688715953308\n",
            "8\n",
            "acc 1: 0.044147843942505136\n",
            "acc 2: 0.5872689938398358\n",
            "9\n",
            "acc 1: 0.04162537165510406\n",
            "acc 2: 0.5431119920713577\n",
            "400 12\n",
            "0\n",
            "acc 1: 0.4826530612244898\n",
            "acc 2: 0.8551020408163266\n",
            "1\n",
            "acc 1: 0.9744493392070485\n",
            "acc 2: 0.9506607929515418\n",
            "2\n",
            "acc 1: 0.8585271317829457\n",
            "acc 2: 0.8827519379844961\n",
            "3\n",
            "acc 1: 0.20693069306930692\n",
            "acc 2: 0.6257425742574257\n",
            "4\n",
            "acc 1: 0.6822810590631364\n",
            "acc 2: 0.7596741344195519\n",
            "5\n",
            "acc 1: 0.5930493273542601\n",
            "acc 2: 0.6625560538116592\n",
            "6\n",
            "acc 1: 0.8319415448851775\n",
            "acc 2: 0.8538622129436325\n",
            "7\n",
            "acc 1: 0.8599221789883269\n",
            "acc 2: 0.8754863813229572\n",
            "8\n",
            "acc 1: 0.03490759753593429\n",
            "acc 2: 0.175564681724846\n",
            "9\n",
            "acc 1: 0.048562933597621406\n",
            "acc 2: 0.09217046580773043\n",
            "500 13\n",
            "0\n",
            "acc 1: 0.27755102040816326\n",
            "acc 2: 0.3989795918367347\n",
            "1\n",
            "acc 1: 0.9770925110132158\n",
            "acc 2: 0.9665198237885463\n",
            "2\n",
            "acc 1: 0.7742248062015504\n",
            "acc 2: 0.7422480620155039\n",
            "3\n",
            "acc 1: 0.08118811881188119\n",
            "acc 2: 0.2514851485148515\n",
            "4\n",
            "acc 1: 0.23727087576374745\n",
            "acc 2: 0.439918533604888\n",
            "5\n",
            "acc 1: 0.22869955156950672\n",
            "acc 2: 0.26905829596412556\n",
            "6\n",
            "acc 1: 0.29958246346555323\n",
            "acc 2: 0.4488517745302714\n",
            "7\n",
            "acc 1: 0.8083657587548638\n",
            "acc 2: 0.830739299610895\n",
            "8\n",
            "acc 1: 0.007186858316221766\n",
            "acc 2: 0.015400410677618069\n",
            "9\n",
            "acc 1: 0.017839444995044598\n",
            "acc 2: 0.03369672943508424\n"
          ],
          "name": "stdout"
        }
      ]
    },
    {
      "cell_type": "code",
      "metadata": {
        "id": "2_u25auJJNZ_",
        "colab_type": "code",
        "colab": {}
      },
      "source": [
        "acc1test = pickle.load(open(pca_path+'accuracies1_testset.pkl','rb'))\n",
        "acc2test = pickle.load(open(pca_path+'accuracies2_testset.pkl','rb'))"
      ],
      "execution_count": 0,
      "outputs": []
    },
    {
      "cell_type": "code",
      "metadata": {
        "id": "Y57hXS1HS9gm",
        "colab_type": "code",
        "colab": {}
      },
      "source": [
        "# nums = [10,20,30,40,50,60,70,80,90,100,200,300,400,500]\n",
        "# for ii in range(10):\n",
        "#   plt.semilogx(nums, acc1test[:,ii], marker='o',label='class %d'%ii)"
      ],
      "execution_count": 0,
      "outputs": []
    },
    {
      "cell_type": "code",
      "metadata": {
        "id": "rClvR_yFiR6w",
        "colab_type": "code",
        "colab": {
          "base_uri": "https://localhost:8080/",
          "height": 299
        },
        "outputId": "1ae37bd7-fa5a-44f1-f559-394d6979ba36"
      },
      "source": [
        "nums = [10,20,30,40,50,60,70,80,90,100,200,300,400,500]\n",
        "plt.title('classification accuracy by class - test set')\n",
        "for ii in range(10):\n",
        "  plt.semilogx(nums, acc2[:,ii], marker='o',label='class %d'%ii)\n",
        "  plt.xlabel('number of components')\n",
        "  plt.ylabel('classification accuracy')\n",
        "  plt.legend()"
      ],
      "execution_count": 13,
      "outputs": [
        {
          "output_type": "display_data",
          "data": {
            "image/png": "[encoded data removed]",
            "text/plain": [
              "<Figure size 432x288 with 1 Axes>"
            ]
          },
          "metadata": {
            "tags": []
          }
        }
      ]
    },
    {
      "cell_type": "code",
      "metadata": {
        "id": "GK4wuPfiWvb4",
        "colab_type": "code",
        "colab": {
          "base_uri": "https://localhost:8080/",
          "height": 333
        },
        "outputId": "e93eda73-4a6f-464b-d93c-61f8b33e3a40"
      },
      "source": [
        "nums = [10,20,30,40,50,60,70,80,90,100,200,300,400,500]\n",
        "plt.figure()\n",
        "plt.title('mean classification accuracy')\n",
        "plt.semilogx(nums, np.mean(acc2test,axis=1), marker='o')\n",
        "print(max(np.mean(acc2test,axis=1)))\n",
        "plt.xlabel('number of components')\n",
        "plt.ylabel('classification accuracy')\n",
        "plt.legend()\n",
        "plt.show()"
      ],
      "execution_count": 14,
      "outputs": [
        {
          "output_type": "stream",
          "text": [
            "No handles with labels found to put in legend.\n"
          ],
          "name": "stderr"
        },
        {
          "output_type": "stream",
          "text": [
            "0.949027152502359\n"
          ],
          "name": "stdout"
        },
        {
          "output_type": "display_data",
          "data": {
            "image/png": "[encoded data removed]",
            "text/plain": [
              "<Figure size 432x288 with 1 Axes>"
            ]
          },
          "metadata": {
            "tags": []
          }
        }
      ]
    },
    {
      "cell_type": "code",
      "metadata": {
        "id": "vP870UOhXMcq",
        "colab_type": "code",
        "colab": {
          "base_uri": "https://localhost:8080/",
          "height": 539
        },
        "outputId": "d742e506-9905-4579-ee31-ca9b644b40d9"
      },
      "source": [
        "plt.figure()\n",
        "for jj in range(10):\n",
        "      pca, mask, mean= pickle.load(open(pca_path+'pca_on_%d_num_comp_full.pkl'%(jj),'rb')) \n",
        "      plt.semilogx(pca.explained_variance_, label='class %d'%jj)\n",
        "plt.xlabel('number of components')\n",
        "plt.ylabel('explained variance')\n",
        "plt.legend()\n",
        "plt.show()\n",
        "\n",
        "plt.figure()\n",
        "for jj in range(10):\n",
        "      pca, mask, mean= pickle.load(open(pca_path+'pca_on_%d_num_comp_full.pkl'%(jj),'rb')) \n",
        "      plt.plot(np.ones((10))*np.sum(pca.explained_variance_), label='class %d'%jj)\n",
        "plt.ylabel('total variance')\n",
        "plt.legend(ncol=3)\n",
        "plt.show()"
      ],
      "execution_count": 18,
      "outputs": [
        {
          "output_type": "display_data",
          "data": {
            "image/png": "[encoded data removed]",
            "text/plain": [
              "<Figure size 432x288 with 1 Axes>"
            ]
          },
          "metadata": {
            "tags": []
          }
        },
        {
          "output_type": "display_data",
          "data": {
            "image/png": "[encoded data removed]",
            "text/plain": [
              "<Figure size 432x288 with 1 Axes>"
            ]
          },
          "metadata": {
            "tags": []
          }
        }
      ]
    },
    {
      "cell_type": "code",
      "metadata": {
        "id": "OhWrc3SEYAQk",
        "colab_type": "code",
        "colab": {
          "base_uri": "https://localhost:8080/",
          "height": 287
        },
        "outputId": "c44ad1a6-1d21-4446-f7c3-a067c0ddd0a4"
      },
      "source": [
        "plt.figure()\n",
        "for jj in range(10):\n",
        "      pca, mask, mean= pickle.load(open(pca_path+'pca_on_%d_num_comp_full.pkl'%(jj),'rb')) \n",
        "      plt.semilogx(pca.singular_values_, label='class %d'%jj)\n",
        "plt.xlabel('number of components')\n",
        "plt.ylabel('singular values')\n",
        "plt.legend()\n",
        "plt.show()"
      ],
      "execution_count": 19,
      "outputs": [
        {
          "output_type": "display_data",
          "data": {
            "image/png": "[encoded data removed]",
            "text/plain": [
              "<Figure size 432x288 with 1 Axes>"
            ]
          },
          "metadata": {
            "tags": []
          }
        }
      ]
    },
    {
      "cell_type": "code",
      "metadata": {
        "id": "7ivx0tFIUpzy",
        "colab_type": "code",
        "colab": {
          "base_uri": "https://localhost:8080/",
          "height": 185
        },
        "outputId": "e3319219-1688-4e0a-9c79-953a3d587f74"
      },
      "source": [
        "for jj in range(10):\n",
        "      pca, mask, mean= pickle.load(open(pca_path+'pca_on_%d_num_comp_full.pkl'%(jj),'rb')) \n",
        "      print(min(pca.singular_values_))"
      ],
      "execution_count": 20,
      "outputs": [
        {
          "output_type": "stream",
          "text": [
            "4.383058e-06\n",
            "1.0252844e-05\n",
            "1.5102141e-06\n",
            "2.9009868e-06\n",
            "3.4189654e-06\n",
            "7.4171808e-06\n",
            "1.3611575e-06\n",
            "2.5060256e-06\n",
            "9.851534e-07\n",
            "1.690221e-06\n"
          ],
          "name": "stdout"
        }
      ]
    },
    {
      "cell_type": "code",
      "metadata": {
        "id": "nDK8DxprYkpY",
        "colab_type": "code",
        "colab": {
          "base_uri": "https://localhost:8080/",
          "height": 3142
        },
        "outputId": "867a5999-380e-4bc6-eccc-f6072b8d6fd2"
      },
      "source": [
        "# do classification\n",
        "nums = [10,30,60,100,300,500]\n",
        "acc1 = np.zeros((len(nums),10))\n",
        "acc2 = np.zeros((len(nums),10))\n",
        "\n",
        "for ll in range(len(nums)):\n",
        "  num = nums[ll] \n",
        "  print(num, ll)\n",
        "  for ii in range(10):\n",
        "    print(ii)\n",
        "    indices      = np.where(targets_train==ii)\n",
        "    x_test_class = x_train[indices]\n",
        "    logprob1=[]\n",
        "    logprob2=[]\n",
        "    for jj in range(10):\n",
        "      pca, mask, mean= pickle.load(open(pca_path+'pca_on_%d_num_comp_full.pkl'%(jj),'rb')) \n",
        "      cut_test = x_test_class[:,mask[0]]\n",
        "      sing     = pca.singular_values_[0:num]\n",
        "      R        = pca.components_[0:num]\n",
        "      sigma2_1 = pca.explained_variance_[num]\n",
        "      sigma2_2 = np.mean(pca.explained_variance_[num::])\n",
        "      \n",
        "      C_       = np.dot(R.T,np.dot(np.diag(sing), R))+np.eye(len(R.T))*sigma2_1\n",
        "      sign ,logdetC = lg.slogdet(C_)\n",
        "      logprob1+=[get_probability_of_data(logdetC,lg.inv(C_),cut_test,mean)]\n",
        "      \n",
        "      C_       = np.dot(R.T,np.dot(np.diag(sing), R))+np.eye(len(R.T))*sigma2_2\n",
        "      sign ,logdetC = lg.slogdet(C_)\n",
        "      logprob2+=[get_probability_of_data(logdetC,lg.inv(C_),cut_test, mean)]\n",
        "      \n",
        "    logprob1=np.asarray(logprob1)\n",
        "    correct = len(np.where(np.argsort(logprob1, axis=0)[-1]==ii)[0])\n",
        "    acc_1 = np.float(correct)/np.float(len(x_test_class))\n",
        "    print('acc 1:', acc_1)\n",
        "    acc1[ll,ii]=acc_1\n",
        "    \n",
        "    logprob2=np.asarray(logprob2)\n",
        "    correct = len(np.where(np.argsort(logprob2, axis=0)[-1]==ii)[0])\n",
        "    acc_2 = np.float(correct)/np.float(len(x_test_class))\n",
        "    print('acc 2:', acc_2)\n",
        "    acc2[ll,ii]=acc_2\n",
        "    \n",
        "pickle.dump(acc1, open(pca_path+'accuracies1_trainset.pkl','wb'))\n",
        "pickle.dump(acc2, open(pca_path+'accuracies2_trainset.pkl','wb'))"
      ],
      "execution_count": 32,
      "outputs": [
        {
          "output_type": "stream",
          "text": [
            "10 0\n",
            "0\n",
            "acc 1: 0.0\n",
            "acc 2: 0.9716139497161395\n",
            "1\n",
            "acc 1: 1.0\n",
            "acc 2: 0.9550898203592815\n",
            "2\n",
            "acc 1: 0.0\n",
            "acc 2: 0.9895330112721417\n",
            "3\n",
            "acc 1: 0.0\n",
            "acc 2: 0.9278572828857087\n",
            "4\n",
            "acc 1: 0.0\n",
            "acc 2: 0.9738629347602388\n",
            "5\n",
            "acc 1: 0.0\n",
            "acc 2: 0.9487350199733688\n",
            "6\n",
            "acc 1: 0.0\n",
            "acc 2: 0.9436477479297112\n",
            "7\n",
            "acc 1: 0.0\n",
            "acc 2: 0.9227053140096618\n",
            "8\n",
            "acc 1: 0.0\n",
            "acc 2: 0.8486162742668318\n",
            "9\n",
            "acc 1: 0.0\n",
            "acc 2: 0.7726543704891741\n",
            "30 1\n",
            "0\n",
            "acc 1: 0.6080697485806975\n",
            "acc 2: 0.9776966747769668\n",
            "1\n",
            "acc 1: 1.0\n",
            "acc 2: 0.9513913349771046\n",
            "2\n",
            "acc 1: 0.014090177133655395\n",
            "acc 2: 0.9875201288244766\n",
            "3\n",
            "acc 1: 0.03861987845520486\n",
            "acc 2: 0.9443246422270143\n",
            "4\n",
            "acc 1: 0.03395760444535913\n",
            "acc 2: 0.9816834739658366\n",
            "5\n",
            "acc 1: 0.01841988459831336\n",
            "acc 2: 0.9633821571238349\n",
            "6\n",
            "acc 1: 0.24722278327610583\n",
            "acc 2: 0.9517269238537669\n",
            "7\n",
            "acc 1: 0.2753623188405797\n",
            "acc 2: 0.9480193236714975\n",
            "8\n",
            "acc 1: 0.0\n",
            "acc 2: 0.9250309789343246\n",
            "9\n",
            "acc 1: 0.003408179631114675\n",
            "acc 2: 0.8568564554931837\n",
            "60 2\n",
            "0\n",
            "acc 1: 0.9576236820762368\n",
            "acc 2: 0.9598540145985401\n",
            "1\n",
            "acc 1: 0.9998238816484678\n",
            "acc 2: 0.9385346953152518\n",
            "2\n",
            "acc 1: 0.4663848631239936\n",
            "acc 2: 0.9895330112721417\n",
            "3\n",
            "acc 1: 0.5038227798470888\n",
            "acc 2: 0.9282493628700255\n",
            "4\n",
            "acc 1: 0.4891953076764766\n",
            "acc 2: 0.9759209713932908\n",
            "5\n",
            "acc 1: 0.4447403462050599\n",
            "acc 2: 0.9593874833555259\n",
            "6\n",
            "acc 1: 0.7859018380125227\n",
            "acc 2: 0.9499091092708544\n",
            "7\n",
            "acc 1: 0.7428019323671498\n",
            "acc 2: 0.952463768115942\n",
            "8\n",
            "acc 1: 0.0010326311441553077\n",
            "acc 2: 0.8973564642709624\n",
            "9\n",
            "acc 1: 0.02967121090617482\n",
            "acc 2: 0.8259823576583801\n",
            "100 3\n",
            "0\n",
            "acc 1: 0.9572181670721817\n",
            "acc 2: 0.9304541768045418\n",
            "1\n",
            "acc 1: 0.9978865797816132\n",
            "acc 2: 0.9350123282846072\n",
            "2\n",
            "acc 1: 0.80414653784219\n",
            "acc 2: 0.9895330112721417\n",
            "3\n",
            "acc 1: 0.6743775730248971\n",
            "acc 2: 0.9008037639678494\n",
            "4\n",
            "acc 1: 0.7371887219592509\n",
            "acc 2: 0.9683062358509982\n",
            "5\n",
            "acc 1: 0.7208166888592987\n",
            "acc 2: 0.9398579671549046\n",
            "6\n",
            "acc 1: 0.881438093314482\n",
            "acc 2: 0.9394061805695819\n",
            "7\n",
            "acc 1: 0.8881159420289855\n",
            "acc 2: 0.951304347826087\n",
            "8\n",
            "acc 1: 0.028294093349855432\n",
            "acc 2: 0.8498554316398182\n",
            "9\n",
            "acc 1: 0.050320769847634325\n",
            "acc 2: 0.7405773857257418\n",
            "300 4\n",
            "0\n",
            "acc 1: 0.6119221411192214\n",
            "acc 2: 0.9266017842660178\n",
            "1\n",
            "acc 1: 0.9945403311025008\n",
            "acc 2: 0.9390630503698485\n",
            "2\n",
            "acc 1: 0.9253220611916264\n",
            "acc 2: 0.9742351046698873\n",
            "3\n",
            "acc 1: 0.48245442070182315\n",
            "acc 2: 0.8306214467751422\n",
            "4\n",
            "acc 1: 0.8464704671743157\n",
            "acc 2: 0.927351306853262\n",
            "5\n",
            "acc 1: 0.7996005326231691\n",
            "acc 2: 0.8781624500665779\n",
            "6\n",
            "acc 1: 0.8493233690163603\n",
            "acc 2: 0.9157745909917189\n",
            "7\n",
            "acc 1: 0.9196135265700484\n",
            "acc 2: 0.9404830917874396\n",
            "8\n",
            "acc 1: 0.07311028500619579\n",
            "acc 2: 0.6445683601817431\n",
            "9\n",
            "acc 1: 0.07117080994386528\n",
            "acc 2: 0.6226944667201283\n",
            "500 5\n",
            "0\n",
            "acc 1: 0.3195458231954582\n",
            "acc 2: 0.4511354420113544\n",
            "1\n",
            "acc 1: 0.997710461430081\n",
            "acc 2: 0.9873194786896795\n",
            "2\n",
            "acc 1: 0.7958937198067633\n",
            "acc 2: 0.7642914653784219\n",
            "3\n",
            "acc 1: 0.09233483630660655\n",
            "acc 2: 0.2734757890609684\n",
            "4\n",
            "acc 1: 0.2584894011113398\n",
            "acc 2: 0.4437126980860259\n",
            "5\n",
            "acc 1: 0.2434531735463826\n",
            "acc 2: 0.2851753217931647\n",
            "6\n",
            "acc 1: 0.3023631589577863\n",
            "acc 2: 0.4322359119369824\n",
            "7\n",
            "acc 1: 0.8231884057971014\n",
            "acc 2: 0.8517874396135265\n",
            "8\n",
            "acc 1: 0.0057827344072697235\n",
            "acc 2: 0.01569599339116068\n",
            "9\n",
            "acc 1: 0.031676022453889334\n",
            "acc 2: 0.05112269446672013\n"
          ],
          "name": "stdout"
        }
      ]
    },
    {
      "cell_type": "code",
      "metadata": {
        "id": "i9gd93kfn742",
        "colab_type": "code",
        "colab": {}
      },
      "source": [
        "pickle.dump(acc1, open(pca_path+'accuracies1_trainset.pkl','wb'))\n",
        "pickle.dump(acc2, open(pca_path+'accuracies2_trainset.pkl','wb'))"
      ],
      "execution_count": 0,
      "outputs": []
    },
    {
      "cell_type": "code",
      "metadata": {
        "id": "jN7b_KQWfaDE",
        "colab_type": "code",
        "colab": {
          "base_uri": "https://localhost:8080/",
          "height": 299
        },
        "outputId": "0824b529-1d00-4347-deca-711a796aa414"
      },
      "source": [
        "acc1train=pickle.load(open(pca_path+'accuracies1_trainset.pkl','rb'))\n",
        "acc2train=pickle.load(open(pca_path+'accuracies2_trainset.pkl','rb'))\n",
        "nums = np.asarray([10,30,60,100,300,500])\n",
        "\n",
        "plt.figure()\n",
        "plt.title('classification accuracy by class - training set')\n",
        "for ii in range(10):\n",
        "  plt.semilogx(nums, acc2train[:,ii], marker='o',label='class %d'%ii)\n",
        "  plt.xlabel('number of components')\n",
        "  plt.ylabel('classification accuracy')\n",
        "  plt.legend()\n",
        "plt.show()\n",
        "\n",
        "# plt.figure()\n",
        "# plt.title('classification accuracy by class')\n",
        "# for ii in range(10):\n",
        "#   plt.semilogx(nums, acc1train[:,ii], marker='o',label='class %d'%ii)\n",
        "#   plt.xlabel('number of components')\n",
        "#   plt.ylabel('classification accuracy')\n",
        "#   plt.legend()\n",
        "# plt.show()"
      ],
      "execution_count": 39,
      "outputs": [
        {
          "output_type": "display_data",
          "data": {
            "image/png": "[encoded data removed]",
            "text/plain": [
              "<Figure size 432x288 with 1 Axes>"
            ]
          },
          "metadata": {
            "tags": []
          }
        }
      ]
    },
    {
      "cell_type": "code",
      "metadata": {
        "id": "z4ZLD9cKGssd",
        "colab_type": "code",
        "colab": {
          "base_uri": "https://localhost:8080/",
          "height": 299
        },
        "outputId": "4e64d1f9-641f-4920-bc60-7c4aa15258e3"
      },
      "source": [
        "\n",
        "plt.figure()\n",
        "plt.title('mean classification accuracy')\n",
        "nums = [10,20,30,40,50,60,70,80,90,100,200,300,400,500]\n",
        "plt.semilogx(nums, np.mean(acc2test,axis=1), marker='o', label='test set')\n",
        "nums = np.asarray([10,30,60,100,300,500])\n",
        "plt.semilogx(nums, np.mean(acc2train,axis=1), marker='o',markersize=4,label='train set')\n",
        "plt.xlabel('number of components')\n",
        "plt.ylabel('classification accuracy')\n",
        "plt.legend()\n",
        "plt.show()"
      ],
      "execution_count": 36,
      "outputs": [
        {
          "output_type": "display_data",
          "data": {
            "image/png": "[encoded data removed]",
            "text/plain": [
              "<Figure size 432x288 with 1 Axes>"
            ]
          },
          "metadata": {
            "tags": []
          }
        }
      ]
    },
    {
      "cell_type": "code",
      "metadata": {
        "id": "qDikZ0R54T6G",
        "colab_type": "code",
        "colab": {}
      },
      "source": [
        ""
      ],
      "execution_count": 0,
      "outputs": []
    },
    {
      "cell_type": "code",
      "metadata": {
        "id": "1l6llHgj4URd",
        "colab_type": "code",
        "colab": {}
      },
      "source": [
        ""
      ],
      "execution_count": 0,
      "outputs": []
    },
    {
      "cell_type": "code",
      "metadata": {
        "id": "7hhiBOh5Hkeo",
        "colab_type": "code",
        "colab": {
          "base_uri": "https://localhost:8080/",
          "height": 662
        },
        "outputId": "dcb44e48-1ba3-43da-83de-df8dfda0b169"
      },
      "source": [
        "# do classification\n",
        "nums = [30,500]\n",
        "\n",
        "hists= np.zeros((len(nums),10,2,80))\n",
        "\n",
        "for ii in [1,5]:\n",
        "  plt.figure()\n",
        "  plt.title('class %d'%ii)\n",
        "  for ll in range(len(nums)):\n",
        "    print(ll)\n",
        "    num = nums[ll] \n",
        "    indices = np.where(targets_test==ii)\n",
        "    x_test_class =x_test[indices]\n",
        "    pca, mask, mean= pickle.load(open(pca_path+'pca_on_%d_num_comp_full.pkl'%(jj),'rb')) \n",
        "    cut_test = x_test_class[:,mask[0]]\n",
        "    R        = pca.components_[0:num]\n",
        "    Rd = np.einsum('ij,...j->...i', R,cut_test)\n",
        "    RRd= np.einsum('ij,...j->...i', R.T, Rd)\n",
        "    _ = plt.hist(((RRd - cut_test)).flatten(), range=(-0.2,0.2),bins=80, normed=True, alpha=(len(nums)-ll)/len(nums),label='# comp %d'%num)\n",
        "  plt.xlim(-0.2,0.2)\n",
        "  plt.legend()\n",
        "  #plt.yscale('log')\n",
        "  plt.show()\n"
      ],
      "execution_count": 31,
      "outputs": [
        {
          "output_type": "stream",
          "text": [
            "0\n",
            "1\n"
          ],
          "name": "stdout"
        },
        {
          "output_type": "stream",
          "text": [
            "/usr/local/lib/python3.6/dist-packages/matplotlib/axes/_axes.py:6521: MatplotlibDeprecationWarning: \n",
            "The 'normed' kwarg was deprecated in Matplotlib 2.1 and will be removed in 3.1. Use 'density' instead.\n",
            "  alternative=\"'density'\", removal=\"3.1\")\n"
          ],
          "name": "stderr"
        },
        {
          "output_type": "display_data",
          "data": {
            "image/png": "[encoded data removed]",
            "text/plain": [
              "<Figure size 432x288 with 1 Axes>"
            ]
          },
          "metadata": {
            "tags": []
          }
        },
        {
          "output_type": "stream",
          "text": [
            "0\n",
            "1\n"
          ],
          "name": "stdout"
        },
        {
          "output_type": "display_data",
          "data": {
            "image/png": "[encoded data removed]",
            "text/plain": [
              "<Figure size 432x288 with 1 Axes>"
            ]
          },
          "metadata": {
            "tags": []
          }
        }
      ]
    },
    {
      "cell_type": "code",
      "metadata": {
        "id": "nBRis8LYx48T",
        "colab_type": "code",
        "colab": {
          "base_uri": "https://localhost:8080/",
          "height": 629
        },
        "outputId": "76bdfdf0-0459-4836-f657-9b9fa54c722d"
      },
      "source": [
        "# do classification\n",
        "nums = [30,500]\n",
        "\n",
        "hists= np.zeros((len(nums),10,2,80))\n",
        "for ll in range(len(nums)):\n",
        "  print(ll)\n",
        "  num = nums[ll] \n",
        "  plt.figure()\n",
        "  plt.title('# comp %d'%num)\n",
        "  alpha=1.\n",
        "  for ii in [1,2,5]:\n",
        "    indices = np.where(targets_test==ii)\n",
        "    x_test_class =x_test[indices]\n",
        "    pca, mask, mean = pickle.load(open(pca_path+'pca_on_%d_num_comp_full.pkl'%(jj),'rb')) \n",
        "    cut_test = x_test_class[:,mask[0]]\n",
        "    R        = pca.components_[0:num]\n",
        "    Rd = np.einsum('ij,...j->...i', R,cut_test)\n",
        "    RRd= np.einsum('ij,...j->...i', R.T, Rd)\n",
        "    _ = plt.hist(((RRd - cut_test)).flatten(), range=(-0.2,0.2),bins=80, normed=True,alpha=alpha, label='class %d'%ii)\n",
        "    alpha-=0.3\n",
        "  plt.yscale('log')\n",
        "  plt.xlim(-0.2,0.2)\n",
        "  plt.legend()\n",
        "  plt.show()\n"
      ],
      "execution_count": 23,
      "outputs": [
        {
          "output_type": "stream",
          "text": [
            "0\n"
          ],
          "name": "stdout"
        },
        {
          "output_type": "stream",
          "text": [
            "/usr/local/lib/python3.6/dist-packages/matplotlib/axes/_axes.py:6521: MatplotlibDeprecationWarning: \n",
            "The 'normed' kwarg was deprecated in Matplotlib 2.1 and will be removed in 3.1. Use 'density' instead.\n",
            "  alternative=\"'density'\", removal=\"3.1\")\n"
          ],
          "name": "stderr"
        },
        {
          "output_type": "display_data",
          "data": {
            "image/png": "[encoded data removed]",
            "text/plain": [
              "<Figure size 432x288 with 1 Axes>"
            ]
          },
          "metadata": {
            "tags": []
          }
        },
        {
          "output_type": "stream",
          "text": [
            "1\n"
          ],
          "name": "stdout"
        },
        {
          "output_type": "display_data",
          "data": {
            "image/png": "[encoded data removed]",
            "text/plain": [
              "<Figure size 432x288 with 1 Axes>"
            ]
          },
          "metadata": {
            "tags": []
          }
        }
      ]
    },
    {
      "cell_type": "code",
      "metadata": {
        "id": "gffiwx6X3PSD",
        "colab_type": "code",
        "colab": {}
      },
      "source": [
        ""
      ],
      "execution_count": 0,
      "outputs": []
    }
  ]
}