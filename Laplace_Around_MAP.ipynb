{
  "nbformat": 4,
  "nbformat_minor": 0,
  "metadata": {
    "colab": {
      "name": "Laplace Around MAP.ipynb",
      "version": "0.3.2",
      "provenance": [],
      "collapsed_sections": [],
      "include_colab_link": true
    },
    "kernelspec": {
      "name": "python3",
      "display_name": "Python 3"
    },
    "accelerator": "GPU"
  },
  "cells": [
    {
      "cell_type": "markdown",
      "metadata": {
        "id": "view-in-github",
        "colab_type": "text"
      },
      "source": [
        "<a href=\"https://colab.research.google.com/github/VMBoehm/DeNoPa/blob/master/Laplace_Around_MAP.ipynb\" target=\"_parent\"><img src=\"https://colab.research.google.com/assets/colab-badge.svg\" alt=\"Open In Colab\"/></a>"
      ]
    },
    {
      "metadata": {
        "id": "D-Fe5G8m1FTC",
        "colab_type": "code",
        "outputId": "5bfbcb88-cb9e-4b15-eaab-a00ef6b418ca",
        "colab": {
          "base_uri": "https://localhost:8080/",
          "height": 34
        }
      },
      "cell_type": "code",
      "source": [
        "import os\n",
        "%pylab inline"
      ],
      "execution_count": 2,
      "outputs": [
        {
          "output_type": "stream",
          "text": [
            "Populating the interactive namespace from numpy and matplotlib\n"
          ],
          "name": "stdout"
        }
      ]
    },
    {
      "metadata": {
        "id": "-AEYmOsH1FTI",
        "colab_type": "code",
        "outputId": "2f30f984-391d-4245-a8a4-3ccf007ba422",
        "colab": {
          "base_uri": "https://localhost:8080/",
          "height": 134
        }
      },
      "cell_type": "code",
      "source": [
        "import tensorflow as tf\n",
        "import tensorflow_probability as tfp\n",
        "from tensorflow.python.ops.parallel_for.gradients import jacobian\n",
        "tfd = tfp.distributions\n",
        "tfb = tfp.bijectors\n",
        "IMAGE_SHAPE = [28, 28, 1]"
      ],
      "execution_count": 3,
      "outputs": [
        {
          "output_type": "stream",
          "text": [
            "\n",
            "WARNING: The TensorFlow contrib module will not be included in TensorFlow 2.0.\n",
            "For more information, please see:\n",
            "  * https://github.com/tensorflow/community/blob/master/rfcs/20180907-contrib-sunset.md\n",
            "  * https://github.com/tensorflow/addons\n",
            "If you depend on functionality not listed there, please file an issue.\n",
            "\n"
          ],
          "name": "stdout"
        }
      ]
    },
    {
      "metadata": {
        "id": "nFzYYSxY1FTL",
        "colab_type": "code",
        "colab": {}
      },
      "cell_type": "code",
      "source": [
        "import gzip, zipfile, tarfile\n",
        "import os, shutil, re, string, urllib, fnmatch\n",
        "import pickle as pkl\n",
        "\n",
        "def _download_mnist_realval(dataset):\n",
        "    \"\"\"\n",
        "    Download the MNIST dataset if it is not present.\n",
        "    :return: The train, test and validation set.\n",
        "    \"\"\"\n",
        "    origin = (\n",
        "        'http://www.iro.umontreal.ca/~lisa/deep/data/mnist/mnist.pkl.gz'\n",
        "    )\n",
        "    print('Downloading data from %s' % origin)\n",
        "    urllib.request.urlretrieve(origin, dataset)\n",
        "\n",
        "def _get_datafolder_path():\n",
        "    full_path = os.path.abspath('.')\n",
        "    path = full_path +'/data'\n",
        "    return path\n",
        "\n",
        "def load_mnist_realval(\n",
        "        dataset=_get_datafolder_path()+'/mnist_real/mnist.pkl.gz'):\n",
        "    '''\n",
        "    Loads the real valued MNIST dataset\n",
        "    :param dataset: path to dataset file\n",
        "    :return: None\n",
        "    '''\n",
        "    if not os.path.isfile(dataset):\n",
        "        datasetfolder = os.path.dirname(dataset)\n",
        "        if not os.path.exists(datasetfolder):\n",
        "            os.makedirs(datasetfolder)\n",
        "        _download_mnist_realval(dataset)\n",
        "\n",
        "    f = gzip.open(dataset, 'rb')\n",
        "    train_set, valid_set, test_set = pkl.load(f, encoding='latin1')\n",
        "    f.close()\n",
        "    x_train, targets_train = train_set[0], train_set[1]\n",
        "    x_valid, targets_valid = valid_set[0], valid_set[1]\n",
        "    x_test, targets_test = test_set[0], test_set[1]\n",
        "    return x_train, targets_train, x_valid, targets_valid, x_test, targets_test"
      ],
      "execution_count": 0,
      "outputs": []
    },
    {
      "metadata": {
        "id": "ft_jIh-W1FTN",
        "colab_type": "code",
        "outputId": "6fe7218d-7198-4596-f0a9-96692f67244e",
        "colab": {
          "base_uri": "https://localhost:8080/",
          "height": 34
        }
      },
      "cell_type": "code",
      "source": [
        "x_train, targets_train, x_valid, targets_valid, x_test, targets_test = load_mnist_realval()"
      ],
      "execution_count": 5,
      "outputs": [
        {
          "output_type": "stream",
          "text": [
            "Downloading data from http://www.iro.umontreal.ca/~lisa/deep/data/mnist/mnist.pkl.gz\n"
          ],
          "name": "stdout"
        }
      ]
    },
    {
      "metadata": {
        "id": "7JbpgNC1Yy2W",
        "colab_type": "code",
        "colab": {}
      },
      "cell_type": "code",
      "source": [
        "tf.reset_default_graph()\n",
        "optimizer = tf.train.AdamOptimizer()\n",
        "\n"
      ],
      "execution_count": 0,
      "outputs": []
    },
    {
      "metadata": {
        "colab_type": "code",
        "id": "yvTEYw44O_5q",
        "colab": {}
      },
      "cell_type": "code",
      "source": [
        "#finding EL2O 'by hand'\n",
        "tf.reset_default_graph()\n",
        "\n",
        "batch_size  = 64\n",
        "batch_size2 = 64\n",
        "hidden_size = 8\n",
        "\n",
        "def inference(in_net):\n",
        "    with tf.variable_scope('generator/inference', reuse=tf.AUTO_REUSE):\n",
        "        net = tf.layers.dense(in_net, 512, name='dense_1', activation=tf.nn.leaky_relu)\n",
        "        net = tf.layers.dense(net, 384, name='dense_2', activation=tf.nn.leaky_relu)\n",
        "        net = tf.layers.dense(net, 256, name='dense_3', activation=tf.nn.leaky_relu)\n",
        "        net = tf.layers.dense(net, 2*hidden_size, name='dense_5', activation=None)\n",
        "    return net\n",
        "\n",
        "def generator(in_net):\n",
        "    with tf.variable_scope('generator', reuse=tf.AUTO_REUSE):\n",
        "        net = tf.layers.dense(in_net, 256, name='dense_1', activation=tf.nn.leaky_relu)\n",
        "        net = tf.layers.dense(net, 384, name='dense_2', activation=tf.nn.leaky_relu)\n",
        "        net = tf.layers.dense(net, 512, name='dense_3', activation=tf.nn.leaky_relu)\n",
        "        net = tf.layers.dense(net, 784, name='dense_5', activation=None)\n",
        "    return net\n",
        "\n",
        "lr    = tf.placeholder_with_default(0.001,shape=[])\n",
        "\n",
        "x     = tf.placeholder(shape=[batch_size, 784], dtype=tf.float32)\n",
        "\n",
        "prior = tfd.MultivariateNormalDiag(tf.zeros(hidden_size), scale_identity_multiplier=1.0)\n",
        "\n",
        "mu, sigma        = tf.split(inference(x), 2, axis=-1)\n",
        "sigma            = tf.nn.softplus(sigma) + 0.0001\n",
        "approx_posterior = tfd.MultivariateNormalDiag(loc=mu, scale_diag=sigma)\n",
        "\n",
        "z                = approx_posterior.sample()\n",
        "\n",
        "sample_size      = tf.placeholder_with_default(1,shape=[])\n",
        "\n",
        "z_samples        = approx_posterior.sample(sample_size)\n",
        "\n",
        "x_samples        = tfd.Independent(tfd.Bernoulli(logits=generator(z_samples))).sample(sample_size)\n",
        "\n",
        "x_sims           = tfd.Independent(tfd.Bernoulli(logits=generator( prior.sample(batch_size)))).sample(sample_size)\n",
        "\n",
        "data_likelihood  = tfd.Independent(tfd.Bernoulli(logits=generator(z)))\n",
        "\n",
        "kl_divergence    = tfd.kl_divergence(approx_posterior, prior)\n",
        "\n",
        "elbo             = -tf.reduce_mean(data_likelihood.log_prob(x) - kl_divergence,axis=0)\n",
        "\n",
        "optimizer = tf.train.AdamOptimizer(learning_rate=lr)\n",
        "opt_op = optimizer.minimize(elbo)\n",
        "\n",
        "# get some masked data\n",
        "x_corr            = tf.placeholder(shape=[batch_size2,784], dtype=tf.float32)\n",
        "mymask            = tf.placeholder_with_default(np.ones((784),dtype=int),shape=[784])\n",
        "m_data            = tf.boolean_mask(x_corr, mymask, axis=1)\n",
        "\n",
        "\n",
        "######## find the MAP by minimization\n",
        "MAP                  = tf.Variable(np.zeros((batch_size2,hidden_size)),dtype=np.float32)\n",
        "\n",
        "# start of with model trained on uncorrupted data mean \n",
        "mu_corr, sigma_corr  = tf.split(inference(x_corr), 2, axis=-1)\n",
        "approx_posterior_corr= tfd.MultivariateNormalDiag(loc=mu_corr, scale_diag=sigma_corr)\n",
        "MAP_ini              = approx_posterior_corr.mean()\n",
        "update1              = tf.stop_gradient(tf.assign(MAP,MAP_ini))\n",
        "\n",
        "el2o_logits          = tf.boolean_mask(generator(MAP), mymask, axis=1)\n",
        "data_likelihood_el2o = tfd.Independent(tfd.Bernoulli(logits=el2o_logits))\n",
        "posterior_corr_MAP   = prior.log_prob(MAP)+data_likelihood_el2o.log_prob(m_data)\n",
        "shape1 = tf.shape(prior.log_prob(MAP))\n",
        "shape2 = tf.shape(data_likelihood_el2o.log_prob(m_data))\n",
        "loss                 = -tf.reduce_mean(posterior_corr_MAP)\n",
        "\n",
        "opt_op2 = optimizer.minimize(loss, var_list=[MAP])\n",
        "\n",
        "MAP_sims           = tfd.Independent(tfd.Bernoulli(logits=generator(MAP))).sample(sample_size)\n",
        "MAP_mean           = tfd.Independent(tfd.Bernoulli(logits=generator(MAP))).mean()\n",
        "\n",
        "## get approximate posterior Laplace approximation\n",
        "\n",
        "ini_val  = np.ones((batch_size,(hidden_size *(hidden_size +1)) // 2),dtype=np.float32)\n",
        "\n",
        "with tf.variable_scope(\"corrupted/approxposterior\",reuse=tf.AUTO_REUSE):\n",
        "  mu_new      = tf.Variable(np.ones((batch_size2,hidden_size)), dtype=np.float32)\n",
        "  sigma_new_t = tf.constant(ini_val)\n",
        "  sigma_new_t2= tf.Variable(tfd.matrix_diag_transform(tfd.fill_triangular(sigma_new_t), transform=tf.nn.softplus))\n",
        "  \n",
        "approx_posterior_laplace = tfd.MultivariateNormalTriL(loc=mu_new,scale_tril=sigma_new_t2)\n",
        "\n",
        "update2          = tf.stop_gradient(mu_new.assign(MAP))\n",
        "\n",
        "hess             = tf.hessians(-posterior_corr_MAP,MAP)\n",
        "\n",
        "hess             = tf.gather(hess, 0)\n",
        "\n",
        "hess2            = tf.reduce_sum( hess, axis = 2 )\n",
        "\n",
        "sigma_new        = tf.linalg.inv(hess2)\n",
        "\n",
        "update3          = sigma_new_t2.assign(tf.linalg.cholesky(sigma_new))\n",
        "\n",
        "new_z_samples    = approx_posterior_laplace.sample(sample_size)\n",
        "\n",
        "new_x_samples    = tfd.Independent(tfd.Bernoulli(logits=generator(new_z_samples))).sample(sample_size)\n",
        "\n",
        "\n",
        "### for comparison: get minimize elbo for corrupted data\n",
        "\n",
        "with tf.variable_scope(\"posterior_elbo\"):\n",
        "  mu_elbo      = tf.Variable(np.zeros((batch_size2,hidden_size)), dtype=np.float32)\n",
        "  sigma_elbo   = tf.Variable(np.ones((batch_size2,hidden_size)), dtype=np.float32)\n",
        "\n",
        "approx_posterior_elbo = tfd.MultivariateNormalDiag(loc=mu_elbo,scale_diag=sigma_elbo, name='approxposterior_elbo')\n",
        "zz_               = approx_posterior_elbo.sample()\n",
        "elbo_mean         = approx_posterior_elbo.mean()\n",
        "kl_divergence2    = tfd.kl_divergence(approx_posterior_elbo, prior) \n",
        "elbo_liklogits    = tf.boolean_mask(generator(zz_), mymask, axis=1)\n",
        "data_likelihood2  = tfd.Independent(tfd.Bernoulli(logits=elbo_liklogits))\n",
        "elbo2             = -tf.reduce_mean(data_likelihood2.log_prob(m_data)- kl_divergence2,axis=0)\n",
        "\n",
        "opt_op_elbo2      = optimizer.minimize(elbo2,var_list=[mu_elbo,sigma_elbo])\n",
        "\n",
        "z_samples_elbo    = approx_posterior_elbo.sample(sample_size)\n",
        "x_samples_elbo    = tfd.Independent(tfd.Bernoulli(logits=generator(z_samples_elbo))).sample(sample_size)\n",
        "x_mean_elbo       = tfd.Independent(tfd.Bernoulli(logits=elbo_liklogits)).mean()\n"
      ],
      "execution_count": 0,
      "outputs": []
    },
    {
      "metadata": {
        "id": "ryR4lAa41FTP",
        "colab_type": "code",
        "colab": {}
      },
      "cell_type": "code",
      "source": [
        "datagen = tf.keras.preprocessing.image.ImageDataGenerator(rotation_range=5,zoom_range=0.1)"
      ],
      "execution_count": 0,
      "outputs": []
    },
    {
      "metadata": {
        "id": "Soh1tnGH1FTW",
        "colab_type": "code",
        "colab": {}
      },
      "cell_type": "code",
      "source": [
        "sess = tf.Session()\n",
        "sess.run(tf.global_variables_initializer())"
      ],
      "execution_count": 0,
      "outputs": []
    },
    {
      "metadata": {
        "id": "YoicH-hW1FTY",
        "colab_type": "code",
        "colab": {}
      },
      "cell_type": "code",
      "source": [
        "losses_data = []"
      ],
      "execution_count": 0,
      "outputs": []
    },
    {
      "metadata": {
        "id": "8omyuYL5tihx",
        "colab_type": "code",
        "outputId": "d72a53c4-afba-48f1-8771-751030550f95",
        "colab": {
          "base_uri": "https://localhost:8080/",
          "height": 34
        }
      },
      "cell_type": "code",
      "source": [
        "imgsv_full= x_valid.reshape((-1,28,28,1))\n",
        "print(imgsv_full.shape)"
      ],
      "execution_count": 116,
      "outputs": [
        {
          "output_type": "stream",
          "text": [
            "(10000, 28, 28, 1)\n"
          ],
          "name": "stdout"
        }
      ]
    },
    {
      "metadata": {
        "id": "I1EHrkJ_1FTa",
        "colab_type": "code",
        "outputId": "c488ad0a-368c-4eae-9d59-6f4fda7bd3c5",
        "colab": {
          "base_uri": "https://localhost:8080/",
          "height": 8586
        }
      },
      "cell_type": "code",
      "source": [
        "nepochs     = 20\n",
        "jj          = 0.\n",
        "lrate_start = 1e-5\n",
        "maxcount    = 10\n",
        "ii          = 0\n",
        "\n",
        "for ep in range(nepochs):\n",
        "    gen  = datagen.flow(x_train.reshape((50000,28,28,1)), batch_size=batch_size)\n",
        "    \n",
        "    count = 0\n",
        "    print('new epoch')\n",
        "    lrate=lrate_start\n",
        "    for i in range(50000 // batch_size):\n",
        "        # Train the inference model\n",
        "        imgs  = next(gen)\n",
        "\n",
        "        imgsv = imgsv_full[ii*batch_size:(ii+1)*batch_size]\n",
        "\n",
        "        if (len(imgsv) < batch_size) or ((ii+1)*batch_size==len(imgsv_full)):\n",
        "          ii=0\n",
        "          imgsv = imgsv_full[ii*batch_size:(ii+1)*batch_size]\n",
        "        ii+=1\n",
        "       \n",
        "        \n",
        "        if len(imgs) < batch_size:\n",
        "            imgs = next(gen)\n",
        "\n",
        "            \n",
        "        imgs = imgs.reshape([-1,784])\n",
        "        imgsv= imgsv.reshape([-1,784])\n",
        "\n",
        "        # Train the generative model\n",
        "        _, l  = sess.run([opt_op, elbo], feed_dict={x: imgs, lr:lrate})\n",
        "        lv    = sess.run([elbo], feed_dict={x: imgsv})[0]\n",
        "        \n",
        "        if lv>l:\n",
        "          jj+=1\n",
        "        if l>lv:\n",
        "          jj=0.\n",
        "        \n",
        "      \n",
        "        losses_data.append(l)\n",
        "        \n",
        "        count += 1\n",
        "        if count % 10 ==0:\n",
        "            print(ep, l, lv, jj)\n",
        "            \n",
        "        if jj>maxcount:\n",
        "            print('break criterion met')\n",
        "            break\n",
        "    if jj>(maxcount+5):\n",
        "      break"
      ],
      "execution_count": 118,
      "outputs": [
        {
          "output_type": "stream",
          "text": [
            "new epoch\n",
            "0 126.10104 112.63744 0.0\n",
            "0 120.66507 113.80002 0.0\n",
            "0 127.650116 107.08195 0.0\n",
            "0 123.169464 112.116325 0.0\n",
            "0 129.2048 104.85849 0.0\n",
            "0 118.595634 105.220894 0.0\n",
            "0 125.46703 103.574905 0.0\n",
            "0 125.01855 111.55384 0.0\n",
            "0 123.174835 112.54114 0.0\n",
            "0 119.83888 103.26483 0.0\n",
            "0 126.921 107.08718 0.0\n",
            "0 126.29494 115.34963 0.0\n",
            "0 123.319786 111.11574 0.0\n",
            "0 120.29941 113.053055 0.0\n",
            "0 125.594635 108.88643 0.0\n",
            "0 125.877304 109.23352 0.0\n",
            "0 117.54675 99.277084 0.0\n",
            "0 130.73053 111.876976 0.0\n",
            "0 117.04545 114.411835 0.0\n",
            "0 125.93212 108.75223 0.0\n",
            "0 129.74423 101.526306 0.0\n",
            "0 126.78978 114.51384 0.0\n",
            "0 112.269325 104.16298 0.0\n",
            "0 124.2642 102.103195 0.0\n",
            "0 123.273285 109.8608 0.0\n",
            "0 119.172775 110.59255 0.0\n",
            "0 125.555374 115.91966 0.0\n",
            "0 124.17026 113.342445 0.0\n",
            "0 114.69728 112.270134 0.0\n",
            "0 121.93836 101.97357 0.0\n",
            "0 118.61345 107.87324 0.0\n",
            "0 120.72677 110.84819 0.0\n",
            "0 122.52454 109.59657 0.0\n",
            "0 121.688965 111.10507 0.0\n",
            "0 123.21603 106.62782 0.0\n",
            "0 126.32413 117.32346 0.0\n",
            "0 129.42477 113.24373 0.0\n",
            "0 120.967186 111.87805 0.0\n",
            "0 126.15811 115.26402 0.0\n",
            "0 122.3837 109.082054 0.0\n",
            "0 120.79633 116.511246 0.0\n",
            "0 121.90217 108.636826 0.0\n",
            "0 116.57225 118.01153 1.0\n",
            "0 122.124954 108.86871 0.0\n",
            "0 128.7074 122.425804 0.0\n",
            "0 124.88121 115.28873 0.0\n",
            "0 123.30338 111.77585 0.0\n",
            "0 121.466675 112.682526 0.0\n",
            "0 124.738014 108.04953 0.0\n",
            "0 127.35515 112.27719 0.0\n",
            "0 122.5361 105.862946 0.0\n",
            "0 129.71364 107.92088 0.0\n",
            "0 121.17691 113.50519 0.0\n",
            "0 125.176414 110.70761 0.0\n",
            "0 127.33111 107.90588 0.0\n",
            "0 117.952324 106.93073 0.0\n",
            "0 123.59498 117.19321 0.0\n",
            "0 129.06859 111.80165 0.0\n",
            "0 126.05353 105.31976 0.0\n",
            "0 115.33441 122.41882 1.0\n",
            "0 127.47735 107.519714 0.0\n",
            "0 122.59535 112.19894 0.0\n",
            "0 124.118744 113.62053 0.0\n",
            "0 127.080795 108.84892 0.0\n",
            "0 124.88097 116.73414 0.0\n",
            "0 127.701515 105.06038 0.0\n",
            "0 116.72662 122.80204 1.0\n",
            "0 124.12991 112.60324 0.0\n",
            "0 117.63873 107.485596 0.0\n",
            "0 119.597885 107.54704 0.0\n",
            "0 126.92366 110.15764 0.0\n",
            "0 124.59645 107.266266 0.0\n",
            "0 116.2322 103.17622 0.0\n",
            "0 116.767 105.27066 0.0\n",
            "0 122.92299 108.54629 0.0\n",
            "0 113.7926 95.973175 0.0\n",
            "0 123.56096 131.827 1.0\n",
            "0 132.72641 111.277435 0.0\n",
            "new epoch\n",
            "1 128.78128 111.53903 0.0\n",
            "1 122.93475 107.38583 0.0\n",
            "1 123.79312 115.21158 0.0\n",
            "1 128.06892 99.66783 0.0\n",
            "1 128.76924 109.47235 0.0\n",
            "1 122.31543 112.382454 0.0\n",
            "1 126.77822 116.19501 0.0\n",
            "1 130.48306 106.43101 0.0\n",
            "1 118.799545 110.77275 0.0\n",
            "1 121.90619 107.93544 0.0\n",
            "1 120.485725 100.99077 0.0\n",
            "1 125.61818 115.85489 0.0\n",
            "1 117.555725 103.245316 0.0\n",
            "1 128.2887 103.9948 0.0\n",
            "1 131.08357 110.90871 0.0\n",
            "1 118.67241 114.953674 0.0\n",
            "1 126.8108 106.76832 0.0\n",
            "1 116.8347 107.12944 0.0\n",
            "1 119.359055 103.617805 0.0\n",
            "1 116.73901 113.480484 0.0\n",
            "1 125.00666 109.14255 0.0\n",
            "1 123.73047 110.89578 0.0\n",
            "1 121.54284 105.88809 0.0\n",
            "1 116.330956 108.38646 0.0\n",
            "1 121.93317 106.97381 0.0\n",
            "1 123.72493 111.07785 0.0\n",
            "1 122.802 115.23725 0.0\n",
            "1 128.78044 111.78931 0.0\n",
            "1 128.39497 98.14148 0.0\n",
            "1 127.26129 107.93256 0.0\n",
            "1 116.18495 101.26379 0.0\n",
            "1 121.92206 116.32768 0.0\n",
            "1 121.15061 107.44299 0.0\n",
            "1 113.1727 109.88962 0.0\n",
            "1 118.80451 110.77577 0.0\n",
            "1 114.98392 113.962326 0.0\n",
            "1 111.482285 111.20504 0.0\n",
            "1 113.72279 108.70727 0.0\n",
            "1 122.81081 112.79619 0.0\n",
            "1 116.6271 115.15486 0.0\n",
            "1 126.07897 106.53926 0.0\n",
            "1 121.42282 102.88283 0.0\n",
            "1 130.90182 110.6658 0.0\n",
            "1 125.260056 118.76405 0.0\n",
            "1 121.777054 129.00768 1.0\n",
            "1 117.77319 101.28758 0.0\n",
            "1 120.33718 106.55646 0.0\n",
            "1 124.51796 106.482285 0.0\n",
            "1 125.60498 111.54742 0.0\n",
            "1 126.570885 108.9604 0.0\n",
            "1 114.87514 110.45094 0.0\n",
            "1 120.68881 109.58672 0.0\n",
            "1 121.722336 122.63571 1.0\n",
            "1 119.09619 103.11812 0.0\n",
            "1 121.99916 112.14132 0.0\n",
            "1 115.97252 107.41913 0.0\n",
            "1 117.4834 110.93685 0.0\n",
            "1 130.9322 110.06624 0.0\n",
            "1 116.03734 105.607635 0.0\n",
            "1 121.3806 106.68388 0.0\n",
            "1 124.98358 110.666 0.0\n",
            "1 115.62862 107.073944 0.0\n",
            "1 117.308105 116.18094 0.0\n",
            "1 116.033585 101.130264 0.0\n",
            "1 118.49417 109.39762 0.0\n",
            "1 122.981995 103.401764 0.0\n",
            "1 120.09246 113.70225 0.0\n",
            "1 124.46841 105.128174 0.0\n",
            "1 121.563416 102.66199 0.0\n",
            "1 124.36079 113.68459 0.0\n",
            "1 118.324814 114.28133 0.0\n",
            "1 122.033104 112.72096 0.0\n",
            "1 124.30512 104.73692 0.0\n",
            "1 123.093094 109.1516 0.0\n",
            "1 123.44683 105.40367 0.0\n",
            "1 118.22592 105.39293 0.0\n",
            "1 121.73919 114.50612 0.0\n",
            "1 125.96539 103.00276 0.0\n",
            "new epoch\n",
            "2 126.27109 111.4167 0.0\n",
            "2 125.69539 107.16753 0.0\n",
            "2 119.685555 111.95392 0.0\n",
            "2 126.10045 104.633705 0.0\n",
            "2 126.32462 106.02546 0.0\n",
            "2 124.8814 112.19673 0.0\n",
            "2 112.33977 110.36879 0.0\n",
            "2 118.05234 107.86142 0.0\n",
            "2 121.218155 106.28865 0.0\n",
            "2 124.16725 116.43729 0.0\n",
            "2 122.386086 109.90685 0.0\n",
            "2 122.70515 105.91352 0.0\n",
            "2 121.623535 121.33022 0.0\n",
            "2 123.47694 106.58332 0.0\n",
            "2 122.30528 110.60797 0.0\n",
            "2 130.28372 112.990616 0.0\n",
            "2 110.54662 108.3666 0.0\n",
            "2 125.99153 115.514175 0.0\n",
            "2 127.97797 104.90808 0.0\n",
            "2 118.74975 121.88388 1.0\n",
            "2 120.79065 112.84833 0.0\n",
            "2 125.22624 107.06493 0.0\n",
            "2 125.48282 107.72861 0.0\n",
            "2 127.95741 109.05909 0.0\n",
            "2 124.69726 107.04123 0.0\n",
            "2 129.58215 102.82579 0.0\n",
            "2 121.405685 104.69614 0.0\n",
            "2 125.26839 107.199524 0.0\n",
            "2 121.3113 96.402916 0.0\n",
            "2 119.37731 132.01909 1.0\n",
            "2 121.919464 111.15857 0.0\n",
            "2 125.1434 109.872314 0.0\n",
            "2 118.30127 110.64761 0.0\n",
            "2 118.837265 104.97349 0.0\n",
            "2 116.72694 109.51848 0.0\n",
            "2 120.16583 102.690765 0.0\n",
            "2 123.7153 103.06177 0.0\n",
            "2 113.490906 101.60951 0.0\n",
            "2 127.57852 108.88765 0.0\n",
            "2 118.82085 110.56676 0.0\n",
            "2 123.28771 101.56211 0.0\n",
            "2 120.635025 105.45245 0.0\n",
            "2 123.68381 113.3621 0.0\n",
            "2 114.784676 109.12373 0.0\n",
            "2 117.47476 111.55182 0.0\n",
            "2 119.819916 107.78455 0.0\n",
            "2 114.40803 108.430855 0.0\n",
            "2 122.63812 97.404785 0.0\n",
            "2 124.9032 109.88979 0.0\n",
            "2 127.66439 112.34684 0.0\n",
            "2 120.75774 107.43487 0.0\n",
            "2 123.08598 99.60137 0.0\n",
            "2 120.50385 113.193344 0.0\n",
            "2 121.40512 101.97075 0.0\n",
            "2 115.5403 101.15238 0.0\n",
            "2 122.215675 108.02887 0.0\n",
            "2 123.99644 108.60631 0.0\n",
            "2 117.01079 113.99315 0.0\n",
            "2 123.48164 113.0296 0.0\n",
            "2 120.0681 110.81077 0.0\n",
            "2 118.406265 100.71231 0.0\n",
            "2 121.48045 107.193985 0.0\n",
            "2 115.880325 110.46362 0.0\n",
            "2 116.64136 108.46956 0.0\n",
            "2 113.97224 109.63738 0.0\n",
            "2 121.56995 106.17201 0.0\n",
            "2 124.26782 116.086845 0.0\n",
            "2 128.24924 112.30309 0.0\n",
            "2 126.55339 111.371704 0.0\n",
            "2 127.40458 114.27121 0.0\n",
            "2 123.5181 108.17775 0.0\n",
            "2 127.58502 115.89877 0.0\n",
            "2 129.89917 107.87871 0.0\n",
            "2 122.477646 116.31464 0.0\n",
            "2 124.50884 107.85853 0.0\n",
            "2 117.474304 121.50171 1.0\n",
            "2 118.8333 115.10892 0.0\n",
            "2 125.052505 111.26491 0.0\n",
            "new epoch\n",
            "3 120.45387 106.59923 0.0\n",
            "3 122.59546 112.3982 0.0\n",
            "3 121.971436 109.63039 0.0\n",
            "3 122.70499 109.6769 0.0\n",
            "3 125.313225 109.32733 0.0\n",
            "3 121.95203 122.40599 1.0\n",
            "3 125.277916 103.04781 0.0\n",
            "3 122.72466 112.47755 0.0\n",
            "3 124.1326 106.93547 0.0\n",
            "3 117.06034 111.49385 0.0\n",
            "3 117.54581 110.056526 0.0\n",
            "3 118.81419 105.70996 0.0\n",
            "3 120.62471 106.65005 0.0\n",
            "3 125.785 109.43277 0.0\n",
            "3 116.344376 106.652756 0.0\n",
            "3 118.39148 115.12254 0.0\n",
            "3 117.87582 100.48096 0.0\n",
            "3 123.27559 108.50885 0.0\n",
            "3 115.20175 103.3178 0.0\n",
            "3 122.47615 112.560905 0.0\n",
            "3 127.32837 105.29968 0.0\n",
            "3 126.402725 102.4663 0.0\n",
            "3 117.17029 113.29636 0.0\n",
            "3 119.745636 114.31383 0.0\n",
            "3 123.04318 112.39337 0.0\n",
            "3 119.601456 105.255875 0.0\n",
            "3 125.417694 107.994804 0.0\n",
            "3 118.620895 104.712204 0.0\n",
            "3 131.6372 104.61287 0.0\n",
            "3 111.655685 115.00712 2.0\n",
            "3 122.009605 103.35353 0.0\n",
            "3 125.23584 111.87648 0.0\n",
            "3 122.35031 107.00135 0.0\n",
            "3 124.792465 113.95305 0.0\n",
            "3 124.39551 99.209305 0.0\n",
            "3 122.48327 109.36585 0.0\n",
            "3 118.47429 110.7602 0.0\n",
            "3 119.653656 115.70151 0.0\n",
            "3 128.58879 105.87557 0.0\n",
            "3 119.905594 109.69377 0.0\n",
            "3 118.14201 107.09556 0.0\n",
            "3 117.92323 100.40448 0.0\n",
            "3 124.785675 114.53424 0.0\n",
            "3 122.249275 103.24594 0.0\n",
            "3 117.40137 103.462814 0.0\n",
            "3 121.78021 111.1942 0.0\n",
            "3 120.93886 113.62647 0.0\n",
            "3 123.53609 106.05864 0.0\n",
            "3 119.98047 106.051315 0.0\n",
            "3 120.8084 102.60902 0.0\n",
            "3 117.351 112.71745 0.0\n",
            "3 127.9214 109.16031 0.0\n",
            "3 118.62895 110.079895 0.0\n",
            "3 125.827866 106.54726 0.0\n",
            "3 120.46585 107.190506 0.0\n",
            "3 115.226395 105.84763 0.0\n",
            "3 127.56366 110.93907 0.0\n",
            "3 119.322784 114.797714 0.0\n",
            "3 122.04549 110.680664 0.0\n",
            "3 124.90086 98.18643 0.0\n",
            "3 118.215485 107.541626 0.0\n",
            "3 124.810326 100.33269 0.0\n",
            "3 113.29137 116.44578 1.0\n",
            "3 125.33248 106.93556 0.0\n",
            "3 121.501816 109.56853 0.0\n",
            "3 124.55835 110.538925 0.0\n",
            "3 126.58919 112.92706 0.0\n",
            "3 131.63348 110.77005 0.0\n",
            "3 125.28549 108.07244 0.0\n",
            "3 117.49298 112.14006 0.0\n",
            "3 129.05498 114.98091 0.0\n",
            "3 122.98183 105.578896 0.0\n",
            "3 113.82022 102.2725 0.0\n",
            "3 124.02638 110.2881 0.0\n",
            "3 116.3453 118.18024 1.0\n",
            "3 123.61414 129.21983 1.0\n",
            "3 121.16762 100.80727 0.0\n",
            "3 120.72166 106.47575 0.0\n",
            "new epoch\n",
            "4 119.27253 97.08532 0.0\n",
            "4 113.5477 109.532364 0.0\n",
            "4 122.67024 112.22098 0.0\n",
            "4 119.80677 107.40938 0.0\n",
            "4 128.70334 100.17171 0.0\n",
            "4 118.77946 113.19336 0.0\n",
            "4 121.58198 102.780235 0.0\n",
            "4 123.53237 100.39199 0.0\n",
            "4 120.21862 108.125175 0.0\n",
            "4 118.19731 108.91291 0.0\n",
            "4 122.644714 113.54958 0.0\n",
            "4 123.05216 111.96298 0.0\n",
            "4 117.089355 110.44971 0.0\n",
            "4 123.70648 101.54046 0.0\n",
            "4 122.64663 106.14374 0.0\n",
            "4 120.17227 109.9054 0.0\n",
            "4 127.33453 108.767105 0.0\n",
            "4 120.23265 109.10251 0.0\n",
            "4 124.38154 105.89131 0.0\n",
            "4 119.17767 116.66873 0.0\n",
            "4 127.26865 112.90338 0.0\n",
            "4 128.49551 111.67836 0.0\n",
            "4 126.443535 113.52329 0.0\n",
            "4 126.9653 107.77566 0.0\n",
            "4 130.01552 115.12737 0.0\n",
            "4 122.50055 107.22848 0.0\n",
            "4 119.553246 115.895676 0.0\n",
            "4 128.49475 107.9268 0.0\n",
            "4 125.76009 121.5649 0.0\n",
            "4 122.5327 114.05272 0.0\n",
            "4 116.917946 110.973335 0.0\n",
            "4 116.02155 111.18417 0.0\n",
            "4 120.662735 107.6743 0.0\n",
            "4 110.843765 112.05815 1.0\n",
            "4 116.44873 104.165146 0.0\n",
            "4 126.951645 106.451675 0.0\n",
            "4 122.29376 112.582146 0.0\n",
            "4 130.02792 109.81383 0.0\n",
            "4 119.24483 106.51558 0.0\n",
            "4 120.06697 106.273026 0.0\n",
            "4 121.03122 116.49984 0.0\n",
            "4 117.98004 109.12576 0.0\n",
            "4 123.359886 105.64398 0.0\n",
            "4 123.59531 120.93953 0.0\n",
            "4 123.816376 106.749374 0.0\n",
            "4 127.94382 110.768936 0.0\n",
            "4 116.972046 113.01198 0.0\n",
            "4 123.82636 107.959854 0.0\n",
            "4 123.45245 115.12015 0.0\n",
            "4 119.34091 104.9903 0.0\n",
            "4 123.6949 121.629456 0.0\n",
            "4 130.4006 112.57427 0.0\n",
            "4 116.48967 106.578766 0.0\n",
            "4 121.51458 107.44232 0.0\n",
            "4 115.525055 108.5009 0.0\n",
            "4 118.47031 107.27876 0.0\n",
            "4 122.732254 102.439186 0.0\n",
            "4 116.72507 104.92895 0.0\n",
            "4 123.56057 106.20697 0.0\n",
            "4 121.59401 95.82344 0.0\n",
            "4 122.927956 132.15933 1.0\n",
            "4 120.329346 110.45376 0.0\n",
            "4 117.69479 109.594025 0.0\n",
            "4 130.14334 109.67737 0.0\n",
            "4 118.76723 104.41761 0.0\n",
            "4 118.75519 108.626305 0.0\n",
            "4 116.52962 102.293884 0.0\n",
            "4 119.8075 102.426125 0.0\n",
            "4 121.62521 101.49598 0.0\n",
            "4 130.8203 109.11093 0.0\n",
            "4 119.98929 109.72728 0.0\n",
            "4 118.23775 101.60652 0.0\n",
            "4 124.95308 104.86018 0.0\n",
            "4 130.14716 113.26363 0.0\n",
            "4 118.087906 108.55388 0.0\n",
            "4 110.23752 111.25073 2.0\n",
            "4 122.06474 107.29082 0.0\n",
            "4 117.29235 108.12656 0.0\n",
            "new epoch\n",
            "5 125.45054 106.46223 0.0\n",
            "5 129.20877 105.61792 0.0\n",
            "5 120.361824 103.392975 0.0\n",
            "5 121.951035 112.45291 0.0\n",
            "5 127.73198 108.977165 0.0\n",
            "5 116.300766 110.384735 0.0\n",
            "5 120.14375 105.56536 0.0\n",
            "5 119.58316 107.076065 0.0\n",
            "5 123.98088 105.1541 0.0\n",
            "5 119.03247 109.53588 0.0\n",
            "5 120.29967 114.62305 0.0\n",
            "5 126.016655 110.77461 0.0\n",
            "5 126.08423 98.0181 0.0\n",
            "5 126.49509 107.55843 0.0\n",
            "5 119.6947 100.15304 0.0\n",
            "5 120.35724 116.432465 0.0\n",
            "5 123.86688 106.29622 0.0\n",
            "5 121.91815 109.691895 0.0\n",
            "5 124.580215 110.77336 0.0\n",
            "5 116.795654 113.55794 0.0\n",
            "5 123.36807 110.85017 0.0\n",
            "5 121.04944 108.36077 0.0\n",
            "5 126.504196 111.991684 0.0\n",
            "5 127.54846 114.47596 0.0\n",
            "5 122.04526 105.69289 0.0\n",
            "5 121.17946 102.12722 0.0\n",
            "5 119.82622 109.89891 0.0\n",
            "5 119.69393 117.769684 0.0\n",
            "5 130.3858 128.55624 0.0\n",
            "5 121.97394 100.734955 0.0\n",
            "5 123.18839 105.809746 0.0\n",
            "5 123.72737 106.86886 0.0\n",
            "5 128.15463 111.67325 0.0\n",
            "5 115.84835 108.86394 0.0\n",
            "5 117.24994 110.439545 0.0\n",
            "5 122.07161 109.103 0.0\n",
            "5 121.56187 122.76085 1.0\n",
            "5 123.98488 103.185196 0.0\n",
            "5 121.41463 111.739395 0.0\n",
            "5 124.33114 106.13695 0.0\n",
            "5 130.58176 110.07621 0.0\n",
            "5 118.53206 109.285645 0.0\n",
            "5 123.80936 105.04168 0.0\n",
            "5 119.15206 107.32308 0.0\n",
            "5 122.197914 110.16649 0.0\n",
            "5 124.741974 106.66681 0.0\n",
            "5 122.0939 116.01401 0.0\n",
            "5 118.75932 100.49379 0.0\n",
            "5 119.535965 107.944046 0.0\n",
            "5 117.24483 102.32327 0.0\n",
            "5 114.73364 112.45906 0.0\n",
            "5 123.189445 104.35246 0.0\n",
            "5 121.18588 102.25453 0.0\n",
            "5 119.596436 112.543816 0.0\n",
            "5 127.93102 113.655014 0.0\n",
            "5 122.46375 112.36009 0.0\n",
            "5 127.27322 104.451294 0.0\n",
            "5 120.91699 108.201546 0.0\n",
            "5 118.17427 104.71794 0.0\n",
            "5 116.40378 104.72623 0.0\n",
            "5 128.39407 114.53012 0.0\n",
            "5 120.441635 102.39819 0.0\n",
            "5 122.02155 110.927475 0.0\n",
            "5 123.42868 106.26429 0.0\n",
            "5 125.374825 113.810974 0.0\n",
            "5 119.37274 99.49576 0.0\n",
            "5 114.81197 108.88397 0.0\n",
            "5 122.72568 110.60399 0.0\n",
            "5 127.03988 116.11708 0.0\n",
            "5 112.16754 105.846375 0.0\n",
            "5 124.95993 109.706055 0.0\n",
            "5 123.34126 107.20015 0.0\n",
            "5 118.63895 99.9955 0.0\n",
            "5 118.731766 115.30979 0.0\n",
            "5 118.02455 102.650055 0.0\n",
            "5 123.8234 103.37272 0.0\n",
            "5 122.77067 110.71594 0.0\n",
            "5 128.59544 113.84951 0.0\n",
            "new epoch\n",
            "6 119.9615 108.22269 0.0\n",
            "6 121.211525 115.63016 0.0\n",
            "6 129.36325 104.75338 0.0\n",
            "6 127.56522 120.90297 0.0\n",
            "6 126.13667 111.90724 0.0\n",
            "6 118.25168 106.51337 0.0\n",
            "6 117.22752 108.167435 0.0\n",
            "6 116.44185 109.5953 0.0\n",
            "6 123.88132 106.74526 0.0\n",
            "6 126.55158 102.82343 0.0\n",
            "6 123.53258 104.6104 0.0\n",
            "6 120.98602 107.157974 0.0\n",
            "6 116.077065 95.14992 0.0\n",
            "6 133.17749 132.23 0.0\n"
          ],
          "name": "stdout"
        },
        {
          "output_type": "error",
          "ename": "KeyboardInterrupt",
          "evalue": "ignored",
          "traceback": [
            "\u001b[0;31m---------------------------------------------------------------------------\u001b[0m",
            "\u001b[0;31mKeyboardInterrupt\u001b[0m                         Traceback (most recent call last)",
            "\u001b[0;32m<ipython-input-118-b1aa94d18a7e>\u001b[0m in \u001b[0;36m<module>\u001b[0;34m()\u001b[0m\n\u001b[1;32m     31\u001b[0m \u001b[0;34m\u001b[0m\u001b[0m\n\u001b[1;32m     32\u001b[0m         \u001b[0;31m# Train the generative model\u001b[0m\u001b[0;34m\u001b[0m\u001b[0;34m\u001b[0m\u001b[0;34m\u001b[0m\u001b[0m\n\u001b[0;32m---> 33\u001b[0;31m         \u001b[0m_\u001b[0m\u001b[0;34m,\u001b[0m \u001b[0ml\u001b[0m  \u001b[0;34m=\u001b[0m \u001b[0msess\u001b[0m\u001b[0;34m.\u001b[0m\u001b[0mrun\u001b[0m\u001b[0;34m(\u001b[0m\u001b[0;34m[\u001b[0m\u001b[0mopt_op\u001b[0m\u001b[0;34m,\u001b[0m \u001b[0melbo\u001b[0m\u001b[0;34m]\u001b[0m\u001b[0;34m,\u001b[0m \u001b[0mfeed_dict\u001b[0m\u001b[0;34m=\u001b[0m\u001b[0;34m{\u001b[0m\u001b[0mx\u001b[0m\u001b[0;34m:\u001b[0m \u001b[0mimgs\u001b[0m\u001b[0;34m,\u001b[0m \u001b[0mlr\u001b[0m\u001b[0;34m:\u001b[0m\u001b[0mlrate\u001b[0m\u001b[0;34m}\u001b[0m\u001b[0;34m)\u001b[0m\u001b[0;34m\u001b[0m\u001b[0;34m\u001b[0m\u001b[0m\n\u001b[0m\u001b[1;32m     34\u001b[0m         \u001b[0mlv\u001b[0m    \u001b[0;34m=\u001b[0m \u001b[0msess\u001b[0m\u001b[0;34m.\u001b[0m\u001b[0mrun\u001b[0m\u001b[0;34m(\u001b[0m\u001b[0;34m[\u001b[0m\u001b[0melbo\u001b[0m\u001b[0;34m]\u001b[0m\u001b[0;34m,\u001b[0m \u001b[0mfeed_dict\u001b[0m\u001b[0;34m=\u001b[0m\u001b[0;34m{\u001b[0m\u001b[0mx\u001b[0m\u001b[0;34m:\u001b[0m \u001b[0mimgsv\u001b[0m\u001b[0;34m}\u001b[0m\u001b[0;34m)\u001b[0m\u001b[0;34m[\u001b[0m\u001b[0;36m0\u001b[0m\u001b[0;34m]\u001b[0m\u001b[0;34m\u001b[0m\u001b[0;34m\u001b[0m\u001b[0m\n\u001b[1;32m     35\u001b[0m \u001b[0;34m\u001b[0m\u001b[0m\n",
            "\u001b[0;32m/usr/local/lib/python3.6/dist-packages/tensorflow/python/client/session.py\u001b[0m in \u001b[0;36mrun\u001b[0;34m(self, fetches, feed_dict, options, run_metadata)\u001b[0m\n\u001b[1;32m    927\u001b[0m     \u001b[0;32mtry\u001b[0m\u001b[0;34m:\u001b[0m\u001b[0;34m\u001b[0m\u001b[0;34m\u001b[0m\u001b[0m\n\u001b[1;32m    928\u001b[0m       result = self._run(None, fetches, feed_dict, options_ptr,\n\u001b[0;32m--> 929\u001b[0;31m                          run_metadata_ptr)\n\u001b[0m\u001b[1;32m    930\u001b[0m       \u001b[0;32mif\u001b[0m \u001b[0mrun_metadata\u001b[0m\u001b[0;34m:\u001b[0m\u001b[0;34m\u001b[0m\u001b[0;34m\u001b[0m\u001b[0m\n\u001b[1;32m    931\u001b[0m         \u001b[0mproto_data\u001b[0m \u001b[0;34m=\u001b[0m \u001b[0mtf_session\u001b[0m\u001b[0;34m.\u001b[0m\u001b[0mTF_GetBuffer\u001b[0m\u001b[0;34m(\u001b[0m\u001b[0mrun_metadata_ptr\u001b[0m\u001b[0;34m)\u001b[0m\u001b[0;34m\u001b[0m\u001b[0;34m\u001b[0m\u001b[0m\n",
            "\u001b[0;32m/usr/local/lib/python3.6/dist-packages/tensorflow/python/client/session.py\u001b[0m in \u001b[0;36m_run\u001b[0;34m(self, handle, fetches, feed_dict, options, run_metadata)\u001b[0m\n\u001b[1;32m   1150\u001b[0m     \u001b[0;32mif\u001b[0m \u001b[0mfinal_fetches\u001b[0m \u001b[0;32mor\u001b[0m \u001b[0mfinal_targets\u001b[0m \u001b[0;32mor\u001b[0m \u001b[0;34m(\u001b[0m\u001b[0mhandle\u001b[0m \u001b[0;32mand\u001b[0m \u001b[0mfeed_dict_tensor\u001b[0m\u001b[0;34m)\u001b[0m\u001b[0;34m:\u001b[0m\u001b[0;34m\u001b[0m\u001b[0;34m\u001b[0m\u001b[0m\n\u001b[1;32m   1151\u001b[0m       results = self._do_run(handle, final_targets, final_fetches,\n\u001b[0;32m-> 1152\u001b[0;31m                              feed_dict_tensor, options, run_metadata)\n\u001b[0m\u001b[1;32m   1153\u001b[0m     \u001b[0;32melse\u001b[0m\u001b[0;34m:\u001b[0m\u001b[0;34m\u001b[0m\u001b[0;34m\u001b[0m\u001b[0m\n\u001b[1;32m   1154\u001b[0m       \u001b[0mresults\u001b[0m \u001b[0;34m=\u001b[0m \u001b[0;34m[\u001b[0m\u001b[0;34m]\u001b[0m\u001b[0;34m\u001b[0m\u001b[0;34m\u001b[0m\u001b[0m\n",
            "\u001b[0;32m/usr/local/lib/python3.6/dist-packages/tensorflow/python/client/session.py\u001b[0m in \u001b[0;36m_do_run\u001b[0;34m(self, handle, target_list, fetch_list, feed_dict, options, run_metadata)\u001b[0m\n\u001b[1;32m   1326\u001b[0m     \u001b[0;32mif\u001b[0m \u001b[0mhandle\u001b[0m \u001b[0;32mis\u001b[0m \u001b[0;32mNone\u001b[0m\u001b[0;34m:\u001b[0m\u001b[0;34m\u001b[0m\u001b[0;34m\u001b[0m\u001b[0m\n\u001b[1;32m   1327\u001b[0m       return self._do_call(_run_fn, feeds, fetches, targets, options,\n\u001b[0;32m-> 1328\u001b[0;31m                            run_metadata)\n\u001b[0m\u001b[1;32m   1329\u001b[0m     \u001b[0;32melse\u001b[0m\u001b[0;34m:\u001b[0m\u001b[0;34m\u001b[0m\u001b[0;34m\u001b[0m\u001b[0m\n\u001b[1;32m   1330\u001b[0m       \u001b[0;32mreturn\u001b[0m \u001b[0mself\u001b[0m\u001b[0;34m.\u001b[0m\u001b[0m_do_call\u001b[0m\u001b[0;34m(\u001b[0m\u001b[0m_prun_fn\u001b[0m\u001b[0;34m,\u001b[0m \u001b[0mhandle\u001b[0m\u001b[0;34m,\u001b[0m \u001b[0mfeeds\u001b[0m\u001b[0;34m,\u001b[0m \u001b[0mfetches\u001b[0m\u001b[0;34m)\u001b[0m\u001b[0;34m\u001b[0m\u001b[0;34m\u001b[0m\u001b[0m\n",
            "\u001b[0;32m/usr/local/lib/python3.6/dist-packages/tensorflow/python/client/session.py\u001b[0m in \u001b[0;36m_do_call\u001b[0;34m(self, fn, *args)\u001b[0m\n\u001b[1;32m   1332\u001b[0m   \u001b[0;32mdef\u001b[0m \u001b[0m_do_call\u001b[0m\u001b[0;34m(\u001b[0m\u001b[0mself\u001b[0m\u001b[0;34m,\u001b[0m \u001b[0mfn\u001b[0m\u001b[0;34m,\u001b[0m \u001b[0;34m*\u001b[0m\u001b[0margs\u001b[0m\u001b[0;34m)\u001b[0m\u001b[0;34m:\u001b[0m\u001b[0;34m\u001b[0m\u001b[0;34m\u001b[0m\u001b[0m\n\u001b[1;32m   1333\u001b[0m     \u001b[0;32mtry\u001b[0m\u001b[0;34m:\u001b[0m\u001b[0;34m\u001b[0m\u001b[0;34m\u001b[0m\u001b[0m\n\u001b[0;32m-> 1334\u001b[0;31m       \u001b[0;32mreturn\u001b[0m \u001b[0mfn\u001b[0m\u001b[0;34m(\u001b[0m\u001b[0;34m*\u001b[0m\u001b[0margs\u001b[0m\u001b[0;34m)\u001b[0m\u001b[0;34m\u001b[0m\u001b[0;34m\u001b[0m\u001b[0m\n\u001b[0m\u001b[1;32m   1335\u001b[0m     \u001b[0;32mexcept\u001b[0m \u001b[0merrors\u001b[0m\u001b[0;34m.\u001b[0m\u001b[0mOpError\u001b[0m \u001b[0;32mas\u001b[0m \u001b[0me\u001b[0m\u001b[0;34m:\u001b[0m\u001b[0;34m\u001b[0m\u001b[0;34m\u001b[0m\u001b[0m\n\u001b[1;32m   1336\u001b[0m       \u001b[0mmessage\u001b[0m \u001b[0;34m=\u001b[0m \u001b[0mcompat\u001b[0m\u001b[0;34m.\u001b[0m\u001b[0mas_text\u001b[0m\u001b[0;34m(\u001b[0m\u001b[0me\u001b[0m\u001b[0;34m.\u001b[0m\u001b[0mmessage\u001b[0m\u001b[0;34m)\u001b[0m\u001b[0;34m\u001b[0m\u001b[0;34m\u001b[0m\u001b[0m\n",
            "\u001b[0;32m/usr/local/lib/python3.6/dist-packages/tensorflow/python/client/session.py\u001b[0m in \u001b[0;36m_run_fn\u001b[0;34m(feed_dict, fetch_list, target_list, options, run_metadata)\u001b[0m\n\u001b[1;32m   1317\u001b[0m       \u001b[0mself\u001b[0m\u001b[0;34m.\u001b[0m\u001b[0m_extend_graph\u001b[0m\u001b[0;34m(\u001b[0m\u001b[0;34m)\u001b[0m\u001b[0;34m\u001b[0m\u001b[0;34m\u001b[0m\u001b[0m\n\u001b[1;32m   1318\u001b[0m       return self._call_tf_sessionrun(\n\u001b[0;32m-> 1319\u001b[0;31m           options, feed_dict, fetch_list, target_list, run_metadata)\n\u001b[0m\u001b[1;32m   1320\u001b[0m \u001b[0;34m\u001b[0m\u001b[0m\n\u001b[1;32m   1321\u001b[0m     \u001b[0;32mdef\u001b[0m \u001b[0m_prun_fn\u001b[0m\u001b[0;34m(\u001b[0m\u001b[0mhandle\u001b[0m\u001b[0;34m,\u001b[0m \u001b[0mfeed_dict\u001b[0m\u001b[0;34m,\u001b[0m \u001b[0mfetch_list\u001b[0m\u001b[0;34m)\u001b[0m\u001b[0;34m:\u001b[0m\u001b[0;34m\u001b[0m\u001b[0;34m\u001b[0m\u001b[0m\n",
            "\u001b[0;32m/usr/local/lib/python3.6/dist-packages/tensorflow/python/client/session.py\u001b[0m in \u001b[0;36m_call_tf_sessionrun\u001b[0;34m(self, options, feed_dict, fetch_list, target_list, run_metadata)\u001b[0m\n\u001b[1;32m   1405\u001b[0m     return tf_session.TF_SessionRun_wrapper(\n\u001b[1;32m   1406\u001b[0m         \u001b[0mself\u001b[0m\u001b[0;34m.\u001b[0m\u001b[0m_session\u001b[0m\u001b[0;34m,\u001b[0m \u001b[0moptions\u001b[0m\u001b[0;34m,\u001b[0m \u001b[0mfeed_dict\u001b[0m\u001b[0;34m,\u001b[0m \u001b[0mfetch_list\u001b[0m\u001b[0;34m,\u001b[0m \u001b[0mtarget_list\u001b[0m\u001b[0;34m,\u001b[0m\u001b[0;34m\u001b[0m\u001b[0;34m\u001b[0m\u001b[0m\n\u001b[0;32m-> 1407\u001b[0;31m         run_metadata)\n\u001b[0m\u001b[1;32m   1408\u001b[0m \u001b[0;34m\u001b[0m\u001b[0m\n\u001b[1;32m   1409\u001b[0m   \u001b[0;32mdef\u001b[0m \u001b[0m_call_tf_sessionprun\u001b[0m\u001b[0;34m(\u001b[0m\u001b[0mself\u001b[0m\u001b[0;34m,\u001b[0m \u001b[0mhandle\u001b[0m\u001b[0;34m,\u001b[0m \u001b[0mfeed_dict\u001b[0m\u001b[0;34m,\u001b[0m \u001b[0mfetch_list\u001b[0m\u001b[0;34m)\u001b[0m\u001b[0;34m:\u001b[0m\u001b[0;34m\u001b[0m\u001b[0;34m\u001b[0m\u001b[0m\n",
            "\u001b[0;31mKeyboardInterrupt\u001b[0m: "
          ]
        }
      ]
    },
    {
      "metadata": {
        "id": "Gro_ExTE1FTc",
        "colab_type": "code",
        "outputId": "e2a8a173-f563-4d02-e7ce-c1debf4af683",
        "colab": {
          "base_uri": "https://localhost:8080/",
          "height": 269
        }
      },
      "cell_type": "code",
      "source": [
        "plot(losses_data,label='data_loss')\n",
        "legend()\n",
        "yscale('log')"
      ],
      "execution_count": 119,
      "outputs": [
        {
          "output_type": "display_data",
          "data": {
            "image/png": "[encoded data removed]",
            "text/plain": [
              "<Figure size 432x288 with 1 Axes>"
            ]
          },
          "metadata": {
            "tags": []
          }
        }
      ]
    },
    {
      "metadata": {
        "id": "Ey0jj0ar1FTf",
        "colab_type": "code",
        "colab": {}
      },
      "cell_type": "code",
      "source": [
        "res    = sess.run(z_samples, feed_dict={x: x_test[0:batch_size]})\n",
        "labels = targets_test[0:batch_size]"
      ],
      "execution_count": 0,
      "outputs": []
    },
    {
      "metadata": {
        "id": "AJmd4wnx1FTh",
        "colab_type": "code",
        "outputId": "14eaee39-ca3e-4931-b3e0-7b7ac5179f38",
        "colab": {
          "base_uri": "https://localhost:8080/",
          "height": 286
        }
      },
      "cell_type": "code",
      "source": [
        "hist(res.flatten(),100,range=[-5,5],label='encoded data');\n",
        "hist(randn(len(res.flatten())),100,range=[-5,5],alpha=0.5,label='prior');\n",
        "legend()"
      ],
      "execution_count": 121,
      "outputs": [
        {
          "output_type": "execute_result",
          "data": {
            "text/plain": [
              "<matplotlib.legend.Legend at 0x7fde745254e0>"
            ]
          },
          "metadata": {
            "tags": []
          },
          "execution_count": 121
        },
        {
          "output_type": "display_data",
          "data": {
            "image/png": "[encoded data removed]",
            "text/plain": [
              "<Figure size 432x288 with 1 Axes>"
            ]
          },
          "metadata": {
            "tags": []
          }
        }
      ]
    },
    {
      "metadata": {
        "id": "qqqbGahp1FTj",
        "colab_type": "code",
        "outputId": "cee4ee7f-dff4-466a-d4be-91df4ca3adde",
        "colab": {
          "base_uri": "https://localhost:8080/",
          "height": 1051
        }
      },
      "cell_type": "code",
      "source": [
        "res, inim, s = sess.run([data_likelihood.mean(), x, x_sims], feed_dict={x: x_test[0:batch_size], sample_size: 100})\n",
        "figure(figsize=(5,5))\n",
        "\n",
        "    \n",
        "figure(figsize=(5,5))\n",
        "suptitle('input images')\n",
        "for i in range(16):\n",
        "    subplot(4,4,i+1)\n",
        "    imshow(inim[i].reshape((28,28)),cmap='gray',vmin=0); #colorbar()\n",
        "    axis('off')\n",
        "\n",
        "figure(figsize=(5,5))\n",
        "suptitle('mean data likelihood')\n",
        "for i in range(16):\n",
        "    subplot(4,4,i+1)\n",
        "    imshow((res )[i].reshape((28,28)),cmap='gray',vmin=0); #colorbar()\n",
        "    axis('off')\n",
        "\n",
        "figure(figsize=(5,5))\n",
        "suptitle('random samples from likelihood')\n",
        "for i in range(16):\n",
        "    subplot(4,4,i+1)\n",
        "    imshow(np.mean(s[:,i,:].reshape((-1,28,28)),axis=0),cmap='gray',vmin=0); #colorbar()\n",
        "    axis('off')"
      ],
      "execution_count": 122,
      "outputs": [
        {
          "output_type": "display_data",
          "data": {
            "text/plain": [
              "<Figure size 360x360 with 0 Axes>"
            ]
          },
          "metadata": {
            "tags": []
          }
        },
        {
          "output_type": "display_data",
          "data": {
            "image/png": "[encoded data removed]",
            "text/plain": [
              "<Figure size 360x360 with 16 Axes>"
            ]
          },
          "metadata": {
            "tags": []
          }
        },
        {
          "output_type": "display_data",
          "data": {
            "image/png": "[encoded data removed]",
            "text/plain": [
              "<Figure size 360x360 with 16 Axes>"
            ]
          },
          "metadata": {
            "tags": []
          }
        },
        {
          "output_type": "display_data",
          "data": {
            "image/png": "[encoded data removed]",
            "text/plain": [
              "<Figure size 360x360 with 16 Axes>"
            ]
          },
          "metadata": {
            "tags": []
          }
        }
      ]
    },
    {
      "metadata": {
        "id": "B88wpvsy1FTm",
        "colab_type": "code",
        "outputId": "3ab95ae8-05bf-424e-a5b1-15845c51d45d",
        "colab": {
          "base_uri": "https://localhost:8080/",
          "height": 356
        }
      },
      "cell_type": "code",
      "source": [
        "mask = np.ones(IMAGE_SHAPE, dtype=int)\n",
        "mask[0:28,12:16]=0.\n",
        "mask = mask.reshape((28*28))\n",
        "\n",
        "masked_data = x_test[:batch_size2]*[mask]\n",
        "\n",
        "figure(figsize=(5,5))\n",
        "suptitle('input images')\n",
        "for i in range(min(batch_size2,16)):\n",
        "    if batch_size2<16:\n",
        "      subplot(1,batch_size2,i+1)\n",
        "      imshow(masked_data[i].reshape((28,28)),cmap='gray',vmin=0); #colorbar()\n",
        "      axis('off')\n",
        "    else:\n",
        "      subplot(4,4,i+1)\n",
        "      imshow(masked_data[i].reshape((28,28)),cmap='gray',vmin=0); #colorbar()\n",
        "      axis('off')"
      ],
      "execution_count": 123,
      "outputs": [
        {
          "output_type": "display_data",
          "data": {
            "image/png": "[encoded data removed]",
            "text/plain": [
              "<Figure size 360x360 with 16 Axes>"
            ]
          },
          "metadata": {
            "tags": []
          }
        }
      ]
    },
    {
      "metadata": {
        "id": "AQoTZoZDCgb_",
        "colab_type": "code",
        "colab": {}
      },
      "cell_type": "code",
      "source": [
        "_ = sess.run(update1,feed_dict={x_corr: masked_data, lr:lrate, mymask:mask})"
      ],
      "execution_count": 0,
      "outputs": []
    },
    {
      "metadata": {
        "id": "39y0qN_gGtbA",
        "colab_type": "code",
        "colab": {
          "base_uri": "https://localhost:8080/",
          "height": 356
        },
        "outputId": "5c969a5c-17db-4dad-d51d-38f5cd78f08c"
      },
      "cell_type": "code",
      "source": [
        "xrecons= sess.run(MAP_mean, feed_dict={x_corr: masked_data, x: masked_data, sample_size:100, mymask: mask})\n",
        "xrecons.shape\n",
        "    \n",
        "\n",
        "figure(figsize=(5,5))\n",
        "suptitle('generated data mean approx posterior trained on uncorrupted data')\n",
        "for i in range(min(batch_size2,16)):\n",
        "    if batch_size2<16:\n",
        "      subplot(1,batch_size2,i+1)\n",
        "      imshow(xrecons[i].reshape((28,28)),cmap='gray',vmin=0); #colorbar()\n",
        "      axis('off')\n",
        "    else:\n",
        "      subplot(4,4,i+1)\n",
        "      imshow(xrecons[i].reshape((28,28)),cmap='gray',vmin=0); #colorbar()\n",
        "      axis('off')\n",
        "      "
      ],
      "execution_count": 125,
      "outputs": [
        {
          "output_type": "display_data",
          "data": {
            "image/png": "[encoded data removed]",
            "text/plain": [
              "<Figure size 360x360 with 16 Axes>"
            ]
          },
          "metadata": {
            "tags": []
          }
        }
      ]
    },
    {
      "metadata": {
        "id": "FnB8laOjZc6g",
        "colab_type": "code",
        "colab": {}
      },
      "cell_type": "code",
      "source": [
        "posterior2_loss=[]"
      ],
      "execution_count": 0,
      "outputs": []
    },
    {
      "metadata": {
        "id": "YVWX6twEZLBC",
        "colab_type": "code",
        "outputId": "a4f62013-428d-489a-bb4f-88def4da10a8",
        "colab": {
          "base_uri": "https://localhost:8080/",
          "height": 1966
        }
      },
      "cell_type": "code",
      "source": [
        "lrate=1e-2\n",
        "for ii in range(20000):\n",
        "  _, ll = sess.run([opt_op2,loss],feed_dict={x_corr: masked_data, lr:lrate, mymask:mask})\n",
        "  posterior2_loss.append(ll)\n",
        "  if ii%100==0:\n",
        "    print(ll)"
      ],
      "execution_count": 127,
      "outputs": [
        {
          "output_type": "stream",
          "text": [
            "102.49751\n",
            "69.65076\n",
            "68.8116\n",
            "68.61265\n",
            "68.55694\n",
            "68.543144\n",
            "68.53937\n",
            "68.538605\n",
            "68.53851\n",
            "68.53851\n",
            "68.53862\n",
            "68.53841\n",
            "68.538345\n",
            "68.53848\n",
            "68.53842\n",
            "68.5385\n",
            "68.53841\n",
            "68.5385\n",
            "68.53859\n",
            "68.53856\n",
            "68.53844\n",
            "68.5385\n",
            "68.53859\n",
            "68.53848\n",
            "68.538666\n",
            "68.53841\n",
            "68.53854\n",
            "68.538605\n",
            "68.5387\n",
            "68.53867\n",
            "68.53873\n",
            "68.53873\n",
            "68.53856\n",
            "68.52365\n",
            "68.51451\n",
            "68.51442\n",
            "68.51471\n",
            "68.51451\n",
            "68.514465\n",
            "68.514725\n",
            "68.51451\n",
            "68.51471\n",
            "68.51451\n",
            "68.51455\n",
            "68.51448\n",
            "68.514786\n",
            "68.514755\n",
            "68.51459\n",
            "68.51474\n",
            "68.514656\n",
            "68.51474\n",
            "68.51465\n",
            "68.51468\n",
            "68.514565\n",
            "68.51463\n",
            "68.51459\n",
            "68.51462\n",
            "68.51469\n",
            "68.51453\n",
            "68.51462\n",
            "68.51465\n",
            "68.51462\n",
            "68.51468\n",
            "68.51465\n",
            "68.51463\n",
            "68.51451\n",
            "68.514786\n",
            "68.514595\n",
            "68.51465\n",
            "68.514694\n",
            "68.51463\n",
            "68.51465\n",
            "68.51468\n",
            "68.51454\n",
            "68.51451\n",
            "68.51466\n",
            "68.51451\n",
            "68.51459\n",
            "68.514626\n",
            "68.51458\n",
            "68.51457\n",
            "68.51448\n",
            "68.514755\n",
            "68.51445\n",
            "68.5146\n",
            "68.514595\n",
            "68.51471\n",
            "68.51462\n",
            "68.51463\n",
            "68.51476\n",
            "68.51465\n",
            "68.514435\n",
            "68.514656\n",
            "68.51452\n",
            "68.51463\n"
          ],
          "name": "stdout"
        },
        {
          "output_type": "error",
          "ename": "KeyboardInterrupt",
          "evalue": "ignored",
          "traceback": [
            "\u001b[0;31m---------------------------------------------------------------------------\u001b[0m",
            "\u001b[0;31mKeyboardInterrupt\u001b[0m                         Traceback (most recent call last)",
            "\u001b[0;32m<ipython-input-127-6e881cbffc2b>\u001b[0m in \u001b[0;36m<module>\u001b[0;34m()\u001b[0m\n\u001b[1;32m      1\u001b[0m \u001b[0mlrate\u001b[0m\u001b[0;34m=\u001b[0m\u001b[0;36m1e-2\u001b[0m\u001b[0;34m\u001b[0m\u001b[0;34m\u001b[0m\u001b[0m\n\u001b[1;32m      2\u001b[0m \u001b[0;32mfor\u001b[0m \u001b[0mii\u001b[0m \u001b[0;32min\u001b[0m \u001b[0mrange\u001b[0m\u001b[0;34m(\u001b[0m\u001b[0;36m20000\u001b[0m\u001b[0;34m)\u001b[0m\u001b[0;34m:\u001b[0m\u001b[0;34m\u001b[0m\u001b[0;34m\u001b[0m\u001b[0m\n\u001b[0;32m----> 3\u001b[0;31m   \u001b[0m_\u001b[0m\u001b[0;34m,\u001b[0m \u001b[0mll\u001b[0m \u001b[0;34m=\u001b[0m \u001b[0msess\u001b[0m\u001b[0;34m.\u001b[0m\u001b[0mrun\u001b[0m\u001b[0;34m(\u001b[0m\u001b[0;34m[\u001b[0m\u001b[0mopt_op2\u001b[0m\u001b[0;34m,\u001b[0m\u001b[0mloss\u001b[0m\u001b[0;34m]\u001b[0m\u001b[0;34m,\u001b[0m\u001b[0mfeed_dict\u001b[0m\u001b[0;34m=\u001b[0m\u001b[0;34m{\u001b[0m\u001b[0mx_corr\u001b[0m\u001b[0;34m:\u001b[0m \u001b[0mmasked_data\u001b[0m\u001b[0;34m,\u001b[0m \u001b[0mlr\u001b[0m\u001b[0;34m:\u001b[0m\u001b[0mlrate\u001b[0m\u001b[0;34m,\u001b[0m \u001b[0mmymask\u001b[0m\u001b[0;34m:\u001b[0m\u001b[0mmask\u001b[0m\u001b[0;34m}\u001b[0m\u001b[0;34m)\u001b[0m\u001b[0;34m\u001b[0m\u001b[0;34m\u001b[0m\u001b[0m\n\u001b[0m\u001b[1;32m      4\u001b[0m   \u001b[0mposterior2_loss\u001b[0m\u001b[0;34m.\u001b[0m\u001b[0mappend\u001b[0m\u001b[0;34m(\u001b[0m\u001b[0mll\u001b[0m\u001b[0;34m)\u001b[0m\u001b[0;34m\u001b[0m\u001b[0;34m\u001b[0m\u001b[0m\n\u001b[1;32m      5\u001b[0m   \u001b[0;32mif\u001b[0m \u001b[0mii\u001b[0m\u001b[0;34m%\u001b[0m\u001b[0;36m100\u001b[0m\u001b[0;34m==\u001b[0m\u001b[0;36m0\u001b[0m\u001b[0;34m:\u001b[0m\u001b[0;34m\u001b[0m\u001b[0;34m\u001b[0m\u001b[0m\n",
            "\u001b[0;32m/usr/local/lib/python3.6/dist-packages/tensorflow/python/client/session.py\u001b[0m in \u001b[0;36mrun\u001b[0;34m(self, fetches, feed_dict, options, run_metadata)\u001b[0m\n\u001b[1;32m    927\u001b[0m     \u001b[0;32mtry\u001b[0m\u001b[0;34m:\u001b[0m\u001b[0;34m\u001b[0m\u001b[0;34m\u001b[0m\u001b[0m\n\u001b[1;32m    928\u001b[0m       result = self._run(None, fetches, feed_dict, options_ptr,\n\u001b[0;32m--> 929\u001b[0;31m                          run_metadata_ptr)\n\u001b[0m\u001b[1;32m    930\u001b[0m       \u001b[0;32mif\u001b[0m \u001b[0mrun_metadata\u001b[0m\u001b[0;34m:\u001b[0m\u001b[0;34m\u001b[0m\u001b[0;34m\u001b[0m\u001b[0m\n\u001b[1;32m    931\u001b[0m         \u001b[0mproto_data\u001b[0m \u001b[0;34m=\u001b[0m \u001b[0mtf_session\u001b[0m\u001b[0;34m.\u001b[0m\u001b[0mTF_GetBuffer\u001b[0m\u001b[0;34m(\u001b[0m\u001b[0mrun_metadata_ptr\u001b[0m\u001b[0;34m)\u001b[0m\u001b[0;34m\u001b[0m\u001b[0;34m\u001b[0m\u001b[0m\n",
            "\u001b[0;32m/usr/local/lib/python3.6/dist-packages/tensorflow/python/client/session.py\u001b[0m in \u001b[0;36m_run\u001b[0;34m(self, handle, fetches, feed_dict, options, run_metadata)\u001b[0m\n\u001b[1;32m   1150\u001b[0m     \u001b[0;32mif\u001b[0m \u001b[0mfinal_fetches\u001b[0m \u001b[0;32mor\u001b[0m \u001b[0mfinal_targets\u001b[0m \u001b[0;32mor\u001b[0m \u001b[0;34m(\u001b[0m\u001b[0mhandle\u001b[0m \u001b[0;32mand\u001b[0m \u001b[0mfeed_dict_tensor\u001b[0m\u001b[0;34m)\u001b[0m\u001b[0;34m:\u001b[0m\u001b[0;34m\u001b[0m\u001b[0;34m\u001b[0m\u001b[0m\n\u001b[1;32m   1151\u001b[0m       results = self._do_run(handle, final_targets, final_fetches,\n\u001b[0;32m-> 1152\u001b[0;31m                              feed_dict_tensor, options, run_metadata)\n\u001b[0m\u001b[1;32m   1153\u001b[0m     \u001b[0;32melse\u001b[0m\u001b[0;34m:\u001b[0m\u001b[0;34m\u001b[0m\u001b[0;34m\u001b[0m\u001b[0m\n\u001b[1;32m   1154\u001b[0m       \u001b[0mresults\u001b[0m \u001b[0;34m=\u001b[0m \u001b[0;34m[\u001b[0m\u001b[0;34m]\u001b[0m\u001b[0;34m\u001b[0m\u001b[0;34m\u001b[0m\u001b[0m\n",
            "\u001b[0;32m/usr/local/lib/python3.6/dist-packages/tensorflow/python/client/session.py\u001b[0m in \u001b[0;36m_do_run\u001b[0;34m(self, handle, target_list, fetch_list, feed_dict, options, run_metadata)\u001b[0m\n\u001b[1;32m   1326\u001b[0m     \u001b[0;32mif\u001b[0m \u001b[0mhandle\u001b[0m \u001b[0;32mis\u001b[0m \u001b[0;32mNone\u001b[0m\u001b[0;34m:\u001b[0m\u001b[0;34m\u001b[0m\u001b[0;34m\u001b[0m\u001b[0m\n\u001b[1;32m   1327\u001b[0m       return self._do_call(_run_fn, feeds, fetches, targets, options,\n\u001b[0;32m-> 1328\u001b[0;31m                            run_metadata)\n\u001b[0m\u001b[1;32m   1329\u001b[0m     \u001b[0;32melse\u001b[0m\u001b[0;34m:\u001b[0m\u001b[0;34m\u001b[0m\u001b[0;34m\u001b[0m\u001b[0m\n\u001b[1;32m   1330\u001b[0m       \u001b[0;32mreturn\u001b[0m \u001b[0mself\u001b[0m\u001b[0;34m.\u001b[0m\u001b[0m_do_call\u001b[0m\u001b[0;34m(\u001b[0m\u001b[0m_prun_fn\u001b[0m\u001b[0;34m,\u001b[0m \u001b[0mhandle\u001b[0m\u001b[0;34m,\u001b[0m \u001b[0mfeeds\u001b[0m\u001b[0;34m,\u001b[0m \u001b[0mfetches\u001b[0m\u001b[0;34m)\u001b[0m\u001b[0;34m\u001b[0m\u001b[0;34m\u001b[0m\u001b[0m\n",
            "\u001b[0;32m/usr/local/lib/python3.6/dist-packages/tensorflow/python/client/session.py\u001b[0m in \u001b[0;36m_do_call\u001b[0;34m(self, fn, *args)\u001b[0m\n\u001b[1;32m   1332\u001b[0m   \u001b[0;32mdef\u001b[0m \u001b[0m_do_call\u001b[0m\u001b[0;34m(\u001b[0m\u001b[0mself\u001b[0m\u001b[0;34m,\u001b[0m \u001b[0mfn\u001b[0m\u001b[0;34m,\u001b[0m \u001b[0;34m*\u001b[0m\u001b[0margs\u001b[0m\u001b[0;34m)\u001b[0m\u001b[0;34m:\u001b[0m\u001b[0;34m\u001b[0m\u001b[0;34m\u001b[0m\u001b[0m\n\u001b[1;32m   1333\u001b[0m     \u001b[0;32mtry\u001b[0m\u001b[0;34m:\u001b[0m\u001b[0;34m\u001b[0m\u001b[0;34m\u001b[0m\u001b[0m\n\u001b[0;32m-> 1334\u001b[0;31m       \u001b[0;32mreturn\u001b[0m \u001b[0mfn\u001b[0m\u001b[0;34m(\u001b[0m\u001b[0;34m*\u001b[0m\u001b[0margs\u001b[0m\u001b[0;34m)\u001b[0m\u001b[0;34m\u001b[0m\u001b[0;34m\u001b[0m\u001b[0m\n\u001b[0m\u001b[1;32m   1335\u001b[0m     \u001b[0;32mexcept\u001b[0m \u001b[0merrors\u001b[0m\u001b[0;34m.\u001b[0m\u001b[0mOpError\u001b[0m \u001b[0;32mas\u001b[0m \u001b[0me\u001b[0m\u001b[0;34m:\u001b[0m\u001b[0;34m\u001b[0m\u001b[0;34m\u001b[0m\u001b[0m\n\u001b[1;32m   1336\u001b[0m       \u001b[0mmessage\u001b[0m \u001b[0;34m=\u001b[0m \u001b[0mcompat\u001b[0m\u001b[0;34m.\u001b[0m\u001b[0mas_text\u001b[0m\u001b[0;34m(\u001b[0m\u001b[0me\u001b[0m\u001b[0;34m.\u001b[0m\u001b[0mmessage\u001b[0m\u001b[0;34m)\u001b[0m\u001b[0;34m\u001b[0m\u001b[0;34m\u001b[0m\u001b[0m\n",
            "\u001b[0;32m/usr/local/lib/python3.6/dist-packages/tensorflow/python/client/session.py\u001b[0m in \u001b[0;36m_run_fn\u001b[0;34m(feed_dict, fetch_list, target_list, options, run_metadata)\u001b[0m\n\u001b[1;32m   1317\u001b[0m       \u001b[0mself\u001b[0m\u001b[0;34m.\u001b[0m\u001b[0m_extend_graph\u001b[0m\u001b[0;34m(\u001b[0m\u001b[0;34m)\u001b[0m\u001b[0;34m\u001b[0m\u001b[0;34m\u001b[0m\u001b[0m\n\u001b[1;32m   1318\u001b[0m       return self._call_tf_sessionrun(\n\u001b[0;32m-> 1319\u001b[0;31m           options, feed_dict, fetch_list, target_list, run_metadata)\n\u001b[0m\u001b[1;32m   1320\u001b[0m \u001b[0;34m\u001b[0m\u001b[0m\n\u001b[1;32m   1321\u001b[0m     \u001b[0;32mdef\u001b[0m \u001b[0m_prun_fn\u001b[0m\u001b[0;34m(\u001b[0m\u001b[0mhandle\u001b[0m\u001b[0;34m,\u001b[0m \u001b[0mfeed_dict\u001b[0m\u001b[0;34m,\u001b[0m \u001b[0mfetch_list\u001b[0m\u001b[0;34m)\u001b[0m\u001b[0;34m:\u001b[0m\u001b[0;34m\u001b[0m\u001b[0;34m\u001b[0m\u001b[0m\n",
            "\u001b[0;32m/usr/local/lib/python3.6/dist-packages/tensorflow/python/client/session.py\u001b[0m in \u001b[0;36m_call_tf_sessionrun\u001b[0;34m(self, options, feed_dict, fetch_list, target_list, run_metadata)\u001b[0m\n\u001b[1;32m   1405\u001b[0m     return tf_session.TF_SessionRun_wrapper(\n\u001b[1;32m   1406\u001b[0m         \u001b[0mself\u001b[0m\u001b[0;34m.\u001b[0m\u001b[0m_session\u001b[0m\u001b[0;34m,\u001b[0m \u001b[0moptions\u001b[0m\u001b[0;34m,\u001b[0m \u001b[0mfeed_dict\u001b[0m\u001b[0;34m,\u001b[0m \u001b[0mfetch_list\u001b[0m\u001b[0;34m,\u001b[0m \u001b[0mtarget_list\u001b[0m\u001b[0;34m,\u001b[0m\u001b[0;34m\u001b[0m\u001b[0;34m\u001b[0m\u001b[0m\n\u001b[0;32m-> 1407\u001b[0;31m         run_metadata)\n\u001b[0m\u001b[1;32m   1408\u001b[0m \u001b[0;34m\u001b[0m\u001b[0m\n\u001b[1;32m   1409\u001b[0m   \u001b[0;32mdef\u001b[0m \u001b[0m_call_tf_sessionprun\u001b[0m\u001b[0;34m(\u001b[0m\u001b[0mself\u001b[0m\u001b[0;34m,\u001b[0m \u001b[0mhandle\u001b[0m\u001b[0;34m,\u001b[0m \u001b[0mfeed_dict\u001b[0m\u001b[0;34m,\u001b[0m \u001b[0mfetch_list\u001b[0m\u001b[0;34m)\u001b[0m\u001b[0;34m:\u001b[0m\u001b[0;34m\u001b[0m\u001b[0;34m\u001b[0m\u001b[0m\n",
            "\u001b[0;31mKeyboardInterrupt\u001b[0m: "
          ]
        }
      ]
    },
    {
      "metadata": {
        "id": "usyhDzLkns-v",
        "colab_type": "code",
        "outputId": "ab262d9a-937e-47aa-984e-22602e886fec",
        "colab": {
          "base_uri": "https://localhost:8080/",
          "height": 269
        }
      },
      "cell_type": "code",
      "source": [
        "plot(posterior2_loss,label='data_loss')\n",
        "legend()\n",
        "yscale('log')"
      ],
      "execution_count": 128,
      "outputs": [
        {
          "output_type": "display_data",
          "data": {
            "image/png": "[encoded data removed]",
            "text/plain": [
              "<Figure size 432x288 with 1 Axes>"
            ]
          },
          "metadata": {
            "tags": []
          }
        }
      ]
    },
    {
      "metadata": {
        "id": "UEdhF4OFzsir",
        "colab_type": "code",
        "outputId": "3e744e72-3b64-410d-eda5-b41df950ed8b",
        "colab": {
          "base_uri": "https://localhost:8080/",
          "height": 356
        }
      },
      "cell_type": "code",
      "source": [
        "xrecons= sess.run(MAP_mean, feed_dict={x_corr: masked_data, x: masked_data, sample_size:100, mymask: mask})\n",
        "xrecons.shape\n",
        "    \n",
        "\n",
        "figure(figsize=(5,5))\n",
        "suptitle('mean likelihood at MAP')\n",
        "for i in range(min(batch_size2,16)):\n",
        "    if batch_size2<16:\n",
        "      subplot(1,batch_size2,i+1)\n",
        "      imshow(xrecons[i].reshape((28,28)),cmap='gray',vmin=0); #colorbar()\n",
        "      axis('off')\n",
        "    else:\n",
        "      subplot(4,4,i+1)\n",
        "      imshow(xrecons[i].reshape((28,28)),cmap='gray',vmin=0); #colorbar()\n",
        "      axis('off')"
      ],
      "execution_count": 129,
      "outputs": [
        {
          "output_type": "display_data",
          "data": {
            "image/png": "[encoded data removed]",
            "text/plain": [
              "<Figure size 360x360 with 16 Axes>"
            ]
          },
          "metadata": {
            "tags": []
          }
        }
      ]
    },
    {
      "metadata": {
        "id": "2pK7CTC6j3PE",
        "colab_type": "code",
        "colab": {}
      },
      "cell_type": "code",
      "source": [
        "_=sess.run(update2,feed_dict={x_corr: masked_data, lr:lrate, mymask:mask})"
      ],
      "execution_count": 0,
      "outputs": []
    },
    {
      "metadata": {
        "id": "FCLsBG8IoJVE",
        "colab_type": "code",
        "colab": {}
      },
      "cell_type": "code",
      "source": [
        "_=sess.run(update3,feed_dict={x_corr: masked_data, lr:lrate, mymask:mask})"
      ],
      "execution_count": 0,
      "outputs": []
    },
    {
      "metadata": {
        "id": "KQcBA19ohsg1",
        "colab_type": "code",
        "outputId": "e1d68665-54fc-4bb8-c64b-57ffb947e36c",
        "colab": {
          "base_uri": "https://localhost:8080/",
          "height": 356
        }
      },
      "cell_type": "code",
      "source": [
        "xrecons3 = sess.run(new_x_samples, feed_dict={x_corr: masked_data, x: masked_data, sample_size:40, mymask: mask})\n",
        "    \n",
        "\n",
        "figure(figsize=(5,5))\n",
        "suptitle('average generated data from approx posterior (laplace approximation)')\n",
        "for i in range(min(batch_size2,16)):\n",
        "    if batch_size2<16:\n",
        "      subplot(1,batch_size2,i+1)\n",
        "      imshow(np.mean(xrecons3[:,:,i,:],axis=(0,1)).reshape((28,28)),cmap='gray',vmin=0); #colorbar()\n",
        "      axis('off')\n",
        "    else:\n",
        "      subplot(4,4,i+1)\n",
        "      imshow(np.mean(xrecons3[:,:,i,:],axis=(0,1)).reshape((28,28)),cmap='gray',vmin=0); #colorbar()\n",
        "      axis('off')\n",
        "      "
      ],
      "execution_count": 132,
      "outputs": [
        {
          "output_type": "display_data",
          "data": {
            "image/png": "[encoded data removed]",
            "text/plain": [
              "<Figure size 360x360 with 16 Axes>"
            ]
          },
          "metadata": {
            "tags": []
          }
        }
      ]
    },
    {
      "metadata": {
        "id": "9useGDZZOw-f",
        "colab_type": "code",
        "colab": {}
      },
      "cell_type": "code",
      "source": [
        "posterior3_loss=[]"
      ],
      "execution_count": 0,
      "outputs": []
    },
    {
      "metadata": {
        "id": "kJ2xcBz3knga",
        "colab_type": "code",
        "colab": {
          "base_uri": "https://localhost:8080/",
          "height": 353
        },
        "outputId": "2a27d627-6037-4c9e-96e7-7b011e7c7f43"
      },
      "cell_type": "code",
      "source": [
        "lrate=1e-4\n",
        "for ii in range(2000):\n",
        "  _, ll = sess.run([opt_op_elbo2, elbo2],feed_dict={x_corr: masked_data, lr:lrate, mymask:mask})\n",
        "  posterior3_loss.append(ll)\n",
        "  if ii%100==0:\n",
        "    print(ll)"
      ],
      "execution_count": 137,
      "outputs": [
        {
          "output_type": "stream",
          "text": [
            "74.69832\n",
            "74.056564\n",
            "73.89548\n",
            "74.13494\n",
            "73.94614\n",
            "74.021835\n",
            "73.939896\n",
            "73.84134\n",
            "73.90517\n",
            "74.29848\n",
            "73.66744\n",
            "73.96087\n",
            "73.999176\n",
            "73.90905\n",
            "74.12053\n",
            "74.07516\n",
            "73.94896\n",
            "74.06316\n",
            "73.84114\n",
            "73.822655\n"
          ],
          "name": "stdout"
        }
      ]
    },
    {
      "metadata": {
        "id": "Pt6zZjLUO0-4",
        "colab_type": "code",
        "colab": {
          "base_uri": "https://localhost:8080/",
          "height": 356
        },
        "outputId": "32ee8b91-1f8c-4835-8abc-e41d4ea53c7c"
      },
      "cell_type": "code",
      "source": [
        "xrecons3= sess.run(x_samples_elbo, feed_dict={x_corr: masked_data, x: masked_data, sample_size:40, mymask: mask})\n",
        "xrecons3.shape\n",
        "    \n",
        "\n",
        "figure(figsize=(5,5))\n",
        "suptitle('average data generated from approximate posterior (elbo loss)')\n",
        "for i in range(min(batch_size2,16)):\n",
        "    if batch_size2<16:\n",
        "      subplot(1,batch_size2,i+1)\n",
        "      imshow(np.mean(xrecons3[:,:,i,:],axis=(0,1)).reshape((28,28)),cmap='gray',vmin=0); #colorbar()\n",
        "      axis('off')\n",
        "    else:\n",
        "      subplot(4,4,i+1)\n",
        "      imshow(np.mean(xrecons3[:,:,i,:],axis=(0,1)).reshape((28,28)),cmap='gray',vmin=0); #colorbar()\n",
        "      axis('off')"
      ],
      "execution_count": 140,
      "outputs": [
        {
          "output_type": "display_data",
          "data": {
            "image/png": "[encoded data removed]",
            "text/plain": [
              "<Figure size 360x360 with 16 Axes>"
            ]
          },
          "metadata": {
            "tags": []
          }
        }
      ]
    },
    {
      "metadata": {
        "id": "ZZS50EEiQb3N",
        "colab_type": "code",
        "colab": {}
      },
      "cell_type": "code",
      "source": [
        ""
      ],
      "execution_count": 0,
      "outputs": []
    }
  ]
}